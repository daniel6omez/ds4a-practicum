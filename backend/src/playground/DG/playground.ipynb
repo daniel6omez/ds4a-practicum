{
 "cells": [
  {
   "cell_type": "markdown",
   "metadata": {},
   "source": []
  },
  {
   "cell_type": "code",
   "execution_count": 16,
   "metadata": {},
   "outputs": [],
   "source": [
    "import pandas as pd"
   ]
  },
  {
   "cell_type": "code",
   "execution_count": 17,
   "metadata": {},
   "outputs": [],
   "source": [
    "df = pd.read_csv('../../../samples/processed/accidents_cleanV2.csv')"
   ]
  },
  {
   "cell_type": "code",
   "execution_count": 13,
   "metadata": {},
   "outputs": [
    {
     "output_type": "execute_result",
     "data": {
      "text/plain": "2019-10-23 07:00:00+00:00    14\n2015-05-04 07:00:00+00:00    13\n2015-08-18 07:00:00+00:00    13\n2019-11-12 07:00:00+00:00    12\n2016-08-03 06:00:00+00:00    12\n                             ..\n2019-02-14 12:40:00+00:00     1\n2015-06-15 09:30:00+00:00     1\n2018-07-29 12:40:00+00:00     1\n2016-12-13 04:55:00+00:00     1\n2019-10-22 10:05:00+00:00     1\nName: fecha_hora, Length: 143121, dtype: int64"
     },
     "metadata": {},
     "execution_count": 13
    }
   ],
   "source": [
    "df['fecha_hora'] = pd.to_datetime(df['fecha']+' '+df['hora_incidente'])\n",
    "df.fecha_hora.value_counts(dropna=False)"
   ]
  },
  {
   "cell_type": "code",
   "execution_count": null,
   "metadata": {},
   "outputs": [],
   "source": []
  }
 ],
 "metadata": {
  "language_info": {
   "codemirror_mode": {
    "name": "ipython",
    "version": 3
   },
   "file_extension": ".py",
   "mimetype": "text/x-python",
   "name": "python",
   "nbconvert_exporter": "python",
   "pygments_lexer": "ipython3",
   "version": "3.7.6-final"
  },
  "orig_nbformat": 2,
  "kernelspec": {
   "name": "python37664bitvenvvenv6b91dc36e409422890c63b8776aea60f",
   "display_name": "Python 3.7.6 64-bit ('.venv': venv)"
  }
 },
 "nbformat": 4,
 "nbformat_minor": 2
}