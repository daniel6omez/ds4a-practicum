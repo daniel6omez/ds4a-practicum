{
 "cells": [
  {
   "cell_type": "markdown",
   "metadata": {},
   "source": [
    "# TITLE"
   ]
  },
  {
   "cell_type": "code",
   "execution_count": 42,
   "metadata": {},
   "outputs": [],
   "source": [
    "## Where did you download the files? How did you ingeste the data?"
   ]
  },
  {
   "cell_type": "code",
   "execution_count": 43,
   "metadata": {},
   "outputs": [],
   "source": [
    "import pandas as pd\n",
    "from ast import literal_eval\n",
    "pd.options.display.max_columns = None\n",
    "\n",
    "agg_df = pd.DataFrame()\n",
    "path = \"./\"\n",
    "for  file in os.listdir(path):\n",
    "    if file.split(\".\")[-1] == \"csv\" and file not in 'accidentalidad.csv':\n",
    "        df_tmp = pd.read_csv(os.path.join(path, file))\n",
    "        df_tmp.columns = [c.lower() for c in df_tmp.columns]\n",
    "        df_tmp['file'] = file\n",
    "        agg_df = pd.concat([agg_df, df_tmp])"
   ]
  },
  {
   "cell_type": "code",
   "execution_count": 44,
   "metadata": {},
   "outputs": [
    {
     "output_type": "execute_result",
     "data": {
      "text/plain": "Index(['x', 'y', 'objectid', 'radicado', 'fecha', 'hora', 'dia', 'periodo',\n       'clase', 'direccion', 'direccion_enc', 'cbml', 'tipo_geocod',\n       'gravedad', 'barrio', 'comuna', 'diseno', 'dia_nombre', 'mes',\n       'mes_nombre', 'x_magnamed', 'y_magnamed', 'longitud', 'latitud', 'file',\n       'shape'],\n      dtype='object')"
     },
     "metadata": {},
     "execution_count": 44
    }
   ],
   "source": [
    "agg_df.columns"
   ]
  },
  {
   "cell_type": "markdown",
   "metadata": {},
   "source": [
    "## How did you merge the two DataFrames (aggregated data from 2014-2019 and accidentalidad.csv)"
   ]
  },
  {
   "cell_type": "code",
   "execution_count": 45,
   "metadata": {},
   "outputs": [
    {
     "output_type": "execute_result",
     "data": {
      "text/plain": "                          0     1           2   \\\n0   2019-06-04T20:44:15.587Z   NaN  A000010886   \n1   2019-06-04T20:44:15.588Z   809  A000010843   \n2   2019-06-04T20:44:15.588Z   NaN  A000010821   \n3   2019-06-04T20:44:15.588Z   514  A000010849   \n4   2019-06-04T20:44:15.589Z  1621  A000010855   \n5   2019-06-04T20:44:15.589Z  6098  A000010826   \n6   2019-06-04T20:44:15.589Z  1101  A000010917   \n7   2019-06-04T20:44:15.589Z  1318  A000010841   \n8   2019-06-04T20:44:15.590Z   307  A000010916   \n9   2019-06-04T20:44:15.590Z  1013  A000010992   \n10  2019-06-04T20:44:15.590Z   309  A000010991   \n11  2019-06-04T20:44:15.590Z   301  A000010896   \n12  2019-06-04T20:44:15.590Z   710  A000010899   \n13  2019-06-04T20:44:15.590Z   308  A000010884   \n14  2019-06-04T20:44:15.590Z   410  A000011099   \n\n                                 3                           4   \\\n0                        No Ubicada                           0   \n1                        Malla vial  CL  052 A   032  000 00000   \n2                        No Ubicada                           0   \n3                        Malla vial  CR  073 B   091  000 00000   \n4                        Malla vial  CR  053   030 A  000 00000   \n5                        Malla vial    CR  104   064  000 00000   \n6                        Malla vial    CR  065   051  000 00000   \n7                        Malla vial    CL  044   105  000 00000   \n8   Malla vial aproximada: CR 45-67    CR  046   067  000 00000   \n9                        Malla vial    CR  045   048  000 00000   \n10                       Malla vial    CL  069   027  000 00000   \n11                       Malla vial  CL  092   044 A  000 00000   \n12                       Malla vial    CL  080   076  000 00000   \n13                       Malla vial    CR  041   068  000 00000   \n14                       Malla vial    CR  046   084  000 00000   \n\n                   5                                6    7       8   \\\n0           Atropello  [-75.7037762763, 6.22141524356]  3.0  2014.0   \n1   Caída de Ocupante  [-75.5534544709, 6.24349597268]  3.0  2014.0   \n2   Caída de Ocupante  [-75.7037762763, 6.22141524356]  3.0  2014.0   \n3           Atropello  [-75.5792346017, 6.28690605219]  3.0  2014.0   \n4                Otro  [-75.5778859663, 6.23258248117]  3.0  2014.0   \n5   Caída de Ocupante    [-75.6151738325, 6.281156378]  3.0  2014.0   \n6              Choque    [-75.58085586, 6.25657541199]  3.0  2014.0   \n7              Choque  [-75.6200332483, 6.25681851817]  3.0  2014.0   \n8   Caída de Ocupante   [-75.5555813857, 6.2631762147]  3.0  2014.0   \n9   Caída de Ocupante   [-75.568553277, 6.24524859423]  3.0  2014.0   \n10          Atropello  [-75.5419347915, 6.26338939586]  3.0  2014.0   \n11          Atropello  [-75.5521141628, 6.28311328446]  3.0  2014.0   \n12               Otro   [-75.5832037595, 6.2834307746]  3.0  2014.0   \n13               Otro  [-75.5520280221, 6.26336411263]  3.0  2014.0   \n14             Choque  [-75.5546384131, 6.27639159676]  3.0  2014.0   \n\n                                9                10                     11  \\\n0                              NaN  [u'incidentes']  Tramo 9 Kilometro 999   \n1                    Villa Hermosa  [u'incidentes']          CL 52 A CR 32   \n2                              NaN  [u'incidentes']            CR 62 CL 84   \n3                         Castilla  [u'incidentes']          CR 73 B CL 91   \n4                            Belén  [u'incidentes']          CR 53 CL 30 A   \n5   Corregimiento de San Cristóbal  [u'incidentes']           CR 104 CL 64   \n6                 Laureles Estadio  [u'incidentes']            CR 65 CL 51   \n7                       San Javier  [u'incidentes']           CL 44 CR 105   \n8                         Manrique  [u'incidentes']            CR 46 CL 67   \n9                    La Candelaria  [u'incidentes']            CR 45 CL 48   \n10                        Manrique  [u'incidentes']            CL 69 CR 27   \n11                        Manrique  [u'incidentes']          CL 92 CR 44 A   \n12                         Robledo  [u'incidentes']            CL 80 CR 76   \n13                        Manrique  [u'incidentes']            CR 41 CL 68   \n14                        Aranjuez  [u'incidentes']            CR 46 CL 84   \n\n           12                                                 13       14  \\\n0   Operador2  C:/ELK/logstash-6.5.1/data/Medata/Incidentes/I...  Sin Inf   \n1   Operador2  C:/ELK/logstash-6.5.1/data/Medata/Incidentes/I...       08   \n2   Operador2  C:/ELK/logstash-6.5.1/data/Medata/Incidentes/I...  Sin Inf   \n3   Operador2  C:/ELK/logstash-6.5.1/data/Medata/Incidentes/I...       05   \n4   Operador2  C:/ELK/logstash-6.5.1/data/Medata/Incidentes/I...       16   \n5   Operador2  C:/ELK/logstash-6.5.1/data/Medata/Incidentes/I...       60   \n6   Operador2  C:/ELK/logstash-6.5.1/data/Medata/Incidentes/I...       11   \n7   Operador2  C:/ELK/logstash-6.5.1/data/Medata/Incidentes/I...       13   \n8   Operador2  C:/ELK/logstash-6.5.1/data/Medata/Incidentes/I...       03   \n9   Operador2  C:/ELK/logstash-6.5.1/data/Medata/Incidentes/I...       10   \n10  Operador2  C:/ELK/logstash-6.5.1/data/Medata/Incidentes/I...       03   \n11  Operador2  C:/ELK/logstash-6.5.1/data/Medata/Incidentes/I...       03   \n12  Operador2  C:/ELK/logstash-6.5.1/data/Medata/Incidentes/I...       07   \n13  Operador2  C:/ELK/logstash-6.5.1/data/Medata/Incidentes/I...       03   \n14  Operador2  C:/ELK/logstash-6.5.1/data/Medata/Incidentes/I...       04   \n\n              15                          16           17  \\\n0   Tramo de via                         NaN  Con heridos   \n1   Tramo de via                       Sucre  Con heridos   \n2   Tramo de via                         NaN  Con heridos   \n3   Tramo de via               Alfonso López  Con heridos   \n4   Tramo de via              Cerro Nutibara  Con heridos   \n5   Tramo de via  Área de Expansión Pajarito  Con heridos   \n6   Tramo de via          Carlos E. Restrepo  Con heridos   \n7   Tramo de via              Antonio Nariño  Con heridos   \n8   Tramo de via      Manrique Central No. 2  Con heridos   \n9   Tramo de via                Barrio Colón  Con heridos   \n10  Tramo de via             Versalles No. 1  Con heridos   \n11  Tramo de via                    La Salle  Con heridos   \n12  Tramo de via               López de Mesa  Con heridos   \n13  Tramo de via           Manrique Oriental  Con heridos   \n14  Tramo de via          Campo Valdés No. 1  Con heridos   \n\n                          18          19         20   21      22       23  \n0   2014-03-12T10:30:00.000Z  1180000.00  820000.00  1.0  8626.0  1432623  \n1   2014-03-12T10:00:00.000Z  1182393.81  836648.68  1.0  8628.0  1432625  \n2   2014-03-13T00:20:00.000Z  1180000.00  820000.00  1.0  8630.0  1432627  \n3   2014-03-12T23:00:00.000Z  1187204.11  833808.55  1.0  8632.0  1432630  \n4   2014-03-13T04:50:00.000Z  1181194.15  833940.67  1.0  8639.0  1432637  \n5   2014-03-13T01:00:00.000Z  1186579.60  829828.47  1.0  8642.0  1432640  \n6   2014-03-12T15:00:00.000Z  1183849.30  833619.47  1.0  8649.0  1432721  \n7   2014-03-12T23:00:00.000Z  1183888.76  829282.64  1.0  8650.0  1432722  \n8   2014-03-12T17:00:00.000Z  1184571.57  836419.35  1.0  8659.0  1432732  \n9   2014-03-12T16:30:00.000Z  1182592.40  834977.79  1.0  8663.0  1432736  \n10  2014-03-12T23:00:00.000Z  1184590.92  837930.03  1.0  8666.0  1432739  \n11  2014-03-12T11:20:00.000Z  1186776.00  836809.36  1.0  8667.0  1432748  \n12  2014-03-12T12:30:00.000Z  1186820.92  833368.09  1.0  8668.0  1432749  \n13  2014-03-12T09:30:00.000Z  1184591.25  836812.75  1.0  8669.0  1432751  \n14  2014-03-12T17:00:00.000Z  1186033.21  836527.85  1.0  8670.0  1432752  ",
      "text/html": "<div>\n<style scoped>\n    .dataframe tbody tr th:only-of-type {\n        vertical-align: middle;\n    }\n\n    .dataframe tbody tr th {\n        vertical-align: top;\n    }\n\n    .dataframe thead th {\n        text-align: right;\n    }\n</style>\n<table border=\"1\" class=\"dataframe\">\n  <thead>\n    <tr style=\"text-align: right;\">\n      <th></th>\n      <th>0</th>\n      <th>1</th>\n      <th>2</th>\n      <th>3</th>\n      <th>4</th>\n      <th>5</th>\n      <th>6</th>\n      <th>7</th>\n      <th>8</th>\n      <th>9</th>\n      <th>10</th>\n      <th>11</th>\n      <th>12</th>\n      <th>13</th>\n      <th>14</th>\n      <th>15</th>\n      <th>16</th>\n      <th>17</th>\n      <th>18</th>\n      <th>19</th>\n      <th>20</th>\n      <th>21</th>\n      <th>22</th>\n      <th>23</th>\n    </tr>\n  </thead>\n  <tbody>\n    <tr>\n      <th>0</th>\n      <td>2019-06-04T20:44:15.587Z</td>\n      <td>NaN</td>\n      <td>A000010886</td>\n      <td>No Ubicada</td>\n      <td>0</td>\n      <td>Atropello</td>\n      <td>[-75.7037762763, 6.22141524356]</td>\n      <td>3.0</td>\n      <td>2014.0</td>\n      <td>NaN</td>\n      <td>[u'incidentes']</td>\n      <td>Tramo 9 Kilometro 999</td>\n      <td>Operador2</td>\n      <td>C:/ELK/logstash-6.5.1/data/Medata/Incidentes/I...</td>\n      <td>Sin Inf</td>\n      <td>Tramo de via</td>\n      <td>NaN</td>\n      <td>Con heridos</td>\n      <td>2014-03-12T10:30:00.000Z</td>\n      <td>1180000.00</td>\n      <td>820000.00</td>\n      <td>1.0</td>\n      <td>8626.0</td>\n      <td>1432623</td>\n    </tr>\n    <tr>\n      <th>1</th>\n      <td>2019-06-04T20:44:15.588Z</td>\n      <td>809</td>\n      <td>A000010843</td>\n      <td>Malla vial</td>\n      <td>CL  052 A   032  000 00000</td>\n      <td>Caída de Ocupante</td>\n      <td>[-75.5534544709, 6.24349597268]</td>\n      <td>3.0</td>\n      <td>2014.0</td>\n      <td>Villa Hermosa</td>\n      <td>[u'incidentes']</td>\n      <td>CL 52 A CR 32</td>\n      <td>Operador2</td>\n      <td>C:/ELK/logstash-6.5.1/data/Medata/Incidentes/I...</td>\n      <td>08</td>\n      <td>Tramo de via</td>\n      <td>Sucre</td>\n      <td>Con heridos</td>\n      <td>2014-03-12T10:00:00.000Z</td>\n      <td>1182393.81</td>\n      <td>836648.68</td>\n      <td>1.0</td>\n      <td>8628.0</td>\n      <td>1432625</td>\n    </tr>\n    <tr>\n      <th>2</th>\n      <td>2019-06-04T20:44:15.588Z</td>\n      <td>NaN</td>\n      <td>A000010821</td>\n      <td>No Ubicada</td>\n      <td>0</td>\n      <td>Caída de Ocupante</td>\n      <td>[-75.7037762763, 6.22141524356]</td>\n      <td>3.0</td>\n      <td>2014.0</td>\n      <td>NaN</td>\n      <td>[u'incidentes']</td>\n      <td>CR 62 CL 84</td>\n      <td>Operador2</td>\n      <td>C:/ELK/logstash-6.5.1/data/Medata/Incidentes/I...</td>\n      <td>Sin Inf</td>\n      <td>Tramo de via</td>\n      <td>NaN</td>\n      <td>Con heridos</td>\n      <td>2014-03-13T00:20:00.000Z</td>\n      <td>1180000.00</td>\n      <td>820000.00</td>\n      <td>1.0</td>\n      <td>8630.0</td>\n      <td>1432627</td>\n    </tr>\n    <tr>\n      <th>3</th>\n      <td>2019-06-04T20:44:15.588Z</td>\n      <td>514</td>\n      <td>A000010849</td>\n      <td>Malla vial</td>\n      <td>CR  073 B   091  000 00000</td>\n      <td>Atropello</td>\n      <td>[-75.5792346017, 6.28690605219]</td>\n      <td>3.0</td>\n      <td>2014.0</td>\n      <td>Castilla</td>\n      <td>[u'incidentes']</td>\n      <td>CR 73 B CL 91</td>\n      <td>Operador2</td>\n      <td>C:/ELK/logstash-6.5.1/data/Medata/Incidentes/I...</td>\n      <td>05</td>\n      <td>Tramo de via</td>\n      <td>Alfonso López</td>\n      <td>Con heridos</td>\n      <td>2014-03-12T23:00:00.000Z</td>\n      <td>1187204.11</td>\n      <td>833808.55</td>\n      <td>1.0</td>\n      <td>8632.0</td>\n      <td>1432630</td>\n    </tr>\n    <tr>\n      <th>4</th>\n      <td>2019-06-04T20:44:15.589Z</td>\n      <td>1621</td>\n      <td>A000010855</td>\n      <td>Malla vial</td>\n      <td>CR  053   030 A  000 00000</td>\n      <td>Otro</td>\n      <td>[-75.5778859663, 6.23258248117]</td>\n      <td>3.0</td>\n      <td>2014.0</td>\n      <td>Belén</td>\n      <td>[u'incidentes']</td>\n      <td>CR 53 CL 30 A</td>\n      <td>Operador2</td>\n      <td>C:/ELK/logstash-6.5.1/data/Medata/Incidentes/I...</td>\n      <td>16</td>\n      <td>Tramo de via</td>\n      <td>Cerro Nutibara</td>\n      <td>Con heridos</td>\n      <td>2014-03-13T04:50:00.000Z</td>\n      <td>1181194.15</td>\n      <td>833940.67</td>\n      <td>1.0</td>\n      <td>8639.0</td>\n      <td>1432637</td>\n    </tr>\n    <tr>\n      <th>5</th>\n      <td>2019-06-04T20:44:15.589Z</td>\n      <td>6098</td>\n      <td>A000010826</td>\n      <td>Malla vial</td>\n      <td>CR  104   064  000 00000</td>\n      <td>Caída de Ocupante</td>\n      <td>[-75.6151738325, 6.281156378]</td>\n      <td>3.0</td>\n      <td>2014.0</td>\n      <td>Corregimiento de San Cristóbal</td>\n      <td>[u'incidentes']</td>\n      <td>CR 104 CL 64</td>\n      <td>Operador2</td>\n      <td>C:/ELK/logstash-6.5.1/data/Medata/Incidentes/I...</td>\n      <td>60</td>\n      <td>Tramo de via</td>\n      <td>Área de Expansión Pajarito</td>\n      <td>Con heridos</td>\n      <td>2014-03-13T01:00:00.000Z</td>\n      <td>1186579.60</td>\n      <td>829828.47</td>\n      <td>1.0</td>\n      <td>8642.0</td>\n      <td>1432640</td>\n    </tr>\n    <tr>\n      <th>6</th>\n      <td>2019-06-04T20:44:15.589Z</td>\n      <td>1101</td>\n      <td>A000010917</td>\n      <td>Malla vial</td>\n      <td>CR  065   051  000 00000</td>\n      <td>Choque</td>\n      <td>[-75.58085586, 6.25657541199]</td>\n      <td>3.0</td>\n      <td>2014.0</td>\n      <td>Laureles Estadio</td>\n      <td>[u'incidentes']</td>\n      <td>CR 65 CL 51</td>\n      <td>Operador2</td>\n      <td>C:/ELK/logstash-6.5.1/data/Medata/Incidentes/I...</td>\n      <td>11</td>\n      <td>Tramo de via</td>\n      <td>Carlos E. Restrepo</td>\n      <td>Con heridos</td>\n      <td>2014-03-12T15:00:00.000Z</td>\n      <td>1183849.30</td>\n      <td>833619.47</td>\n      <td>1.0</td>\n      <td>8649.0</td>\n      <td>1432721</td>\n    </tr>\n    <tr>\n      <th>7</th>\n      <td>2019-06-04T20:44:15.589Z</td>\n      <td>1318</td>\n      <td>A000010841</td>\n      <td>Malla vial</td>\n      <td>CL  044   105  000 00000</td>\n      <td>Choque</td>\n      <td>[-75.6200332483, 6.25681851817]</td>\n      <td>3.0</td>\n      <td>2014.0</td>\n      <td>San Javier</td>\n      <td>[u'incidentes']</td>\n      <td>CL 44 CR 105</td>\n      <td>Operador2</td>\n      <td>C:/ELK/logstash-6.5.1/data/Medata/Incidentes/I...</td>\n      <td>13</td>\n      <td>Tramo de via</td>\n      <td>Antonio Nariño</td>\n      <td>Con heridos</td>\n      <td>2014-03-12T23:00:00.000Z</td>\n      <td>1183888.76</td>\n      <td>829282.64</td>\n      <td>1.0</td>\n      <td>8650.0</td>\n      <td>1432722</td>\n    </tr>\n    <tr>\n      <th>8</th>\n      <td>2019-06-04T20:44:15.590Z</td>\n      <td>307</td>\n      <td>A000010916</td>\n      <td>Malla vial aproximada: CR 45-67</td>\n      <td>CR  046   067  000 00000</td>\n      <td>Caída de Ocupante</td>\n      <td>[-75.5555813857, 6.2631762147]</td>\n      <td>3.0</td>\n      <td>2014.0</td>\n      <td>Manrique</td>\n      <td>[u'incidentes']</td>\n      <td>CR 46 CL 67</td>\n      <td>Operador2</td>\n      <td>C:/ELK/logstash-6.5.1/data/Medata/Incidentes/I...</td>\n      <td>03</td>\n      <td>Tramo de via</td>\n      <td>Manrique Central No. 2</td>\n      <td>Con heridos</td>\n      <td>2014-03-12T17:00:00.000Z</td>\n      <td>1184571.57</td>\n      <td>836419.35</td>\n      <td>1.0</td>\n      <td>8659.0</td>\n      <td>1432732</td>\n    </tr>\n    <tr>\n      <th>9</th>\n      <td>2019-06-04T20:44:15.590Z</td>\n      <td>1013</td>\n      <td>A000010992</td>\n      <td>Malla vial</td>\n      <td>CR  045   048  000 00000</td>\n      <td>Caída de Ocupante</td>\n      <td>[-75.568553277, 6.24524859423]</td>\n      <td>3.0</td>\n      <td>2014.0</td>\n      <td>La Candelaria</td>\n      <td>[u'incidentes']</td>\n      <td>CR 45 CL 48</td>\n      <td>Operador2</td>\n      <td>C:/ELK/logstash-6.5.1/data/Medata/Incidentes/I...</td>\n      <td>10</td>\n      <td>Tramo de via</td>\n      <td>Barrio Colón</td>\n      <td>Con heridos</td>\n      <td>2014-03-12T16:30:00.000Z</td>\n      <td>1182592.40</td>\n      <td>834977.79</td>\n      <td>1.0</td>\n      <td>8663.0</td>\n      <td>1432736</td>\n    </tr>\n    <tr>\n      <th>10</th>\n      <td>2019-06-04T20:44:15.590Z</td>\n      <td>309</td>\n      <td>A000010991</td>\n      <td>Malla vial</td>\n      <td>CL  069   027  000 00000</td>\n      <td>Atropello</td>\n      <td>[-75.5419347915, 6.26338939586]</td>\n      <td>3.0</td>\n      <td>2014.0</td>\n      <td>Manrique</td>\n      <td>[u'incidentes']</td>\n      <td>CL 69 CR 27</td>\n      <td>Operador2</td>\n      <td>C:/ELK/logstash-6.5.1/data/Medata/Incidentes/I...</td>\n      <td>03</td>\n      <td>Tramo de via</td>\n      <td>Versalles No. 1</td>\n      <td>Con heridos</td>\n      <td>2014-03-12T23:00:00.000Z</td>\n      <td>1184590.92</td>\n      <td>837930.03</td>\n      <td>1.0</td>\n      <td>8666.0</td>\n      <td>1432739</td>\n    </tr>\n    <tr>\n      <th>11</th>\n      <td>2019-06-04T20:44:15.590Z</td>\n      <td>301</td>\n      <td>A000010896</td>\n      <td>Malla vial</td>\n      <td>CL  092   044 A  000 00000</td>\n      <td>Atropello</td>\n      <td>[-75.5521141628, 6.28311328446]</td>\n      <td>3.0</td>\n      <td>2014.0</td>\n      <td>Manrique</td>\n      <td>[u'incidentes']</td>\n      <td>CL 92 CR 44 A</td>\n      <td>Operador2</td>\n      <td>C:/ELK/logstash-6.5.1/data/Medata/Incidentes/I...</td>\n      <td>03</td>\n      <td>Tramo de via</td>\n      <td>La Salle</td>\n      <td>Con heridos</td>\n      <td>2014-03-12T11:20:00.000Z</td>\n      <td>1186776.00</td>\n      <td>836809.36</td>\n      <td>1.0</td>\n      <td>8667.0</td>\n      <td>1432748</td>\n    </tr>\n    <tr>\n      <th>12</th>\n      <td>2019-06-04T20:44:15.590Z</td>\n      <td>710</td>\n      <td>A000010899</td>\n      <td>Malla vial</td>\n      <td>CL  080   076  000 00000</td>\n      <td>Otro</td>\n      <td>[-75.5832037595, 6.2834307746]</td>\n      <td>3.0</td>\n      <td>2014.0</td>\n      <td>Robledo</td>\n      <td>[u'incidentes']</td>\n      <td>CL 80 CR 76</td>\n      <td>Operador2</td>\n      <td>C:/ELK/logstash-6.5.1/data/Medata/Incidentes/I...</td>\n      <td>07</td>\n      <td>Tramo de via</td>\n      <td>López de Mesa</td>\n      <td>Con heridos</td>\n      <td>2014-03-12T12:30:00.000Z</td>\n      <td>1186820.92</td>\n      <td>833368.09</td>\n      <td>1.0</td>\n      <td>8668.0</td>\n      <td>1432749</td>\n    </tr>\n    <tr>\n      <th>13</th>\n      <td>2019-06-04T20:44:15.590Z</td>\n      <td>308</td>\n      <td>A000010884</td>\n      <td>Malla vial</td>\n      <td>CR  041   068  000 00000</td>\n      <td>Otro</td>\n      <td>[-75.5520280221, 6.26336411263]</td>\n      <td>3.0</td>\n      <td>2014.0</td>\n      <td>Manrique</td>\n      <td>[u'incidentes']</td>\n      <td>CR 41 CL 68</td>\n      <td>Operador2</td>\n      <td>C:/ELK/logstash-6.5.1/data/Medata/Incidentes/I...</td>\n      <td>03</td>\n      <td>Tramo de via</td>\n      <td>Manrique Oriental</td>\n      <td>Con heridos</td>\n      <td>2014-03-12T09:30:00.000Z</td>\n      <td>1184591.25</td>\n      <td>836812.75</td>\n      <td>1.0</td>\n      <td>8669.0</td>\n      <td>1432751</td>\n    </tr>\n    <tr>\n      <th>14</th>\n      <td>2019-06-04T20:44:15.590Z</td>\n      <td>410</td>\n      <td>A000011099</td>\n      <td>Malla vial</td>\n      <td>CR  046   084  000 00000</td>\n      <td>Choque</td>\n      <td>[-75.5546384131, 6.27639159676]</td>\n      <td>3.0</td>\n      <td>2014.0</td>\n      <td>Aranjuez</td>\n      <td>[u'incidentes']</td>\n      <td>CR 46 CL 84</td>\n      <td>Operador2</td>\n      <td>C:/ELK/logstash-6.5.1/data/Medata/Incidentes/I...</td>\n      <td>04</td>\n      <td>Tramo de via</td>\n      <td>Campo Valdés No. 1</td>\n      <td>Con heridos</td>\n      <td>2014-03-12T17:00:00.000Z</td>\n      <td>1186033.21</td>\n      <td>836527.85</td>\n      <td>1.0</td>\n      <td>8670.0</td>\n      <td>1432752</td>\n    </tr>\n  </tbody>\n</table>\n</div>"
     },
     "metadata": {},
     "execution_count": 45
    }
   ],
   "source": [
    "df =  pd.read_csv('./accidentalidad.csv', skiprows=1,header=None,sep=';')\n",
    "df.loc[0:14]"
   ]
  },
  {
   "cell_type": "markdown",
   "metadata": {},
   "source": []
  },
  {
   "cell_type": "code",
   "execution_count": 46,
   "metadata": {},
   "outputs": [
    {
     "output_type": "execute_result",
     "data": {
      "text/plain": "Int64Index([ 0,  1,  2,  3,  4,  5,  6,  7,  8,  9, 10, 11, 12, 13, 14, 15, 16,\n            17, 18, 19, 20, 21, 22, 23],\n           dtype='int64')"
     },
     "metadata": {},
     "execution_count": 46
    }
   ],
   "source": [
    "df.columns"
   ]
  },
  {
   "cell_type": "code",
   "execution_count": 53,
   "metadata": {},
   "outputs": [
    {
     "output_type": "execute_result",
     "data": {
      "text/plain": "Empty DataFrame\nColumns: [timestamp, cbml, expediente, tipo_geocode, direccion_enc, clase, x_long_y_lat, mes, periodo, comuna, incidente, direccion, operador, path, num_comuna, diseno, barrio, gravedad, fecha, y_magnamed, x_magnet, version, id, radicado]\nIndex: []",
      "text/html": "<div>\n<style scoped>\n    .dataframe tbody tr th:only-of-type {\n        vertical-align: middle;\n    }\n\n    .dataframe tbody tr th {\n        vertical-align: top;\n    }\n\n    .dataframe thead th {\n        text-align: right;\n    }\n</style>\n<table border=\"1\" class=\"dataframe\">\n  <thead>\n    <tr style=\"text-align: right;\">\n      <th></th>\n      <th>timestamp</th>\n      <th>cbml</th>\n      <th>expediente</th>\n      <th>tipo_geocode</th>\n      <th>direccion_enc</th>\n      <th>clase</th>\n      <th>x_long_y_lat</th>\n      <th>mes</th>\n      <th>periodo</th>\n      <th>comuna</th>\n      <th>incidente</th>\n      <th>direccion</th>\n      <th>operador</th>\n      <th>path</th>\n      <th>num_comuna</th>\n      <th>diseno</th>\n      <th>barrio</th>\n      <th>gravedad</th>\n      <th>fecha</th>\n      <th>y_magnamed</th>\n      <th>x_magnet</th>\n      <th>version</th>\n      <th>id</th>\n      <th>radicado</th>\n    </tr>\n  </thead>\n  <tbody>\n  </tbody>\n</table>\n</div>"
     },
     "metadata": {},
     "execution_count": 53
    }
   ],
   "source": [
    "# dic = literal_eval(df[df[0]==\"1.0\"][4].values[0])\n",
    "# print(dic)\n",
    "# df.columns = [col.lower() for col in dic.keys()]\n",
    "# print(df.columns)\n",
    "\n",
    "cols = [\"timestamp\", \"cbml\", \"expediente\", \"tipo_geocode\", \"direccion_enc\", \"clase\", \"x_long_y_lat\", \"mes\", \"periodo\", \"comuna\", \"incidente\", \"direccion\", \"operador\", \"path\", \"num_comuna\", \"diseno\", \"barrio\", \"gravedad\", \"fecha\", \"y_magnamed\", \"x_magnet\", \"version\", \"id\", \"radicado\"]\n",
    "df.columns = cols\n",
    "df = df[df.timestamp != '1.0']\n",
    "df[df.timestamp == '1.0']\n"
   ]
  },
  {
   "cell_type": "code",
   "execution_count": 54,
   "metadata": {},
   "outputs": [],
   "source": [
    "agg_df = agg_df[~agg_df.radicado.isna()]\n",
    "df=df[~df.radicado.isna()]\n",
    "dtype = dict(radicado=str)\n",
    "agg_df.radicado = agg_df.radicado.astype(dtype)\n",
    "df.radicado = df.radicado.astype(dtype)\n",
    "agg_df.radicado = agg_df.radicado.str.strip()\n",
    "agg_df.radicado = agg_df.radicado.str.replace(\"(\\d+)(.0)*\",\"\\\\1\") #.dtype #.sort_values(by=\"radicado\", ascending=False)\n",
    "agg_df.radicado = agg_df.radicado.str.replace(\"^(0+)(\\d+)\", \"\\\\2\")\n",
    "df.radicado = df.radicado.str.strip()\n",
    "df.radicado = df.radicado.str.replace(\"(\\d+)(.0)*\",\"\\\\1\")"
   ]
  },
  {
   "cell_type": "code",
   "execution_count": 55,
   "metadata": {},
   "outputs": [
    {
     "output_type": "execute_result",
     "data": {
      "text/plain": "(277752, 24)"
     },
     "metadata": {},
     "execution_count": 55
    }
   ],
   "source": [
    "df.shape"
   ]
  }
 ],
 "metadata": {
  "language_info": {
   "codemirror_mode": {
    "name": "ipython",
    "version": 3
   },
   "file_extension": ".py",
   "mimetype": "text/x-python",
   "name": "python",
   "nbconvert_exporter": "python",
   "pygments_lexer": "ipython3",
   "version": "3.7.6-final"
  },
  "orig_nbformat": 2,
  "kernelspec": {
   "name": "python37664bitvenvvenv2aaee01adc7c4d53be02a84c3b0594f7",
   "display_name": "Python 3.7.6 64-bit ('.venv': venv)"
  }
 },
 "nbformat": 4,
 "nbformat_minor": 2
}