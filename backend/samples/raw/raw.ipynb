{
 "cells": [
  {
   "cell_type": "markdown",
   "metadata": {},
   "source": [
    "# TITLE"
   ]
  },
  {
   "cell_type": "markdown",
   "metadata": {},
   "source": [
    "We downloaded the files from: <br>\n",
    "accidentalidad.csv: http://medata.gov.co/dataset/accidentalidad \n",
    "<br>\n",
    "AccidentalidadgeoreferenciadaYYYY:\n",
    "<br>\n",
    "http://medata.gov.co/dataset/accidentalidad-geo-referenciada-2019\n",
    "http://medata.gov.co/dataset/accidentalidad-geo-referenciada-2018\n",
    "http://medata.gov.co/dataset/accidentalidad-geo-referenciada-2017\n",
    "http://medata.gov.co/dataset/accidentalidad-geo-referenciada-2016\n",
    "http://medata.gov.co/dataset/accidentalidad-geo-referenciada-2015\n",
    "http://medata.gov.co/dataset/accidentalidad-geo-referenciada-2014\n",
    "<br>\n",
    "\n",
    "To ingest about dataset we decided to use two different dataframes, accidentalidad dataframe ```a_df``` to aggregate the differents files by year and include the incident time wich is not included in the accidentalidad_georrererenciada dataframe ```ag_df```, so we use these two dataframes to verify the integrity of the datasets and build one dataset with all the information we need.\n",
    "\n",
    "In the following code we clean and merge the datasets:"
   ]
  },
  {
   "cell_type": "markdown",
   "metadata": {},
   "source": [
    "# Download all the data\n"
   ]
  },
  {
   "cell_type": "code",
   "execution_count": 2,
   "metadata": {
    "tags": []
   },
   "outputs": [],
   "source": [
    "import requests\n",
    "import pandas as pd\n",
    "from ast import literal_eval\n",
    "from unidecode import unidecode\n",
    "pd.options.display.max_columns = None\n",
    "\n",
    "\n",
    "\n"
   ]
  },
  {
   "cell_type": "code",
   "execution_count": null,
   "metadata": {},
   "outputs": [],
   "source": [
    "\n",
    "urls = {'url_accidentalidad' : 'http://medata.gov.co/sites/default/files/medata_harvest_files/accidentalidad.csv',\n",
    "'url_accidentalidad_georreferenciada_2019' : 'https://opendata.arcgis.com/datasets/e132c88e875b429db4c1a3c80b7977da_20.csv',\n",
    "'url_accidentalidad_georreferenciada_2018' : 'https://opendata.arcgis.com/datasets/e4b4645cc47b462495305db0574982b5_16.csv',\n",
    "'url_accidentalidad_georreferenciada_2017' : 'https://opendata.arcgis.com/datasets/b7f7158734f64e7f849df6ac4a6b10f1_12.csv',\n",
    "'url_accidentalidad_georreferenciada_2016' : 'https://opendata.arcgis.com/datasets/a65c3aff0ef34973a2441b6cd0fbc24a_8.csv',\n",
    "'url_accidentalidad_georreferenciada_2015' : 'https://opendata.arcgis.com/datasets/025f3be66fbd48b888b779cf00928ae8_4.csv',\n",
    "'url_accidentalidad_georreferenciada_2014' : 'https://opendata.arcgis.com/datasets/505e89d2ade143a684d51b60236ba285_0.csv',\n",
    "'url_accidentalidad_motos':'https://www.datos.gov.co/api/views/b7ik-2upt/rows.csv?accessType=DOWNLOAD',\n",
    "'url_camaras_cctv' : 'https://opendata.arcgis.com/datasets/9721295ac3644bfbb076795b36912037_9.csv',\n",
    "'url_camaras_fotodeteccion' : 'https://opendata.arcgis.com/datasets/bfcd5e4e3e364957b1aeeff0ee022815_7.csv',\n",
    "'url_cruces_semafóricos' : 'https://opendata.arcgis.com/datasets/072ed4e620b849d6bdbb058c3cb77922_0.csv',\n",
    "'url_limite_comunas' : 'https://opendata.arcgis.com/datasets/283d1d14584641c9971edbd2f695e502_6.csv',\n",
    "'url_limite_barrios' : 'https://opendata.arcgis.com/datasets/1a6dbf15865b4357aa559699ea90c5b9_7.csv'}\n",
    "\n",
    "for key in urls:\n",
    "    r =requests.get(urls[key], allow_redirects=True)\n",
    "    open(key.replace('url_','')+'.csv', 'wb').write(r.content)"
   ]
  },
  {
   "cell_type": "markdown",
   "metadata": {},
   "source": [
    "### Concatenate all the accidentalidad_georreferenciada files"
   ]
  },
  {
   "cell_type": "code",
   "execution_count": 149,
   "metadata": {},
   "outputs": [],
   "source": [
    "# ag_df: yearly file\n",
    "ag_df = pd.DataFrame()\n",
    "path = \"./\"\n",
    "for  file in os.listdir(path):\n",
    "    if 'accidentalidad_georreferenciada_' in file:\n",
    "        df_tmp = pd.read_csv(os.path.join(path, file))\n",
    "        df_tmp.columns = [c.lower() for c in df_tmp.columns]\n",
    "        df_tmp['file'] = file\n",
    "        ag_df = pd.concat([ag_df, df_tmp])\n",
    "\n",
    "ag_df.to_csv(\"../raw/accidentalidad_georreferenciada.csv\",index=False)"
   ]
  },
  {
   "cell_type": "markdown",
   "metadata": {},
   "source": [
    "### Check the columns"
   ]
  },
  {
   "cell_type": "markdown",
   "metadata": {},
   "source": [
    "# Delete 'radicados' duplicates from three sources:\n",
    "- accidentalidad.csv\n",
    "- accidentalidad_georreferenciada.csv\n",
    "- accidentalidad_motos.csv\n",
    "\n",
    "We found some duplicates values in \"radicado\" field so we procedure to drop them.\n"
   ]
  },
  {
   "cell_type": "code",
   "execution_count": 58,
   "metadata": {},
   "outputs": [],
   "source": [
    "ag_df = pd.read_csv(\"../raw/accidentalidad_georreferenciada.csv\")\n",
    "\n",
    "a_df = pd.read_csv('./accidentalidad.csv', skiprows=1,header=None,sep=';')\n",
    "a_df.rename(columns={18:'fecha_hora',22: 'objectid', 23:'radicado'},inplace=True)\n",
    "\n",
    "am_df = pd.read_csv('./accidentalidad_motos.csv')\n",
    "am_df['moto']=1\n",
    "\n",
    "\n",
    "\n",
    "\n"
   ]
  },
  {
   "cell_type": "code",
   "execution_count": 66,
   "metadata": {},
   "outputs": [
    {
     "output_type": "execute_result",
     "data": {
      "text/plain": "                x         y  objectid radicado                   fecha  \\\n93458  -75.591921  6.282942    507560       12  2017/01/01 00:00:00+00   \n93459  -75.613491  6.284049    507561       20  2017/01/01 00:00:00+00   \n223849 -75.604448  6.250820    252567       38  2014/11/25 00:00:00+00   \n93460  -75.703816  6.221806    507562       47  2017/01/02 00:00:00+00   \n93462  -75.567295  6.254069    507564      499  2017/01/05 00:00:00+00   \n\n            hora  dia  periodo      clase            direccion  \\\n93458   05:05:00    1     2017  Atropello        CL 77 A CR 88   \n93459   08:30:00    1     2017     Choque  CL 66 CR 103 B - 15   \n223849  12:33:00   25     2014  Atropello     CR 84 CL 44 - 05   \n93460   01:30:00    2     2017     Choque     CR 42 CL 92 - 50   \n93462   07:55:00    5     2017  Atropello        CR 51 D CL 54   \n\n                     direccion_enc         cbml  \\\n93458   CL  077 A   088  000 00000         0713   \n93459   CL  066   103 B  015 00000  60980380285   \n223849    CR  084   044  005 00000         1204   \n93460     CR  042   092  050 00000          NaN   \n93462   CR  051 D   054  000 00000         1005   \n\n                            tipo_geocod gravedad                      barrio  \\\n93458                        Malla vial   MUERTO                  Aures No.1   \n93459         Nomenclatura con Interior   MUERTO  Área de Expansión Pajarito   \n223849                       Malla vial   MUERTO                  La América   \n93460                        No Ubicada   MUERTO                         NaN   \n93462   Malla vial aproximada: CR 51-54   MUERTO              Estación Villa   \n\n                                comuna diseno dia_nombre  mes mes_nombre  \\\n93458                          Robledo    NaN  DOMINGO      1        NaN   \n93459   Corregimiento de San Cristóbal    NaN  DOMINGO      1        NaN   \n223849                      La América    NaN  MARTES      11        NaN   \n93460                              NaN    NaN  LUNES        1        NaN   \n93462                    La Candelaria    NaN  JUEVES       1        NaN   \n\n        x_magnamed  y_magnamed   longitud   latitud  \\\n93458    832386.43  1186760.60 -75.591921  6.282942   \n93459    829999.08  1186883.23 -75.613491  6.284049   \n223849   830999.75  1183207.50 -75.604448  6.250820   \n93460    820000.00  1180000.00 -75.703816  6.221806   \n93462    835112.08  1183566.79 -75.567295  6.254069   \n\n                                            file  shape  \n93458   accidentalidad_georreferenciada_2017.csv    NaN  \n93459   accidentalidad_georreferenciada_2017.csv    NaN  \n223849  accidentalidad_georreferenciada_2014.csv    NaN  \n93460   accidentalidad_georreferenciada_2017.csv    NaN  \n93462   accidentalidad_georreferenciada_2017.csv    NaN  ",
      "text/html": "<div>\n<style scoped>\n    .dataframe tbody tr th:only-of-type {\n        vertical-align: middle;\n    }\n\n    .dataframe tbody tr th {\n        vertical-align: top;\n    }\n\n    .dataframe thead th {\n        text-align: right;\n    }\n</style>\n<table border=\"1\" class=\"dataframe\">\n  <thead>\n    <tr style=\"text-align: right;\">\n      <th></th>\n      <th>x</th>\n      <th>y</th>\n      <th>objectid</th>\n      <th>radicado</th>\n      <th>fecha</th>\n      <th>hora</th>\n      <th>dia</th>\n      <th>periodo</th>\n      <th>clase</th>\n      <th>direccion</th>\n      <th>direccion_enc</th>\n      <th>cbml</th>\n      <th>tipo_geocod</th>\n      <th>gravedad</th>\n      <th>barrio</th>\n      <th>comuna</th>\n      <th>diseno</th>\n      <th>dia_nombre</th>\n      <th>mes</th>\n      <th>mes_nombre</th>\n      <th>x_magnamed</th>\n      <th>y_magnamed</th>\n      <th>longitud</th>\n      <th>latitud</th>\n      <th>file</th>\n      <th>shape</th>\n    </tr>\n  </thead>\n  <tbody>\n    <tr>\n      <th>93458</th>\n      <td>-75.591921</td>\n      <td>6.282942</td>\n      <td>507560</td>\n      <td>12</td>\n      <td>2017/01/01 00:00:00+00</td>\n      <td>05:05:00</td>\n      <td>1</td>\n      <td>2017</td>\n      <td>Atropello</td>\n      <td>CL 77 A CR 88</td>\n      <td>CL  077 A   088  000 00000</td>\n      <td>0713</td>\n      <td>Malla vial</td>\n      <td>MUERTO</td>\n      <td>Aures No.1</td>\n      <td>Robledo</td>\n      <td>NaN</td>\n      <td>DOMINGO</td>\n      <td>1</td>\n      <td>NaN</td>\n      <td>832386.43</td>\n      <td>1186760.60</td>\n      <td>-75.591921</td>\n      <td>6.282942</td>\n      <td>accidentalidad_georreferenciada_2017.csv</td>\n      <td>NaN</td>\n    </tr>\n    <tr>\n      <th>93459</th>\n      <td>-75.613491</td>\n      <td>6.284049</td>\n      <td>507561</td>\n      <td>20</td>\n      <td>2017/01/01 00:00:00+00</td>\n      <td>08:30:00</td>\n      <td>1</td>\n      <td>2017</td>\n      <td>Choque</td>\n      <td>CL 66 CR 103 B - 15</td>\n      <td>CL  066   103 B  015 00000</td>\n      <td>60980380285</td>\n      <td>Nomenclatura con Interior</td>\n      <td>MUERTO</td>\n      <td>Área de Expansión Pajarito</td>\n      <td>Corregimiento de San Cristóbal</td>\n      <td>NaN</td>\n      <td>DOMINGO</td>\n      <td>1</td>\n      <td>NaN</td>\n      <td>829999.08</td>\n      <td>1186883.23</td>\n      <td>-75.613491</td>\n      <td>6.284049</td>\n      <td>accidentalidad_georreferenciada_2017.csv</td>\n      <td>NaN</td>\n    </tr>\n    <tr>\n      <th>223849</th>\n      <td>-75.604448</td>\n      <td>6.250820</td>\n      <td>252567</td>\n      <td>38</td>\n      <td>2014/11/25 00:00:00+00</td>\n      <td>12:33:00</td>\n      <td>25</td>\n      <td>2014</td>\n      <td>Atropello</td>\n      <td>CR 84 CL 44 - 05</td>\n      <td>CR  084   044  005 00000</td>\n      <td>1204</td>\n      <td>Malla vial</td>\n      <td>MUERTO</td>\n      <td>La América</td>\n      <td>La América</td>\n      <td>NaN</td>\n      <td>MARTES</td>\n      <td>11</td>\n      <td>NaN</td>\n      <td>830999.75</td>\n      <td>1183207.50</td>\n      <td>-75.604448</td>\n      <td>6.250820</td>\n      <td>accidentalidad_georreferenciada_2014.csv</td>\n      <td>NaN</td>\n    </tr>\n    <tr>\n      <th>93460</th>\n      <td>-75.703816</td>\n      <td>6.221806</td>\n      <td>507562</td>\n      <td>47</td>\n      <td>2017/01/02 00:00:00+00</td>\n      <td>01:30:00</td>\n      <td>2</td>\n      <td>2017</td>\n      <td>Choque</td>\n      <td>CR 42 CL 92 - 50</td>\n      <td>CR  042   092  050 00000</td>\n      <td>NaN</td>\n      <td>No Ubicada</td>\n      <td>MUERTO</td>\n      <td>NaN</td>\n      <td>NaN</td>\n      <td>NaN</td>\n      <td>LUNES</td>\n      <td>1</td>\n      <td>NaN</td>\n      <td>820000.00</td>\n      <td>1180000.00</td>\n      <td>-75.703816</td>\n      <td>6.221806</td>\n      <td>accidentalidad_georreferenciada_2017.csv</td>\n      <td>NaN</td>\n    </tr>\n    <tr>\n      <th>93462</th>\n      <td>-75.567295</td>\n      <td>6.254069</td>\n      <td>507564</td>\n      <td>499</td>\n      <td>2017/01/05 00:00:00+00</td>\n      <td>07:55:00</td>\n      <td>5</td>\n      <td>2017</td>\n      <td>Atropello</td>\n      <td>CR 51 D CL 54</td>\n      <td>CR  051 D   054  000 00000</td>\n      <td>1005</td>\n      <td>Malla vial aproximada: CR 51-54</td>\n      <td>MUERTO</td>\n      <td>Estación Villa</td>\n      <td>La Candelaria</td>\n      <td>NaN</td>\n      <td>JUEVES</td>\n      <td>1</td>\n      <td>NaN</td>\n      <td>835112.08</td>\n      <td>1183566.79</td>\n      <td>-75.567295</td>\n      <td>6.254069</td>\n      <td>accidentalidad_georreferenciada_2017.csv</td>\n      <td>NaN</td>\n    </tr>\n  </tbody>\n</table>\n</div>"
     },
     "metadata": {},
     "execution_count": 66
    }
   ],
   "source": [
    "ag_df = ag_df.sort_values(by=[\"radicado\", \"objectid\"])\n",
    "ag_df.head(5)"
   ]
  },
  {
   "cell_type": "code",
   "execution_count": 45,
   "metadata": {},
   "outputs": [
    {
     "output_type": "execute_result",
     "data": {
      "text/plain": "                x         y  objectid radicado                   fecha  \\\n132131 -75.557246  6.299648    546233    62196  2017/12/25 00:00:00+00   \n132132 -75.557246  6.299648    546234    62196  2017/12/25 00:00:00+00   \n132133 -75.557246  6.299648    546235    62196  2017/12/25 00:00:00+00   \n\n            hora  dia  periodo   clase     direccion  \\\n132131  10:00:00   25     2017  Choque  CR 52 CL 107   \n132132  10:00:00   25     2017  Choque  CR 52 CL 107   \n132133  10:00:00   25     2017  Choque  CR 52 CL 107   \n\n                   direccion_enc  cbml tipo_geocod gravedad      barrio  \\\n132131  CR  052   107  000 00000  0206  Malla vial   MUERTO  Santa Cruz   \n132132  CR  052   107  000 00000  0206  Malla vial   MUERTO  Santa Cruz   \n132133  CR  052   107  000 00000  0206  Malla vial   MUERTO  Santa Cruz   \n\n           comuna diseno dia_nombre  mes mes_nombre  x_magnamed  y_magnamed  \\\n132131  Andalucía    NaN  LUNES       12        NaN   836224.31  1188608.41   \n132132  Andalucía    NaN  LUNES       12        NaN   836224.31  1188608.41   \n132133  Andalucía    NaN  LUNES       12        NaN   836224.31  1188608.41   \n\n         longitud   latitud                                      file  shape  \n132131 -75.557246  6.299648  accidentalidad_georreferenciada_2017.csv    NaN  \n132132 -75.557246  6.299648  accidentalidad_georreferenciada_2017.csv    NaN  \n132133 -75.557246  6.299648  accidentalidad_georreferenciada_2017.csv    NaN  ",
      "text/html": "<div>\n<style scoped>\n    .dataframe tbody tr th:only-of-type {\n        vertical-align: middle;\n    }\n\n    .dataframe tbody tr th {\n        vertical-align: top;\n    }\n\n    .dataframe thead th {\n        text-align: right;\n    }\n</style>\n<table border=\"1\" class=\"dataframe\">\n  <thead>\n    <tr style=\"text-align: right;\">\n      <th></th>\n      <th>x</th>\n      <th>y</th>\n      <th>objectid</th>\n      <th>radicado</th>\n      <th>fecha</th>\n      <th>hora</th>\n      <th>dia</th>\n      <th>periodo</th>\n      <th>clase</th>\n      <th>direccion</th>\n      <th>direccion_enc</th>\n      <th>cbml</th>\n      <th>tipo_geocod</th>\n      <th>gravedad</th>\n      <th>barrio</th>\n      <th>comuna</th>\n      <th>diseno</th>\n      <th>dia_nombre</th>\n      <th>mes</th>\n      <th>mes_nombre</th>\n      <th>x_magnamed</th>\n      <th>y_magnamed</th>\n      <th>longitud</th>\n      <th>latitud</th>\n      <th>file</th>\n      <th>shape</th>\n    </tr>\n  </thead>\n  <tbody>\n    <tr>\n      <th>132131</th>\n      <td>-75.557246</td>\n      <td>6.299648</td>\n      <td>546233</td>\n      <td>62196</td>\n      <td>2017/12/25 00:00:00+00</td>\n      <td>10:00:00</td>\n      <td>25</td>\n      <td>2017</td>\n      <td>Choque</td>\n      <td>CR 52 CL 107</td>\n      <td>CR  052   107  000 00000</td>\n      <td>0206</td>\n      <td>Malla vial</td>\n      <td>MUERTO</td>\n      <td>Santa Cruz</td>\n      <td>Andalucía</td>\n      <td>NaN</td>\n      <td>LUNES</td>\n      <td>12</td>\n      <td>NaN</td>\n      <td>836224.31</td>\n      <td>1188608.41</td>\n      <td>-75.557246</td>\n      <td>6.299648</td>\n      <td>accidentalidad_georreferenciada_2017.csv</td>\n      <td>NaN</td>\n    </tr>\n    <tr>\n      <th>132132</th>\n      <td>-75.557246</td>\n      <td>6.299648</td>\n      <td>546234</td>\n      <td>62196</td>\n      <td>2017/12/25 00:00:00+00</td>\n      <td>10:00:00</td>\n      <td>25</td>\n      <td>2017</td>\n      <td>Choque</td>\n      <td>CR 52 CL 107</td>\n      <td>CR  052   107  000 00000</td>\n      <td>0206</td>\n      <td>Malla vial</td>\n      <td>MUERTO</td>\n      <td>Santa Cruz</td>\n      <td>Andalucía</td>\n      <td>NaN</td>\n      <td>LUNES</td>\n      <td>12</td>\n      <td>NaN</td>\n      <td>836224.31</td>\n      <td>1188608.41</td>\n      <td>-75.557246</td>\n      <td>6.299648</td>\n      <td>accidentalidad_georreferenciada_2017.csv</td>\n      <td>NaN</td>\n    </tr>\n    <tr>\n      <th>132133</th>\n      <td>-75.557246</td>\n      <td>6.299648</td>\n      <td>546235</td>\n      <td>62196</td>\n      <td>2017/12/25 00:00:00+00</td>\n      <td>10:00:00</td>\n      <td>25</td>\n      <td>2017</td>\n      <td>Choque</td>\n      <td>CR 52 CL 107</td>\n      <td>CR  052   107  000 00000</td>\n      <td>0206</td>\n      <td>Malla vial</td>\n      <td>MUERTO</td>\n      <td>Santa Cruz</td>\n      <td>Andalucía</td>\n      <td>NaN</td>\n      <td>LUNES</td>\n      <td>12</td>\n      <td>NaN</td>\n      <td>836224.31</td>\n      <td>1188608.41</td>\n      <td>-75.557246</td>\n      <td>6.299648</td>\n      <td>accidentalidad_georreferenciada_2017.csv</td>\n      <td>NaN</td>\n    </tr>\n  </tbody>\n</table>\n</div>"
     },
     "metadata": {},
     "execution_count": 45
    }
   ],
   "source": [
    "ag_df[ag_df['radicado']=='62196']"
   ]
  },
  {
   "cell_type": "code",
   "execution_count": 47,
   "metadata": {},
   "outputs": [],
   "source": [
    "ag_df.drop_duplicates(subset=[\"radicado\"], keep=\"first\", inplace=True)"
   ]
  },
  {
   "cell_type": "code",
   "execution_count": 49,
   "metadata": {},
   "outputs": [
    {
     "output_type": "execute_result",
     "data": {
      "text/plain": "                x         y  objectid radicado                   fecha  \\\n132131 -75.557246  6.299648    546233    62196  2017/12/25 00:00:00+00   \n\n            hora  dia  periodo   clase     direccion  \\\n132131  10:00:00   25     2017  Choque  CR 52 CL 107   \n\n                   direccion_enc  cbml tipo_geocod gravedad      barrio  \\\n132131  CR  052   107  000 00000  0206  Malla vial   MUERTO  Santa Cruz   \n\n           comuna diseno dia_nombre  mes mes_nombre  x_magnamed  y_magnamed  \\\n132131  Andalucía    NaN  LUNES       12        NaN   836224.31  1188608.41   \n\n         longitud   latitud                                      file  shape  \n132131 -75.557246  6.299648  accidentalidad_georreferenciada_2017.csv    NaN  ",
      "text/html": "<div>\n<style scoped>\n    .dataframe tbody tr th:only-of-type {\n        vertical-align: middle;\n    }\n\n    .dataframe tbody tr th {\n        vertical-align: top;\n    }\n\n    .dataframe thead th {\n        text-align: right;\n    }\n</style>\n<table border=\"1\" class=\"dataframe\">\n  <thead>\n    <tr style=\"text-align: right;\">\n      <th></th>\n      <th>x</th>\n      <th>y</th>\n      <th>objectid</th>\n      <th>radicado</th>\n      <th>fecha</th>\n      <th>hora</th>\n      <th>dia</th>\n      <th>periodo</th>\n      <th>clase</th>\n      <th>direccion</th>\n      <th>direccion_enc</th>\n      <th>cbml</th>\n      <th>tipo_geocod</th>\n      <th>gravedad</th>\n      <th>barrio</th>\n      <th>comuna</th>\n      <th>diseno</th>\n      <th>dia_nombre</th>\n      <th>mes</th>\n      <th>mes_nombre</th>\n      <th>x_magnamed</th>\n      <th>y_magnamed</th>\n      <th>longitud</th>\n      <th>latitud</th>\n      <th>file</th>\n      <th>shape</th>\n    </tr>\n  </thead>\n  <tbody>\n    <tr>\n      <th>132131</th>\n      <td>-75.557246</td>\n      <td>6.299648</td>\n      <td>546233</td>\n      <td>62196</td>\n      <td>2017/12/25 00:00:00+00</td>\n      <td>10:00:00</td>\n      <td>25</td>\n      <td>2017</td>\n      <td>Choque</td>\n      <td>CR 52 CL 107</td>\n      <td>CR  052   107  000 00000</td>\n      <td>0206</td>\n      <td>Malla vial</td>\n      <td>MUERTO</td>\n      <td>Santa Cruz</td>\n      <td>Andalucía</td>\n      <td>NaN</td>\n      <td>LUNES</td>\n      <td>12</td>\n      <td>NaN</td>\n      <td>836224.31</td>\n      <td>1188608.41</td>\n      <td>-75.557246</td>\n      <td>6.299648</td>\n      <td>accidentalidad_georreferenciada_2017.csv</td>\n      <td>NaN</td>\n    </tr>\n  </tbody>\n</table>\n</div>"
     },
     "metadata": {},
     "execution_count": 49
    }
   ],
   "source": [
    "ag_df[ag_df['radicado']=='62196']"
   ]
  },
  {
   "cell_type": "code",
   "execution_count": 52,
   "metadata": {},
   "outputs": [
    {
     "output_type": "execute_result",
     "data": {
      "text/plain": "HERIDO         144059\nSOLO DAÑOS     116379\nCon heridos      7163\nSolo daños       5269\nMUERTO           1530\nCon muertos        61\nName: gravedad, dtype: int64"
     },
     "metadata": {},
     "execution_count": 52
    }
   ],
   "source": [
    "ag_df['gravedad'].value_counts()"
   ]
  },
  {
   "cell_type": "code",
   "execution_count": 59,
   "metadata": {},
   "outputs": [
    {
     "output_type": "execute_result",
     "data": {
      "text/plain": "               x         y  objectid    radicado                   fecha  \\\n93461 -75.559541  6.245486    507563  5.0016e+19  2017/01/03 00:00:00+00   \n\n           hora  dia  periodo               clase    direccion  \\\n93461  09:41:00    3     2017  Choque y Atropello  CR 39 CL 50   \n\n                  direccion_enc  cbml tipo_geocod gravedad  barrio  \\\n93461  CR  039   050  000 00000  1016  Malla vial   MUERTO  Boston   \n\n              comuna diseno dia_nombre  mes mes_nombre  x_magnamed  \\\n93461  La Candelaria    NaN  MARTES       1        NaN    835970.4   \n\n       y_magnamed   longitud   latitud  \\\n93461  1182617.38 -75.559541  6.245486   \n\n                                           file  shape  \n93461  accidentalidad_georreferenciada_2017.csv    NaN  ",
      "text/html": "<div>\n<style scoped>\n    .dataframe tbody tr th:only-of-type {\n        vertical-align: middle;\n    }\n\n    .dataframe tbody tr th {\n        vertical-align: top;\n    }\n\n    .dataframe thead th {\n        text-align: right;\n    }\n</style>\n<table border=\"1\" class=\"dataframe\">\n  <thead>\n    <tr style=\"text-align: right;\">\n      <th></th>\n      <th>x</th>\n      <th>y</th>\n      <th>objectid</th>\n      <th>radicado</th>\n      <th>fecha</th>\n      <th>hora</th>\n      <th>dia</th>\n      <th>periodo</th>\n      <th>clase</th>\n      <th>direccion</th>\n      <th>direccion_enc</th>\n      <th>cbml</th>\n      <th>tipo_geocod</th>\n      <th>gravedad</th>\n      <th>barrio</th>\n      <th>comuna</th>\n      <th>diseno</th>\n      <th>dia_nombre</th>\n      <th>mes</th>\n      <th>mes_nombre</th>\n      <th>x_magnamed</th>\n      <th>y_magnamed</th>\n      <th>longitud</th>\n      <th>latitud</th>\n      <th>file</th>\n      <th>shape</th>\n    </tr>\n  </thead>\n  <tbody>\n    <tr>\n      <th>93461</th>\n      <td>-75.559541</td>\n      <td>6.245486</td>\n      <td>507563</td>\n      <td>5.0016e+19</td>\n      <td>2017/01/03 00:00:00+00</td>\n      <td>09:41:00</td>\n      <td>3</td>\n      <td>2017</td>\n      <td>Choque y Atropello</td>\n      <td>CR 39 CL 50</td>\n      <td>CR  039   050  000 00000</td>\n      <td>1016</td>\n      <td>Malla vial</td>\n      <td>MUERTO</td>\n      <td>Boston</td>\n      <td>La Candelaria</td>\n      <td>NaN</td>\n      <td>MARTES</td>\n      <td>1</td>\n      <td>NaN</td>\n      <td>835970.4</td>\n      <td>1182617.38</td>\n      <td>-75.559541</td>\n      <td>6.245486</td>\n      <td>accidentalidad_georreferenciada_2017.csv</td>\n      <td>NaN</td>\n    </tr>\n  </tbody>\n</table>\n</div>"
     },
     "metadata": {},
     "execution_count": 59
    }
   ],
   "source": [
    "ag_df[ag_df['objectid']==507563]\n"
   ]
  },
  {
   "cell_type": "code",
   "execution_count": null,
   "metadata": {},
   "outputs": [],
   "source": [
    "df.clase = df.clase.apply(lambda x: unidecode(x).upper().strip().replace(' de ',' '))"
   ]
  },
  {
   "cell_type": "code",
   "execution_count": 27,
   "metadata": {},
   "outputs": [
    {
     "output_type": "execute_result",
     "data": {
      "text/plain": "['@timestamp',\n 'cbml',\n 'expediente',\n 'tipo',\n 'direccion encasillada',\n 'clase_accidente',\n 'location',\n 'mes',\n 'fecha_accidentes',\n 'año',\n 'comuna',\n 'tags',\n 'direccion',\n 'host',\n 'fingerprint',\n 'path',\n 'numcomuna',\n 'diseño',\n 'barrio',\n 'gravedad_accidente',\n 'fecha_accidente',\n 'y',\n 'x',\n '@version',\n 'id',\n 'nro_radicado']"
     },
     "metadata": {},
     "execution_count": 27
    }
   ],
   "source": [
    "from ast import literal_eval\n",
    "[l.lower() for l in list(literal_eval(list(a_df.loc[a_df[0]==\"1.0\", 4][0:1])[0]).keys())]"
   ]
  },
  {
   "cell_type": "code",
   "execution_count": 39,
   "metadata": {},
   "outputs": [
    {
     "output_type": "execute_result",
     "data": {
      "text/plain": "1613593    1\n1620992    1\n1645994    1\n1567028    1\n1465342    1\n          ..\n1451850    1\n1442267    1\n1635939    1\n1436460    1\n1466846    1\nName: radicado, Length: 261875, dtype: int64"
     },
     "metadata": {},
     "execution_count": 39
    }
   ],
   "source": [
    "a_df = a_df.sort_values(by=['radicado', 'objectid'])\n",
    "a_df['radicado'].value_counts()\n"
   ]
  },
  {
   "cell_type": "code",
   "execution_count": 29,
   "metadata": {},
   "outputs": [],
   "source": [
    "a_df.drop_duplicates(subset=['radicado'], keep=\"first\", inplace=True)"
   ]
  },
  {
   "cell_type": "code",
   "execution_count": 30,
   "metadata": {},
   "outputs": [
    {
     "output_type": "execute_result",
     "data": {
      "text/plain": "1647286    2\n1638618    2\n1641667    2\n1647440    2\n1640023    2\n          ..\n1578967    1\n1603547    1\n1593308    1\n1591261    1\n1574913    1\nName: NRO_RADICADO, Length: 136653, dtype: int64"
     },
     "metadata": {},
     "execution_count": 30
    }
   ],
   "source": [
    "am_df = am_df.sort_values(by=['NRO_RADICADO'])\n",
    "am_df['NRO_RADICADO'].value_counts()"
   ]
  },
  {
   "cell_type": "code",
   "execution_count": 31,
   "metadata": {},
   "outputs": [],
   "source": [
    "ag_df = ag_df[~ag_df.radicado.isna()]\n",
    "a_df=a_df[~a_df.radicado.isna()]\n",
    "dtype = dict(radicado=str)\n",
    "ag_df.radicado = ag_df.radicado.astype(dtype)\n",
    "a_df.radicado = a_df.radicado.astype(dtype)\n",
    "ag_df.radicado = ag_df.radicado.str.strip()\n",
    "ag_df.radicado = ag_df.radicado.str.replace(\"(\\d+)(.0)*\",\"\\\\1\") #.dtype #.sort_values(by=\"radicado\", ascending=False)\n",
    "ag_df.radicado = ag_df.radicado.str.replace(\"^(0+)(\\d+)\", \"\\\\2\")\n",
    "a_df.radicado = a_df.radicado.str.strip()\n",
    "a_df.radicado = a_df.radicado.str.replace(\"(\\d+)(.0)*\",\"\\\\1\")"
   ]
  },
  {
   "cell_type": "code",
   "execution_count": 32,
   "metadata": {},
   "outputs": [],
   "source": [
    "am_df.drop_duplicates(subset=['NRO_RADICADO'], keep=\"first\", inplace=True)"
   ]
  },
  {
   "cell_type": "markdown",
   "metadata": {},
   "source": [
    "Merge accidentes geo with accidentes, and motos"
   ]
  },
  {
   "cell_type": "code",
   "execution_count": 33,
   "metadata": {},
   "outputs": [],
   "source": [
    "ag_df = ag_df.merge(a_df[['fecha_hora','radicado']],on='radicado',how='left')"
   ]
  },
  {
   "cell_type": "code",
   "execution_count": 34,
   "metadata": {},
   "outputs": [
    {
     "output_type": "error",
     "ename": "ValueError",
     "evalue": "You are trying to merge on object and int64 columns. If you wish to proceed you should use pd.concat",
     "traceback": [
      "\u001b[0;31m---------------------------------------------------------------------------\u001b[0m",
      "\u001b[0;31mValueError\u001b[0m                                Traceback (most recent call last)",
      "\u001b[0;32m<ipython-input-34-ce4995fb2f5f>\u001b[0m in \u001b[0;36m<module>\u001b[0;34m\u001b[0m\n\u001b[1;32m      1\u001b[0m \u001b[0mam_df\u001b[0m\u001b[0;34m.\u001b[0m\u001b[0mrename\u001b[0m\u001b[0;34m(\u001b[0m\u001b[0mcolumns\u001b[0m\u001b[0;34m=\u001b[0m\u001b[0;34m{\u001b[0m\u001b[0;34m'NRO_RADICADO'\u001b[0m\u001b[0;34m:\u001b[0m\u001b[0;34m'radicado'\u001b[0m\u001b[0;34m}\u001b[0m\u001b[0;34m,\u001b[0m\u001b[0minplace\u001b[0m\u001b[0;34m=\u001b[0m\u001b[0;32mTrue\u001b[0m\u001b[0;34m)\u001b[0m\u001b[0;34m\u001b[0m\u001b[0;34m\u001b[0m\u001b[0m\n\u001b[1;32m      2\u001b[0m \u001b[0;34m\u001b[0m\u001b[0m\n\u001b[0;32m----> 3\u001b[0;31m \u001b[0mag_df\u001b[0m \u001b[0;34m=\u001b[0m \u001b[0mag_df\u001b[0m\u001b[0;34m.\u001b[0m\u001b[0mmerge\u001b[0m\u001b[0;34m(\u001b[0m\u001b[0mam_df\u001b[0m\u001b[0;34m[\u001b[0m\u001b[0;34m[\u001b[0m\u001b[0;34m'radicado'\u001b[0m\u001b[0;34m,\u001b[0m\u001b[0;34m'moto'\u001b[0m\u001b[0;34m]\u001b[0m\u001b[0;34m]\u001b[0m\u001b[0;34m,\u001b[0m\u001b[0mon\u001b[0m\u001b[0;34m=\u001b[0m\u001b[0;34m'radicado'\u001b[0m\u001b[0;34m,\u001b[0m\u001b[0mhow\u001b[0m\u001b[0;34m=\u001b[0m\u001b[0;34m'left'\u001b[0m\u001b[0;34m)\u001b[0m\u001b[0;34m\u001b[0m\u001b[0;34m\u001b[0m\u001b[0m\n\u001b[0m",
      "\u001b[0;32m~/Projects/ds4a-practicum/.venv/lib/python3.7/site-packages/pandas/core/frame.py\u001b[0m in \u001b[0;36mmerge\u001b[0;34m(self, right, how, on, left_on, right_on, left_index, right_index, sort, suffixes, copy, indicator, validate)\u001b[0m\n\u001b[1;32m   7295\u001b[0m             \u001b[0mcopy\u001b[0m\u001b[0;34m=\u001b[0m\u001b[0mcopy\u001b[0m\u001b[0;34m,\u001b[0m\u001b[0;34m\u001b[0m\u001b[0;34m\u001b[0m\u001b[0m\n\u001b[1;32m   7296\u001b[0m             \u001b[0mindicator\u001b[0m\u001b[0;34m=\u001b[0m\u001b[0mindicator\u001b[0m\u001b[0;34m,\u001b[0m\u001b[0;34m\u001b[0m\u001b[0;34m\u001b[0m\u001b[0m\n\u001b[0;32m-> 7297\u001b[0;31m             \u001b[0mvalidate\u001b[0m\u001b[0;34m=\u001b[0m\u001b[0mvalidate\u001b[0m\u001b[0;34m,\u001b[0m\u001b[0;34m\u001b[0m\u001b[0;34m\u001b[0m\u001b[0m\n\u001b[0m\u001b[1;32m   7298\u001b[0m         )\n\u001b[1;32m   7299\u001b[0m \u001b[0;34m\u001b[0m\u001b[0m\n",
      "\u001b[0;32m~/Projects/ds4a-practicum/.venv/lib/python3.7/site-packages/pandas/core/reshape/merge.py\u001b[0m in \u001b[0;36mmerge\u001b[0;34m(left, right, how, on, left_on, right_on, left_index, right_index, sort, suffixes, copy, indicator, validate)\u001b[0m\n\u001b[1;32m     84\u001b[0m         \u001b[0mcopy\u001b[0m\u001b[0;34m=\u001b[0m\u001b[0mcopy\u001b[0m\u001b[0;34m,\u001b[0m\u001b[0;34m\u001b[0m\u001b[0;34m\u001b[0m\u001b[0m\n\u001b[1;32m     85\u001b[0m         \u001b[0mindicator\u001b[0m\u001b[0;34m=\u001b[0m\u001b[0mindicator\u001b[0m\u001b[0;34m,\u001b[0m\u001b[0;34m\u001b[0m\u001b[0;34m\u001b[0m\u001b[0m\n\u001b[0;32m---> 86\u001b[0;31m         \u001b[0mvalidate\u001b[0m\u001b[0;34m=\u001b[0m\u001b[0mvalidate\u001b[0m\u001b[0;34m,\u001b[0m\u001b[0;34m\u001b[0m\u001b[0;34m\u001b[0m\u001b[0m\n\u001b[0m\u001b[1;32m     87\u001b[0m     )\n\u001b[1;32m     88\u001b[0m     \u001b[0;32mreturn\u001b[0m \u001b[0mop\u001b[0m\u001b[0;34m.\u001b[0m\u001b[0mget_result\u001b[0m\u001b[0;34m(\u001b[0m\u001b[0;34m)\u001b[0m\u001b[0;34m\u001b[0m\u001b[0;34m\u001b[0m\u001b[0m\n",
      "\u001b[0;32m~/Projects/ds4a-practicum/.venv/lib/python3.7/site-packages/pandas/core/reshape/merge.py\u001b[0m in \u001b[0;36m__init__\u001b[0;34m(self, left, right, how, on, left_on, right_on, axis, left_index, right_index, sort, suffixes, copy, indicator, validate)\u001b[0m\n\u001b[1;32m    629\u001b[0m         \u001b[0;31m# validate the merge keys dtypes. We may need to coerce\u001b[0m\u001b[0;34m\u001b[0m\u001b[0;34m\u001b[0m\u001b[0;34m\u001b[0m\u001b[0m\n\u001b[1;32m    630\u001b[0m         \u001b[0;31m# to avoid incompat dtypes\u001b[0m\u001b[0;34m\u001b[0m\u001b[0;34m\u001b[0m\u001b[0;34m\u001b[0m\u001b[0m\n\u001b[0;32m--> 631\u001b[0;31m         \u001b[0mself\u001b[0m\u001b[0;34m.\u001b[0m\u001b[0m_maybe_coerce_merge_keys\u001b[0m\u001b[0;34m(\u001b[0m\u001b[0;34m)\u001b[0m\u001b[0;34m\u001b[0m\u001b[0;34m\u001b[0m\u001b[0m\n\u001b[0m\u001b[1;32m    632\u001b[0m \u001b[0;34m\u001b[0m\u001b[0m\n\u001b[1;32m    633\u001b[0m         \u001b[0;31m# If argument passed to validate,\u001b[0m\u001b[0;34m\u001b[0m\u001b[0;34m\u001b[0m\u001b[0;34m\u001b[0m\u001b[0m\n",
      "\u001b[0;32m~/Projects/ds4a-practicum/.venv/lib/python3.7/site-packages/pandas/core/reshape/merge.py\u001b[0m in \u001b[0;36m_maybe_coerce_merge_keys\u001b[0;34m(self)\u001b[0m\n\u001b[1;32m   1144\u001b[0m                     \u001b[0minferred_right\u001b[0m \u001b[0;32min\u001b[0m \u001b[0mstring_types\u001b[0m \u001b[0;32mand\u001b[0m \u001b[0minferred_left\u001b[0m \u001b[0;32mnot\u001b[0m \u001b[0;32min\u001b[0m \u001b[0mstring_types\u001b[0m\u001b[0;34m\u001b[0m\u001b[0;34m\u001b[0m\u001b[0m\n\u001b[1;32m   1145\u001b[0m                 ):\n\u001b[0;32m-> 1146\u001b[0;31m                     \u001b[0;32mraise\u001b[0m \u001b[0mValueError\u001b[0m\u001b[0;34m(\u001b[0m\u001b[0mmsg\u001b[0m\u001b[0;34m)\u001b[0m\u001b[0;34m\u001b[0m\u001b[0;34m\u001b[0m\u001b[0m\n\u001b[0m\u001b[1;32m   1147\u001b[0m \u001b[0;34m\u001b[0m\u001b[0m\n\u001b[1;32m   1148\u001b[0m             \u001b[0;31m# datetimelikes must match exactly\u001b[0m\u001b[0;34m\u001b[0m\u001b[0;34m\u001b[0m\u001b[0;34m\u001b[0m\u001b[0m\n",
      "\u001b[0;31mValueError\u001b[0m: You are trying to merge on object and int64 columns. If you wish to proceed you should use pd.concat"
     ]
    }
   ],
   "source": [
    "am_df.rename(columns={'NRO_RADICADO':'radicado'},inplace=True)\n",
    "\n",
    "ag_df = ag_df.merge(am_df[['radicado','moto']],on='radicado',how='left')"
   ]
  },
  {
   "cell_type": "code",
   "execution_count": 155,
   "metadata": {},
   "outputs": [],
   "source": [
    "import numpy as np\n",
    "ag_df['fecha'] = ag_df['fecha'].apply(lambda x : x.replace(' 00:00:00+00',''))\n",
    "ag_df['fecha'] = pd.to_datetime(ag_df['fecha'],format='%Y/%m/%d')\n",
    "\n",
    "ag_df[ag_df['fecha'].dt.year>2014]['moto'].fillna(0,inplace=True)\n",
    "\n"
   ]
  },
  {
   "cell_type": "code",
   "execution_count": 156,
   "metadata": {},
   "outputs": [
    {
     "output_type": "execute_result",
     "data": {
      "text/plain": "                x      y  objectid  radicado   hora    dia  periodo  clase  \\\nfecha                                                                        \n2015-12-31  19441  19441     19441     19441  19441  19441    19441  19441   \n2016-12-31      0      0         0         0      0      0        0      0   \n2017-12-31      0      0         0         0      0      0        0      0   \n2018-12-31  24596  24596     24596     24596  24596  24596    24596  24596   \n2019-12-31  19246  19246     26804     26804  26804  26804    26804  26804   \n\n            direccion  direccion_enc   cbml  tipo_geocod  gravedad  barrio  \\\nfecha                                                                        \n2015-12-31      19441          19240  17471        19441     19441   17471   \n2016-12-31          0              0      0            0         0       0   \n2017-12-31          0              0      0            0         0       0   \n2018-12-31      24596          24517  22701        24596     24596   22692   \n2019-12-31      26804          26765  25216        26804     26804   24718   \n\n            comuna  diseno  dia_nombre    mes  mes_nombre  x_magnamed  \\\nfecha                                                                   \n2015-12-31   17471   19441       19441  19441           0       19441   \n2016-12-31       0       0           0      0           0           0   \n2017-12-31       0       0           0      0           0           0   \n2018-12-31   22701   24596       24596  24596           0       24596   \n2019-12-31   25915   26804       26804  26804       26804       26804   \n\n            y_magnamed  longitud  latitud   file  shape  fecha_hora   moto  \nfecha                                                                       \n2015-12-31       19441     19441    19441  19441      0           0  19441  \n2016-12-31           0         0        0      0      0           0      0  \n2017-12-31           0         0        0      0      0           0      0  \n2018-12-31       24596     24596    24596  24596      0           0  24596  \n2019-12-31       26804     26804    26804  26804      0        4271  26804  ",
      "text/html": "<div>\n<style scoped>\n    .dataframe tbody tr th:only-of-type {\n        vertical-align: middle;\n    }\n\n    .dataframe tbody tr th {\n        vertical-align: top;\n    }\n\n    .dataframe thead th {\n        text-align: right;\n    }\n</style>\n<table border=\"1\" class=\"dataframe\">\n  <thead>\n    <tr style=\"text-align: right;\">\n      <th></th>\n      <th>x</th>\n      <th>y</th>\n      <th>objectid</th>\n      <th>radicado</th>\n      <th>hora</th>\n      <th>dia</th>\n      <th>periodo</th>\n      <th>clase</th>\n      <th>direccion</th>\n      <th>direccion_enc</th>\n      <th>cbml</th>\n      <th>tipo_geocod</th>\n      <th>gravedad</th>\n      <th>barrio</th>\n      <th>comuna</th>\n      <th>diseno</th>\n      <th>dia_nombre</th>\n      <th>mes</th>\n      <th>mes_nombre</th>\n      <th>x_magnamed</th>\n      <th>y_magnamed</th>\n      <th>longitud</th>\n      <th>latitud</th>\n      <th>file</th>\n      <th>shape</th>\n      <th>fecha_hora</th>\n      <th>moto</th>\n    </tr>\n    <tr>\n      <th>fecha</th>\n      <th></th>\n      <th></th>\n      <th></th>\n      <th></th>\n      <th></th>\n      <th></th>\n      <th></th>\n      <th></th>\n      <th></th>\n      <th></th>\n      <th></th>\n      <th></th>\n      <th></th>\n      <th></th>\n      <th></th>\n      <th></th>\n      <th></th>\n      <th></th>\n      <th></th>\n      <th></th>\n      <th></th>\n      <th></th>\n      <th></th>\n      <th></th>\n      <th></th>\n      <th></th>\n      <th></th>\n    </tr>\n  </thead>\n  <tbody>\n    <tr>\n      <th>2015-12-31</th>\n      <td>19441</td>\n      <td>19441</td>\n      <td>19441</td>\n      <td>19441</td>\n      <td>19441</td>\n      <td>19441</td>\n      <td>19441</td>\n      <td>19441</td>\n      <td>19441</td>\n      <td>19240</td>\n      <td>17471</td>\n      <td>19441</td>\n      <td>19441</td>\n      <td>17471</td>\n      <td>17471</td>\n      <td>19441</td>\n      <td>19441</td>\n      <td>19441</td>\n      <td>0</td>\n      <td>19441</td>\n      <td>19441</td>\n      <td>19441</td>\n      <td>19441</td>\n      <td>19441</td>\n      <td>0</td>\n      <td>0</td>\n      <td>19441</td>\n    </tr>\n    <tr>\n      <th>2016-12-31</th>\n      <td>0</td>\n      <td>0</td>\n      <td>0</td>\n      <td>0</td>\n      <td>0</td>\n      <td>0</td>\n      <td>0</td>\n      <td>0</td>\n      <td>0</td>\n      <td>0</td>\n      <td>0</td>\n      <td>0</td>\n      <td>0</td>\n      <td>0</td>\n      <td>0</td>\n      <td>0</td>\n      <td>0</td>\n      <td>0</td>\n      <td>0</td>\n      <td>0</td>\n      <td>0</td>\n      <td>0</td>\n      <td>0</td>\n      <td>0</td>\n      <td>0</td>\n      <td>0</td>\n      <td>0</td>\n    </tr>\n    <tr>\n      <th>2017-12-31</th>\n      <td>0</td>\n      <td>0</td>\n      <td>0</td>\n      <td>0</td>\n      <td>0</td>\n      <td>0</td>\n      <td>0</td>\n      <td>0</td>\n      <td>0</td>\n      <td>0</td>\n      <td>0</td>\n      <td>0</td>\n      <td>0</td>\n      <td>0</td>\n      <td>0</td>\n      <td>0</td>\n      <td>0</td>\n      <td>0</td>\n      <td>0</td>\n      <td>0</td>\n      <td>0</td>\n      <td>0</td>\n      <td>0</td>\n      <td>0</td>\n      <td>0</td>\n      <td>0</td>\n      <td>0</td>\n    </tr>\n    <tr>\n      <th>2018-12-31</th>\n      <td>24596</td>\n      <td>24596</td>\n      <td>24596</td>\n      <td>24596</td>\n      <td>24596</td>\n      <td>24596</td>\n      <td>24596</td>\n      <td>24596</td>\n      <td>24596</td>\n      <td>24517</td>\n      <td>22701</td>\n      <td>24596</td>\n      <td>24596</td>\n      <td>22692</td>\n      <td>22701</td>\n      <td>24596</td>\n      <td>24596</td>\n      <td>24596</td>\n      <td>0</td>\n      <td>24596</td>\n      <td>24596</td>\n      <td>24596</td>\n      <td>24596</td>\n      <td>24596</td>\n      <td>0</td>\n      <td>0</td>\n      <td>24596</td>\n    </tr>\n    <tr>\n      <th>2019-12-31</th>\n      <td>19246</td>\n      <td>19246</td>\n      <td>26804</td>\n      <td>26804</td>\n      <td>26804</td>\n      <td>26804</td>\n      <td>26804</td>\n      <td>26804</td>\n      <td>26804</td>\n      <td>26765</td>\n      <td>25216</td>\n      <td>26804</td>\n      <td>26804</td>\n      <td>24718</td>\n      <td>25915</td>\n      <td>26804</td>\n      <td>26804</td>\n      <td>26804</td>\n      <td>26804</td>\n      <td>26804</td>\n      <td>26804</td>\n      <td>26804</td>\n      <td>26804</td>\n      <td>26804</td>\n      <td>0</td>\n      <td>4271</td>\n      <td>26804</td>\n    </tr>\n  </tbody>\n</table>\n</div>"
     },
     "metadata": {},
     "execution_count": 156
    }
   ],
   "source": [
    "ag_df[ag_df['radicado'].isin(am_df['radicado'])].groupby(pd.Grouper(key='fecha',freq='Y')).count()"
   ]
  },
  {
   "cell_type": "markdown",
   "metadata": {},
   "source": [
    "## How did you merge the two DataFrames (aggregated data from 2014-2019 and accidentalidad.csv)"
   ]
  },
  {
   "cell_type": "code",
   "execution_count": 28,
   "metadata": {
    "tags": []
   },
   "outputs": [
    {
     "output_type": "stream",
     "name": "stdout",
     "text": "0           False\n1            True\n2            True\n3           False\n4            True\n5            True\n6            True\n7            True\n8            True\n9            True\n10           True\n11           True\n12           True\n13           True\n14           True\n15           True\n16           True\n17           True\nfecha        True\n19           True\n20           True\n21           True\n22           True\nradicado     True\ndtype: bool\nx                 True\ny                 True\nobjectid         False\nradicado          True\nfecha            False\nhora             False\ndia              False\nperiodo          False\nclase             True\ndireccion        False\ndireccion_enc     True\ncbml              True\ntipo_geocod      False\ngravedad         False\nbarrio            True\ncomuna            True\ndiseno            True\ndia_nombre       False\nmes              False\nmes_nombre        True\nx_magnamed       False\ny_magnamed       False\nlongitud         False\nlatitud          False\nfile             False\nshape             True\ndtype: bool\nNRO_RADICADO          False\nAÑO_ACCIDENTE         False\nFECHA_ACCIDENTE       False\nHORA_ACCIDENTE        False\nCLASE_ACCIDENTE        True\nGRAVEDAD_ACCIDENTE    False\nDIRECCION              True\nZONA                  False\nDiseño Vía            False\ndtype: bool\n"
    }
   ],
   "source": [
    "print(a_df.isna().any())\n",
    "print(ag_df.isna().any())\n",
    "print(am_df.isna().any())\n"
   ]
  },
  {
   "cell_type": "code",
   "execution_count": 112,
   "metadata": {},
   "outputs": [
    {
     "output_type": "execute_result",
     "data": {
      "text/plain": "               x         y  objectid radicado                   fecha  \\\n39496 -75.561594  6.293715    546224      NaN  2017/12/21 00:00:00+00   \n40150 -75.578129  6.247262    546941      NaN  2017/09/06 00:00:00+00   \n37075 -75.564198  6.261494    683301      NaN  2018/05/07 00:00:00+00   \n37076 -75.546095  6.271341    683302      NaN  2018/11/01 00:00:00+00   \n37077 -75.593598  6.270184    683303      NaN  2018/12/26 00:00:00+00   \n\n           hora  dia  periodo      clase               direccion  \\\n39496  09:58:00   21     2017  Atropello      CR 52 CL 100  - 75   \n40150  05:45:00    6     2017  Atropello  CL 44 entre CR 59 y 60   \n37075  06:00:00    7     2018     Choque             CR 51 CL 64   \n37076  07:40:00    1     2018     Choque        CL 80 CR 32 - 82   \n37077  12:30:00   26     2018     Choque          CL 59 CR 78 AA   \n\n                    direccion_enc         cbml                tipo_geocod  \\\n39496    CR  052   100  075 00000  02100090113  Nomenclatura con Interior   \n40150    CL  044   59,  060 00000         1008                 Malla vial   \n37075    CR  051   064  000 00000         1001                 Malla vial   \n37076    CL  080   032  082 00000  03040160010      Catastro con Interior   \n37077  CL  059   078 AA 000 00000         1114                 Malla vial   \n\n      gravedad         barrio            comuna diseno dia_nombre  mes  \\\n39496   MUERTO     Santa Cruz        Santa Cruz    NaN  JUEVES      12   \n40150   MUERTO  La Candelaria  Corazón de Jesús    NaN  MIÉRCOLES    9   \n37075   MUERTO          Prado     La Candelaria    NaN  LUNES        5   \n37076   MUERTO     Santa Inés          Manrique    NaN  JUEVES      11   \n37077   MUERTO    Los Colores  Laureles Estadio    NaN  MIÉRCOLES   12   \n\n      mes_nombre  x_magnamed  y_magnamed   longitud   latitud  \\\n39496        NaN   835743.14  1187952.15 -75.561594  6.293715   \n40150        NaN   833912.85  1182813.77 -75.578129  6.247262   \n37075        NaN   835454.94  1184388.09 -75.564198  6.261494   \n37076        NaN   837458.56  1185477.35 -75.546095  6.271341   \n37077        NaN   832200.75  1185349.38 -75.593598  6.270184   \n\n                                         file  shape  \n39496  Accidentalidadgeorreferenciada2017.csv    NaN  \n40150  Accidentalidadgeorreferenciada2017.csv    NaN  \n37075  Accidentalidadgeorreferenciada2018.csv    NaN  \n37076  Accidentalidadgeorreferenciada2018.csv    NaN  \n37077  Accidentalidadgeorreferenciada2018.csv    NaN  ",
      "text/html": "<div>\n<style scoped>\n    .dataframe tbody tr th:only-of-type {\n        vertical-align: middle;\n    }\n\n    .dataframe tbody tr th {\n        vertical-align: top;\n    }\n\n    .dataframe thead th {\n        text-align: right;\n    }\n</style>\n<table border=\"1\" class=\"dataframe\">\n  <thead>\n    <tr style=\"text-align: right;\">\n      <th></th>\n      <th>x</th>\n      <th>y</th>\n      <th>objectid</th>\n      <th>radicado</th>\n      <th>fecha</th>\n      <th>hora</th>\n      <th>dia</th>\n      <th>periodo</th>\n      <th>clase</th>\n      <th>direccion</th>\n      <th>direccion_enc</th>\n      <th>cbml</th>\n      <th>tipo_geocod</th>\n      <th>gravedad</th>\n      <th>barrio</th>\n      <th>comuna</th>\n      <th>diseno</th>\n      <th>dia_nombre</th>\n      <th>mes</th>\n      <th>mes_nombre</th>\n      <th>x_magnamed</th>\n      <th>y_magnamed</th>\n      <th>longitud</th>\n      <th>latitud</th>\n      <th>file</th>\n      <th>shape</th>\n    </tr>\n  </thead>\n  <tbody>\n    <tr>\n      <th>39496</th>\n      <td>-75.561594</td>\n      <td>6.293715</td>\n      <td>546224</td>\n      <td>NaN</td>\n      <td>2017/12/21 00:00:00+00</td>\n      <td>09:58:00</td>\n      <td>21</td>\n      <td>2017</td>\n      <td>Atropello</td>\n      <td>CR 52 CL 100  - 75</td>\n      <td>CR  052   100  075 00000</td>\n      <td>02100090113</td>\n      <td>Nomenclatura con Interior</td>\n      <td>MUERTO</td>\n      <td>Santa Cruz</td>\n      <td>Santa Cruz</td>\n      <td>NaN</td>\n      <td>JUEVES</td>\n      <td>12</td>\n      <td>NaN</td>\n      <td>835743.14</td>\n      <td>1187952.15</td>\n      <td>-75.561594</td>\n      <td>6.293715</td>\n      <td>Accidentalidadgeorreferenciada2017.csv</td>\n      <td>NaN</td>\n    </tr>\n    <tr>\n      <th>40150</th>\n      <td>-75.578129</td>\n      <td>6.247262</td>\n      <td>546941</td>\n      <td>NaN</td>\n      <td>2017/09/06 00:00:00+00</td>\n      <td>05:45:00</td>\n      <td>6</td>\n      <td>2017</td>\n      <td>Atropello</td>\n      <td>CL 44 entre CR 59 y 60</td>\n      <td>CL  044   59,  060 00000</td>\n      <td>1008</td>\n      <td>Malla vial</td>\n      <td>MUERTO</td>\n      <td>La Candelaria</td>\n      <td>Corazón de Jesús</td>\n      <td>NaN</td>\n      <td>MIÉRCOLES</td>\n      <td>9</td>\n      <td>NaN</td>\n      <td>833912.85</td>\n      <td>1182813.77</td>\n      <td>-75.578129</td>\n      <td>6.247262</td>\n      <td>Accidentalidadgeorreferenciada2017.csv</td>\n      <td>NaN</td>\n    </tr>\n    <tr>\n      <th>37075</th>\n      <td>-75.564198</td>\n      <td>6.261494</td>\n      <td>683301</td>\n      <td>NaN</td>\n      <td>2018/05/07 00:00:00+00</td>\n      <td>06:00:00</td>\n      <td>7</td>\n      <td>2018</td>\n      <td>Choque</td>\n      <td>CR 51 CL 64</td>\n      <td>CR  051   064  000 00000</td>\n      <td>1001</td>\n      <td>Malla vial</td>\n      <td>MUERTO</td>\n      <td>Prado</td>\n      <td>La Candelaria</td>\n      <td>NaN</td>\n      <td>LUNES</td>\n      <td>5</td>\n      <td>NaN</td>\n      <td>835454.94</td>\n      <td>1184388.09</td>\n      <td>-75.564198</td>\n      <td>6.261494</td>\n      <td>Accidentalidadgeorreferenciada2018.csv</td>\n      <td>NaN</td>\n    </tr>\n    <tr>\n      <th>37076</th>\n      <td>-75.546095</td>\n      <td>6.271341</td>\n      <td>683302</td>\n      <td>NaN</td>\n      <td>2018/11/01 00:00:00+00</td>\n      <td>07:40:00</td>\n      <td>1</td>\n      <td>2018</td>\n      <td>Choque</td>\n      <td>CL 80 CR 32 - 82</td>\n      <td>CL  080   032  082 00000</td>\n      <td>03040160010</td>\n      <td>Catastro con Interior</td>\n      <td>MUERTO</td>\n      <td>Santa Inés</td>\n      <td>Manrique</td>\n      <td>NaN</td>\n      <td>JUEVES</td>\n      <td>11</td>\n      <td>NaN</td>\n      <td>837458.56</td>\n      <td>1185477.35</td>\n      <td>-75.546095</td>\n      <td>6.271341</td>\n      <td>Accidentalidadgeorreferenciada2018.csv</td>\n      <td>NaN</td>\n    </tr>\n    <tr>\n      <th>37077</th>\n      <td>-75.593598</td>\n      <td>6.270184</td>\n      <td>683303</td>\n      <td>NaN</td>\n      <td>2018/12/26 00:00:00+00</td>\n      <td>12:30:00</td>\n      <td>26</td>\n      <td>2018</td>\n      <td>Choque</td>\n      <td>CL 59 CR 78 AA</td>\n      <td>CL  059   078 AA 000 00000</td>\n      <td>1114</td>\n      <td>Malla vial</td>\n      <td>MUERTO</td>\n      <td>Los Colores</td>\n      <td>Laureles Estadio</td>\n      <td>NaN</td>\n      <td>MIÉRCOLES</td>\n      <td>12</td>\n      <td>NaN</td>\n      <td>832200.75</td>\n      <td>1185349.38</td>\n      <td>-75.593598</td>\n      <td>6.270184</td>\n      <td>Accidentalidadgeorreferenciada2018.csv</td>\n      <td>NaN</td>\n    </tr>\n  </tbody>\n</table>\n</div>"
     },
     "metadata": {},
     "execution_count": 112
    }
   ],
   "source": [
    "ag_df[ag_df.radicado.isna()] # check the nulls"
   ]
  },
  {
   "cell_type": "code",
   "execution_count": 113,
   "metadata": {},
   "outputs": [
    {
     "output_type": "execute_result",
     "data": {
      "text/plain": "Choque                170276\nOtro                   26585\nAtropello              24647\nCaida Ocupante         16419\nVolcamiento             8249\nCaída de Ocupante       5665\nIncendio                  32\nCaída Ocupante            16\nNaN                        6\nChoque                     3\nChoque y Atropello         1\nName: clase, dtype: int64"
     },
     "metadata": {},
     "execution_count": 113
    }
   ],
   "source": [
    "ag_df.clase.value_counts(dropna=False)"
   ]
  },
  {
   "cell_type": "code",
   "execution_count": 114,
   "metadata": {},
   "outputs": [
    {
     "output_type": "execute_result",
     "data": {
      "text/plain": "1019           6182\n0517           5246\n1507           5153\n1012           4988\n1105           4461\n               ... \n80004340062       1\n14220240062       1\n15100350002       1\n02030120001       1\n11140030016       1\nName: cbml, Length: 712, dtype: int64"
     },
     "metadata": {},
     "execution_count": 114
    }
   ],
   "source": [
    "ag_df.cbml.value_counts(dropna=False)"
   ]
  },
  {
   "cell_type": "code",
   "execution_count": 115,
   "metadata": {},
   "outputs": [
    {
     "output_type": "execute_result",
     "data": {
      "text/plain": "62196                    3\n1618580.0                2\n39226                    2\n1662064                  2\n1640023.0                2\n31435                    2\n1656231                  2\n1639346.0                2\n1639954.0                2\n58560                    2\n1647440.0                2\n58864                    2\n1647286.0                2\n1655403                  2\n48996                    2\n050016000206201523690    2\n1640118.0                2\n1640922.0                2\n1640356.0                2\n1638618.0                2\n1689154                  1\nName: radicado, dtype: int64"
     },
     "metadata": {},
     "execution_count": 115
    }
   ],
   "source": [
    "ag_df.radicado.value_counts()[0:21]"
   ]
  },
  {
   "cell_type": "code",
   "execution_count": 116,
   "metadata": {},
   "outputs": [
    {
     "output_type": "execute_result",
     "data": {
      "text/plain": "               x         y  objectid     radicado                   fecha  \\\n21533 -75.585424  6.241112    666622  1.63862e+06  2018/08/14 00:00:00+00   \n36260 -75.585424  6.241112    682426  1.63862e+06  2018/10/14 00:00:00+00   \n\n           hora  dia  periodo   clase      direccion  \\\n21533  05:35:00   14     2018  Choque  CR 66 CL 34 A   \n36260  05:35:00   14     2018  Choque  CR 66 CL 34 A   \n\n                    direccion_enc  cbml                      tipo_geocod  \\\n21533  CR  066   034 A  000 00000  1105  Malla vial aproximada: CR 66-35   \n36260  CR  066   034 A  000 00000  1105  Malla vial aproximada: CR 66-35   \n\n         gravedad              barrio            comuna        diseno  \\\n21533  SOLO DAÑOS  Los Conquistadores  Laureles Estadio  Tramo de via   \n36260  SOLO DAÑOS  Los Conquistadores  Laureles Estadio  Tramo de via   \n\n      dia_nombre  mes mes_nombre  x_magnamed  y_magnamed   longitud   latitud  \\\n21533  MARTES       8        NaN   833105.42  1182133.61 -75.585424  6.241112   \n36260  DOMINGO     10        NaN   833105.42  1182133.61 -75.585424  6.241112   \n\n                                         file  shape  \n21533  Accidentalidadgeorreferenciada2018.csv    NaN  \n36260  Accidentalidadgeorreferenciada2018.csv    NaN  ",
      "text/html": "<div>\n<style scoped>\n    .dataframe tbody tr th:only-of-type {\n        vertical-align: middle;\n    }\n\n    .dataframe tbody tr th {\n        vertical-align: top;\n    }\n\n    .dataframe thead th {\n        text-align: right;\n    }\n</style>\n<table border=\"1\" class=\"dataframe\">\n  <thead>\n    <tr style=\"text-align: right;\">\n      <th></th>\n      <th>x</th>\n      <th>y</th>\n      <th>objectid</th>\n      <th>radicado</th>\n      <th>fecha</th>\n      <th>hora</th>\n      <th>dia</th>\n      <th>periodo</th>\n      <th>clase</th>\n      <th>direccion</th>\n      <th>direccion_enc</th>\n      <th>cbml</th>\n      <th>tipo_geocod</th>\n      <th>gravedad</th>\n      <th>barrio</th>\n      <th>comuna</th>\n      <th>diseno</th>\n      <th>dia_nombre</th>\n      <th>mes</th>\n      <th>mes_nombre</th>\n      <th>x_magnamed</th>\n      <th>y_magnamed</th>\n      <th>longitud</th>\n      <th>latitud</th>\n      <th>file</th>\n      <th>shape</th>\n    </tr>\n  </thead>\n  <tbody>\n    <tr>\n      <th>21533</th>\n      <td>-75.585424</td>\n      <td>6.241112</td>\n      <td>666622</td>\n      <td>1.63862e+06</td>\n      <td>2018/08/14 00:00:00+00</td>\n      <td>05:35:00</td>\n      <td>14</td>\n      <td>2018</td>\n      <td>Choque</td>\n      <td>CR 66 CL 34 A</td>\n      <td>CR  066   034 A  000 00000</td>\n      <td>1105</td>\n      <td>Malla vial aproximada: CR 66-35</td>\n      <td>SOLO DAÑOS</td>\n      <td>Los Conquistadores</td>\n      <td>Laureles Estadio</td>\n      <td>Tramo de via</td>\n      <td>MARTES</td>\n      <td>8</td>\n      <td>NaN</td>\n      <td>833105.42</td>\n      <td>1182133.61</td>\n      <td>-75.585424</td>\n      <td>6.241112</td>\n      <td>Accidentalidadgeorreferenciada2018.csv</td>\n      <td>NaN</td>\n    </tr>\n    <tr>\n      <th>36260</th>\n      <td>-75.585424</td>\n      <td>6.241112</td>\n      <td>682426</td>\n      <td>1.63862e+06</td>\n      <td>2018/10/14 00:00:00+00</td>\n      <td>05:35:00</td>\n      <td>14</td>\n      <td>2018</td>\n      <td>Choque</td>\n      <td>CR 66 CL 34 A</td>\n      <td>CR  066   034 A  000 00000</td>\n      <td>1105</td>\n      <td>Malla vial aproximada: CR 66-35</td>\n      <td>SOLO DAÑOS</td>\n      <td>Los Conquistadores</td>\n      <td>Laureles Estadio</td>\n      <td>Tramo de via</td>\n      <td>DOMINGO</td>\n      <td>10</td>\n      <td>NaN</td>\n      <td>833105.42</td>\n      <td>1182133.61</td>\n      <td>-75.585424</td>\n      <td>6.241112</td>\n      <td>Accidentalidadgeorreferenciada2018.csv</td>\n      <td>NaN</td>\n    </tr>\n  </tbody>\n</table>\n</div>"
     },
     "metadata": {},
     "execution_count": 116
    }
   ],
   "source": [
    "ag_df[ag_df.radicado==1638618.0]"
   ]
  },
  {
   "cell_type": "code",
   "execution_count": 117,
   "metadata": {},
   "outputs": [
    {
     "output_type": "execute_result",
     "data": {
      "text/plain": "NaN          7\n1687153.0    3\n1687280.0    3\n1689208.0    3\n1687560.0    3\n1687158.0    3\n1687159.0    3\n1687162.0    3\n1687163.0    3\n62196        3\n1687164.0    3\n1687165.0    3\n1689064.0    3\n1687166.0    3\n1685159.0    3\n1687167.0    3\n1687169.0    3\n1687154.0    3\n1685140.0    3\n1687171.0    3\n1687292.0    3\n1685517.0    3\n1687136.0    3\n1685493.0    3\n1687138.0    3\n1687557.0    3\n1684827.0    3\n1687140.0    3\n1687144.0    3\n1688636.0    3\nName: radicado, dtype: int64"
     },
     "metadata": {},
     "execution_count": 117
    }
   ],
   "source": [
    "a_df.radicado.value_counts(dropna=False)[0:30]"
   ]
  },
  {
   "cell_type": "code",
   "execution_count": 118,
   "metadata": {},
   "outputs": [
    {
     "output_type": "execute_result",
     "data": {
      "text/plain": "                       timestamp  cbml  expediente  \\\n205150  2019-06-04T20:55:57.306Z  1105  A000846486   \n213113  2019-06-04T20:56:23.935Z  1105  A000846486   \n\n                           tipo_geocode               direccion_enc   clase  \\\n205150  Malla vial aproximada: CR 66-35  CR  066   034 A  000 00000  Choque   \n213113  Malla vial aproximada: CR 66-35  CR  066   034 A  000 00000  Choque   \n\n                           x_long_y_lat   mes  periodo            comuna  \\\n205150  [-75.5854551105, 6.24105317866]   8.0   2018.0  Laureles Estadio   \n213113  [-75.5854551105, 6.24105317866]  10.0   2018.0  Laureles Estadio   \n\n              incidente      direccion   operador  \\\n205150  [u'incidentes']  CR 66 CL 34 A  Operador2   \n213113  [u'incidentes']  CR 66 CL 34 A  Operador2   \n\n                                                     path num_comuna  \\\n205150  C:/ELK/logstash-6.5.1/data/Medata/Incidentes/I...         11   \n213113  C:/ELK/logstash-6.5.1/data/Medata/Incidentes/I...         11   \n\n              diseno              barrio    gravedad  \\\n205150  Tramo de via  Los Conquistadores  Solo daños   \n213113  Tramo de via  Los Conquistadores  Solo daños   \n\n                           fecha  y_magnamed   x_magnet  version        id  \\\n205150  2018-08-14T22:35:00.000Z  1182133.61  833105.42      1.0  211762.0   \n213113  2018-10-14T22:35:00.000Z  1182133.61  833105.42      1.0  219306.0   \n\n       radicado  \n205150  1638618  \n213113  1638618  ",
      "text/html": "<div>\n<style scoped>\n    .dataframe tbody tr th:only-of-type {\n        vertical-align: middle;\n    }\n\n    .dataframe tbody tr th {\n        vertical-align: top;\n    }\n\n    .dataframe thead th {\n        text-align: right;\n    }\n</style>\n<table border=\"1\" class=\"dataframe\">\n  <thead>\n    <tr style=\"text-align: right;\">\n      <th></th>\n      <th>timestamp</th>\n      <th>cbml</th>\n      <th>expediente</th>\n      <th>tipo_geocode</th>\n      <th>direccion_enc</th>\n      <th>clase</th>\n      <th>x_long_y_lat</th>\n      <th>mes</th>\n      <th>periodo</th>\n      <th>comuna</th>\n      <th>incidente</th>\n      <th>direccion</th>\n      <th>operador</th>\n      <th>path</th>\n      <th>num_comuna</th>\n      <th>diseno</th>\n      <th>barrio</th>\n      <th>gravedad</th>\n      <th>fecha</th>\n      <th>y_magnamed</th>\n      <th>x_magnet</th>\n      <th>version</th>\n      <th>id</th>\n      <th>radicado</th>\n    </tr>\n  </thead>\n  <tbody>\n    <tr>\n      <th>205150</th>\n      <td>2019-06-04T20:55:57.306Z</td>\n      <td>1105</td>\n      <td>A000846486</td>\n      <td>Malla vial aproximada: CR 66-35</td>\n      <td>CR  066   034 A  000 00000</td>\n      <td>Choque</td>\n      <td>[-75.5854551105, 6.24105317866]</td>\n      <td>8.0</td>\n      <td>2018.0</td>\n      <td>Laureles Estadio</td>\n      <td>[u'incidentes']</td>\n      <td>CR 66 CL 34 A</td>\n      <td>Operador2</td>\n      <td>C:/ELK/logstash-6.5.1/data/Medata/Incidentes/I...</td>\n      <td>11</td>\n      <td>Tramo de via</td>\n      <td>Los Conquistadores</td>\n      <td>Solo daños</td>\n      <td>2018-08-14T22:35:00.000Z</td>\n      <td>1182133.61</td>\n      <td>833105.42</td>\n      <td>1.0</td>\n      <td>211762.0</td>\n      <td>1638618</td>\n    </tr>\n    <tr>\n      <th>213113</th>\n      <td>2019-06-04T20:56:23.935Z</td>\n      <td>1105</td>\n      <td>A000846486</td>\n      <td>Malla vial aproximada: CR 66-35</td>\n      <td>CR  066   034 A  000 00000</td>\n      <td>Choque</td>\n      <td>[-75.5854551105, 6.24105317866]</td>\n      <td>10.0</td>\n      <td>2018.0</td>\n      <td>Laureles Estadio</td>\n      <td>[u'incidentes']</td>\n      <td>CR 66 CL 34 A</td>\n      <td>Operador2</td>\n      <td>C:/ELK/logstash-6.5.1/data/Medata/Incidentes/I...</td>\n      <td>11</td>\n      <td>Tramo de via</td>\n      <td>Los Conquistadores</td>\n      <td>Solo daños</td>\n      <td>2018-10-14T22:35:00.000Z</td>\n      <td>1182133.61</td>\n      <td>833105.42</td>\n      <td>1.0</td>\n      <td>219306.0</td>\n      <td>1638618</td>\n    </tr>\n  </tbody>\n</table>\n</div>"
     },
     "metadata": {},
     "execution_count": 118
    }
   ],
   "source": [
    "df[df.radicado==\"1638618\"]"
   ]
  },
  {
   "cell_type": "code",
   "execution_count": 119,
   "metadata": {},
   "outputs": [
    {
     "output_type": "execute_result",
     "data": {
      "text/plain": "                       timestamp cbml  expediente tipo_geocode  \\\n203433  2019-06-04T20:55:58.641Z  402  A000846480   Malla vial   \n\n                   direccion_enc   clase                     x_long_y_lat  \\\n203433  CR  051   092  000 00000  Choque  [-75.5611117649, 6.28348983493]   \n\n        mes  periodo    comuna        incidente    direccion   operador  \\\n203433  8.0   2018.0  Aranjuez  [u'incidentes']  CR 51 CL 92  Operador2   \n\n                                                     path num_comuna  \\\n203433  C:/ELK/logstash-6.5.1/data/Medata/Incidentes/I...         04   \n\n              diseno      barrio    gravedad                     fecha  \\\n203433  Tramo de via  San Isidro  Solo daños  2018-08-15T20:00:00.000Z   \n\n        y_magnamed   x_magnet  version        id radicado  \n203433  1186820.47  835813.52      1.0  211882.0  1638617  ",
      "text/html": "<div>\n<style scoped>\n    .dataframe tbody tr th:only-of-type {\n        vertical-align: middle;\n    }\n\n    .dataframe tbody tr th {\n        vertical-align: top;\n    }\n\n    .dataframe thead th {\n        text-align: right;\n    }\n</style>\n<table border=\"1\" class=\"dataframe\">\n  <thead>\n    <tr style=\"text-align: right;\">\n      <th></th>\n      <th>timestamp</th>\n      <th>cbml</th>\n      <th>expediente</th>\n      <th>tipo_geocode</th>\n      <th>direccion_enc</th>\n      <th>clase</th>\n      <th>x_long_y_lat</th>\n      <th>mes</th>\n      <th>periodo</th>\n      <th>comuna</th>\n      <th>incidente</th>\n      <th>direccion</th>\n      <th>operador</th>\n      <th>path</th>\n      <th>num_comuna</th>\n      <th>diseno</th>\n      <th>barrio</th>\n      <th>gravedad</th>\n      <th>fecha</th>\n      <th>y_magnamed</th>\n      <th>x_magnet</th>\n      <th>version</th>\n      <th>id</th>\n      <th>radicado</th>\n    </tr>\n  </thead>\n  <tbody>\n    <tr>\n      <th>203433</th>\n      <td>2019-06-04T20:55:58.641Z</td>\n      <td>402</td>\n      <td>A000846480</td>\n      <td>Malla vial</td>\n      <td>CR  051   092  000 00000</td>\n      <td>Choque</td>\n      <td>[-75.5611117649, 6.28348983493]</td>\n      <td>8.0</td>\n      <td>2018.0</td>\n      <td>Aranjuez</td>\n      <td>[u'incidentes']</td>\n      <td>CR 51 CL 92</td>\n      <td>Operador2</td>\n      <td>C:/ELK/logstash-6.5.1/data/Medata/Incidentes/I...</td>\n      <td>04</td>\n      <td>Tramo de via</td>\n      <td>San Isidro</td>\n      <td>Solo daños</td>\n      <td>2018-08-15T20:00:00.000Z</td>\n      <td>1186820.47</td>\n      <td>835813.52</td>\n      <td>1.0</td>\n      <td>211882.0</td>\n      <td>1638617</td>\n    </tr>\n  </tbody>\n</table>\n</div>"
     },
     "metadata": {},
     "execution_count": 119
    }
   ],
   "source": [
    "df[df.radicado==\"1638617\"]"
   ]
  },
  {
   "cell_type": "markdown",
   "metadata": {},
   "source": [
    "We found some duplicates values in \"radicado\" field so we procedure to drop them."
   ]
  },
  {
   "cell_type": "code",
   "execution_count": 120,
   "metadata": {},
   "outputs": [],
   "source": [
    "df = df.sort_values(by=[\"radicado\", \"id\"])\n",
    "df.drop_duplicates(subset=[\"radicado\"], keep=\"first\", inplace=True)"
   ]
  },
  {
   "cell_type": "markdown",
   "metadata": {},
   "source": [
    "In order to have date and time in different columns we decided to derivate new columns from \"fecha\" and have separet columns for the date and the hour."
   ]
  },
  {
   "cell_type": "code",
   "execution_count": 121,
   "metadata": {},
   "outputs": [],
   "source": [
    "df[\"fecha_incidente\"] = df.fecha.str[0:10]\n",
    "df[\"hora_incidente\"] = df.fecha.str[11:13]"
   ]
  },
  {
   "cell_type": "markdown",
   "metadata": {},
   "source": []
  },
  {
   "cell_type": "code",
   "execution_count": 122,
   "metadata": {},
   "outputs": [],
   "source": [
    "# drop duplicates by \"radicado\", \"objectid\"\n",
    "agg_df = agg_df.sort_values(by=[\"radicado\", \"objectid\"])\n",
    "agg_df.drop_duplicates(subset=[\"radicado\"], keep=\"first\", inplace=True)\n",
    "agg_df = agg_df[(~agg_df.radicado.isna()) & (agg_df.radicado != \"0\")]"
   ]
  },
  {
   "cell_type": "code",
   "execution_count": 123,
   "metadata": {},
   "outputs": [
    {
     "output_type": "execute_result",
     "data": {
      "text/plain": "262153    1.67637e+06\n262150    1.67644e+06\n262168    1.67646e+06\n262162    1.67646e+06\n262160    1.67647e+06\n             ...     \n143894           9769\n9909             9778\n12090            9780\n183864           9982\n172418            NaN\nName: radicado, Length: 261876, dtype: object"
     },
     "metadata": {},
     "execution_count": 123
    }
   ],
   "source": [
    "df.radicado"
   ]
  },
  {
   "cell_type": "code",
   "execution_count": 124,
   "metadata": {},
   "outputs": [
    {
     "output_type": "execute_result",
     "data": {
      "text/plain": "                       timestamp  cbml  expediente tipo_geocode  \\\n172418  2019-06-04T20:54:26.357Z  1008  A000665813   Malla vial   \n\n                   direccion_enc      clase                     x_long_y_lat  \\\n172418  CL  044   59,  060 00000  Atropello  [-75.5781789259, 6.24722232125]   \n\n        mes  periodo         comuna        incidente               direccion  \\\n172418  9.0   2017.0  La Candelaria  [u'incidentes']  CL 44 entre CR 59 y 60   \n\n         operador                                               path  \\\n172418  Operador2  C:/ELK/logstash-6.5.1/data/Medata/Incidentes/I...   \n\n       num_comuna diseno            barrio     gravedad  \\\n172418         10    NaN  Corazón de Jesús  Con muertos   \n\n                           fecha  y_magnamed   x_magnet  version        id  \\\n172418  2017-09-06T10:45:00.000Z  1182813.77  833912.85      1.0  185160.0   \n\n       radicado fecha_incidente hora_incidente  \n172418      NaN      2017-09-06             10  ",
      "text/html": "<div>\n<style scoped>\n    .dataframe tbody tr th:only-of-type {\n        vertical-align: middle;\n    }\n\n    .dataframe tbody tr th {\n        vertical-align: top;\n    }\n\n    .dataframe thead th {\n        text-align: right;\n    }\n</style>\n<table border=\"1\" class=\"dataframe\">\n  <thead>\n    <tr style=\"text-align: right;\">\n      <th></th>\n      <th>timestamp</th>\n      <th>cbml</th>\n      <th>expediente</th>\n      <th>tipo_geocode</th>\n      <th>direccion_enc</th>\n      <th>clase</th>\n      <th>x_long_y_lat</th>\n      <th>mes</th>\n      <th>periodo</th>\n      <th>comuna</th>\n      <th>incidente</th>\n      <th>direccion</th>\n      <th>operador</th>\n      <th>path</th>\n      <th>num_comuna</th>\n      <th>diseno</th>\n      <th>barrio</th>\n      <th>gravedad</th>\n      <th>fecha</th>\n      <th>y_magnamed</th>\n      <th>x_magnet</th>\n      <th>version</th>\n      <th>id</th>\n      <th>radicado</th>\n      <th>fecha_incidente</th>\n      <th>hora_incidente</th>\n    </tr>\n  </thead>\n  <tbody>\n    <tr>\n      <th>172418</th>\n      <td>2019-06-04T20:54:26.357Z</td>\n      <td>1008</td>\n      <td>A000665813</td>\n      <td>Malla vial</td>\n      <td>CL  044   59,  060 00000</td>\n      <td>Atropello</td>\n      <td>[-75.5781789259, 6.24722232125]</td>\n      <td>9.0</td>\n      <td>2017.0</td>\n      <td>La Candelaria</td>\n      <td>[u'incidentes']</td>\n      <td>CL 44 entre CR 59 y 60</td>\n      <td>Operador2</td>\n      <td>C:/ELK/logstash-6.5.1/data/Medata/Incidentes/I...</td>\n      <td>10</td>\n      <td>NaN</td>\n      <td>Corazón de Jesús</td>\n      <td>Con muertos</td>\n      <td>2017-09-06T10:45:00.000Z</td>\n      <td>1182813.77</td>\n      <td>833912.85</td>\n      <td>1.0</td>\n      <td>185160.0</td>\n      <td>NaN</td>\n      <td>2017-09-06</td>\n      <td>10</td>\n    </tr>\n  </tbody>\n</table>\n</div>"
     },
     "metadata": {},
     "execution_count": 124
    }
   ],
   "source": [
    "df[df.radicado.isna()] # check the number of nulls"
   ]
  },
  {
   "cell_type": "code",
   "execution_count": 125,
   "metadata": {},
   "outputs": [],
   "source": [
    "agg_df = agg_df[~agg_df.radicado.isna()]\n",
    "df=df[~df.radicado.isna()]\n",
    "dtype = dict(radicado=str)\n",
    "agg_df.radicado = agg_df.radicado.astype(dtype)\n",
    "df.radicado = df.radicado.astype(dtype)\n",
    "agg_df.radicado = agg_df.radicado.str.strip()\n",
    "agg_df.radicado = agg_df.radicado.str.replace(\"(\\d+)(.0)*\",\"\\\\1\") #.dtype #.sort_values(by=\"radicado\", ascending=False)\n",
    "agg_df.radicado = agg_df.radicado.str.replace(\"^(0+)(\\d+)\", \"\\\\2\")\n",
    "df.radicado = df.radicado.str.strip()\n",
    "df.radicado = df.radicado.str.replace(\"(\\d+)(.0)*\",\"\\\\1\")"
   ]
  },
  {
   "cell_type": "code",
   "execution_count": 126,
   "metadata": {},
   "outputs": [
    {
     "output_type": "execute_result",
     "data": {
      "text/plain": "'2019-10-01T04:20:00.000Z'"
     },
     "metadata": {},
     "execution_count": 126
    }
   ],
   "source": [
    "df.fecha.max()"
   ]
  },
  {
   "cell_type": "code",
   "execution_count": 131,
   "metadata": {},
   "outputs": [
    {
     "output_type": "execute_result",
     "data": {
      "text/plain": "                       timestamp         cbml  expediente  \\\n262153  2019-11-07T16:07:39.311Z          103  A001002056   \n262150  2019-11-07T16:07:39.311Z         1102  A001002214   \n262168  2019-11-07T16:07:39.312Z          607  A001002310   \n262162  2019-11-07T16:07:39.312Z          312  A001002302   \n262160  2019-11-07T16:07:39.312Z          NaN  A001002169   \n...                          ...          ...         ...   \n12089   2019-06-04T20:44:08.013Z  3.02021e+09    A1485619   \n143894  2019-06-04T20:53:18.109Z  6.08101e+09  A000497560   \n9909    2019-06-04T20:44:08.014Z  1.50304e+10    A1485792   \n12090   2019-06-04T20:44:08.014Z  1.62002e+10    A1485790   \n183864  2019-06-04T20:54:47.826Z          NaN  A000773529   \n\n                     tipo_geocode                 direccion_enc      clase  \\\n262153                 Malla vial  CR  043 A   110 B  000 00000  Atropello   \n262150                 Malla vial    CR  066   048 D  000 00000     Choque   \n262168                 Malla vial    CR  083   091 A  000 00000     Choque   \n262162                 Malla vial  CR  023 B   084 B  000 00000     Choque   \n262160                 No Ubicada      CR  067   025  000 00000     Choque   \n...                           ...                           ...        ...   \n12089       Catastro con Interior    CR  039   085 A  035 00000     Choque   \n143894      Catastro con Interior    CR  083   101 A  021 00000  Atropello   \n9909        Catastro con Interior    CL  025   065 C  050 00000  Atropello   \n12090   Nomenclatura con Interior      CL  033   078  177 00000  Atropello   \n183864                 No Ubicada      CR  063   091  000 00000     Choque   \n\n                           x_long_y_lat  mes  periodo            comuna  \\\n262153  [-75.5478922382, 6.29966416516]  6.0   2019.0           Popular   \n262150  [-75.5829966564, 6.25459513351]  6.0   2019.0  Laureles Estadio   \n262168  [-75.5849391248, 6.28861482868]  7.0   2019.0   Doce de Octubre   \n262162  [-75.5378038865, 6.27686386215]  7.0   2019.0          Manrique   \n262160  [-75.7037762763, 6.22141524356]  7.0   2019.0           Sin Inf   \n...                                 ...  ...      ...               ...   \n12089   [-75.5477362391, 6.27745474338]  2.0   2014.0          Manrique   \n143894  [-75.5821690996, 6.30114194037]  2.0   2017.0   Doce de Octubre   \n9909    [-75.5855316677, 6.22630141567]  2.0   2014.0          Guayabal   \n12090   [-75.6000288989, 6.23861225192]  2.0   2014.0             Belén   \n183864  [-75.5692625703, 6.28324794971]  2.0   2018.0          Castilla   \n\n              incidente            direccion   operador  \\\n262153  [u'incidentes']     CR 43 A CL 110 B  Operador2   \n262150  [u'incidentes']        CR 66 CL 48 D  Operador2   \n262168  [u'incidentes']        CR 83 CL 91 A  Operador2   \n262162  [u'incidentes']      CR 23 B CL 84 B  Operador2   \n262160  [u'incidentes']          CR 67 CL 25  Operador2   \n...                 ...                  ...        ...   \n12089   [u'incidentes']   CR 39 CL 85 A - 35  Operador2   \n143894  [u'incidentes']  CR 83 CL 101 A - 21  Operador2   \n9909    [u'incidentes']   CL 25 CR 65 C - 50  Operador2   \n12090   [u'incidentes']    CL 33 CR 78 - 177  Operador2   \n183864  [u'incidentes']          CR 63 CL 91  Operador2   \n\n                                                     path  num_comuna  \\\n262153  C:/ELK/logstash-6.5.1/data/Medata/Incidentes/I...          01   \n262150  C:/ELK/logstash-6.5.1/data/Medata/Incidentes/I...          11   \n262168  C:/ELK/logstash-6.5.1/data/Medata/Incidentes/I...          06   \n262162  C:/ELK/logstash-6.5.1/data/Medata/Incidentes/I...          03   \n262160  C:/ELK/logstash-6.5.1/data/Medata/Incidentes/I...  No ubicada   \n...                                                   ...         ...   \n12089   C:/ELK/logstash-6.5.1/data/Medata/Incidentes/I...          03   \n143894  C:/ELK/logstash-6.5.1/data/Medata/Incidentes/I...          06   \n9909    C:/ELK/logstash-6.5.1/data/Medata/Incidentes/I...          15   \n12090   C:/ELK/logstash-6.5.1/data/Medata/Incidentes/I...          16   \n183864  C:/ELK/logstash-6.5.1/data/Medata/Incidentes/I...     Sin Inf   \n\n               diseno                  barrio     gravedad  \\\n262153   Tramo de via                 Popular  Con heridos   \n262150  Lote o Predio            Suramericana   Solo daños   \n262168   Tramo de via                 Kennedy   Solo daños   \n262162   Tramo de via                 Oriente   Solo daños   \n262160   Tramo de via                     NaN  Con heridos   \n...               ...                     ...          ...   \n12089             NaN             Las Granjas  Con muertos   \n143894            NaN                 Picacho  Con muertos   \n9909              NaN                Trinidad  Con muertos   \n12090             NaN  El Nogal-Los Almendros  Con muertos   \n183864            NaN               Oleoducto  Con muertos   \n\n                           fecha    y_magnamed       x_magnet  version  \\\n262153  2019-07-01T02:50:00.000Z  1.188606e+06  837281.840000      1.0   \n262150  2019-07-01T01:40:00.000Z  1.183631e+06  833381.860000      1.0   \n262168  2019-07-01T23:20:00.000Z  1.187395e+06  833177.650000      1.0   \n262162  2019-07-01T20:30:00.000Z  1.186080e+06  838391.450000      1.0   \n262160  2019-07-01T16:40:00.000Z  1.180000e+06  820000.000000      1.0   \n...                          ...           ...            ...      ...   \n12089   2014-02-24T08:03:00.000Z  1.186149e+06  837292.200000      1.0   \n143894  2017-02-12T01:30:00.000Z  1.188780e+06  833488.260000      1.0   \n9909    2014-02-24T12:30:00.000Z  1.180502e+06  833092.280000      1.0   \n12090   2014-02-24T12:15:00.000Z  1.181868e+06  831491.290000      1.0   \n183864  2018-02-28T15:10:00.000Z  1.186796e+06  834911.216066      1.0   \n\n              id radicado fecha_incidente hora_incidente  \n262153   10647.0  1676369      2019-07-01             02  \n262150   10641.0  1676437      2019-07-01             01  \n262168   10699.0  1676456      2019-07-01             23  \n262162   10686.0  1676461      2019-07-01             20  \n262160   10674.0  1676468      2019-07-01             16  \n...          ...      ...             ...            ...  \n12089     6512.0     9766      2014-02-24             08  \n143894  165498.0     9769      2017-02-12             01  \n9909      6513.0     9778      2014-02-24             12  \n12090     6515.0     9780      2014-02-24             12  \n183864  191784.0     9982      2018-02-28             15  \n\n[261875 rows x 26 columns]",
      "text/html": "<div>\n<style scoped>\n    .dataframe tbody tr th:only-of-type {\n        vertical-align: middle;\n    }\n\n    .dataframe tbody tr th {\n        vertical-align: top;\n    }\n\n    .dataframe thead th {\n        text-align: right;\n    }\n</style>\n<table border=\"1\" class=\"dataframe\">\n  <thead>\n    <tr style=\"text-align: right;\">\n      <th></th>\n      <th>timestamp</th>\n      <th>cbml</th>\n      <th>expediente</th>\n      <th>tipo_geocode</th>\n      <th>direccion_enc</th>\n      <th>clase</th>\n      <th>x_long_y_lat</th>\n      <th>mes</th>\n      <th>periodo</th>\n      <th>comuna</th>\n      <th>incidente</th>\n      <th>direccion</th>\n      <th>operador</th>\n      <th>path</th>\n      <th>num_comuna</th>\n      <th>diseno</th>\n      <th>barrio</th>\n      <th>gravedad</th>\n      <th>fecha</th>\n      <th>y_magnamed</th>\n      <th>x_magnet</th>\n      <th>version</th>\n      <th>id</th>\n      <th>radicado</th>\n      <th>fecha_incidente</th>\n      <th>hora_incidente</th>\n    </tr>\n  </thead>\n  <tbody>\n    <tr>\n      <th>262153</th>\n      <td>2019-11-07T16:07:39.311Z</td>\n      <td>103</td>\n      <td>A001002056</td>\n      <td>Malla vial</td>\n      <td>CR  043 A   110 B  000 00000</td>\n      <td>Atropello</td>\n      <td>[-75.5478922382, 6.29966416516]</td>\n      <td>6.0</td>\n      <td>2019.0</td>\n      <td>Popular</td>\n      <td>[u'incidentes']</td>\n      <td>CR 43 A CL 110 B</td>\n      <td>Operador2</td>\n      <td>C:/ELK/logstash-6.5.1/data/Medata/Incidentes/I...</td>\n      <td>01</td>\n      <td>Tramo de via</td>\n      <td>Popular</td>\n      <td>Con heridos</td>\n      <td>2019-07-01T02:50:00.000Z</td>\n      <td>1.188606e+06</td>\n      <td>837281.840000</td>\n      <td>1.0</td>\n      <td>10647.0</td>\n      <td>1676369</td>\n      <td>2019-07-01</td>\n      <td>02</td>\n    </tr>\n    <tr>\n      <th>262150</th>\n      <td>2019-11-07T16:07:39.311Z</td>\n      <td>1102</td>\n      <td>A001002214</td>\n      <td>Malla vial</td>\n      <td>CR  066   048 D  000 00000</td>\n      <td>Choque</td>\n      <td>[-75.5829966564, 6.25459513351]</td>\n      <td>6.0</td>\n      <td>2019.0</td>\n      <td>Laureles Estadio</td>\n      <td>[u'incidentes']</td>\n      <td>CR 66 CL 48 D</td>\n      <td>Operador2</td>\n      <td>C:/ELK/logstash-6.5.1/data/Medata/Incidentes/I...</td>\n      <td>11</td>\n      <td>Lote o Predio</td>\n      <td>Suramericana</td>\n      <td>Solo daños</td>\n      <td>2019-07-01T01:40:00.000Z</td>\n      <td>1.183631e+06</td>\n      <td>833381.860000</td>\n      <td>1.0</td>\n      <td>10641.0</td>\n      <td>1676437</td>\n      <td>2019-07-01</td>\n      <td>01</td>\n    </tr>\n    <tr>\n      <th>262168</th>\n      <td>2019-11-07T16:07:39.312Z</td>\n      <td>607</td>\n      <td>A001002310</td>\n      <td>Malla vial</td>\n      <td>CR  083   091 A  000 00000</td>\n      <td>Choque</td>\n      <td>[-75.5849391248, 6.28861482868]</td>\n      <td>7.0</td>\n      <td>2019.0</td>\n      <td>Doce de Octubre</td>\n      <td>[u'incidentes']</td>\n      <td>CR 83 CL 91 A</td>\n      <td>Operador2</td>\n      <td>C:/ELK/logstash-6.5.1/data/Medata/Incidentes/I...</td>\n      <td>06</td>\n      <td>Tramo de via</td>\n      <td>Kennedy</td>\n      <td>Solo daños</td>\n      <td>2019-07-01T23:20:00.000Z</td>\n      <td>1.187395e+06</td>\n      <td>833177.650000</td>\n      <td>1.0</td>\n      <td>10699.0</td>\n      <td>1676456</td>\n      <td>2019-07-01</td>\n      <td>23</td>\n    </tr>\n    <tr>\n      <th>262162</th>\n      <td>2019-11-07T16:07:39.312Z</td>\n      <td>312</td>\n      <td>A001002302</td>\n      <td>Malla vial</td>\n      <td>CR  023 B   084 B  000 00000</td>\n      <td>Choque</td>\n      <td>[-75.5378038865, 6.27686386215]</td>\n      <td>7.0</td>\n      <td>2019.0</td>\n      <td>Manrique</td>\n      <td>[u'incidentes']</td>\n      <td>CR 23 B CL 84 B</td>\n      <td>Operador2</td>\n      <td>C:/ELK/logstash-6.5.1/data/Medata/Incidentes/I...</td>\n      <td>03</td>\n      <td>Tramo de via</td>\n      <td>Oriente</td>\n      <td>Solo daños</td>\n      <td>2019-07-01T20:30:00.000Z</td>\n      <td>1.186080e+06</td>\n      <td>838391.450000</td>\n      <td>1.0</td>\n      <td>10686.0</td>\n      <td>1676461</td>\n      <td>2019-07-01</td>\n      <td>20</td>\n    </tr>\n    <tr>\n      <th>262160</th>\n      <td>2019-11-07T16:07:39.312Z</td>\n      <td>NaN</td>\n      <td>A001002169</td>\n      <td>No Ubicada</td>\n      <td>CR  067   025  000 00000</td>\n      <td>Choque</td>\n      <td>[-75.7037762763, 6.22141524356]</td>\n      <td>7.0</td>\n      <td>2019.0</td>\n      <td>Sin Inf</td>\n      <td>[u'incidentes']</td>\n      <td>CR 67 CL 25</td>\n      <td>Operador2</td>\n      <td>C:/ELK/logstash-6.5.1/data/Medata/Incidentes/I...</td>\n      <td>No ubicada</td>\n      <td>Tramo de via</td>\n      <td>NaN</td>\n      <td>Con heridos</td>\n      <td>2019-07-01T16:40:00.000Z</td>\n      <td>1.180000e+06</td>\n      <td>820000.000000</td>\n      <td>1.0</td>\n      <td>10674.0</td>\n      <td>1676468</td>\n      <td>2019-07-01</td>\n      <td>16</td>\n    </tr>\n    <tr>\n      <th>...</th>\n      <td>...</td>\n      <td>...</td>\n      <td>...</td>\n      <td>...</td>\n      <td>...</td>\n      <td>...</td>\n      <td>...</td>\n      <td>...</td>\n      <td>...</td>\n      <td>...</td>\n      <td>...</td>\n      <td>...</td>\n      <td>...</td>\n      <td>...</td>\n      <td>...</td>\n      <td>...</td>\n      <td>...</td>\n      <td>...</td>\n      <td>...</td>\n      <td>...</td>\n      <td>...</td>\n      <td>...</td>\n      <td>...</td>\n      <td>...</td>\n      <td>...</td>\n      <td>...</td>\n    </tr>\n    <tr>\n      <th>12089</th>\n      <td>2019-06-04T20:44:08.013Z</td>\n      <td>3.02021e+09</td>\n      <td>A1485619</td>\n      <td>Catastro con Interior</td>\n      <td>CR  039   085 A  035 00000</td>\n      <td>Choque</td>\n      <td>[-75.5477362391, 6.27745474338]</td>\n      <td>2.0</td>\n      <td>2014.0</td>\n      <td>Manrique</td>\n      <td>[u'incidentes']</td>\n      <td>CR 39 CL 85 A - 35</td>\n      <td>Operador2</td>\n      <td>C:/ELK/logstash-6.5.1/data/Medata/Incidentes/I...</td>\n      <td>03</td>\n      <td>NaN</td>\n      <td>Las Granjas</td>\n      <td>Con muertos</td>\n      <td>2014-02-24T08:03:00.000Z</td>\n      <td>1.186149e+06</td>\n      <td>837292.200000</td>\n      <td>1.0</td>\n      <td>6512.0</td>\n      <td>9766</td>\n      <td>2014-02-24</td>\n      <td>08</td>\n    </tr>\n    <tr>\n      <th>143894</th>\n      <td>2019-06-04T20:53:18.109Z</td>\n      <td>6.08101e+09</td>\n      <td>A000497560</td>\n      <td>Catastro con Interior</td>\n      <td>CR  083   101 A  021 00000</td>\n      <td>Atropello</td>\n      <td>[-75.5821690996, 6.30114194037]</td>\n      <td>2.0</td>\n      <td>2017.0</td>\n      <td>Doce de Octubre</td>\n      <td>[u'incidentes']</td>\n      <td>CR 83 CL 101 A - 21</td>\n      <td>Operador2</td>\n      <td>C:/ELK/logstash-6.5.1/data/Medata/Incidentes/I...</td>\n      <td>06</td>\n      <td>NaN</td>\n      <td>Picacho</td>\n      <td>Con muertos</td>\n      <td>2017-02-12T01:30:00.000Z</td>\n      <td>1.188780e+06</td>\n      <td>833488.260000</td>\n      <td>1.0</td>\n      <td>165498.0</td>\n      <td>9769</td>\n      <td>2017-02-12</td>\n      <td>01</td>\n    </tr>\n    <tr>\n      <th>9909</th>\n      <td>2019-06-04T20:44:08.014Z</td>\n      <td>1.50304e+10</td>\n      <td>A1485792</td>\n      <td>Catastro con Interior</td>\n      <td>CL  025   065 C  050 00000</td>\n      <td>Atropello</td>\n      <td>[-75.5855316677, 6.22630141567]</td>\n      <td>2.0</td>\n      <td>2014.0</td>\n      <td>Guayabal</td>\n      <td>[u'incidentes']</td>\n      <td>CL 25 CR 65 C - 50</td>\n      <td>Operador2</td>\n      <td>C:/ELK/logstash-6.5.1/data/Medata/Incidentes/I...</td>\n      <td>15</td>\n      <td>NaN</td>\n      <td>Trinidad</td>\n      <td>Con muertos</td>\n      <td>2014-02-24T12:30:00.000Z</td>\n      <td>1.180502e+06</td>\n      <td>833092.280000</td>\n      <td>1.0</td>\n      <td>6513.0</td>\n      <td>9778</td>\n      <td>2014-02-24</td>\n      <td>12</td>\n    </tr>\n    <tr>\n      <th>12090</th>\n      <td>2019-06-04T20:44:08.014Z</td>\n      <td>1.62002e+10</td>\n      <td>A1485790</td>\n      <td>Nomenclatura con Interior</td>\n      <td>CL  033   078  177 00000</td>\n      <td>Atropello</td>\n      <td>[-75.6000288989, 6.23861225192]</td>\n      <td>2.0</td>\n      <td>2014.0</td>\n      <td>Belén</td>\n      <td>[u'incidentes']</td>\n      <td>CL 33 CR 78 - 177</td>\n      <td>Operador2</td>\n      <td>C:/ELK/logstash-6.5.1/data/Medata/Incidentes/I...</td>\n      <td>16</td>\n      <td>NaN</td>\n      <td>El Nogal-Los Almendros</td>\n      <td>Con muertos</td>\n      <td>2014-02-24T12:15:00.000Z</td>\n      <td>1.181868e+06</td>\n      <td>831491.290000</td>\n      <td>1.0</td>\n      <td>6515.0</td>\n      <td>9780</td>\n      <td>2014-02-24</td>\n      <td>12</td>\n    </tr>\n    <tr>\n      <th>183864</th>\n      <td>2019-06-04T20:54:47.826Z</td>\n      <td>NaN</td>\n      <td>A000773529</td>\n      <td>No Ubicada</td>\n      <td>CR  063   091  000 00000</td>\n      <td>Choque</td>\n      <td>[-75.5692625703, 6.28324794971]</td>\n      <td>2.0</td>\n      <td>2018.0</td>\n      <td>Castilla</td>\n      <td>[u'incidentes']</td>\n      <td>CR 63 CL 91</td>\n      <td>Operador2</td>\n      <td>C:/ELK/logstash-6.5.1/data/Medata/Incidentes/I...</td>\n      <td>Sin Inf</td>\n      <td>NaN</td>\n      <td>Oleoducto</td>\n      <td>Con muertos</td>\n      <td>2018-02-28T15:10:00.000Z</td>\n      <td>1.186796e+06</td>\n      <td>834911.216066</td>\n      <td>1.0</td>\n      <td>191784.0</td>\n      <td>9982</td>\n      <td>2018-02-28</td>\n      <td>15</td>\n    </tr>\n  </tbody>\n</table>\n<p>261875 rows × 26 columns</p>\n</div>"
     },
     "metadata": {},
     "execution_count": 131
    }
   ],
   "source": [
    "df.shape\n",
    "df\n",
    "# r = df[(df.cbml.isna()) & (df.x_long_y_lat == '[-75.7037762763, 6.22141524356]') ][['x_long_y_lat','barrio','comuna','direccion','direccion_enc','cbml']]\n",
    "# r"
   ]
  },
  {
   "cell_type": "code",
   "execution_count": 128,
   "metadata": {},
   "outputs": [
    {
     "output_type": "error",
     "ename": "AttributeError",
     "evalue": "'float' object has no attribute 'encode'",
     "traceback": [
      "\u001b[0;31m---------------------------------------------------------------------------\u001b[0m",
      "\u001b[0;31mAttributeError\u001b[0m                            Traceback (most recent call last)",
      "\u001b[0;32m<ipython-input-128-e20d6af22c11>\u001b[0m in \u001b[0;36m<module>\u001b[0;34m\u001b[0m\n\u001b[0;32m----> 1\u001b[0;31m \u001b[0mdf\u001b[0m\u001b[0;34m.\u001b[0m\u001b[0mclase\u001b[0m \u001b[0;34m=\u001b[0m \u001b[0mdf\u001b[0m\u001b[0;34m.\u001b[0m\u001b[0mclase\u001b[0m\u001b[0;34m.\u001b[0m\u001b[0mapply\u001b[0m\u001b[0;34m(\u001b[0m\u001b[0;32mlambda\u001b[0m \u001b[0mx\u001b[0m\u001b[0;34m:\u001b[0m \u001b[0munidecode\u001b[0m\u001b[0;34m(\u001b[0m\u001b[0mx\u001b[0m\u001b[0;34m)\u001b[0m\u001b[0;34m.\u001b[0m\u001b[0mlower\u001b[0m\u001b[0;34m(\u001b[0m\u001b[0;34m)\u001b[0m\u001b[0;34m.\u001b[0m\u001b[0mstrip\u001b[0m\u001b[0;34m(\u001b[0m\u001b[0;34m)\u001b[0m\u001b[0;34m.\u001b[0m\u001b[0mreplace\u001b[0m\u001b[0;34m(\u001b[0m\u001b[0;34m' de '\u001b[0m\u001b[0;34m,\u001b[0m\u001b[0;34m' '\u001b[0m\u001b[0;34m)\u001b[0m\u001b[0;34m)\u001b[0m\u001b[0;34m\u001b[0m\u001b[0;34m\u001b[0m\u001b[0m\n\u001b[0m",
      "\u001b[0;32m~/Projects/ds4a-practicum/.venv/lib/python3.7/site-packages/pandas/core/series.py\u001b[0m in \u001b[0;36mapply\u001b[0;34m(self, func, convert_dtype, args, **kwds)\u001b[0m\n\u001b[1;32m   3846\u001b[0m             \u001b[0;32melse\u001b[0m\u001b[0;34m:\u001b[0m\u001b[0;34m\u001b[0m\u001b[0;34m\u001b[0m\u001b[0m\n\u001b[1;32m   3847\u001b[0m                 \u001b[0mvalues\u001b[0m \u001b[0;34m=\u001b[0m \u001b[0mself\u001b[0m\u001b[0;34m.\u001b[0m\u001b[0mastype\u001b[0m\u001b[0;34m(\u001b[0m\u001b[0mobject\u001b[0m\u001b[0;34m)\u001b[0m\u001b[0;34m.\u001b[0m\u001b[0mvalues\u001b[0m\u001b[0;34m\u001b[0m\u001b[0;34m\u001b[0m\u001b[0m\n\u001b[0;32m-> 3848\u001b[0;31m                 \u001b[0mmapped\u001b[0m \u001b[0;34m=\u001b[0m \u001b[0mlib\u001b[0m\u001b[0;34m.\u001b[0m\u001b[0mmap_infer\u001b[0m\u001b[0;34m(\u001b[0m\u001b[0mvalues\u001b[0m\u001b[0;34m,\u001b[0m \u001b[0mf\u001b[0m\u001b[0;34m,\u001b[0m \u001b[0mconvert\u001b[0m\u001b[0;34m=\u001b[0m\u001b[0mconvert_dtype\u001b[0m\u001b[0;34m)\u001b[0m\u001b[0;34m\u001b[0m\u001b[0;34m\u001b[0m\u001b[0m\n\u001b[0m\u001b[1;32m   3849\u001b[0m \u001b[0;34m\u001b[0m\u001b[0m\n\u001b[1;32m   3850\u001b[0m         \u001b[0;32mif\u001b[0m \u001b[0mlen\u001b[0m\u001b[0;34m(\u001b[0m\u001b[0mmapped\u001b[0m\u001b[0;34m)\u001b[0m \u001b[0;32mand\u001b[0m \u001b[0misinstance\u001b[0m\u001b[0;34m(\u001b[0m\u001b[0mmapped\u001b[0m\u001b[0;34m[\u001b[0m\u001b[0;36m0\u001b[0m\u001b[0;34m]\u001b[0m\u001b[0;34m,\u001b[0m \u001b[0mSeries\u001b[0m\u001b[0;34m)\u001b[0m\u001b[0;34m:\u001b[0m\u001b[0;34m\u001b[0m\u001b[0;34m\u001b[0m\u001b[0m\n",
      "\u001b[0;32mpandas/_libs/lib.pyx\u001b[0m in \u001b[0;36mpandas._libs.lib.map_infer\u001b[0;34m()\u001b[0m\n",
      "\u001b[0;32m<ipython-input-128-e20d6af22c11>\u001b[0m in \u001b[0;36m<lambda>\u001b[0;34m(x)\u001b[0m\n\u001b[0;32m----> 1\u001b[0;31m \u001b[0mdf\u001b[0m\u001b[0;34m.\u001b[0m\u001b[0mclase\u001b[0m \u001b[0;34m=\u001b[0m \u001b[0mdf\u001b[0m\u001b[0;34m.\u001b[0m\u001b[0mclase\u001b[0m\u001b[0;34m.\u001b[0m\u001b[0mapply\u001b[0m\u001b[0;34m(\u001b[0m\u001b[0;32mlambda\u001b[0m \u001b[0mx\u001b[0m\u001b[0;34m:\u001b[0m \u001b[0munidecode\u001b[0m\u001b[0;34m(\u001b[0m\u001b[0mx\u001b[0m\u001b[0;34m)\u001b[0m\u001b[0;34m.\u001b[0m\u001b[0mlower\u001b[0m\u001b[0;34m(\u001b[0m\u001b[0;34m)\u001b[0m\u001b[0;34m.\u001b[0m\u001b[0mstrip\u001b[0m\u001b[0;34m(\u001b[0m\u001b[0;34m)\u001b[0m\u001b[0;34m.\u001b[0m\u001b[0mreplace\u001b[0m\u001b[0;34m(\u001b[0m\u001b[0;34m' de '\u001b[0m\u001b[0;34m,\u001b[0m\u001b[0;34m' '\u001b[0m\u001b[0;34m)\u001b[0m\u001b[0;34m)\u001b[0m\u001b[0;34m\u001b[0m\u001b[0;34m\u001b[0m\u001b[0m\n\u001b[0m",
      "\u001b[0;32m~/Projects/ds4a-practicum/.venv/lib/python3.7/site-packages/unidecode/__init__.py\u001b[0m in \u001b[0;36munidecode_expect_ascii\u001b[0;34m(string)\u001b[0m\n\u001b[1;32m     46\u001b[0m     \u001b[0m_warn_if_not_unicode\u001b[0m\u001b[0;34m(\u001b[0m\u001b[0mstring\u001b[0m\u001b[0;34m)\u001b[0m\u001b[0;34m\u001b[0m\u001b[0;34m\u001b[0m\u001b[0m\n\u001b[1;32m     47\u001b[0m     \u001b[0;32mtry\u001b[0m\u001b[0;34m:\u001b[0m\u001b[0;34m\u001b[0m\u001b[0;34m\u001b[0m\u001b[0m\n\u001b[0;32m---> 48\u001b[0;31m         \u001b[0mbytestring\u001b[0m \u001b[0;34m=\u001b[0m \u001b[0mstring\u001b[0m\u001b[0;34m.\u001b[0m\u001b[0mencode\u001b[0m\u001b[0;34m(\u001b[0m\u001b[0;34m'ASCII'\u001b[0m\u001b[0;34m)\u001b[0m\u001b[0;34m\u001b[0m\u001b[0;34m\u001b[0m\u001b[0m\n\u001b[0m\u001b[1;32m     49\u001b[0m     \u001b[0;32mexcept\u001b[0m \u001b[0mUnicodeEncodeError\u001b[0m\u001b[0;34m:\u001b[0m\u001b[0;34m\u001b[0m\u001b[0;34m\u001b[0m\u001b[0m\n\u001b[1;32m     50\u001b[0m         \u001b[0;32mreturn\u001b[0m \u001b[0m_unidecode\u001b[0m\u001b[0;34m(\u001b[0m\u001b[0mstring\u001b[0m\u001b[0;34m)\u001b[0m\u001b[0;34m\u001b[0m\u001b[0;34m\u001b[0m\u001b[0m\n",
      "\u001b[0;31mAttributeError\u001b[0m: 'float' object has no attribute 'encode'"
     ]
    }
   ],
   "source": [
    "df.clase = df.clase.apply(lambda x: unidecode(x).lower().strip().replace(' de ',' '))"
   ]
  },
  {
   "cell_type": "code",
   "execution_count": 129,
   "metadata": {},
   "outputs": [],
   "source": [
    "df.to_csv(\"../processed/preprocessed_accidents.csv\",index=False)"
   ]
  },
  {
   "cell_type": "code",
   "execution_count": null,
   "metadata": {},
   "outputs": [],
   "source": []
  }
 ],
 "metadata": {
  "language_info": {
   "codemirror_mode": {
    "name": "ipython",
    "version": 3
   },
   "file_extension": ".py",
   "mimetype": "text/x-python",
   "name": "python",
   "nbconvert_exporter": "python",
   "pygments_lexer": "ipython3",
   "version": "3.7.7-final"
  },
  "orig_nbformat": 2,
  "kernelspec": {
   "name": "python37664bitvenvvenv2aaee01adc7c4d53be02a84c3b0594f7",
   "display_name": "Python 3.7.6 64-bit ('.venv': venv)"
  }
 },
 "nbformat": 4,
 "nbformat_minor": 2
}