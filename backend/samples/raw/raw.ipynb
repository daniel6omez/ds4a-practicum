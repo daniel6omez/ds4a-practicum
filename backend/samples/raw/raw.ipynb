{
 "cells": [
  {
   "cell_type": "markdown",
   "metadata": {},
   "source": [
    "# TITLE"
   ]
  },
  {
   "cell_type": "code",
   "execution_count": 35,
   "metadata": {},
   "outputs": [],
   "source": [
    "## Where did you download the files? How did you ingeste the data?"
   ]
  },
  {
   "cell_type": "code",
   "execution_count": 63,
   "metadata": {},
   "outputs": [],
   "source": [
    "import pandas as pd\n",
    "from ast import literal_eval\n",
    "pd.options.display.max_columns = None\n",
    "\n",
    "# agg_df: yearly file\n",
    "agg_df = pd.DataFrame()\n",
    "path = \"./\"\n",
    "for  file in os.listdir(path):\n",
    "    if (file.split(\".\")[-1] == \"csv\") and (file != 'accidentalidad.csv'):\n",
    "        df_tmp = pd.read_csv(os.path.join(path, file))\n",
    "        df_tmp.columns = [c.lower() for c in df_tmp.columns]\n",
    "        df_tmp['file'] = file\n",
    "        agg_df = pd.concat([agg_df, df_tmp])"
   ]
  },
  {
   "cell_type": "code",
   "execution_count": 37,
   "metadata": {},
   "outputs": [
    {
     "output_type": "execute_result",
     "data": {
      "text/plain": "Index(['x', 'y', 'objectid', 'radicado', 'fecha', 'hora', 'dia', 'periodo',\n       'clase', 'direccion', 'direccion_enc', 'cbml', 'tipo_geocod',\n       'gravedad', 'barrio', 'comuna', 'diseno', 'dia_nombre', 'mes',\n       'mes_nombre', 'x_magnamed', 'y_magnamed', 'longitud', 'latitud', 'file',\n       'shape'],\n      dtype='object')"
     },
     "metadata": {},
     "execution_count": 37
    }
   ],
   "source": [
    "agg_df.columns"
   ]
  },
  {
   "cell_type": "markdown",
   "metadata": {},
   "source": [
    "## How did you merge the two DataFrames (aggregated data from 2014-2019 and accidentalidad.csv)"
   ]
  },
  {
   "cell_type": "code",
   "execution_count": 38,
   "metadata": {},
   "outputs": [
    {
     "output_type": "execute_result",
     "data": {
      "text/plain": "                          0     1           2   \\\n0   2019-06-04T20:44:15.587Z   NaN  A000010886   \n1   2019-06-04T20:44:15.588Z   809  A000010843   \n2   2019-06-04T20:44:15.588Z   NaN  A000010821   \n3   2019-06-04T20:44:15.588Z   514  A000010849   \n4   2019-06-04T20:44:15.589Z  1621  A000010855   \n5   2019-06-04T20:44:15.589Z  6098  A000010826   \n6   2019-06-04T20:44:15.589Z  1101  A000010917   \n7   2019-06-04T20:44:15.589Z  1318  A000010841   \n8   2019-06-04T20:44:15.590Z   307  A000010916   \n9   2019-06-04T20:44:15.590Z  1013  A000010992   \n10  2019-06-04T20:44:15.590Z   309  A000010991   \n11  2019-06-04T20:44:15.590Z   301  A000010896   \n12  2019-06-04T20:44:15.590Z   710  A000010899   \n13  2019-06-04T20:44:15.590Z   308  A000010884   \n14  2019-06-04T20:44:15.590Z   410  A000011099   \n\n                                 3                           4   \\\n0                        No Ubicada                           0   \n1                        Malla vial  CL  052 A   032  000 00000   \n2                        No Ubicada                           0   \n3                        Malla vial  CR  073 B   091  000 00000   \n4                        Malla vial  CR  053   030 A  000 00000   \n5                        Malla vial    CR  104   064  000 00000   \n6                        Malla vial    CR  065   051  000 00000   \n7                        Malla vial    CL  044   105  000 00000   \n8   Malla vial aproximada: CR 45-67    CR  046   067  000 00000   \n9                        Malla vial    CR  045   048  000 00000   \n10                       Malla vial    CL  069   027  000 00000   \n11                       Malla vial  CL  092   044 A  000 00000   \n12                       Malla vial    CL  080   076  000 00000   \n13                       Malla vial    CR  041   068  000 00000   \n14                       Malla vial    CR  046   084  000 00000   \n\n                   5                                6    7       8   \\\n0           Atropello  [-75.7037762763, 6.22141524356]  3.0  2014.0   \n1   Caída de Ocupante  [-75.5534544709, 6.24349597268]  3.0  2014.0   \n2   Caída de Ocupante  [-75.7037762763, 6.22141524356]  3.0  2014.0   \n3           Atropello  [-75.5792346017, 6.28690605219]  3.0  2014.0   \n4                Otro  [-75.5778859663, 6.23258248117]  3.0  2014.0   \n5   Caída de Ocupante    [-75.6151738325, 6.281156378]  3.0  2014.0   \n6              Choque    [-75.58085586, 6.25657541199]  3.0  2014.0   \n7              Choque  [-75.6200332483, 6.25681851817]  3.0  2014.0   \n8   Caída de Ocupante   [-75.5555813857, 6.2631762147]  3.0  2014.0   \n9   Caída de Ocupante   [-75.568553277, 6.24524859423]  3.0  2014.0   \n10          Atropello  [-75.5419347915, 6.26338939586]  3.0  2014.0   \n11          Atropello  [-75.5521141628, 6.28311328446]  3.0  2014.0   \n12               Otro   [-75.5832037595, 6.2834307746]  3.0  2014.0   \n13               Otro  [-75.5520280221, 6.26336411263]  3.0  2014.0   \n14             Choque  [-75.5546384131, 6.27639159676]  3.0  2014.0   \n\n                                9                10                     11  \\\n0                              NaN  [u'incidentes']  Tramo 9 Kilometro 999   \n1                    Villa Hermosa  [u'incidentes']          CL 52 A CR 32   \n2                              NaN  [u'incidentes']            CR 62 CL 84   \n3                         Castilla  [u'incidentes']          CR 73 B CL 91   \n4                            Belén  [u'incidentes']          CR 53 CL 30 A   \n5   Corregimiento de San Cristóbal  [u'incidentes']           CR 104 CL 64   \n6                 Laureles Estadio  [u'incidentes']            CR 65 CL 51   \n7                       San Javier  [u'incidentes']           CL 44 CR 105   \n8                         Manrique  [u'incidentes']            CR 46 CL 67   \n9                    La Candelaria  [u'incidentes']            CR 45 CL 48   \n10                        Manrique  [u'incidentes']            CL 69 CR 27   \n11                        Manrique  [u'incidentes']          CL 92 CR 44 A   \n12                         Robledo  [u'incidentes']            CL 80 CR 76   \n13                        Manrique  [u'incidentes']            CR 41 CL 68   \n14                        Aranjuez  [u'incidentes']            CR 46 CL 84   \n\n           12                                                 13       14  \\\n0   Operador2  C:/ELK/logstash-6.5.1/data/Medata/Incidentes/I...  Sin Inf   \n1   Operador2  C:/ELK/logstash-6.5.1/data/Medata/Incidentes/I...       08   \n2   Operador2  C:/ELK/logstash-6.5.1/data/Medata/Incidentes/I...  Sin Inf   \n3   Operador2  C:/ELK/logstash-6.5.1/data/Medata/Incidentes/I...       05   \n4   Operador2  C:/ELK/logstash-6.5.1/data/Medata/Incidentes/I...       16   \n5   Operador2  C:/ELK/logstash-6.5.1/data/Medata/Incidentes/I...       60   \n6   Operador2  C:/ELK/logstash-6.5.1/data/Medata/Incidentes/I...       11   \n7   Operador2  C:/ELK/logstash-6.5.1/data/Medata/Incidentes/I...       13   \n8   Operador2  C:/ELK/logstash-6.5.1/data/Medata/Incidentes/I...       03   \n9   Operador2  C:/ELK/logstash-6.5.1/data/Medata/Incidentes/I...       10   \n10  Operador2  C:/ELK/logstash-6.5.1/data/Medata/Incidentes/I...       03   \n11  Operador2  C:/ELK/logstash-6.5.1/data/Medata/Incidentes/I...       03   \n12  Operador2  C:/ELK/logstash-6.5.1/data/Medata/Incidentes/I...       07   \n13  Operador2  C:/ELK/logstash-6.5.1/data/Medata/Incidentes/I...       03   \n14  Operador2  C:/ELK/logstash-6.5.1/data/Medata/Incidentes/I...       04   \n\n              15                          16           17  \\\n0   Tramo de via                         NaN  Con heridos   \n1   Tramo de via                       Sucre  Con heridos   \n2   Tramo de via                         NaN  Con heridos   \n3   Tramo de via               Alfonso López  Con heridos   \n4   Tramo de via              Cerro Nutibara  Con heridos   \n5   Tramo de via  Área de Expansión Pajarito  Con heridos   \n6   Tramo de via          Carlos E. Restrepo  Con heridos   \n7   Tramo de via              Antonio Nariño  Con heridos   \n8   Tramo de via      Manrique Central No. 2  Con heridos   \n9   Tramo de via                Barrio Colón  Con heridos   \n10  Tramo de via             Versalles No. 1  Con heridos   \n11  Tramo de via                    La Salle  Con heridos   \n12  Tramo de via               López de Mesa  Con heridos   \n13  Tramo de via           Manrique Oriental  Con heridos   \n14  Tramo de via          Campo Valdés No. 1  Con heridos   \n\n                          18          19         20   21      22       23  \n0   2014-03-12T10:30:00.000Z  1180000.00  820000.00  1.0  8626.0  1432623  \n1   2014-03-12T10:00:00.000Z  1182393.81  836648.68  1.0  8628.0  1432625  \n2   2014-03-13T00:20:00.000Z  1180000.00  820000.00  1.0  8630.0  1432627  \n3   2014-03-12T23:00:00.000Z  1187204.11  833808.55  1.0  8632.0  1432630  \n4   2014-03-13T04:50:00.000Z  1181194.15  833940.67  1.0  8639.0  1432637  \n5   2014-03-13T01:00:00.000Z  1186579.60  829828.47  1.0  8642.0  1432640  \n6   2014-03-12T15:00:00.000Z  1183849.30  833619.47  1.0  8649.0  1432721  \n7   2014-03-12T23:00:00.000Z  1183888.76  829282.64  1.0  8650.0  1432722  \n8   2014-03-12T17:00:00.000Z  1184571.57  836419.35  1.0  8659.0  1432732  \n9   2014-03-12T16:30:00.000Z  1182592.40  834977.79  1.0  8663.0  1432736  \n10  2014-03-12T23:00:00.000Z  1184590.92  837930.03  1.0  8666.0  1432739  \n11  2014-03-12T11:20:00.000Z  1186776.00  836809.36  1.0  8667.0  1432748  \n12  2014-03-12T12:30:00.000Z  1186820.92  833368.09  1.0  8668.0  1432749  \n13  2014-03-12T09:30:00.000Z  1184591.25  836812.75  1.0  8669.0  1432751  \n14  2014-03-12T17:00:00.000Z  1186033.21  836527.85  1.0  8670.0  1432752  ",
      "text/html": "<div>\n<style scoped>\n    .dataframe tbody tr th:only-of-type {\n        vertical-align: middle;\n    }\n\n    .dataframe tbody tr th {\n        vertical-align: top;\n    }\n\n    .dataframe thead th {\n        text-align: right;\n    }\n</style>\n<table border=\"1\" class=\"dataframe\">\n  <thead>\n    <tr style=\"text-align: right;\">\n      <th></th>\n      <th>0</th>\n      <th>1</th>\n      <th>2</th>\n      <th>3</th>\n      <th>4</th>\n      <th>5</th>\n      <th>6</th>\n      <th>7</th>\n      <th>8</th>\n      <th>9</th>\n      <th>10</th>\n      <th>11</th>\n      <th>12</th>\n      <th>13</th>\n      <th>14</th>\n      <th>15</th>\n      <th>16</th>\n      <th>17</th>\n      <th>18</th>\n      <th>19</th>\n      <th>20</th>\n      <th>21</th>\n      <th>22</th>\n      <th>23</th>\n    </tr>\n  </thead>\n  <tbody>\n    <tr>\n      <th>0</th>\n      <td>2019-06-04T20:44:15.587Z</td>\n      <td>NaN</td>\n      <td>A000010886</td>\n      <td>No Ubicada</td>\n      <td>0</td>\n      <td>Atropello</td>\n      <td>[-75.7037762763, 6.22141524356]</td>\n      <td>3.0</td>\n      <td>2014.0</td>\n      <td>NaN</td>\n      <td>[u'incidentes']</td>\n      <td>Tramo 9 Kilometro 999</td>\n      <td>Operador2</td>\n      <td>C:/ELK/logstash-6.5.1/data/Medata/Incidentes/I...</td>\n      <td>Sin Inf</td>\n      <td>Tramo de via</td>\n      <td>NaN</td>\n      <td>Con heridos</td>\n      <td>2014-03-12T10:30:00.000Z</td>\n      <td>1180000.00</td>\n      <td>820000.00</td>\n      <td>1.0</td>\n      <td>8626.0</td>\n      <td>1432623</td>\n    </tr>\n    <tr>\n      <th>1</th>\n      <td>2019-06-04T20:44:15.588Z</td>\n      <td>809</td>\n      <td>A000010843</td>\n      <td>Malla vial</td>\n      <td>CL  052 A   032  000 00000</td>\n      <td>Caída de Ocupante</td>\n      <td>[-75.5534544709, 6.24349597268]</td>\n      <td>3.0</td>\n      <td>2014.0</td>\n      <td>Villa Hermosa</td>\n      <td>[u'incidentes']</td>\n      <td>CL 52 A CR 32</td>\n      <td>Operador2</td>\n      <td>C:/ELK/logstash-6.5.1/data/Medata/Incidentes/I...</td>\n      <td>08</td>\n      <td>Tramo de via</td>\n      <td>Sucre</td>\n      <td>Con heridos</td>\n      <td>2014-03-12T10:00:00.000Z</td>\n      <td>1182393.81</td>\n      <td>836648.68</td>\n      <td>1.0</td>\n      <td>8628.0</td>\n      <td>1432625</td>\n    </tr>\n    <tr>\n      <th>2</th>\n      <td>2019-06-04T20:44:15.588Z</td>\n      <td>NaN</td>\n      <td>A000010821</td>\n      <td>No Ubicada</td>\n      <td>0</td>\n      <td>Caída de Ocupante</td>\n      <td>[-75.7037762763, 6.22141524356]</td>\n      <td>3.0</td>\n      <td>2014.0</td>\n      <td>NaN</td>\n      <td>[u'incidentes']</td>\n      <td>CR 62 CL 84</td>\n      <td>Operador2</td>\n      <td>C:/ELK/logstash-6.5.1/data/Medata/Incidentes/I...</td>\n      <td>Sin Inf</td>\n      <td>Tramo de via</td>\n      <td>NaN</td>\n      <td>Con heridos</td>\n      <td>2014-03-13T00:20:00.000Z</td>\n      <td>1180000.00</td>\n      <td>820000.00</td>\n      <td>1.0</td>\n      <td>8630.0</td>\n      <td>1432627</td>\n    </tr>\n    <tr>\n      <th>3</th>\n      <td>2019-06-04T20:44:15.588Z</td>\n      <td>514</td>\n      <td>A000010849</td>\n      <td>Malla vial</td>\n      <td>CR  073 B   091  000 00000</td>\n      <td>Atropello</td>\n      <td>[-75.5792346017, 6.28690605219]</td>\n      <td>3.0</td>\n      <td>2014.0</td>\n      <td>Castilla</td>\n      <td>[u'incidentes']</td>\n      <td>CR 73 B CL 91</td>\n      <td>Operador2</td>\n      <td>C:/ELK/logstash-6.5.1/data/Medata/Incidentes/I...</td>\n      <td>05</td>\n      <td>Tramo de via</td>\n      <td>Alfonso López</td>\n      <td>Con heridos</td>\n      <td>2014-03-12T23:00:00.000Z</td>\n      <td>1187204.11</td>\n      <td>833808.55</td>\n      <td>1.0</td>\n      <td>8632.0</td>\n      <td>1432630</td>\n    </tr>\n    <tr>\n      <th>4</th>\n      <td>2019-06-04T20:44:15.589Z</td>\n      <td>1621</td>\n      <td>A000010855</td>\n      <td>Malla vial</td>\n      <td>CR  053   030 A  000 00000</td>\n      <td>Otro</td>\n      <td>[-75.5778859663, 6.23258248117]</td>\n      <td>3.0</td>\n      <td>2014.0</td>\n      <td>Belén</td>\n      <td>[u'incidentes']</td>\n      <td>CR 53 CL 30 A</td>\n      <td>Operador2</td>\n      <td>C:/ELK/logstash-6.5.1/data/Medata/Incidentes/I...</td>\n      <td>16</td>\n      <td>Tramo de via</td>\n      <td>Cerro Nutibara</td>\n      <td>Con heridos</td>\n      <td>2014-03-13T04:50:00.000Z</td>\n      <td>1181194.15</td>\n      <td>833940.67</td>\n      <td>1.0</td>\n      <td>8639.0</td>\n      <td>1432637</td>\n    </tr>\n    <tr>\n      <th>5</th>\n      <td>2019-06-04T20:44:15.589Z</td>\n      <td>6098</td>\n      <td>A000010826</td>\n      <td>Malla vial</td>\n      <td>CR  104   064  000 00000</td>\n      <td>Caída de Ocupante</td>\n      <td>[-75.6151738325, 6.281156378]</td>\n      <td>3.0</td>\n      <td>2014.0</td>\n      <td>Corregimiento de San Cristóbal</td>\n      <td>[u'incidentes']</td>\n      <td>CR 104 CL 64</td>\n      <td>Operador2</td>\n      <td>C:/ELK/logstash-6.5.1/data/Medata/Incidentes/I...</td>\n      <td>60</td>\n      <td>Tramo de via</td>\n      <td>Área de Expansión Pajarito</td>\n      <td>Con heridos</td>\n      <td>2014-03-13T01:00:00.000Z</td>\n      <td>1186579.60</td>\n      <td>829828.47</td>\n      <td>1.0</td>\n      <td>8642.0</td>\n      <td>1432640</td>\n    </tr>\n    <tr>\n      <th>6</th>\n      <td>2019-06-04T20:44:15.589Z</td>\n      <td>1101</td>\n      <td>A000010917</td>\n      <td>Malla vial</td>\n      <td>CR  065   051  000 00000</td>\n      <td>Choque</td>\n      <td>[-75.58085586, 6.25657541199]</td>\n      <td>3.0</td>\n      <td>2014.0</td>\n      <td>Laureles Estadio</td>\n      <td>[u'incidentes']</td>\n      <td>CR 65 CL 51</td>\n      <td>Operador2</td>\n      <td>C:/ELK/logstash-6.5.1/data/Medata/Incidentes/I...</td>\n      <td>11</td>\n      <td>Tramo de via</td>\n      <td>Carlos E. Restrepo</td>\n      <td>Con heridos</td>\n      <td>2014-03-12T15:00:00.000Z</td>\n      <td>1183849.30</td>\n      <td>833619.47</td>\n      <td>1.0</td>\n      <td>8649.0</td>\n      <td>1432721</td>\n    </tr>\n    <tr>\n      <th>7</th>\n      <td>2019-06-04T20:44:15.589Z</td>\n      <td>1318</td>\n      <td>A000010841</td>\n      <td>Malla vial</td>\n      <td>CL  044   105  000 00000</td>\n      <td>Choque</td>\n      <td>[-75.6200332483, 6.25681851817]</td>\n      <td>3.0</td>\n      <td>2014.0</td>\n      <td>San Javier</td>\n      <td>[u'incidentes']</td>\n      <td>CL 44 CR 105</td>\n      <td>Operador2</td>\n      <td>C:/ELK/logstash-6.5.1/data/Medata/Incidentes/I...</td>\n      <td>13</td>\n      <td>Tramo de via</td>\n      <td>Antonio Nariño</td>\n      <td>Con heridos</td>\n      <td>2014-03-12T23:00:00.000Z</td>\n      <td>1183888.76</td>\n      <td>829282.64</td>\n      <td>1.0</td>\n      <td>8650.0</td>\n      <td>1432722</td>\n    </tr>\n    <tr>\n      <th>8</th>\n      <td>2019-06-04T20:44:15.590Z</td>\n      <td>307</td>\n      <td>A000010916</td>\n      <td>Malla vial aproximada: CR 45-67</td>\n      <td>CR  046   067  000 00000</td>\n      <td>Caída de Ocupante</td>\n      <td>[-75.5555813857, 6.2631762147]</td>\n      <td>3.0</td>\n      <td>2014.0</td>\n      <td>Manrique</td>\n      <td>[u'incidentes']</td>\n      <td>CR 46 CL 67</td>\n      <td>Operador2</td>\n      <td>C:/ELK/logstash-6.5.1/data/Medata/Incidentes/I...</td>\n      <td>03</td>\n      <td>Tramo de via</td>\n      <td>Manrique Central No. 2</td>\n      <td>Con heridos</td>\n      <td>2014-03-12T17:00:00.000Z</td>\n      <td>1184571.57</td>\n      <td>836419.35</td>\n      <td>1.0</td>\n      <td>8659.0</td>\n      <td>1432732</td>\n    </tr>\n    <tr>\n      <th>9</th>\n      <td>2019-06-04T20:44:15.590Z</td>\n      <td>1013</td>\n      <td>A000010992</td>\n      <td>Malla vial</td>\n      <td>CR  045   048  000 00000</td>\n      <td>Caída de Ocupante</td>\n      <td>[-75.568553277, 6.24524859423]</td>\n      <td>3.0</td>\n      <td>2014.0</td>\n      <td>La Candelaria</td>\n      <td>[u'incidentes']</td>\n      <td>CR 45 CL 48</td>\n      <td>Operador2</td>\n      <td>C:/ELK/logstash-6.5.1/data/Medata/Incidentes/I...</td>\n      <td>10</td>\n      <td>Tramo de via</td>\n      <td>Barrio Colón</td>\n      <td>Con heridos</td>\n      <td>2014-03-12T16:30:00.000Z</td>\n      <td>1182592.40</td>\n      <td>834977.79</td>\n      <td>1.0</td>\n      <td>8663.0</td>\n      <td>1432736</td>\n    </tr>\n    <tr>\n      <th>10</th>\n      <td>2019-06-04T20:44:15.590Z</td>\n      <td>309</td>\n      <td>A000010991</td>\n      <td>Malla vial</td>\n      <td>CL  069   027  000 00000</td>\n      <td>Atropello</td>\n      <td>[-75.5419347915, 6.26338939586]</td>\n      <td>3.0</td>\n      <td>2014.0</td>\n      <td>Manrique</td>\n      <td>[u'incidentes']</td>\n      <td>CL 69 CR 27</td>\n      <td>Operador2</td>\n      <td>C:/ELK/logstash-6.5.1/data/Medata/Incidentes/I...</td>\n      <td>03</td>\n      <td>Tramo de via</td>\n      <td>Versalles No. 1</td>\n      <td>Con heridos</td>\n      <td>2014-03-12T23:00:00.000Z</td>\n      <td>1184590.92</td>\n      <td>837930.03</td>\n      <td>1.0</td>\n      <td>8666.0</td>\n      <td>1432739</td>\n    </tr>\n    <tr>\n      <th>11</th>\n      <td>2019-06-04T20:44:15.590Z</td>\n      <td>301</td>\n      <td>A000010896</td>\n      <td>Malla vial</td>\n      <td>CL  092   044 A  000 00000</td>\n      <td>Atropello</td>\n      <td>[-75.5521141628, 6.28311328446]</td>\n      <td>3.0</td>\n      <td>2014.0</td>\n      <td>Manrique</td>\n      <td>[u'incidentes']</td>\n      <td>CL 92 CR 44 A</td>\n      <td>Operador2</td>\n      <td>C:/ELK/logstash-6.5.1/data/Medata/Incidentes/I...</td>\n      <td>03</td>\n      <td>Tramo de via</td>\n      <td>La Salle</td>\n      <td>Con heridos</td>\n      <td>2014-03-12T11:20:00.000Z</td>\n      <td>1186776.00</td>\n      <td>836809.36</td>\n      <td>1.0</td>\n      <td>8667.0</td>\n      <td>1432748</td>\n    </tr>\n    <tr>\n      <th>12</th>\n      <td>2019-06-04T20:44:15.590Z</td>\n      <td>710</td>\n      <td>A000010899</td>\n      <td>Malla vial</td>\n      <td>CL  080   076  000 00000</td>\n      <td>Otro</td>\n      <td>[-75.5832037595, 6.2834307746]</td>\n      <td>3.0</td>\n      <td>2014.0</td>\n      <td>Robledo</td>\n      <td>[u'incidentes']</td>\n      <td>CL 80 CR 76</td>\n      <td>Operador2</td>\n      <td>C:/ELK/logstash-6.5.1/data/Medata/Incidentes/I...</td>\n      <td>07</td>\n      <td>Tramo de via</td>\n      <td>López de Mesa</td>\n      <td>Con heridos</td>\n      <td>2014-03-12T12:30:00.000Z</td>\n      <td>1186820.92</td>\n      <td>833368.09</td>\n      <td>1.0</td>\n      <td>8668.0</td>\n      <td>1432749</td>\n    </tr>\n    <tr>\n      <th>13</th>\n      <td>2019-06-04T20:44:15.590Z</td>\n      <td>308</td>\n      <td>A000010884</td>\n      <td>Malla vial</td>\n      <td>CR  041   068  000 00000</td>\n      <td>Otro</td>\n      <td>[-75.5520280221, 6.26336411263]</td>\n      <td>3.0</td>\n      <td>2014.0</td>\n      <td>Manrique</td>\n      <td>[u'incidentes']</td>\n      <td>CR 41 CL 68</td>\n      <td>Operador2</td>\n      <td>C:/ELK/logstash-6.5.1/data/Medata/Incidentes/I...</td>\n      <td>03</td>\n      <td>Tramo de via</td>\n      <td>Manrique Oriental</td>\n      <td>Con heridos</td>\n      <td>2014-03-12T09:30:00.000Z</td>\n      <td>1184591.25</td>\n      <td>836812.75</td>\n      <td>1.0</td>\n      <td>8669.0</td>\n      <td>1432751</td>\n    </tr>\n    <tr>\n      <th>14</th>\n      <td>2019-06-04T20:44:15.590Z</td>\n      <td>410</td>\n      <td>A000011099</td>\n      <td>Malla vial</td>\n      <td>CR  046   084  000 00000</td>\n      <td>Choque</td>\n      <td>[-75.5546384131, 6.27639159676]</td>\n      <td>3.0</td>\n      <td>2014.0</td>\n      <td>Aranjuez</td>\n      <td>[u'incidentes']</td>\n      <td>CR 46 CL 84</td>\n      <td>Operador2</td>\n      <td>C:/ELK/logstash-6.5.1/data/Medata/Incidentes/I...</td>\n      <td>04</td>\n      <td>Tramo de via</td>\n      <td>Campo Valdés No. 1</td>\n      <td>Con heridos</td>\n      <td>2014-03-12T17:00:00.000Z</td>\n      <td>1186033.21</td>\n      <td>836527.85</td>\n      <td>1.0</td>\n      <td>8670.0</td>\n      <td>1432752</td>\n    </tr>\n  </tbody>\n</table>\n</div>"
     },
     "metadata": {},
     "execution_count": 38
    }
   ],
   "source": [
    "# scr accidentalidad.csv: http://medata.gov.co/dataset/accidentalidad \n",
    "df =  pd.read_csv('./accidentalidad.csv', skiprows=1,header=None,sep=';')\n",
    "df.loc[0:14]"
   ]
  },
  {
   "cell_type": "markdown",
   "metadata": {},
   "source": []
  },
  {
   "cell_type": "code",
   "execution_count": 70,
   "metadata": {},
   "outputs": [
    {
     "output_type": "execute_result",
     "data": {
      "text/plain": "((251899, 26), (277759, 24))"
     },
     "metadata": {},
     "execution_count": 70
    }
   ],
   "source": [
    "agg_df.shape, df.shape"
   ]
  },
  {
   "cell_type": "code",
   "execution_count": 39,
   "metadata": {},
   "outputs": [
    {
     "output_type": "execute_result",
     "data": {
      "text/plain": "Int64Index([ 0,  1,  2,  3,  4,  5,  6,  7,  8,  9, 10, 11, 12, 13, 14, 15, 16,\n            17, 18, 19, 20, 21, 22, 23],\n           dtype='int64')"
     },
     "metadata": {},
     "execution_count": 39
    }
   ],
   "source": [
    "df.columns"
   ]
  },
  {
   "cell_type": "code",
   "execution_count": 40,
   "metadata": {},
   "outputs": [
    {
     "output_type": "execute_result",
     "data": {
      "text/plain": "Empty DataFrame\nColumns: [timestamp, cbml, expediente, tipo_geocode, direccion_enc, clase, x_long_y_lat, mes, periodo, comuna, incidente, direccion, operador, path, num_comuna, diseno, barrio, gravedad, fecha, y_magnamed, x_magnet, version, id, radicado]\nIndex: []",
      "text/html": "<div>\n<style scoped>\n    .dataframe tbody tr th:only-of-type {\n        vertical-align: middle;\n    }\n\n    .dataframe tbody tr th {\n        vertical-align: top;\n    }\n\n    .dataframe thead th {\n        text-align: right;\n    }\n</style>\n<table border=\"1\" class=\"dataframe\">\n  <thead>\n    <tr style=\"text-align: right;\">\n      <th></th>\n      <th>timestamp</th>\n      <th>cbml</th>\n      <th>expediente</th>\n      <th>tipo_geocode</th>\n      <th>direccion_enc</th>\n      <th>clase</th>\n      <th>x_long_y_lat</th>\n      <th>mes</th>\n      <th>periodo</th>\n      <th>comuna</th>\n      <th>incidente</th>\n      <th>direccion</th>\n      <th>operador</th>\n      <th>path</th>\n      <th>num_comuna</th>\n      <th>diseno</th>\n      <th>barrio</th>\n      <th>gravedad</th>\n      <th>fecha</th>\n      <th>y_magnamed</th>\n      <th>x_magnet</th>\n      <th>version</th>\n      <th>id</th>\n      <th>radicado</th>\n    </tr>\n  </thead>\n  <tbody>\n  </tbody>\n</table>\n</div>"
     },
     "metadata": {},
     "execution_count": 40
    }
   ],
   "source": [
    "# dic = literal_eval(df[df[0]==\"1.0\"][4].values[0])\n",
    "# print(dic)\n",
    "# df.columns = [col.lower() for col in dic.keys()]\n",
    "# print(df.columns)\n",
    "\n",
    "cols = [\"timestamp\", \"cbml\", \"expediente\", \"tipo_geocode\", \"direccion_enc\", \"clase\", \"x_long_y_lat\", \"mes\", \"periodo\", \"comuna\", \"incidente\", \"direccion\", \"operador\", \"path\", \"num_comuna\", \"diseno\", \"barrio\", \"gravedad\", \"fecha\", \"y_magnamed\", \"x_magnet\", \"version\", \"id\", \"radicado\"]\n",
    "df.columns = cols\n",
    "df = df[df.timestamp != '1.0']\n",
    "df[df.timestamp == '1.0']\n"
   ]
  },
  {
   "cell_type": "code",
   "execution_count": 41,
   "metadata": {},
   "outputs": [
    {
     "output_type": "execute_result",
     "data": {
      "text/plain": "0    1423828\n1    1423839\n2    1423840\n3    1423849\n4    1423890\nName: radicado, dtype: object"
     },
     "metadata": {},
     "execution_count": 41
    }
   ],
   "source": [
    "agg_df.radicado.head()"
   ]
  },
  {
   "cell_type": "code",
   "execution_count": 74,
   "metadata": {},
   "outputs": [
    {
     "output_type": "execute_result",
     "data": {
      "text/plain": "<bound method DataFrame.info of                x         y  objectid radicado                   fecha  \\\n0     -75.602726  6.219016    211279  1423828  2014/01/01 00:00:00+00   \n1     -75.568185  6.260009    211280  1423839  2014/01/01 00:00:00+00   \n2     -75.549943  6.264765    211281  1423840  2014/01/01 00:00:00+00   \n3     -75.607611  6.234327    211282  1423849  2014/01/01 00:00:00+00   \n4     -75.579685  6.299968    211283  1423890  2014/01/01 00:00:00+00   \n...          ...       ...       ...      ...                     ...   \n42468        NaN       NaN    758664  1700250  2019/12/17 00:00:00+00   \n42469        NaN       NaN    758665  1701659  2019/12/17 00:00:00+00   \n42470        NaN       NaN    758666  1700547  2019/12/17 00:00:00+00   \n42471        NaN       NaN    758668  1700492  2019/12/17 00:00:00+00   \n42472        NaN       NaN    758669  1700207  2019/12/17 00:00:00+00   \n\n           hora  dia  periodo              clase      direccion  \\\n0      02:20:00    1     2014             Choque     CR 80 CL 8   \n1      12:50:00    1     2014          Atropello    CR 53 CL 61   \n2      01:00:00    1     2014          Atropello    CR 39 CL 70   \n3      12:37:00    1     2014          Atropello    CL 32 CR 84   \n4      10:40:00    1     2014  Caída de Ocupante   CR 80 CL 101   \n...         ...  ...      ...                ...            ...   \n42468  05:00:00   17     2019     Caida Ocupante   CR 2 CL 55 F   \n42469  05:00:00   17     2019          Atropello  CR 53 A CL 45   \n42470  05:00:00   17     2019             Choque  CL 44 CR 91 A   \n42471  05:00:00   17     2019             Choque    CL 37 CR 54   \n42472  05:20:00   17     2019        Volcamiento   CR 65 CL 8 B   \n\n                    direccion_enc  cbml                      tipo_geocod  \\\n0        CR  080   008  000 00000  1611   Malla vial aproximada: CR 81-7   \n1        CR  053   061  000 00000  1003                       Malla vial   \n2        CR  039   070  000 00000  0308                       Malla vial   \n3        CL  032   084  000 00000  1617                       Malla vial   \n4        CR  080   101  000 00000  0603                       Malla vial   \n...                           ...   ...                              ...   \n42468  CR  002   055 F  000 00000  0816                       Malla vial   \n42469  CR  053 A   045  000 00000  1007                       Malla vial   \n42470  CL  044   091 A  000 00000  1207  Malla vial aproximada: CL 44-91   \n42471    CL  037   054  000 00000  1011       Malla vial cruce invertido   \n42472  CR  065   008 B  000 00000  1507                       Malla vial   \n\n          gravedad                barrio           comuna        diseno  \\\n0           HERIDO    Loma de los Bernal            Belén  Tramo de via   \n1           HERIDO        Jesús Nazareno    La Candelaria  Tramo de via   \n2           HERIDO     Manrique Oriental         Manrique  Tramo de via   \n3           HERIDO          Las Mercedes            Belén  Tramo de via   \n4           HERIDO  Doce de Octubre No.2  Doce de Octubre  Tramo de via   \n...            ...                   ...              ...           ...   \n42468  Con heridos          Villa Turbay    Villa Hermosa  Interseccion   \n42469  Con heridos             Guayaquil    La Candelaria  Tramo de via   \n42470   Solo daños            El Danubio       La América  Tramo de via   \n42471   Solo daños           Calle Nueva    La Candelaria  Tramo de via   \n42472  Con heridos            Campo Amor         Guayabal  Tramo de via   \n\n      dia_nombre  mes  mes_nombre  x_magnamed  y_magnamed   longitud  \\\n0      MIÉRCOLES    1         NaN   831190.08  1179689.50 -75.602726   \n1      MIÉRCOLES    1         NaN   835013.63  1184223.79 -75.568185   \n2      MIÉRCOLES    1         NaN   837032.71  1184749.86 -75.549943   \n3      MIÉRCOLES    1         NaN   830649.47  1181383.24 -75.607611   \n4      MIÉRCOLES    1         NaN   833740.78  1188643.80 -75.579685   \n...          ...  ...         ...         ...         ...        ...   \n42468  MARTES      12  DICIEMBRE    839206.67  1181513.98 -75.530304   \n42469  MARTES      12  DICIEMBRE    834508.64  1182754.46 -75.572747   \n42470  MARTES      12  DICIEMBRE    830520.18  1183465.47 -75.608780   \n42471  MARTES      12  DICIEMBRE    834246.65  1181926.16 -75.575114   \n42472  MARTES      12  DICIEMBRE    833016.18  1179285.43 -75.586229   \n\n        latitud                                    file  shape  \n0      6.219016  Accidentalidadgeorreferenciada2014.csv    NaN  \n1      6.260009  Accidentalidadgeorreferenciada2014.csv    NaN  \n2      6.264765  Accidentalidadgeorreferenciada2014.csv    NaN  \n3      6.234327  Accidentalidadgeorreferenciada2014.csv    NaN  \n4      6.299968  Accidentalidadgeorreferenciada2014.csv    NaN  \n...         ...                                     ...    ...  \n42468  6.235510  Accidentalidadgeorreferenciada2019.csv    NaN  \n42469  6.246726  Accidentalidadgeorreferenciada2019.csv    NaN  \n42470  6.253152  Accidentalidadgeorreferenciada2019.csv    NaN  \n42471  6.239237  Accidentalidadgeorreferenciada2019.csv    NaN  \n42472  6.215363  Accidentalidadgeorreferenciada2019.csv    NaN  \n\n[251899 rows x 26 columns]>"
     },
     "metadata": {},
     "execution_count": 74
    }
   ],
   "source": [
    "agg_df.info"
   ]
  },
  {
   "cell_type": "code",
   "execution_count": 75,
   "metadata": {},
   "outputs": [
    {
     "output_type": "execute_result",
     "data": {
      "text/plain": "x                 True\ny                 True\nobjectid         False\nradicado          True\nfecha            False\nhora             False\ndia              False\nperiodo          False\nclase             True\ndireccion        False\ndireccion_enc    False\ncbml              True\ntipo_geocod      False\ngravedad         False\nbarrio            True\ncomuna            True\ndiseno            True\ndia_nombre       False\nmes              False\nmes_nombre        True\nx_magnamed       False\ny_magnamed       False\nlongitud         False\nlatitud          False\nfile             False\nshape             True\ndtype: bool"
     },
     "metadata": {},
     "execution_count": 75
    }
   ],
   "source": [
    "agg_df.isna().any()"
   ]
  },
  {
   "cell_type": "code",
   "execution_count": 42,
   "metadata": {},
   "outputs": [
    {
     "output_type": "execute_result",
     "data": {
      "text/plain": "               x         y  objectid radicado                   fecha  \\\n39496 -75.561594  6.293715    546224      NaN  2017/12/21 00:00:00+00   \n40150 -75.578129  6.247262    546941      NaN  2017/09/06 00:00:00+00   \n37075 -75.564198  6.261494    683301      NaN  2018/05/07 00:00:00+00   \n37076 -75.546095  6.271341    683302      NaN  2018/11/01 00:00:00+00   \n37077 -75.593598  6.270184    683303      NaN  2018/12/26 00:00:00+00   \n\n           hora  dia  periodo      clase               direccion  \\\n39496  09:58:00   21     2017  Atropello      CR 52 CL 100  - 75   \n40150  05:45:00    6     2017  Atropello  CL 44 entre CR 59 y 60   \n37075  06:00:00    7     2018     Choque             CR 51 CL 64   \n37076  07:40:00    1     2018     Choque        CL 80 CR 32 - 82   \n37077  12:30:00   26     2018     Choque          CL 59 CR 78 AA   \n\n                    direccion_enc         cbml                tipo_geocod  \\\n39496    CR  052   100  075 00000  02100090113  Nomenclatura con Interior   \n40150    CL  044   59,  060 00000         1008                 Malla vial   \n37075    CR  051   064  000 00000         1001                 Malla vial   \n37076    CL  080   032  082 00000  03040160010      Catastro con Interior   \n37077  CL  059   078 AA 000 00000         1114                 Malla vial   \n\n      gravedad         barrio            comuna diseno dia_nombre  mes  \\\n39496   MUERTO     Santa Cruz        Santa Cruz    NaN  JUEVES      12   \n40150   MUERTO  La Candelaria  Corazón de Jesús    NaN  MIÉRCOLES    9   \n37075   MUERTO          Prado     La Candelaria    NaN  LUNES        5   \n37076   MUERTO     Santa Inés          Manrique    NaN  JUEVES      11   \n37077   MUERTO    Los Colores  Laureles Estadio    NaN  MIÉRCOLES   12   \n\n      mes_nombre  x_magnamed  y_magnamed   longitud   latitud  \\\n39496        NaN   835743.14  1187952.15 -75.561594  6.293715   \n40150        NaN   833912.85  1182813.77 -75.578129  6.247262   \n37075        NaN   835454.94  1184388.09 -75.564198  6.261494   \n37076        NaN   837458.56  1185477.35 -75.546095  6.271341   \n37077        NaN   832200.75  1185349.38 -75.593598  6.270184   \n\n                                         file  shape  \n39496  Accidentalidadgeorreferenciada2017.csv    NaN  \n40150  Accidentalidadgeorreferenciada2017.csv    NaN  \n37075  Accidentalidadgeorreferenciada2018.csv    NaN  \n37076  Accidentalidadgeorreferenciada2018.csv    NaN  \n37077  Accidentalidadgeorreferenciada2018.csv    NaN  ",
      "text/html": "<div>\n<style scoped>\n    .dataframe tbody tr th:only-of-type {\n        vertical-align: middle;\n    }\n\n    .dataframe tbody tr th {\n        vertical-align: top;\n    }\n\n    .dataframe thead th {\n        text-align: right;\n    }\n</style>\n<table border=\"1\" class=\"dataframe\">\n  <thead>\n    <tr style=\"text-align: right;\">\n      <th></th>\n      <th>x</th>\n      <th>y</th>\n      <th>objectid</th>\n      <th>radicado</th>\n      <th>fecha</th>\n      <th>hora</th>\n      <th>dia</th>\n      <th>periodo</th>\n      <th>clase</th>\n      <th>direccion</th>\n      <th>direccion_enc</th>\n      <th>cbml</th>\n      <th>tipo_geocod</th>\n      <th>gravedad</th>\n      <th>barrio</th>\n      <th>comuna</th>\n      <th>diseno</th>\n      <th>dia_nombre</th>\n      <th>mes</th>\n      <th>mes_nombre</th>\n      <th>x_magnamed</th>\n      <th>y_magnamed</th>\n      <th>longitud</th>\n      <th>latitud</th>\n      <th>file</th>\n      <th>shape</th>\n    </tr>\n  </thead>\n  <tbody>\n    <tr>\n      <th>39496</th>\n      <td>-75.561594</td>\n      <td>6.293715</td>\n      <td>546224</td>\n      <td>NaN</td>\n      <td>2017/12/21 00:00:00+00</td>\n      <td>09:58:00</td>\n      <td>21</td>\n      <td>2017</td>\n      <td>Atropello</td>\n      <td>CR 52 CL 100  - 75</td>\n      <td>CR  052   100  075 00000</td>\n      <td>02100090113</td>\n      <td>Nomenclatura con Interior</td>\n      <td>MUERTO</td>\n      <td>Santa Cruz</td>\n      <td>Santa Cruz</td>\n      <td>NaN</td>\n      <td>JUEVES</td>\n      <td>12</td>\n      <td>NaN</td>\n      <td>835743.14</td>\n      <td>1187952.15</td>\n      <td>-75.561594</td>\n      <td>6.293715</td>\n      <td>Accidentalidadgeorreferenciada2017.csv</td>\n      <td>NaN</td>\n    </tr>\n    <tr>\n      <th>40150</th>\n      <td>-75.578129</td>\n      <td>6.247262</td>\n      <td>546941</td>\n      <td>NaN</td>\n      <td>2017/09/06 00:00:00+00</td>\n      <td>05:45:00</td>\n      <td>6</td>\n      <td>2017</td>\n      <td>Atropello</td>\n      <td>CL 44 entre CR 59 y 60</td>\n      <td>CL  044   59,  060 00000</td>\n      <td>1008</td>\n      <td>Malla vial</td>\n      <td>MUERTO</td>\n      <td>La Candelaria</td>\n      <td>Corazón de Jesús</td>\n      <td>NaN</td>\n      <td>MIÉRCOLES</td>\n      <td>9</td>\n      <td>NaN</td>\n      <td>833912.85</td>\n      <td>1182813.77</td>\n      <td>-75.578129</td>\n      <td>6.247262</td>\n      <td>Accidentalidadgeorreferenciada2017.csv</td>\n      <td>NaN</td>\n    </tr>\n    <tr>\n      <th>37075</th>\n      <td>-75.564198</td>\n      <td>6.261494</td>\n      <td>683301</td>\n      <td>NaN</td>\n      <td>2018/05/07 00:00:00+00</td>\n      <td>06:00:00</td>\n      <td>7</td>\n      <td>2018</td>\n      <td>Choque</td>\n      <td>CR 51 CL 64</td>\n      <td>CR  051   064  000 00000</td>\n      <td>1001</td>\n      <td>Malla vial</td>\n      <td>MUERTO</td>\n      <td>Prado</td>\n      <td>La Candelaria</td>\n      <td>NaN</td>\n      <td>LUNES</td>\n      <td>5</td>\n      <td>NaN</td>\n      <td>835454.94</td>\n      <td>1184388.09</td>\n      <td>-75.564198</td>\n      <td>6.261494</td>\n      <td>Accidentalidadgeorreferenciada2018.csv</td>\n      <td>NaN</td>\n    </tr>\n    <tr>\n      <th>37076</th>\n      <td>-75.546095</td>\n      <td>6.271341</td>\n      <td>683302</td>\n      <td>NaN</td>\n      <td>2018/11/01 00:00:00+00</td>\n      <td>07:40:00</td>\n      <td>1</td>\n      <td>2018</td>\n      <td>Choque</td>\n      <td>CL 80 CR 32 - 82</td>\n      <td>CL  080   032  082 00000</td>\n      <td>03040160010</td>\n      <td>Catastro con Interior</td>\n      <td>MUERTO</td>\n      <td>Santa Inés</td>\n      <td>Manrique</td>\n      <td>NaN</td>\n      <td>JUEVES</td>\n      <td>11</td>\n      <td>NaN</td>\n      <td>837458.56</td>\n      <td>1185477.35</td>\n      <td>-75.546095</td>\n      <td>6.271341</td>\n      <td>Accidentalidadgeorreferenciada2018.csv</td>\n      <td>NaN</td>\n    </tr>\n    <tr>\n      <th>37077</th>\n      <td>-75.593598</td>\n      <td>6.270184</td>\n      <td>683303</td>\n      <td>NaN</td>\n      <td>2018/12/26 00:00:00+00</td>\n      <td>12:30:00</td>\n      <td>26</td>\n      <td>2018</td>\n      <td>Choque</td>\n      <td>CL 59 CR 78 AA</td>\n      <td>CL  059   078 AA 000 00000</td>\n      <td>1114</td>\n      <td>Malla vial</td>\n      <td>MUERTO</td>\n      <td>Los Colores</td>\n      <td>Laureles Estadio</td>\n      <td>NaN</td>\n      <td>MIÉRCOLES</td>\n      <td>12</td>\n      <td>NaN</td>\n      <td>832200.75</td>\n      <td>1185349.38</td>\n      <td>-75.593598</td>\n      <td>6.270184</td>\n      <td>Accidentalidadgeorreferenciada2018.csv</td>\n      <td>NaN</td>\n    </tr>\n  </tbody>\n</table>\n</div>"
     },
     "metadata": {},
     "execution_count": 42
    }
   ],
   "source": [
    "agg_df[agg_df.radicado.isna()] # check the nulls"
   ]
  },
  {
   "cell_type": "code",
   "execution_count": 78,
   "metadata": {},
   "outputs": [
    {
     "output_type": "execute_result",
     "data": {
      "text/plain": "Choque                170276\nOtro                   26585\nAtropello              24647\nCaida Ocupante         16419\nVolcamiento             8249\nCaída de Ocupante       5665\nIncendio                  32\nCaída Ocupante            16\nNaN                        6\nChoque                     3\nChoque y Atropello         1\nName: clase, dtype: int64"
     },
     "metadata": {},
     "execution_count": 78
    }
   ],
   "source": [
    "agg_df.clase.value_counts(dropna=False)"
   ]
  },
  {
   "cell_type": "code",
   "execution_count": 81,
   "metadata": {},
   "outputs": [
    {
     "output_type": "execute_result",
     "data": {
      "text/plain": "1019           6182\n0517           5246\n1507           5153\n1012           4988\n1105           4461\n               ... \n04140090002       1\n03040050042       1\n10200110005       1\n07130290005       1\n03080250015       1\nName: cbml, Length: 712, dtype: int64"
     },
     "metadata": {},
     "execution_count": 81
    }
   ],
   "source": [
    "agg_df.cbml.value_counts(dropna=False)"
   ]
  },
  {
   "cell_type": "code",
   "execution_count": 64,
   "metadata": {},
   "outputs": [
    {
     "output_type": "execute_result",
     "data": {
      "text/plain": "62196                    3\n1638618.0                2\n58560                    2\n1640922.0                2\n1647286.0                2\n1647440.0                2\n39226                    2\n1655403                  2\n1639346.0                2\n48996                    2\n1618580.0                2\n58864                    2\n1656231                  2\n1640023.0                2\n31435                    2\n1639954.0                2\n1640118.0                2\n050016000206201523690    2\n1640356.0                2\n1662064                  2\n1520974                  1\nName: radicado, dtype: int64"
     },
     "metadata": {},
     "execution_count": 64
    }
   ],
   "source": [
    "agg_df.radicado.value_counts()[0:21]"
   ]
  },
  {
   "cell_type": "code",
   "execution_count": 65,
   "metadata": {},
   "outputs": [
    {
     "output_type": "execute_result",
     "data": {
      "text/plain": "               x         y  objectid     radicado                   fecha  \\\n21533 -75.585424  6.241112    666622  1.63862e+06  2018/08/14 00:00:00+00   \n36260 -75.585424  6.241112    682426  1.63862e+06  2018/10/14 00:00:00+00   \n\n           hora  dia  periodo   clase      direccion  \\\n21533  05:35:00   14     2018  Choque  CR 66 CL 34 A   \n36260  05:35:00   14     2018  Choque  CR 66 CL 34 A   \n\n                    direccion_enc  cbml                      tipo_geocod  \\\n21533  CR  066   034 A  000 00000  1105  Malla vial aproximada: CR 66-35   \n36260  CR  066   034 A  000 00000  1105  Malla vial aproximada: CR 66-35   \n\n         gravedad              barrio            comuna        diseno  \\\n21533  SOLO DAÑOS  Los Conquistadores  Laureles Estadio  Tramo de via   \n36260  SOLO DAÑOS  Los Conquistadores  Laureles Estadio  Tramo de via   \n\n      dia_nombre  mes mes_nombre  x_magnamed  y_magnamed   longitud   latitud  \\\n21533  MARTES       8        NaN   833105.42  1182133.61 -75.585424  6.241112   \n36260  DOMINGO     10        NaN   833105.42  1182133.61 -75.585424  6.241112   \n\n                                         file  shape  \n21533  Accidentalidadgeorreferenciada2018.csv    NaN  \n36260  Accidentalidadgeorreferenciada2018.csv    NaN  ",
      "text/html": "<div>\n<style scoped>\n    .dataframe tbody tr th:only-of-type {\n        vertical-align: middle;\n    }\n\n    .dataframe tbody tr th {\n        vertical-align: top;\n    }\n\n    .dataframe thead th {\n        text-align: right;\n    }\n</style>\n<table border=\"1\" class=\"dataframe\">\n  <thead>\n    <tr style=\"text-align: right;\">\n      <th></th>\n      <th>x</th>\n      <th>y</th>\n      <th>objectid</th>\n      <th>radicado</th>\n      <th>fecha</th>\n      <th>hora</th>\n      <th>dia</th>\n      <th>periodo</th>\n      <th>clase</th>\n      <th>direccion</th>\n      <th>direccion_enc</th>\n      <th>cbml</th>\n      <th>tipo_geocod</th>\n      <th>gravedad</th>\n      <th>barrio</th>\n      <th>comuna</th>\n      <th>diseno</th>\n      <th>dia_nombre</th>\n      <th>mes</th>\n      <th>mes_nombre</th>\n      <th>x_magnamed</th>\n      <th>y_magnamed</th>\n      <th>longitud</th>\n      <th>latitud</th>\n      <th>file</th>\n      <th>shape</th>\n    </tr>\n  </thead>\n  <tbody>\n    <tr>\n      <th>21533</th>\n      <td>-75.585424</td>\n      <td>6.241112</td>\n      <td>666622</td>\n      <td>1.63862e+06</td>\n      <td>2018/08/14 00:00:00+00</td>\n      <td>05:35:00</td>\n      <td>14</td>\n      <td>2018</td>\n      <td>Choque</td>\n      <td>CR 66 CL 34 A</td>\n      <td>CR  066   034 A  000 00000</td>\n      <td>1105</td>\n      <td>Malla vial aproximada: CR 66-35</td>\n      <td>SOLO DAÑOS</td>\n      <td>Los Conquistadores</td>\n      <td>Laureles Estadio</td>\n      <td>Tramo de via</td>\n      <td>MARTES</td>\n      <td>8</td>\n      <td>NaN</td>\n      <td>833105.42</td>\n      <td>1182133.61</td>\n      <td>-75.585424</td>\n      <td>6.241112</td>\n      <td>Accidentalidadgeorreferenciada2018.csv</td>\n      <td>NaN</td>\n    </tr>\n    <tr>\n      <th>36260</th>\n      <td>-75.585424</td>\n      <td>6.241112</td>\n      <td>682426</td>\n      <td>1.63862e+06</td>\n      <td>2018/10/14 00:00:00+00</td>\n      <td>05:35:00</td>\n      <td>14</td>\n      <td>2018</td>\n      <td>Choque</td>\n      <td>CR 66 CL 34 A</td>\n      <td>CR  066   034 A  000 00000</td>\n      <td>1105</td>\n      <td>Malla vial aproximada: CR 66-35</td>\n      <td>SOLO DAÑOS</td>\n      <td>Los Conquistadores</td>\n      <td>Laureles Estadio</td>\n      <td>Tramo de via</td>\n      <td>DOMINGO</td>\n      <td>10</td>\n      <td>NaN</td>\n      <td>833105.42</td>\n      <td>1182133.61</td>\n      <td>-75.585424</td>\n      <td>6.241112</td>\n      <td>Accidentalidadgeorreferenciada2018.csv</td>\n      <td>NaN</td>\n    </tr>\n  </tbody>\n</table>\n</div>"
     },
     "metadata": {},
     "execution_count": 65
    }
   ],
   "source": [
    "agg_df[agg_df.radicado==1638618.0]"
   ]
  },
  {
   "cell_type": "code",
   "execution_count": 73,
   "metadata": {},
   "outputs": [
    {
     "output_type": "execute_result",
     "data": {
      "text/plain": "NaN          7\n1686501.0    3\n1685316.0    3\n1685353.0    3\n1688741.0    3\n1688740.0    3\n1688742.0    3\n1688186.0    3\n1685356.0    3\n1685567.0    3\n1686021.0    3\n1688736.0    3\n1685278.0    3\n1688175.0    3\n1686070.0    3\n1685275.0    3\n1686079.0    3\n1686048.0    3\n1688157.0    3\n1685518.0    3\n1686511.0    3\n1688760.0    3\n1685324.0    3\n1687802.0    3\n1686455.0    3\n1686458.0    3\n1688266.0    3\n1685390.0    3\n1688791.0    3\n1686489.0    3\nName: radicado, dtype: int64"
     },
     "metadata": {},
     "execution_count": 73
    }
   ],
   "source": [
    "df.radicado.value_counts(dropna=False)[0:30]"
   ]
  },
  {
   "cell_type": "code",
   "execution_count": 67,
   "metadata": {},
   "outputs": [
    {
     "output_type": "execute_result",
     "data": {
      "text/plain": "                       timestamp  cbml  expediente  \\\n205150  2019-06-04T20:55:57.306Z  1105  A000846486   \n213113  2019-06-04T20:56:23.935Z  1105  A000846486   \n\n                           tipo_geocode               direccion_enc   clase  \\\n205150  Malla vial aproximada: CR 66-35  CR  066   034 A  000 00000  Choque   \n213113  Malla vial aproximada: CR 66-35  CR  066   034 A  000 00000  Choque   \n\n                           x_long_y_lat   mes  periodo            comuna  \\\n205150  [-75.5854551105, 6.24105317866]   8.0   2018.0  Laureles Estadio   \n213113  [-75.5854551105, 6.24105317866]  10.0   2018.0  Laureles Estadio   \n\n              incidente      direccion   operador  \\\n205150  [u'incidentes']  CR 66 CL 34 A  Operador2   \n213113  [u'incidentes']  CR 66 CL 34 A  Operador2   \n\n                                                     path num_comuna  \\\n205150  C:/ELK/logstash-6.5.1/data/Medata/Incidentes/I...         11   \n213113  C:/ELK/logstash-6.5.1/data/Medata/Incidentes/I...         11   \n\n              diseno              barrio    gravedad  \\\n205150  Tramo de via  Los Conquistadores  Solo daños   \n213113  Tramo de via  Los Conquistadores  Solo daños   \n\n                           fecha  y_magnamed   x_magnet  version        id  \\\n205150  2018-08-14T22:35:00.000Z  1182133.61  833105.42      1.0  211762.0   \n213113  2018-10-14T22:35:00.000Z  1182133.61  833105.42      1.0  219306.0   \n\n       radicado  \n205150  1638618  \n213113  1638618  ",
      "text/html": "<div>\n<style scoped>\n    .dataframe tbody tr th:only-of-type {\n        vertical-align: middle;\n    }\n\n    .dataframe tbody tr th {\n        vertical-align: top;\n    }\n\n    .dataframe thead th {\n        text-align: right;\n    }\n</style>\n<table border=\"1\" class=\"dataframe\">\n  <thead>\n    <tr style=\"text-align: right;\">\n      <th></th>\n      <th>timestamp</th>\n      <th>cbml</th>\n      <th>expediente</th>\n      <th>tipo_geocode</th>\n      <th>direccion_enc</th>\n      <th>clase</th>\n      <th>x_long_y_lat</th>\n      <th>mes</th>\n      <th>periodo</th>\n      <th>comuna</th>\n      <th>incidente</th>\n      <th>direccion</th>\n      <th>operador</th>\n      <th>path</th>\n      <th>num_comuna</th>\n      <th>diseno</th>\n      <th>barrio</th>\n      <th>gravedad</th>\n      <th>fecha</th>\n      <th>y_magnamed</th>\n      <th>x_magnet</th>\n      <th>version</th>\n      <th>id</th>\n      <th>radicado</th>\n    </tr>\n  </thead>\n  <tbody>\n    <tr>\n      <th>205150</th>\n      <td>2019-06-04T20:55:57.306Z</td>\n      <td>1105</td>\n      <td>A000846486</td>\n      <td>Malla vial aproximada: CR 66-35</td>\n      <td>CR  066   034 A  000 00000</td>\n      <td>Choque</td>\n      <td>[-75.5854551105, 6.24105317866]</td>\n      <td>8.0</td>\n      <td>2018.0</td>\n      <td>Laureles Estadio</td>\n      <td>[u'incidentes']</td>\n      <td>CR 66 CL 34 A</td>\n      <td>Operador2</td>\n      <td>C:/ELK/logstash-6.5.1/data/Medata/Incidentes/I...</td>\n      <td>11</td>\n      <td>Tramo de via</td>\n      <td>Los Conquistadores</td>\n      <td>Solo daños</td>\n      <td>2018-08-14T22:35:00.000Z</td>\n      <td>1182133.61</td>\n      <td>833105.42</td>\n      <td>1.0</td>\n      <td>211762.0</td>\n      <td>1638618</td>\n    </tr>\n    <tr>\n      <th>213113</th>\n      <td>2019-06-04T20:56:23.935Z</td>\n      <td>1105</td>\n      <td>A000846486</td>\n      <td>Malla vial aproximada: CR 66-35</td>\n      <td>CR  066   034 A  000 00000</td>\n      <td>Choque</td>\n      <td>[-75.5854551105, 6.24105317866]</td>\n      <td>10.0</td>\n      <td>2018.0</td>\n      <td>Laureles Estadio</td>\n      <td>[u'incidentes']</td>\n      <td>CR 66 CL 34 A</td>\n      <td>Operador2</td>\n      <td>C:/ELK/logstash-6.5.1/data/Medata/Incidentes/I...</td>\n      <td>11</td>\n      <td>Tramo de via</td>\n      <td>Los Conquistadores</td>\n      <td>Solo daños</td>\n      <td>2018-10-14T22:35:00.000Z</td>\n      <td>1182133.61</td>\n      <td>833105.42</td>\n      <td>1.0</td>\n      <td>219306.0</td>\n      <td>1638618</td>\n    </tr>\n  </tbody>\n</table>\n</div>"
     },
     "metadata": {},
     "execution_count": 67
    }
   ],
   "source": [
    "df[df.radicado==\"1638618\"]"
   ]
  },
  {
   "cell_type": "code",
   "execution_count": 68,
   "metadata": {},
   "outputs": [
    {
     "output_type": "execute_result",
     "data": {
      "text/plain": "                       timestamp cbml  expediente tipo_geocode  \\\n203433  2019-06-04T20:55:58.641Z  402  A000846480   Malla vial   \n\n                   direccion_enc   clase                     x_long_y_lat  \\\n203433  CR  051   092  000 00000  Choque  [-75.5611117649, 6.28348983493]   \n\n        mes  periodo    comuna        incidente    direccion   operador  \\\n203433  8.0   2018.0  Aranjuez  [u'incidentes']  CR 51 CL 92  Operador2   \n\n                                                     path num_comuna  \\\n203433  C:/ELK/logstash-6.5.1/data/Medata/Incidentes/I...         04   \n\n              diseno      barrio    gravedad                     fecha  \\\n203433  Tramo de via  San Isidro  Solo daños  2018-08-15T20:00:00.000Z   \n\n        y_magnamed   x_magnet  version        id radicado  \n203433  1186820.47  835813.52      1.0  211882.0  1638617  ",
      "text/html": "<div>\n<style scoped>\n    .dataframe tbody tr th:only-of-type {\n        vertical-align: middle;\n    }\n\n    .dataframe tbody tr th {\n        vertical-align: top;\n    }\n\n    .dataframe thead th {\n        text-align: right;\n    }\n</style>\n<table border=\"1\" class=\"dataframe\">\n  <thead>\n    <tr style=\"text-align: right;\">\n      <th></th>\n      <th>timestamp</th>\n      <th>cbml</th>\n      <th>expediente</th>\n      <th>tipo_geocode</th>\n      <th>direccion_enc</th>\n      <th>clase</th>\n      <th>x_long_y_lat</th>\n      <th>mes</th>\n      <th>periodo</th>\n      <th>comuna</th>\n      <th>incidente</th>\n      <th>direccion</th>\n      <th>operador</th>\n      <th>path</th>\n      <th>num_comuna</th>\n      <th>diseno</th>\n      <th>barrio</th>\n      <th>gravedad</th>\n      <th>fecha</th>\n      <th>y_magnamed</th>\n      <th>x_magnet</th>\n      <th>version</th>\n      <th>id</th>\n      <th>radicado</th>\n    </tr>\n  </thead>\n  <tbody>\n    <tr>\n      <th>203433</th>\n      <td>2019-06-04T20:55:58.641Z</td>\n      <td>402</td>\n      <td>A000846480</td>\n      <td>Malla vial</td>\n      <td>CR  051   092  000 00000</td>\n      <td>Choque</td>\n      <td>[-75.5611117649, 6.28348983493]</td>\n      <td>8.0</td>\n      <td>2018.0</td>\n      <td>Aranjuez</td>\n      <td>[u'incidentes']</td>\n      <td>CR 51 CL 92</td>\n      <td>Operador2</td>\n      <td>C:/ELK/logstash-6.5.1/data/Medata/Incidentes/I...</td>\n      <td>04</td>\n      <td>Tramo de via</td>\n      <td>San Isidro</td>\n      <td>Solo daños</td>\n      <td>2018-08-15T20:00:00.000Z</td>\n      <td>1186820.47</td>\n      <td>835813.52</td>\n      <td>1.0</td>\n      <td>211882.0</td>\n      <td>1638617</td>\n    </tr>\n  </tbody>\n</table>\n</div>"
     },
     "metadata": {},
     "execution_count": 68
    }
   ],
   "source": [
    "df[df.radicado==\"1638617\"]"
   ]
  },
  {
   "cell_type": "code",
   "execution_count": 61,
   "metadata": {},
   "outputs": [],
   "source": [
    "# drop duplicates by \"radicado\", \"objectid\"\n",
    "agg_df = agg_df.sort_values(by=[\"radicado\", \"objectid\"])\n",
    "agg_df.drop_duplicates(subset=[\"radicado\"], keep=\"first\", inplace=True)\n",
    "agg_df = agg_df[(~agg_df.radicado.isna()) & (agg_df.radicado != \"0\")]"
   ]
  },
  {
   "cell_type": "code",
   "execution_count": null,
   "metadata": {},
   "outputs": [],
   "source": [
    "agg_df."
   ]
  },
  {
   "cell_type": "code",
   "execution_count": 8,
   "metadata": {},
   "outputs": [
    {
     "output_type": "execute_result",
     "data": {
      "text/plain": "0             1432623\n1             1432625\n2             1432627\n3             1432630\n4             1432637\n             ...     \n277754    1.68922e+06\n277755    1.68943e+06\n277756    1.68916e+06\n277757    1.68938e+06\n277758    1.68949e+06\nName: radicado, Length: 277759, dtype: object"
     },
     "metadata": {},
     "execution_count": 8
    }
   ],
   "source": [
    "df.radicado"
   ]
  },
  {
   "cell_type": "code",
   "execution_count": 10,
   "metadata": {},
   "outputs": [
    {
     "output_type": "execute_result",
     "data": {
      "text/plain": "                       timestamp         cbml  expediente  \\\n172418  2019-06-04T20:54:26.357Z         1008  A000665813   \n194405  2019-06-04T20:55:15.642Z         1001  A000781645   \n213933  2019-06-04T20:56:31.671Z  3.04016e+09  A000915723   \n219786  2019-06-04T20:56:54.235Z         1114  A000921925   \n221146  2019-06-04T20:56:31.671Z  3.04016e+09  A000915723   \n226999  2019-06-04T20:56:54.235Z         1114  A000921925   \n230644  2019-06-04T20:54:26.357Z  2.10009e+09  A000679365   \n\n                     tipo_geocode               direccion_enc      clase  \\\n172418                 Malla vial    CL  044   59,  060 00000  Atropello   \n194405                 Malla vial    CR  051   064  000 00000     Choque   \n213933      Catastro con Interior    CL  080   032  082 00000     Choque   \n219786                 Malla vial  CL  059   078 AA 000 00000     Choque   \n221146      Catastro con Interior    CL  080   032  082 00000     Choque   \n226999                 Malla vial  CL  059   078 AA 000 00000     Choque   \n230644  Nomenclatura con Interior    CR  052   100  075 00000  Atropello   \n\n                           x_long_y_lat   mes  periodo            comuna  \\\n172418  [-75.5781789259, 6.24722232125]   9.0   2017.0     La Candelaria   \n194405  [-75.5642888721, 6.26149302503]   5.0   2018.0     La Candelaria   \n213933  [-75.5462163508, 6.27139048405]  11.0   2018.0          Manrique   \n219786  [-75.5937109433, 6.27009843969]  12.0   2018.0  Laureles Estadio   \n221146  [-75.5462163508, 6.27139048405]  11.0   2018.0          Manrique   \n226999  [-75.5937109433, 6.27009843969]  12.0   2018.0  Laureles Estadio   \n230644   [-75.5617765971, 6.2937179105]  12.0   2017.0        Santa Cruz   \n\n              incidente               direccion   operador  \\\n172418  [u'incidentes']  CL 44 entre CR 59 y 60  Operador2   \n194405  [u'incidentes']             CR 51 CL 64  Operador2   \n213933  [u'incidentes']        CL 80 CR 32 - 82  Operador2   \n219786  [u'incidentes']          CL 59 CR 78 AA  Operador2   \n221146  [u'incidentes']        CL 80 CR 32 - 82  Operador2   \n226999  [u'incidentes']          CL 59 CR 78 AA  Operador2   \n230644  [u'incidentes']      CR 52 CL 100  - 75  Operador2   \n\n                                                     path num_comuna diseno  \\\n172418  C:/ELK/logstash-6.5.1/data/Medata/Incidentes/I...         10    NaN   \n194405  C:/ELK/logstash-6.5.1/data/Medata/Incidentes/I...         10    NaN   \n213933  C:/ELK/logstash-6.5.1/data/Medata/Incidentes/I...         03    NaN   \n219786  C:/ELK/logstash-6.5.1/data/Medata/Incidentes/I...         11    NaN   \n221146  C:/ELK/logstash-6.5.1/data/Medata/Incidentes/I...         03    NaN   \n226999  C:/ELK/logstash-6.5.1/data/Medata/Incidentes/I...         11    NaN   \n230644  C:/ELK/logstash-6.5.1/data/Medata/Incidentes/I...         02    NaN   \n\n                  barrio     gravedad                     fecha  y_magnamed  \\\n172418  Corazón de Jesús  Con muertos  2017-09-06T10:45:00.000Z  1182813.77   \n194405             Prado  Con muertos  2018-05-07T23:00:00.000Z  1184388.09   \n213933        Santa Inés  Con muertos  2018-11-02T00:40:00.000Z  1185477.35   \n219786       Los Colores  Con muertos  2018-12-26T05:30:00.000Z  1185349.38   \n221146        Santa Inés  Con muertos  2018-11-02T00:40:00.000Z  1185477.35   \n226999       Los Colores  Con muertos  2018-12-26T05:30:00.000Z  1185349.38   \n230644        Santa Cruz  Con muertos  2017-12-22T02:58:00.000Z  1187952.15   \n\n         x_magnet  version        id radicado  \n172418  833912.85      1.0  185160.0      NaN  \n194405  835454.94      1.0  199840.0      NaN  \n213933  837458.56      1.0  221527.0      NaN  \n219786  832200.75      1.0  228026.0      NaN  \n221146  837458.56      1.0  221527.0      NaN  \n226999  832200.75      1.0  228026.0      NaN  \n230644  835743.14      1.0  185220.0      NaN  ",
      "text/html": "<div>\n<style scoped>\n    .dataframe tbody tr th:only-of-type {\n        vertical-align: middle;\n    }\n\n    .dataframe tbody tr th {\n        vertical-align: top;\n    }\n\n    .dataframe thead th {\n        text-align: right;\n    }\n</style>\n<table border=\"1\" class=\"dataframe\">\n  <thead>\n    <tr style=\"text-align: right;\">\n      <th></th>\n      <th>timestamp</th>\n      <th>cbml</th>\n      <th>expediente</th>\n      <th>tipo_geocode</th>\n      <th>direccion_enc</th>\n      <th>clase</th>\n      <th>x_long_y_lat</th>\n      <th>mes</th>\n      <th>periodo</th>\n      <th>comuna</th>\n      <th>incidente</th>\n      <th>direccion</th>\n      <th>operador</th>\n      <th>path</th>\n      <th>num_comuna</th>\n      <th>diseno</th>\n      <th>barrio</th>\n      <th>gravedad</th>\n      <th>fecha</th>\n      <th>y_magnamed</th>\n      <th>x_magnet</th>\n      <th>version</th>\n      <th>id</th>\n      <th>radicado</th>\n    </tr>\n  </thead>\n  <tbody>\n    <tr>\n      <th>172418</th>\n      <td>2019-06-04T20:54:26.357Z</td>\n      <td>1008</td>\n      <td>A000665813</td>\n      <td>Malla vial</td>\n      <td>CL  044   59,  060 00000</td>\n      <td>Atropello</td>\n      <td>[-75.5781789259, 6.24722232125]</td>\n      <td>9.0</td>\n      <td>2017.0</td>\n      <td>La Candelaria</td>\n      <td>[u'incidentes']</td>\n      <td>CL 44 entre CR 59 y 60</td>\n      <td>Operador2</td>\n      <td>C:/ELK/logstash-6.5.1/data/Medata/Incidentes/I...</td>\n      <td>10</td>\n      <td>NaN</td>\n      <td>Corazón de Jesús</td>\n      <td>Con muertos</td>\n      <td>2017-09-06T10:45:00.000Z</td>\n      <td>1182813.77</td>\n      <td>833912.85</td>\n      <td>1.0</td>\n      <td>185160.0</td>\n      <td>NaN</td>\n    </tr>\n    <tr>\n      <th>194405</th>\n      <td>2019-06-04T20:55:15.642Z</td>\n      <td>1001</td>\n      <td>A000781645</td>\n      <td>Malla vial</td>\n      <td>CR  051   064  000 00000</td>\n      <td>Choque</td>\n      <td>[-75.5642888721, 6.26149302503]</td>\n      <td>5.0</td>\n      <td>2018.0</td>\n      <td>La Candelaria</td>\n      <td>[u'incidentes']</td>\n      <td>CR 51 CL 64</td>\n      <td>Operador2</td>\n      <td>C:/ELK/logstash-6.5.1/data/Medata/Incidentes/I...</td>\n      <td>10</td>\n      <td>NaN</td>\n      <td>Prado</td>\n      <td>Con muertos</td>\n      <td>2018-05-07T23:00:00.000Z</td>\n      <td>1184388.09</td>\n      <td>835454.94</td>\n      <td>1.0</td>\n      <td>199840.0</td>\n      <td>NaN</td>\n    </tr>\n    <tr>\n      <th>213933</th>\n      <td>2019-06-04T20:56:31.671Z</td>\n      <td>3.04016e+09</td>\n      <td>A000915723</td>\n      <td>Catastro con Interior</td>\n      <td>CL  080   032  082 00000</td>\n      <td>Choque</td>\n      <td>[-75.5462163508, 6.27139048405]</td>\n      <td>11.0</td>\n      <td>2018.0</td>\n      <td>Manrique</td>\n      <td>[u'incidentes']</td>\n      <td>CL 80 CR 32 - 82</td>\n      <td>Operador2</td>\n      <td>C:/ELK/logstash-6.5.1/data/Medata/Incidentes/I...</td>\n      <td>03</td>\n      <td>NaN</td>\n      <td>Santa Inés</td>\n      <td>Con muertos</td>\n      <td>2018-11-02T00:40:00.000Z</td>\n      <td>1185477.35</td>\n      <td>837458.56</td>\n      <td>1.0</td>\n      <td>221527.0</td>\n      <td>NaN</td>\n    </tr>\n    <tr>\n      <th>219786</th>\n      <td>2019-06-04T20:56:54.235Z</td>\n      <td>1114</td>\n      <td>A000921925</td>\n      <td>Malla vial</td>\n      <td>CL  059   078 AA 000 00000</td>\n      <td>Choque</td>\n      <td>[-75.5937109433, 6.27009843969]</td>\n      <td>12.0</td>\n      <td>2018.0</td>\n      <td>Laureles Estadio</td>\n      <td>[u'incidentes']</td>\n      <td>CL 59 CR 78 AA</td>\n      <td>Operador2</td>\n      <td>C:/ELK/logstash-6.5.1/data/Medata/Incidentes/I...</td>\n      <td>11</td>\n      <td>NaN</td>\n      <td>Los Colores</td>\n      <td>Con muertos</td>\n      <td>2018-12-26T05:30:00.000Z</td>\n      <td>1185349.38</td>\n      <td>832200.75</td>\n      <td>1.0</td>\n      <td>228026.0</td>\n      <td>NaN</td>\n    </tr>\n    <tr>\n      <th>221146</th>\n      <td>2019-06-04T20:56:31.671Z</td>\n      <td>3.04016e+09</td>\n      <td>A000915723</td>\n      <td>Catastro con Interior</td>\n      <td>CL  080   032  082 00000</td>\n      <td>Choque</td>\n      <td>[-75.5462163508, 6.27139048405]</td>\n      <td>11.0</td>\n      <td>2018.0</td>\n      <td>Manrique</td>\n      <td>[u'incidentes']</td>\n      <td>CL 80 CR 32 - 82</td>\n      <td>Operador2</td>\n      <td>C:/ELK/logstash-6.5.1/data/Medata/Incidentes/I...</td>\n      <td>03</td>\n      <td>NaN</td>\n      <td>Santa Inés</td>\n      <td>Con muertos</td>\n      <td>2018-11-02T00:40:00.000Z</td>\n      <td>1185477.35</td>\n      <td>837458.56</td>\n      <td>1.0</td>\n      <td>221527.0</td>\n      <td>NaN</td>\n    </tr>\n    <tr>\n      <th>226999</th>\n      <td>2019-06-04T20:56:54.235Z</td>\n      <td>1114</td>\n      <td>A000921925</td>\n      <td>Malla vial</td>\n      <td>CL  059   078 AA 000 00000</td>\n      <td>Choque</td>\n      <td>[-75.5937109433, 6.27009843969]</td>\n      <td>12.0</td>\n      <td>2018.0</td>\n      <td>Laureles Estadio</td>\n      <td>[u'incidentes']</td>\n      <td>CL 59 CR 78 AA</td>\n      <td>Operador2</td>\n      <td>C:/ELK/logstash-6.5.1/data/Medata/Incidentes/I...</td>\n      <td>11</td>\n      <td>NaN</td>\n      <td>Los Colores</td>\n      <td>Con muertos</td>\n      <td>2018-12-26T05:30:00.000Z</td>\n      <td>1185349.38</td>\n      <td>832200.75</td>\n      <td>1.0</td>\n      <td>228026.0</td>\n      <td>NaN</td>\n    </tr>\n    <tr>\n      <th>230644</th>\n      <td>2019-06-04T20:54:26.357Z</td>\n      <td>2.10009e+09</td>\n      <td>A000679365</td>\n      <td>Nomenclatura con Interior</td>\n      <td>CR  052   100  075 00000</td>\n      <td>Atropello</td>\n      <td>[-75.5617765971, 6.2937179105]</td>\n      <td>12.0</td>\n      <td>2017.0</td>\n      <td>Santa Cruz</td>\n      <td>[u'incidentes']</td>\n      <td>CR 52 CL 100  - 75</td>\n      <td>Operador2</td>\n      <td>C:/ELK/logstash-6.5.1/data/Medata/Incidentes/I...</td>\n      <td>02</td>\n      <td>NaN</td>\n      <td>Santa Cruz</td>\n      <td>Con muertos</td>\n      <td>2017-12-22T02:58:00.000Z</td>\n      <td>1187952.15</td>\n      <td>835743.14</td>\n      <td>1.0</td>\n      <td>185220.0</td>\n      <td>NaN</td>\n    </tr>\n  </tbody>\n</table>\n</div>"
     },
     "metadata": {},
     "execution_count": 10
    }
   ],
   "source": [
    "df[df.radicado.isna()] # check the number of nulls"
   ]
  },
  {
   "cell_type": "code",
   "execution_count": 54,
   "metadata": {},
   "outputs": [],
   "source": [
    "agg_df = agg_df[~agg_df.radicado.isna()]\n",
    "df=df[~df.radicado.isna()]\n",
    "dtype = dict(radicado=str)\n",
    "agg_df.radicado = agg_df.radicado.astype(dtype)\n",
    "df.radicado = df.radicado.astype(dtype)\n",
    "agg_df.radicado = agg_df.radicado.str.strip()\n",
    "agg_df.radicado = agg_df.radicado.str.replace(\"(\\d+)(.0)*\",\"\\\\1\") #.dtype #.sort_values(by=\"radicado\", ascending=False)\n",
    "agg_df.radicado = agg_df.radicado.str.replace(\"^(0+)(\\d+)\", \"\\\\2\")\n",
    "df.radicado = df.radicado.str.strip()\n",
    "df.radicado = df.radicado.str.replace(\"(\\d+)(.0)*\",\"\\\\1\")"
   ]
  },
  {
   "cell_type": "code",
   "execution_count": 58,
   "metadata": {},
   "outputs": [
    {
     "output_type": "execute_result",
     "data": {
      "text/plain": "'2019-10-01T04:20:00.000Z'"
     },
     "metadata": {},
     "execution_count": 58
    }
   ],
   "source": [
    "df.fecha.max()"
   ]
  },
  {
   "cell_type": "code",
   "execution_count": 55,
   "metadata": {},
   "outputs": [
    {
     "output_type": "execute_result",
     "data": {
      "text/plain": "(277752, 24)"
     },
     "metadata": {},
     "execution_count": 55
    }
   ],
   "source": [
    "df.shape"
   ]
  }
 ],
 "metadata": {
  "language_info": {
   "codemirror_mode": {
    "name": "ipython",
    "version": 3
   },
   "file_extension": ".py",
   "mimetype": "text/x-python",
   "name": "python",
   "nbconvert_exporter": "python",
   "pygments_lexer": "ipython3",
   "version": "3.6.3-final"
  },
  "orig_nbformat": 2,
  "kernelspec": {
   "name": "python36364bit010205621e194604b4d51b7b1eed1c51",
   "display_name": "Python 3.6.3 64-bit"
  }
 },
 "nbformat": 4,
 "nbformat_minor": 2
}