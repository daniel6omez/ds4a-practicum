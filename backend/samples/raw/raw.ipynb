{
 "cells": [
  {
   "cell_type": "markdown",
   "metadata": {},
   "source": [
    "# TITLE"
   ]
  },
  {
   "cell_type": "markdown",
   "metadata": {},
   "source": [
    "We downloaded the files from: <br>\n",
    "accidentalidad.csv: http://medata.gov.co/dataset/accidentalidad \n",
    "<br>\n",
    "AccidentalidadgeoreferenciadaYYYY:\n",
    "<br>\n",
    "http://medata.gov.co/dataset/accidentalidad-geo-referenciada-2019\n",
    "http://medata.gov.co/dataset/accidentalidad-geo-referenciada-2018\n",
    "http://medata.gov.co/dataset/accidentalidad-geo-referenciada-2017\n",
    "http://medata.gov.co/dataset/accidentalidad-geo-referenciada-2016\n",
    "http://medata.gov.co/dataset/accidentalidad-geo-referenciada-2015\n",
    "http://medata.gov.co/dataset/accidentalidad-geo-referenciada-2014\n",
    "<br>\n",
    "\n",
    "To ingest about dataset we decided to use two different dataframes, accidentalidad dataframe ```a_df``` to aggregate the differents files by year and include the incident time wich is not included in the accidentalidad_georrererenciada dataframe ```ag_df```, so we use these two dataframes to verify the integrity of the datasets and build one dataset with all the information we need.\n",
    "\n",
    "In the following code we clean and merge the datasets:"
   ]
  },
  {
   "cell_type": "markdown",
   "metadata": {},
   "source": [
    "# Download all the data\n"
   ]
  },
  {
   "cell_type": "code",
   "execution_count": 299,
   "metadata": {
    "tags": []
   },
   "outputs": [],
   "source": [
    "import requests\n",
    "import pandas as pd\n",
    "import geopandas as gpd\n",
    "from geopandas.tools import sjoin\n",
    "from shapely import geometry\n",
    "import numpy as np\n",
    "from ast import literal_eval\n",
    "from unidecode import unidecode\n",
    "import holidays\n",
    "import random\n",
    "pd.options.display.max_columns = None\n",
    "\n",
    "\n",
    "#!brew install spatialindex #needs rtree to work\n",
    "#pip install rtree\n"
   ]
  },
  {
   "cell_type": "code",
   "execution_count": 300,
   "metadata": {},
   "outputs": [],
   "source": [
    "# url_incidentes = 'https://ds4a.blob.core.windows.net/ds4a/Incidentes2014_2020.xlsx'"
   ]
  },
  {
   "cell_type": "code",
   "execution_count": 301,
   "metadata": {},
   "outputs": [],
   "source": [
    "# r =requests.get(url_incidentes, allow_redirects=True)\n",
    "# open('./data/Incidentes2014_2020.xlsx', 'wb').write(r.content)"
   ]
  },
  {
   "cell_type": "code",
   "execution_count": 302,
   "metadata": {},
   "outputs": [],
   "source": [
    "i_df = pd.read_excel('./data/Incidentes2014_2020.xlsx')"
   ]
  },
  {
   "cell_type": "code",
   "execution_count": 303,
   "metadata": {},
   "outputs": [
    {
     "output_type": "execute_result",
     "data": {
      "text/plain": "(288983, 15)"
     },
     "metadata": {},
     "execution_count": 303
    }
   ],
   "source": [
    "i_df.shape"
   ]
  },
  {
   "cell_type": "code",
   "execution_count": 304,
   "metadata": {},
   "outputs": [
    {
     "output_type": "execute_result",
     "data": {
      "text/plain": "Index(['NRO_RADICADO', 'Latitud', 'Longitud', 'CLASE_ACCIDENTE', 'DIRECCION',\n       'CBML', 'Gravedad Incidente', 'nombre comuna', 'Barrio', 'Diseño',\n       'Año', 'FECHA_ACCIDENTE', 'HORA_ACCIDENTE', 'codigo comuna', 'Comuna'],\n      dtype='object')"
     },
     "metadata": {},
     "execution_count": 304
    }
   ],
   "source": [
    "i_df.columns"
   ]
  },
  {
   "cell_type": "code",
   "execution_count": 305,
   "metadata": {},
   "outputs": [],
   "source": [
    "i_df.drop(columns=['Comuna'],inplace=True)"
   ]
  },
  {
   "cell_type": "code",
   "execution_count": 306,
   "metadata": {},
   "outputs": [
    {
     "output_type": "execute_result",
     "data": {
      "text/plain": "       Radicado  Latitude  Longitude            Type            Address  Cbml  \\\n0       1423828  6.219016 -75.602726          Choque         CR 80 CL 8  1611   \n1       1423839  6.260009 -75.568185       Atropello        CR 53 CL 61  1003   \n2       1423840  6.264765 -75.549943       Atropello        CR 39 CL 70  0308   \n3       1423849  6.234327 -75.607611       Atropello        CL 32 CR 84  1617   \n4       1423890  6.300243 -75.579644  Caida Ocupante       CR 80 CL 101  0603   \n...         ...       ...        ...             ...                ...   ...   \n288978  1717678  6.220716 -75.559017  Caida Ocupante       CL 19A CR 27  9004   \n288979  1717650  6.286417 -75.570338          Choque        CR 65 CL 94  0511   \n288980  1717526  6.221415 -75.703776          Choque  CR 86 CL 44 B Sur  1204   \n288981  1717545  6.235761 -75.538379            Otro        CR 12 CL 53  0813   \n288982  1717634  6.254707 -75.562176       Atropello        CR 47 CL 58  1017   \n\n           Severity                        Comuna               Borough  \\\n0       Con heridos                         Belén    Loma de los Bernal   \n1       Con heridos                 La Candelaria        Jesús Nazareno   \n2       Con heridos                      Manrique     Manrique Oriental   \n3       Con heridos                         Belén          Las Mercedes   \n4       Con heridos               Doce De Octubre  Doce de Octubre No.2   \n...             ...                           ...                   ...   \n288978  Con heridos  Corregimiento De Santa Elena                  9004   \n288979  Con heridos                      Castilla              Castilla   \n288980  Con heridos                    La América            La América   \n288981  Con heridos                 Villa Hermosa             Villatina   \n288982  Con heridos                 La Candelaria           Los Ángeles   \n\n               Desing  Year       Date      Time codigo_comuna  \n0        Tramo de via  2014 2014-01-01  02:20:00            16  \n1        Tramo de via  2014 2014-01-01  00:50:00            10  \n2        Tramo de via  2014 2014-01-01  01:00:00             3  \n3        Tramo de via  2014 2014-01-01  00:37:00            16  \n4        Tramo de via  2014 2014-01-01  10:40:00             6  \n...               ...   ...        ...       ...           ...  \n288978  Lote o Predio  2020 2020-06-30  21:00:00            90  \n288979   Interseccion  2020 2020-06-30  21:05:00             5  \n288980   Tramo de via  2020 2020-06-30  21:15:00            12  \n288981  Lote o Predio  2020 2020-06-30  22:00:00             8  \n288982   Tramo de via  2020 2020-06-30  22:10:00            10  \n\n[288983 rows x 14 columns]",
      "text/html": "<div>\n<style scoped>\n    .dataframe tbody tr th:only-of-type {\n        vertical-align: middle;\n    }\n\n    .dataframe tbody tr th {\n        vertical-align: top;\n    }\n\n    .dataframe thead th {\n        text-align: right;\n    }\n</style>\n<table border=\"1\" class=\"dataframe\">\n  <thead>\n    <tr style=\"text-align: right;\">\n      <th></th>\n      <th>Radicado</th>\n      <th>Latitude</th>\n      <th>Longitude</th>\n      <th>Type</th>\n      <th>Address</th>\n      <th>Cbml</th>\n      <th>Severity</th>\n      <th>Comuna</th>\n      <th>Borough</th>\n      <th>Desing</th>\n      <th>Year</th>\n      <th>Date</th>\n      <th>Time</th>\n      <th>codigo_comuna</th>\n    </tr>\n  </thead>\n  <tbody>\n    <tr>\n      <th>0</th>\n      <td>1423828</td>\n      <td>6.219016</td>\n      <td>-75.602726</td>\n      <td>Choque</td>\n      <td>CR 80 CL 8</td>\n      <td>1611</td>\n      <td>Con heridos</td>\n      <td>Belén</td>\n      <td>Loma de los Bernal</td>\n      <td>Tramo de via</td>\n      <td>2014</td>\n      <td>2014-01-01</td>\n      <td>02:20:00</td>\n      <td>16</td>\n    </tr>\n    <tr>\n      <th>1</th>\n      <td>1423839</td>\n      <td>6.260009</td>\n      <td>-75.568185</td>\n      <td>Atropello</td>\n      <td>CR 53 CL 61</td>\n      <td>1003</td>\n      <td>Con heridos</td>\n      <td>La Candelaria</td>\n      <td>Jesús Nazareno</td>\n      <td>Tramo de via</td>\n      <td>2014</td>\n      <td>2014-01-01</td>\n      <td>00:50:00</td>\n      <td>10</td>\n    </tr>\n    <tr>\n      <th>2</th>\n      <td>1423840</td>\n      <td>6.264765</td>\n      <td>-75.549943</td>\n      <td>Atropello</td>\n      <td>CR 39 CL 70</td>\n      <td>0308</td>\n      <td>Con heridos</td>\n      <td>Manrique</td>\n      <td>Manrique Oriental</td>\n      <td>Tramo de via</td>\n      <td>2014</td>\n      <td>2014-01-01</td>\n      <td>01:00:00</td>\n      <td>3</td>\n    </tr>\n    <tr>\n      <th>3</th>\n      <td>1423849</td>\n      <td>6.234327</td>\n      <td>-75.607611</td>\n      <td>Atropello</td>\n      <td>CL 32 CR 84</td>\n      <td>1617</td>\n      <td>Con heridos</td>\n      <td>Belén</td>\n      <td>Las Mercedes</td>\n      <td>Tramo de via</td>\n      <td>2014</td>\n      <td>2014-01-01</td>\n      <td>00:37:00</td>\n      <td>16</td>\n    </tr>\n    <tr>\n      <th>4</th>\n      <td>1423890</td>\n      <td>6.300243</td>\n      <td>-75.579644</td>\n      <td>Caida Ocupante</td>\n      <td>CR 80 CL 101</td>\n      <td>0603</td>\n      <td>Con heridos</td>\n      <td>Doce De Octubre</td>\n      <td>Doce de Octubre No.2</td>\n      <td>Tramo de via</td>\n      <td>2014</td>\n      <td>2014-01-01</td>\n      <td>10:40:00</td>\n      <td>6</td>\n    </tr>\n    <tr>\n      <th>...</th>\n      <td>...</td>\n      <td>...</td>\n      <td>...</td>\n      <td>...</td>\n      <td>...</td>\n      <td>...</td>\n      <td>...</td>\n      <td>...</td>\n      <td>...</td>\n      <td>...</td>\n      <td>...</td>\n      <td>...</td>\n      <td>...</td>\n      <td>...</td>\n    </tr>\n    <tr>\n      <th>288978</th>\n      <td>1717678</td>\n      <td>6.220716</td>\n      <td>-75.559017</td>\n      <td>Caida Ocupante</td>\n      <td>CL 19A CR 27</td>\n      <td>9004</td>\n      <td>Con heridos</td>\n      <td>Corregimiento De Santa Elena</td>\n      <td>9004</td>\n      <td>Lote o Predio</td>\n      <td>2020</td>\n      <td>2020-06-30</td>\n      <td>21:00:00</td>\n      <td>90</td>\n    </tr>\n    <tr>\n      <th>288979</th>\n      <td>1717650</td>\n      <td>6.286417</td>\n      <td>-75.570338</td>\n      <td>Choque</td>\n      <td>CR 65 CL 94</td>\n      <td>0511</td>\n      <td>Con heridos</td>\n      <td>Castilla</td>\n      <td>Castilla</td>\n      <td>Interseccion</td>\n      <td>2020</td>\n      <td>2020-06-30</td>\n      <td>21:05:00</td>\n      <td>5</td>\n    </tr>\n    <tr>\n      <th>288980</th>\n      <td>1717526</td>\n      <td>6.221415</td>\n      <td>-75.703776</td>\n      <td>Choque</td>\n      <td>CR 86 CL 44 B Sur</td>\n      <td>1204</td>\n      <td>Con heridos</td>\n      <td>La América</td>\n      <td>La América</td>\n      <td>Tramo de via</td>\n      <td>2020</td>\n      <td>2020-06-30</td>\n      <td>21:15:00</td>\n      <td>12</td>\n    </tr>\n    <tr>\n      <th>288981</th>\n      <td>1717545</td>\n      <td>6.235761</td>\n      <td>-75.538379</td>\n      <td>Otro</td>\n      <td>CR 12 CL 53</td>\n      <td>0813</td>\n      <td>Con heridos</td>\n      <td>Villa Hermosa</td>\n      <td>Villatina</td>\n      <td>Lote o Predio</td>\n      <td>2020</td>\n      <td>2020-06-30</td>\n      <td>22:00:00</td>\n      <td>8</td>\n    </tr>\n    <tr>\n      <th>288982</th>\n      <td>1717634</td>\n      <td>6.254707</td>\n      <td>-75.562176</td>\n      <td>Atropello</td>\n      <td>CR 47 CL 58</td>\n      <td>1017</td>\n      <td>Con heridos</td>\n      <td>La Candelaria</td>\n      <td>Los Ángeles</td>\n      <td>Tramo de via</td>\n      <td>2020</td>\n      <td>2020-06-30</td>\n      <td>22:10:00</td>\n      <td>10</td>\n    </tr>\n  </tbody>\n</table>\n<p>288983 rows × 14 columns</p>\n</div>"
     },
     "metadata": {},
     "execution_count": 306
    }
   ],
   "source": [
    "i_df.rename(columns={\"NRO_RADICADO\": \"Radicado\", \"CLASE_ACCIDENTE\":\"Type\", \"DIRECCION\":\"Address\", \"CBML\":\"Cbml\", \"Barrio\":\"Borough\", \"nombre comuna\":\"Comuna\", \"codigo comuna\":\"codigo_comuna\", \"Diseño\":\"Desing\", \"Longitud\":\"Longitude\", \"Latitud\":\"Latitude\",  \"Gravedad Incidente\":\"Severity\", \"FECHA_ACCIDENTE\":\"Date\", \"Año\":\"Year\", \"HORA_ACCIDENTE\":\"Time\"},inplace=True)\n",
    "i_df.co"
   ]
  },
  {
   "cell_type": "code",
   "execution_count": 422,
   "metadata": {},
   "outputs": [
    {
     "output_type": "execute_result",
     "data": {
      "text/plain": "10         55481\n11         28867\n5          26545\n14         23216\nSin Inf    21976\n15         19706\n16         17856\n7          17656\n4          15405\n9          10447\n12          8588\n3           8278\n6           7389\n8           7120\n13          4636\n80          4342\n1           3931\n2           3683\n60          2640\n90           605\n70           599\n50            18\nName: codigo_comuna, dtype: int64"
     },
     "metadata": {},
     "execution_count": 422
    }
   ],
   "source": [
    "i_df.codigo_comuna.value_counts()"
   ]
  },
  {
   "cell_type": "code",
   "execution_count": 308,
   "metadata": {
    "tags": []
   },
   "outputs": [
    {
     "output_type": "stream",
     "name": "stdout",
     "text": "Radicado  :  3  NaN\nLatitude  :  534  NaN\nLongitude  :  534  NaN\nType  :  7  NaN\nCbml  :  22600  NaN\nBorough  :  23472  NaN\nDesing  :  785  NaN\nTime  :  2  NaN\n"
    }
   ],
   "source": [
    "for i in i_df.isna().any()[i_df.isna().any() == True].index:\n",
    "    print(i,' : ' ,i_df[i_df[i].isna()][i].size,' NaN')"
   ]
  },
  {
   "cell_type": "code",
   "execution_count": 309,
   "metadata": {
    "tags": []
   },
   "outputs": [
    {
     "output_type": "execute_result",
     "data": {
      "text/plain": "1627001    1\n1628092    1\n1486421    1\n1614731    1\n1706457    1\n          ..\n1462162    1\n1462161    1\n1476701    1\n1462159    1\n1572864    1\nName: Radicado, Length: 288983, dtype: int64"
     },
     "metadata": {},
     "execution_count": 309
    }
   ],
   "source": [
    "i_df.loc[(i_df.Radicado.isna()),'Radicado'] = i_df[i_df.Radicado.isna()].Radicado.apply(lambda x :str(int(round(random.random() * 9999999,0))))\n",
    "i_df.Radicado.value_counts()"
   ]
  },
  {
   "cell_type": "code",
   "execution_count": 333,
   "metadata": {
    "tags": []
   },
   "outputs": [
    {
     "output_type": "stream",
     "name": "stdout",
     "text": "Latitude  :  534  NaN\nLongitude  :  534  NaN\nType  :  7  NaN\nCbml_standard  :  22600  NaN\nBorough_original  :  23472  NaN\nDesing  :  785  NaN\nTime  :  2  NaN\nBorough_standard  :  24331  NaN\nComuna_standard  :  24331  NaN\nCbml  :  23450  NaN\nBorough  :  23450  NaN\nComuna  :  23450  NaN\n"
    }
   ],
   "source": [
    "for i in i_df.isna().any()[i_df.isna().any() == True].index:\n",
    "    print(i,' : ' ,i_df[i_df[i].isna()][i].size,' NaN')"
   ]
  },
  {
   "cell_type": "code",
   "execution_count": 363,
   "metadata": {},
   "outputs": [],
   "source": [
    "url_postal_codes_with_boroughs = 'https://ds4a.blob.core.windows.net/ds4a/postalCodesBoroughs.json'\n",
    "pcb_df = pd.read_json(url_postal_codes_with_boroughs, dtype=str)"
   ]
  },
  {
   "cell_type": "code",
   "execution_count": 364,
   "metadata": {},
   "outputs": [
    {
     "output_type": "execute_result",
     "data": {
      "text/plain": "   postalCode      state          city locType  \\\n0      055417  ANTIOQUIA        ITAGÜI   Rural   \n1      055420  ANTIOQUIA      ENVIGADO  Urbano   \n2      055422  ANTIOQUIA      ENVIGADO  Urbano   \n3      055428  ANTIOQUIA      ENVIGADO   Rural   \n4      050048  ANTIOQUIA      MEDELLIN   Rural   \n5      050029  ANTIOQUIA      MEDELLIN   Rural   \n6      050027  ANTIOQUIA      MEDELLIN   Rural   \n7      050047  ANTIOQUIA      MEDELLIN   Rural   \n8      050028  ANTIOQUIA      MEDELLIN   Rural   \n9      050007  ANTIOQUIA      MEDELLIN   Rural   \n10     050018  ANTIOQUIA      MEDELLIN   Rural   \n11     051057  ANTIOQUIA         BELLO   Rural   \n12     051051  ANTIOQUIA         BELLO  Urbano   \n13     051052  ANTIOQUIA         BELLO  Urbano   \n14     055467  ANTIOQUIA   LA ESTRELLA   Rural   \n15     054058  ANTIOQUIA        GUARNE   Rural   \n16     055817  ANTIOQUIA       EBEJICO   Rural   \n17     055837  ANTIOQUIA   ANGELOPOLIS   Rural   \n18     051058  ANTIOQUIA         BELLO   Rural   \n19     051048  ANTIOQUIA    COPACABANA   Rural   \n20     055427  ANTIOQUIA      ENVIGADO   Rural   \n21     055827  ANTIOQUIA     HELICONIA   Rural   \n22     054047  ANTIOQUIA      RIONEGRO   Rural   \n23     051077  ANTIOQUIA  SAN JERONIMO   Rural   \n24     050003  ANTIOQUIA      MEDELLIN  Urbano   \n25     050004  ANTIOQUIA      MEDELLIN  Urbano   \n26     050006  ANTIOQUIA      MEDELLIN  Urbano   \n27     050005  ANTIOQUIA      MEDELLIN  Urbano   \n28     050010  ANTIOQUIA      MEDELLIN  Urbano   \n29     050011  ANTIOQUIA      MEDELLIN  Urbano   \n30     050015  ANTIOQUIA      MEDELLIN  Urbano   \n31     050012  ANTIOQUIA      MEDELLIN  Urbano   \n32     050013  ANTIOQUIA      MEDELLIN  Urbano   \n33     050014  ANTIOQUIA      MEDELLIN  Urbano   \n34     050044  ANTIOQUIA      MEDELLIN  Urbano   \n35     050037  ANTIOQUIA      MEDELLIN   Rural   \n36     050002  ANTIOQUIA      MEDELLIN  Urbano   \n37     050023  ANTIOQUIA      MEDELLIN  Urbano   \n38     055411  ANTIOQUIA        ITAGÜI  Urbano   \n39     050016  ANTIOQUIA      MEDELLIN  Urbano   \n40     050020  ANTIOQUIA      MEDELLIN  Urbano   \n41     050021  ANTIOQUIA      MEDELLIN  Urbano   \n42     050024  ANTIOQUIA      MEDELLIN  Urbano   \n43     050025  ANTIOQUIA      MEDELLIN  Urbano   \n44     050026  ANTIOQUIA      MEDELLIN  Urbano   \n45     050030  ANTIOQUIA      MEDELLIN  Urbano   \n46     050031  ANTIOQUIA      MEDELLIN  Urbano   \n47     050032  ANTIOQUIA      MEDELLIN  Urbano   \n48     050033  ANTIOQUIA      MEDELLIN  Urbano   \n49     050034  ANTIOQUIA      MEDELLIN  Urbano   \n50     050035  ANTIOQUIA      MEDELLIN  Urbano   \n51     050036  ANTIOQUIA      MEDELLIN  Urbano   \n52     050040  ANTIOQUIA      MEDELLIN  Urbano   \n53     050042  ANTIOQUIA      MEDELLIN  Urbano   \n54     050041  ANTIOQUIA      MEDELLIN  Urbano   \n55     050001  ANTIOQUIA      MEDELLIN  Urbano   \n56     050043  ANTIOQUIA      MEDELLIN  Urbano   \n57     050022  ANTIOQUIA      MEDELLIN  Urbano   \n58     050017  ANTIOQUIA      MEDELLIN   Rural   \n\n                                             boroughs  \\\n0                          Sin Informacion de Barrios   \n1   Alto de Misael, El Chocho, El Esmeraldal, La I...   \n2   Alcalá, Bosques de Zúñiga, Bucarest, Centro, E...   \n3                          Sin Informacion de Barrios   \n4                          Sin Informacion de Barrios   \n5                          Sin Informacion de Barrios   \n6                          Sin Informacion de Barrios   \n7                                Monteclaro, Pajarito   \n8                          Sin Informacion de Barrios   \n9                          Sin Informacion de Barrios   \n10                         Sin Informacion de Barrios   \n11                         Sin Informacion de Barrios   \n12  Acevedo, Acevedo Bello, Alcalá, Fontiqueño, La...   \n13  El Cafetal, José Antonio Galán, La Esmeralda, ...   \n14                         Sin Informacion de Barrios   \n15                         Sin Informacion de Barrios   \n16                         Sin Informacion de Barrios   \n17                         Sin Informacion de Barrios   \n18                         Sin Informacion de Barrios   \n19                                       Las Canteras   \n20                         Sin Informacion de Barrios   \n21                         Sin Informacion de Barrios   \n22                         Sin Informacion de Barrios   \n23                         Sin Informacion de Barrios   \n24  Granizal, La Rosa, Moscú No.1, Moscú No.2, San...   \n25  Aranjuez, Berlin, Bermejal-Los Alamos, La piñu...   \n26  Brasilia, Campo Valdés No.1, Las Esmeraldas, M...   \n27  Campo Valdés No.2, La Salle, Las Granjas, Marí...   \n28  El Chagualo, Estación Villa, Hospital San Vice...   \n29  Batallón Girardot, El Pomar, El Raizal, La Cru...   \n30  Calle Nueva, Centro Administrativo, Corazón de...   \n31  Boston, La Candelaria, La Mansión, Los Ángeles...   \n32  Barrio Caycedo, El Pinal, Enciso, La Ladera, L...   \n33  Alejandro Echavarría, Barrios de Jesús, Juan P...   \n34  Boyacá, Florencia, Héctor Abad Gómez, Las Bris...   \n35                         Sin Informacion de Barrios   \n36  Aldea Pablo VI, Carpinelo, El Compromiso, La A...   \n37  El Rincón, El Rodeo, Guayabal, La Colina, La H...   \n38  La Esmeralda, San Fernando, Santa María No 2, ...   \n39  Asomadera No.1, Barrio Colón, Bomboná No.1, Bu...   \n40  Bomboná No.2, Cataluña, La Milagrosa, Loreto, ...   \n41  Altos del Poblado, Asomadera No.2, Asomadera N...   \n42  Campo Amor, Cristo Rey, Parque Juan Pablo II, ...   \n43  Diego Echavarría, Granada, Las Playas, San Ber...   \n44  Altavista, Area de Expansión Altavista, La Glo...   \n45  Belén, Cerro Nutibara, El Nogal-Los Almendros,...   \n46  Bolivariana, El Velódromo, Florida Nueva, Las ...   \n47  Barrio Cristóbal, Belencito, Campo Alegre, El ...   \n48  Antonio Nariño, Betania, Eduardo Santos, El Co...   \n49  Altamira, Batallón Cuarta Brigada, Bosques de ...   \n50  Area de Expansión San Cristóbal, Blanquizal, C...   \n51  Cucaracho, Fuente Clara, Robledo, Santa Margarita   \n52  Alfonso Lopez, Córdoba, Cementerio Universal, ...   \n53  Belalcázar, Castilla, Girardot, La Esperanza, ...   \n54  Aures No.1, Aures No.2, Bello Horizonte, El Di...   \n55  Andalucía, La Francia, La Frontera, La Isla, P...   \n56  Doce de Octubre No.1, Doce de Octubre No.2, El...   \n57  Alejandría, Astorga, El Castillo, El Diamante ...   \n58                         Sin Informacion de Barrios   \n\n                                        otherBoroughs  \n0                                 El Jardín, La Verde  \n1                          Sin Informacion de Veredas  \n2                          Sin Informacion de Veredas  \n3                          Sin Informacion de Veredas  \n4   La Aldea, La Esmeralda,  La Frisola,  La Sucia...  \n5   Área de Expansión San Antonio de Prado, Buga P...  \n6                                         Aguas Frías  \n7                          Sin Informacion de Veredas  \n8                          Sin Informacion de Veredas  \n9                              Barro Blanco, La Honda  \n10                         Sin Informacion de Veredas  \n11                         Sin Informacion de Veredas  \n12                         Sin Informacion de Veredas  \n13                         Sin Informacion de Veredas  \n14                         Sin Informacion de Veredas  \n15                                             Canoas  \n16  Alto El Brasil, Blanquizal,  Comunidad,  El Ce...  \n17  Cabecera Municipal, Cascajala,  Chuscal,  Cien...  \n18  Boquerón, Cabecera Municipal,  Cabecera Munici...  \n19  Alto de la Virgen, Alvarado,  Ancón,  Cabecera...  \n20  Cabecera Municipal, Carrizales,  El Escobero, ...  \n21  Cabecera Municipal, El Chocho,  El Hatillo,  E...  \n22  Abreito, Abreo,  Aeropuerto,  Barro Blanco,  C...  \n23  Agua Mala, Alto Colorado,  Buenos Aires Parte ...  \n24                         Sin Informacion de Veredas  \n25                         Sin Informacion de Veredas  \n26                         Sin Informacion de Veredas  \n27                         Sin Informacion de Veredas  \n28                         Sin Informacion de Veredas  \n29                         Sin Informacion de Veredas  \n30                         Sin Informacion de Veredas  \n31                         Sin Informacion de Veredas  \n32                         Sin Informacion de Veredas  \n33                                         Media Luna  \n34                         Sin Informacion de Veredas  \n35  El Astillero, El Llano,  El Patio,  El Uvito, ...  \n36                         Sin Informacion de Veredas  \n37                            San José del Manzanillo  \n38                         Sin Informacion de Veredas  \n39                         Sin Informacion de Veredas  \n40                         Sin Informacion de Veredas  \n41                         Sin Informacion de Veredas  \n42                         Sin Informacion de Veredas  \n43                         Sin Informacion de Veredas  \n44  Altavista Sector Central, Área de Expansión Al...  \n45                         Sin Informacion de Veredas  \n46                         Sin Informacion de Veredas  \n47                         Sin Informacion de Veredas  \n48      Eduardo Santos, El Corazón El Morro,  La Loma  \n49                         Sin Informacion de Veredas  \n50                    Área de Expansión San Cristóbal  \n51  Área de Expansión Pajarito, Cabecera Urbana Co...  \n52                         Sin Informacion de Veredas  \n53                         Sin Informacion de Veredas  \n54                                           Pajarito  \n55                         Sin Informacion de Veredas  \n56                         Sin Informacion de Veredas  \n57                         Sin Informacion de Veredas  \n58  Barro Blanco, El Llano SE,  El Placer,  El Pla...  ",
      "text/html": "<div>\n<style scoped>\n    .dataframe tbody tr th:only-of-type {\n        vertical-align: middle;\n    }\n\n    .dataframe tbody tr th {\n        vertical-align: top;\n    }\n\n    .dataframe thead th {\n        text-align: right;\n    }\n</style>\n<table border=\"1\" class=\"dataframe\">\n  <thead>\n    <tr style=\"text-align: right;\">\n      <th></th>\n      <th>postalCode</th>\n      <th>state</th>\n      <th>city</th>\n      <th>locType</th>\n      <th>boroughs</th>\n      <th>otherBoroughs</th>\n    </tr>\n  </thead>\n  <tbody>\n    <tr>\n      <th>0</th>\n      <td>055417</td>\n      <td>ANTIOQUIA</td>\n      <td>ITAGÜI</td>\n      <td>Rural</td>\n      <td>Sin Informacion de Barrios</td>\n      <td>El Jardín, La Verde</td>\n    </tr>\n    <tr>\n      <th>1</th>\n      <td>055420</td>\n      <td>ANTIOQUIA</td>\n      <td>ENVIGADO</td>\n      <td>Urbano</td>\n      <td>Alto de Misael, El Chocho, El Esmeraldal, La I...</td>\n      <td>Sin Informacion de Veredas</td>\n    </tr>\n    <tr>\n      <th>2</th>\n      <td>055422</td>\n      <td>ANTIOQUIA</td>\n      <td>ENVIGADO</td>\n      <td>Urbano</td>\n      <td>Alcalá, Bosques de Zúñiga, Bucarest, Centro, E...</td>\n      <td>Sin Informacion de Veredas</td>\n    </tr>\n    <tr>\n      <th>3</th>\n      <td>055428</td>\n      <td>ANTIOQUIA</td>\n      <td>ENVIGADO</td>\n      <td>Rural</td>\n      <td>Sin Informacion de Barrios</td>\n      <td>Sin Informacion de Veredas</td>\n    </tr>\n    <tr>\n      <th>4</th>\n      <td>050048</td>\n      <td>ANTIOQUIA</td>\n      <td>MEDELLIN</td>\n      <td>Rural</td>\n      <td>Sin Informacion de Barrios</td>\n      <td>La Aldea, La Esmeralda,  La Frisola,  La Sucia...</td>\n    </tr>\n    <tr>\n      <th>5</th>\n      <td>050029</td>\n      <td>ANTIOQUIA</td>\n      <td>MEDELLIN</td>\n      <td>Rural</td>\n      <td>Sin Informacion de Barrios</td>\n      <td>Área de Expansión San Antonio de Prado, Buga P...</td>\n    </tr>\n    <tr>\n      <th>6</th>\n      <td>050027</td>\n      <td>ANTIOQUIA</td>\n      <td>MEDELLIN</td>\n      <td>Rural</td>\n      <td>Sin Informacion de Barrios</td>\n      <td>Aguas Frías</td>\n    </tr>\n    <tr>\n      <th>7</th>\n      <td>050047</td>\n      <td>ANTIOQUIA</td>\n      <td>MEDELLIN</td>\n      <td>Rural</td>\n      <td>Monteclaro, Pajarito</td>\n      <td>Sin Informacion de Veredas</td>\n    </tr>\n    <tr>\n      <th>8</th>\n      <td>050028</td>\n      <td>ANTIOQUIA</td>\n      <td>MEDELLIN</td>\n      <td>Rural</td>\n      <td>Sin Informacion de Barrios</td>\n      <td>Sin Informacion de Veredas</td>\n    </tr>\n    <tr>\n      <th>9</th>\n      <td>050007</td>\n      <td>ANTIOQUIA</td>\n      <td>MEDELLIN</td>\n      <td>Rural</td>\n      <td>Sin Informacion de Barrios</td>\n      <td>Barro Blanco, La Honda</td>\n    </tr>\n    <tr>\n      <th>10</th>\n      <td>050018</td>\n      <td>ANTIOQUIA</td>\n      <td>MEDELLIN</td>\n      <td>Rural</td>\n      <td>Sin Informacion de Barrios</td>\n      <td>Sin Informacion de Veredas</td>\n    </tr>\n    <tr>\n      <th>11</th>\n      <td>051057</td>\n      <td>ANTIOQUIA</td>\n      <td>BELLO</td>\n      <td>Rural</td>\n      <td>Sin Informacion de Barrios</td>\n      <td>Sin Informacion de Veredas</td>\n    </tr>\n    <tr>\n      <th>12</th>\n      <td>051051</td>\n      <td>ANTIOQUIA</td>\n      <td>BELLO</td>\n      <td>Urbano</td>\n      <td>Acevedo, Acevedo Bello, Alcalá, Fontiqueño, La...</td>\n      <td>Sin Informacion de Veredas</td>\n    </tr>\n    <tr>\n      <th>13</th>\n      <td>051052</td>\n      <td>ANTIOQUIA</td>\n      <td>BELLO</td>\n      <td>Urbano</td>\n      <td>El Cafetal, José Antonio Galán, La Esmeralda, ...</td>\n      <td>Sin Informacion de Veredas</td>\n    </tr>\n    <tr>\n      <th>14</th>\n      <td>055467</td>\n      <td>ANTIOQUIA</td>\n      <td>LA ESTRELLA</td>\n      <td>Rural</td>\n      <td>Sin Informacion de Barrios</td>\n      <td>Sin Informacion de Veredas</td>\n    </tr>\n    <tr>\n      <th>15</th>\n      <td>054058</td>\n      <td>ANTIOQUIA</td>\n      <td>GUARNE</td>\n      <td>Rural</td>\n      <td>Sin Informacion de Barrios</td>\n      <td>Canoas</td>\n    </tr>\n    <tr>\n      <th>16</th>\n      <td>055817</td>\n      <td>ANTIOQUIA</td>\n      <td>EBEJICO</td>\n      <td>Rural</td>\n      <td>Sin Informacion de Barrios</td>\n      <td>Alto El Brasil, Blanquizal,  Comunidad,  El Ce...</td>\n    </tr>\n    <tr>\n      <th>17</th>\n      <td>055837</td>\n      <td>ANTIOQUIA</td>\n      <td>ANGELOPOLIS</td>\n      <td>Rural</td>\n      <td>Sin Informacion de Barrios</td>\n      <td>Cabecera Municipal, Cascajala,  Chuscal,  Cien...</td>\n    </tr>\n    <tr>\n      <th>18</th>\n      <td>051058</td>\n      <td>ANTIOQUIA</td>\n      <td>BELLO</td>\n      <td>Rural</td>\n      <td>Sin Informacion de Barrios</td>\n      <td>Boquerón, Cabecera Municipal,  Cabecera Munici...</td>\n    </tr>\n    <tr>\n      <th>19</th>\n      <td>051048</td>\n      <td>ANTIOQUIA</td>\n      <td>COPACABANA</td>\n      <td>Rural</td>\n      <td>Las Canteras</td>\n      <td>Alto de la Virgen, Alvarado,  Ancón,  Cabecera...</td>\n    </tr>\n    <tr>\n      <th>20</th>\n      <td>055427</td>\n      <td>ANTIOQUIA</td>\n      <td>ENVIGADO</td>\n      <td>Rural</td>\n      <td>Sin Informacion de Barrios</td>\n      <td>Cabecera Municipal, Carrizales,  El Escobero, ...</td>\n    </tr>\n    <tr>\n      <th>21</th>\n      <td>055827</td>\n      <td>ANTIOQUIA</td>\n      <td>HELICONIA</td>\n      <td>Rural</td>\n      <td>Sin Informacion de Barrios</td>\n      <td>Cabecera Municipal, El Chocho,  El Hatillo,  E...</td>\n    </tr>\n    <tr>\n      <th>22</th>\n      <td>054047</td>\n      <td>ANTIOQUIA</td>\n      <td>RIONEGRO</td>\n      <td>Rural</td>\n      <td>Sin Informacion de Barrios</td>\n      <td>Abreito, Abreo,  Aeropuerto,  Barro Blanco,  C...</td>\n    </tr>\n    <tr>\n      <th>23</th>\n      <td>051077</td>\n      <td>ANTIOQUIA</td>\n      <td>SAN JERONIMO</td>\n      <td>Rural</td>\n      <td>Sin Informacion de Barrios</td>\n      <td>Agua Mala, Alto Colorado,  Buenos Aires Parte ...</td>\n    </tr>\n    <tr>\n      <th>24</th>\n      <td>050003</td>\n      <td>ANTIOQUIA</td>\n      <td>MEDELLIN</td>\n      <td>Urbano</td>\n      <td>Granizal, La Rosa, Moscú No.1, Moscú No.2, San...</td>\n      <td>Sin Informacion de Veredas</td>\n    </tr>\n    <tr>\n      <th>25</th>\n      <td>050004</td>\n      <td>ANTIOQUIA</td>\n      <td>MEDELLIN</td>\n      <td>Urbano</td>\n      <td>Aranjuez, Berlin, Bermejal-Los Alamos, La piñu...</td>\n      <td>Sin Informacion de Veredas</td>\n    </tr>\n    <tr>\n      <th>26</th>\n      <td>050006</td>\n      <td>ANTIOQUIA</td>\n      <td>MEDELLIN</td>\n      <td>Urbano</td>\n      <td>Brasilia, Campo Valdés No.1, Las Esmeraldas, M...</td>\n      <td>Sin Informacion de Veredas</td>\n    </tr>\n    <tr>\n      <th>27</th>\n      <td>050005</td>\n      <td>ANTIOQUIA</td>\n      <td>MEDELLIN</td>\n      <td>Urbano</td>\n      <td>Campo Valdés No.2, La Salle, Las Granjas, Marí...</td>\n      <td>Sin Informacion de Veredas</td>\n    </tr>\n    <tr>\n      <th>28</th>\n      <td>050010</td>\n      <td>ANTIOQUIA</td>\n      <td>MEDELLIN</td>\n      <td>Urbano</td>\n      <td>El Chagualo, Estación Villa, Hospital San Vice...</td>\n      <td>Sin Informacion de Veredas</td>\n    </tr>\n    <tr>\n      <th>29</th>\n      <td>050011</td>\n      <td>ANTIOQUIA</td>\n      <td>MEDELLIN</td>\n      <td>Urbano</td>\n      <td>Batallón Girardot, El Pomar, El Raizal, La Cru...</td>\n      <td>Sin Informacion de Veredas</td>\n    </tr>\n    <tr>\n      <th>30</th>\n      <td>050015</td>\n      <td>ANTIOQUIA</td>\n      <td>MEDELLIN</td>\n      <td>Urbano</td>\n      <td>Calle Nueva, Centro Administrativo, Corazón de...</td>\n      <td>Sin Informacion de Veredas</td>\n    </tr>\n    <tr>\n      <th>31</th>\n      <td>050012</td>\n      <td>ANTIOQUIA</td>\n      <td>MEDELLIN</td>\n      <td>Urbano</td>\n      <td>Boston, La Candelaria, La Mansión, Los Ángeles...</td>\n      <td>Sin Informacion de Veredas</td>\n    </tr>\n    <tr>\n      <th>32</th>\n      <td>050013</td>\n      <td>ANTIOQUIA</td>\n      <td>MEDELLIN</td>\n      <td>Urbano</td>\n      <td>Barrio Caycedo, El Pinal, Enciso, La Ladera, L...</td>\n      <td>Sin Informacion de Veredas</td>\n    </tr>\n    <tr>\n      <th>33</th>\n      <td>050014</td>\n      <td>ANTIOQUIA</td>\n      <td>MEDELLIN</td>\n      <td>Urbano</td>\n      <td>Alejandro Echavarría, Barrios de Jesús, Juan P...</td>\n      <td>Media Luna</td>\n    </tr>\n    <tr>\n      <th>34</th>\n      <td>050044</td>\n      <td>ANTIOQUIA</td>\n      <td>MEDELLIN</td>\n      <td>Urbano</td>\n      <td>Boyacá, Florencia, Héctor Abad Gómez, Las Bris...</td>\n      <td>Sin Informacion de Veredas</td>\n    </tr>\n    <tr>\n      <th>35</th>\n      <td>050037</td>\n      <td>ANTIOQUIA</td>\n      <td>MEDELLIN</td>\n      <td>Rural</td>\n      <td>Sin Informacion de Barrios</td>\n      <td>El Astillero, El Llano,  El Patio,  El Uvito, ...</td>\n    </tr>\n    <tr>\n      <th>36</th>\n      <td>050002</td>\n      <td>ANTIOQUIA</td>\n      <td>MEDELLIN</td>\n      <td>Urbano</td>\n      <td>Aldea Pablo VI, Carpinelo, El Compromiso, La A...</td>\n      <td>Sin Informacion de Veredas</td>\n    </tr>\n    <tr>\n      <th>37</th>\n      <td>050023</td>\n      <td>ANTIOQUIA</td>\n      <td>MEDELLIN</td>\n      <td>Urbano</td>\n      <td>El Rincón, El Rodeo, Guayabal, La Colina, La H...</td>\n      <td>San José del Manzanillo</td>\n    </tr>\n    <tr>\n      <th>38</th>\n      <td>055411</td>\n      <td>ANTIOQUIA</td>\n      <td>ITAGÜI</td>\n      <td>Urbano</td>\n      <td>La Esmeralda, San Fernando, Santa María No 2, ...</td>\n      <td>Sin Informacion de Veredas</td>\n    </tr>\n    <tr>\n      <th>39</th>\n      <td>050016</td>\n      <td>ANTIOQUIA</td>\n      <td>MEDELLIN</td>\n      <td>Urbano</td>\n      <td>Asomadera No.1, Barrio Colón, Bomboná No.1, Bu...</td>\n      <td>Sin Informacion de Veredas</td>\n    </tr>\n    <tr>\n      <th>40</th>\n      <td>050020</td>\n      <td>ANTIOQUIA</td>\n      <td>MEDELLIN</td>\n      <td>Urbano</td>\n      <td>Bomboná No.2, Cataluña, La Milagrosa, Loreto, ...</td>\n      <td>Sin Informacion de Veredas</td>\n    </tr>\n    <tr>\n      <th>41</th>\n      <td>050021</td>\n      <td>ANTIOQUIA</td>\n      <td>MEDELLIN</td>\n      <td>Urbano</td>\n      <td>Altos del Poblado, Asomadera No.2, Asomadera N...</td>\n      <td>Sin Informacion de Veredas</td>\n    </tr>\n    <tr>\n      <th>42</th>\n      <td>050024</td>\n      <td>ANTIOQUIA</td>\n      <td>MEDELLIN</td>\n      <td>Urbano</td>\n      <td>Campo Amor, Cristo Rey, Parque Juan Pablo II, ...</td>\n      <td>Sin Informacion de Veredas</td>\n    </tr>\n    <tr>\n      <th>43</th>\n      <td>050025</td>\n      <td>ANTIOQUIA</td>\n      <td>MEDELLIN</td>\n      <td>Urbano</td>\n      <td>Diego Echavarría, Granada, Las Playas, San Ber...</td>\n      <td>Sin Informacion de Veredas</td>\n    </tr>\n    <tr>\n      <th>44</th>\n      <td>050026</td>\n      <td>ANTIOQUIA</td>\n      <td>MEDELLIN</td>\n      <td>Urbano</td>\n      <td>Altavista, Area de Expansión Altavista, La Glo...</td>\n      <td>Altavista Sector Central, Área de Expansión Al...</td>\n    </tr>\n    <tr>\n      <th>45</th>\n      <td>050030</td>\n      <td>ANTIOQUIA</td>\n      <td>MEDELLIN</td>\n      <td>Urbano</td>\n      <td>Belén, Cerro Nutibara, El Nogal-Los Almendros,...</td>\n      <td>Sin Informacion de Veredas</td>\n    </tr>\n    <tr>\n      <th>46</th>\n      <td>050031</td>\n      <td>ANTIOQUIA</td>\n      <td>MEDELLIN</td>\n      <td>Urbano</td>\n      <td>Bolivariana, El Velódromo, Florida Nueva, Las ...</td>\n      <td>Sin Informacion de Veredas</td>\n    </tr>\n    <tr>\n      <th>47</th>\n      <td>050032</td>\n      <td>ANTIOQUIA</td>\n      <td>MEDELLIN</td>\n      <td>Urbano</td>\n      <td>Barrio Cristóbal, Belencito, Campo Alegre, El ...</td>\n      <td>Sin Informacion de Veredas</td>\n    </tr>\n    <tr>\n      <th>48</th>\n      <td>050033</td>\n      <td>ANTIOQUIA</td>\n      <td>MEDELLIN</td>\n      <td>Urbano</td>\n      <td>Antonio Nariño, Betania, Eduardo Santos, El Co...</td>\n      <td>Eduardo Santos, El Corazón El Morro,  La Loma</td>\n    </tr>\n    <tr>\n      <th>49</th>\n      <td>050034</td>\n      <td>ANTIOQUIA</td>\n      <td>MEDELLIN</td>\n      <td>Urbano</td>\n      <td>Altamira, Batallón Cuarta Brigada, Bosques de ...</td>\n      <td>Sin Informacion de Veredas</td>\n    </tr>\n    <tr>\n      <th>50</th>\n      <td>050035</td>\n      <td>ANTIOQUIA</td>\n      <td>MEDELLIN</td>\n      <td>Urbano</td>\n      <td>Area de Expansión San Cristóbal, Blanquizal, C...</td>\n      <td>Área de Expansión San Cristóbal</td>\n    </tr>\n    <tr>\n      <th>51</th>\n      <td>050036</td>\n      <td>ANTIOQUIA</td>\n      <td>MEDELLIN</td>\n      <td>Urbano</td>\n      <td>Cucaracho, Fuente Clara, Robledo, Santa Margarita</td>\n      <td>Área de Expansión Pajarito, Cabecera Urbana Co...</td>\n    </tr>\n    <tr>\n      <th>52</th>\n      <td>050040</td>\n      <td>ANTIOQUIA</td>\n      <td>MEDELLIN</td>\n      <td>Urbano</td>\n      <td>Alfonso Lopez, Córdoba, Cementerio Universal, ...</td>\n      <td>Sin Informacion de Veredas</td>\n    </tr>\n    <tr>\n      <th>53</th>\n      <td>050042</td>\n      <td>ANTIOQUIA</td>\n      <td>MEDELLIN</td>\n      <td>Urbano</td>\n      <td>Belalcázar, Castilla, Girardot, La Esperanza, ...</td>\n      <td>Sin Informacion de Veredas</td>\n    </tr>\n    <tr>\n      <th>54</th>\n      <td>050041</td>\n      <td>ANTIOQUIA</td>\n      <td>MEDELLIN</td>\n      <td>Urbano</td>\n      <td>Aures No.1, Aures No.2, Bello Horizonte, El Di...</td>\n      <td>Pajarito</td>\n    </tr>\n    <tr>\n      <th>55</th>\n      <td>050001</td>\n      <td>ANTIOQUIA</td>\n      <td>MEDELLIN</td>\n      <td>Urbano</td>\n      <td>Andalucía, La Francia, La Frontera, La Isla, P...</td>\n      <td>Sin Informacion de Veredas</td>\n    </tr>\n    <tr>\n      <th>56</th>\n      <td>050043</td>\n      <td>ANTIOQUIA</td>\n      <td>MEDELLIN</td>\n      <td>Urbano</td>\n      <td>Doce de Octubre No.1, Doce de Octubre No.2, El...</td>\n      <td>Sin Informacion de Veredas</td>\n    </tr>\n    <tr>\n      <th>57</th>\n      <td>050022</td>\n      <td>ANTIOQUIA</td>\n      <td>MEDELLIN</td>\n      <td>Urbano</td>\n      <td>Alejandría, Astorga, El Castillo, El Diamante ...</td>\n      <td>Sin Informacion de Veredas</td>\n    </tr>\n    <tr>\n      <th>58</th>\n      <td>050017</td>\n      <td>ANTIOQUIA</td>\n      <td>MEDELLIN</td>\n      <td>Rural</td>\n      <td>Sin Informacion de Barrios</td>\n      <td>Barro Blanco, El Llano SE,  El Placer,  El Pla...</td>\n    </tr>\n  </tbody>\n</table>\n</div>"
     },
     "metadata": {},
     "execution_count": 364
    }
   ],
   "source": [
    "pcb_df"
   ]
  },
  {
   "cell_type": "code",
   "execution_count": null,
   "metadata": {},
   "outputs": [],
   "source": []
  },
  {
   "cell_type": "code",
   "execution_count": 334,
   "metadata": {},
   "outputs": [],
   "source": [
    "url_postal_codes = \"https://ds4a.blob.core.windows.net/ds4a/MedPostalCode.geojson\"\n",
    "pc_df = gpd.read_file(url_postal_codes)"
   ]
  },
  {
   "cell_type": "code",
   "execution_count": 335,
   "metadata": {},
   "outputs": [
    {
     "output_type": "execute_result",
     "data": {
      "text/plain": "   zonapostal objectid         shapearea codigo_pos            shapelen  \\\n0        0554       43  6680212.97223428     055417  15610.854268663901   \n1        0554       44  5685948.57423864     055420    10608.2667799046   \n2        0554       45  3859621.32287542     055422   9744.954672637381   \n3        0554       46  32037902.1635823     055428    30817.9220505459   \n4        0500       47   58662193.604592     050048    38858.1197240499   \n5        0500       48  56699770.0318451     050029  38135.547696996604   \n6        0500       49  14426034.1282442     050027  23560.232614092598   \n7        0500       50  25451699.0709864     050047    31060.6559913341   \n8        0500       51  7430001.85045064     050028    15941.2406602466   \n9        0500       52  27791286.0451787     050007  32687.336654219303   \n10       0500       53  11672709.3215244     050018  16091.452059861002   \n11       0510       54  6341708.35639133     051057    14362.1179941936   \n12       0510       55  7401536.32831656     051051    17905.4725348924   \n13       0510       56  2539985.93881633     051052    10041.0051746124   \n14       0554       57  12823170.4697813     055467  17232.280522061097   \n15       0540       58  80650416.0444373     054058    56242.5029536252   \n16       0558       59  102239201.923564     055817    54917.3701779416   \n17       0558        1  80953053.5206774     055837    54992.6691475608   \n18       0510        2   57524574.400344     051058  37982.636231083394   \n19       0510        3  35461570.3298153     051048    36203.3927105809   \n20       0554        4  34378961.1491453     055427  31425.185695565502   \n21       0558        5  113963515.952838     055827    69942.0293939379   \n22       0540        6  114659225.544001     054047   71822.16142827111   \n23       0510        7  169791482.137948     051077    78588.0868044461   \n24       0500        8  1683373.52184888     050003    7741.14910885974   \n25       0500        9  1631351.02263229     050004   6445.350030858171   \n26       0500       10  1429020.53318483     050006    7748.02916951583   \n27       0500       11  2768590.37476756     050005   8302.910481771281   \n28       0500       12  3418181.56108059     050010    9641.65829443814   \n29       0500       13  2872112.03730229     050011     9879.8125680486   \n30       0500       17  2202538.42752415     050015    7132.17240003591   \n31       0500       14  2718973.43311816     050012    8080.42311881288   \n32       0500       15  3703020.38446715     050013    9532.33916924108   \n33       0500       16  2446627.37848649     050014  10512.218977075301   \n34       0500       38  2757429.32525124     050044    8609.62095060933   \n35       0500       39  31940141.5351921     050037     37678.913907786   \n36       0500       40  2083744.52950952     050002   8729.259712405481   \n37       0500       41   4405691.4474502     050023  13523.367071452401   \n38       0554       42   2422930.8584854     055411    7047.44986861359   \n39       0500       18  2939599.69161499     050016    8218.28022609804   \n40       0500       19  2843346.34135217     050020   9219.742931006582   \n41       0500       20  8182426.74641896     050021    16193.9825870861   \n42       0500       21  5040427.42333063     050024     9547.2266264178   \n43       0500       22  1703542.37761525     050025    6520.40987288672   \n44       0500       23  2830380.79820989     050026    12698.4222773348   \n45       0500       24  3144810.51323978     050030   8656.019710903342   \n46       0500       25  3569933.28511605     050031    8219.57753768493   \n47       0500       26  4526722.01680362     050032    10813.6648145171   \n48       0500       27  3638599.44485952     050033  17928.372194311298   \n49       0500       28  7083655.08827169     050034  11066.867431984001   \n50       0500       29   4264170.5550841     050035    9514.72125205002   \n51       0500       30  4367968.72460156     050036  17966.242475279003   \n52       0500       31    2271897.169395     050040   6701.098304062581   \n53       0500       32  2532675.94748712     050042    7354.06857540909   \n54       0500       33  2804381.25760103     050041     10566.318212999   \n55       0500       34  1658508.28347211     050001    7326.79247320973   \n56       0500       35  1789977.94276686     050043    8444.87782361961   \n57       0500       36  8592955.05556555     050022    15058.1730435874   \n58       0500       37  30385432.1427355     050017    34066.3067779732   \n\n                                             geometry  \n0   MULTIPOLYGON (((-75.60091 6.19783, -75.60101 6...  \n1   MULTIPOLYGON (((-75.55891 6.17570, -75.55888 6...  \n2   MULTIPOLYGON (((-75.57954 6.18353, -75.57959 6...  \n3   MULTIPOLYGON (((-75.48371 6.19832, -75.48374 6...  \n4   MULTIPOLYGON (((-75.66876 6.37313, -75.66862 6...  \n5   MULTIPOLYGON (((-75.66451 6.24257, -75.66306 6...  \n6   MULTIPOLYGON (((-75.61514 6.22775, -75.61500 6...  \n7   MULTIPOLYGON (((-75.64461 6.32579, -75.64312 6...  \n8   MULTIPOLYGON (((-75.62185 6.24124, -75.62169 6...  \n9   MULTIPOLYGON (((-75.51747 6.29918, -75.51699 6...  \n10  MULTIPOLYGON (((-75.52345 6.19587, -75.52406 6...  \n11  MULTIPOLYGON (((-75.53500 6.32887, -75.53499 6...  \n12  MULTIPOLYGON (((-75.53506 6.32899, -75.53511 6...  \n13  MULTIPOLYGON (((-75.55832 6.31213, -75.55836 6...  \n14  MULTIPOLYGON (((-75.64599 6.16958, -75.64599 6...  \n15  MULTIPOLYGON (((-75.46654 6.31822, -75.46130 6...  \n16  MULTIPOLYGON (((-75.71708 6.36080, -75.71695 6...  \n17  MULTIPOLYGON (((-75.67971 6.16367, -75.67950 6...  \n18  MULTIPOLYGON (((-75.62127 6.38258, -75.62072 6...  \n19  MULTIPOLYGON (((-75.45347 6.33563, -75.45290 6...  \n20  MULTIPOLYGON (((-75.55726 6.17573, -75.55654 6...  \n21  MULTIPOLYGON (((-75.71005 6.25920, -75.70949 6...  \n22  MULTIPOLYGON (((-75.32773 6.22437, -75.32782 6...  \n23  MULTIPOLYGON (((-75.64685 6.50388, -75.64653 6...  \n24  MULTIPOLYGON (((-75.54912 6.29449, -75.54901 6...  \n25  MULTIPOLYGON (((-75.55283 6.28633, -75.55283 6...  \n26  MULTIPOLYGON (((-75.55304 6.28220, -75.55303 6...  \n27  MULTIPOLYGON (((-75.53646 6.28501, -75.53652 6...  \n28  MULTIPOLYGON (((-75.55458 6.27106, -75.55465 6...  \n29  MULTIPOLYGON (((-75.53552 6.27503, -75.53664 6...  \n30  MULTIPOLYGON (((-75.56901 6.24885, -75.56888 6...  \n31  MULTIPOLYGON (((-75.55637 6.26133, -75.55615 6...  \n32  MULTIPOLYGON (((-75.54165 6.25740, -75.54161 6...  \n33  MULTIPOLYGON (((-75.54053 6.22659, -75.54053 6...  \n34  MULTIPOLYGON (((-75.55832 6.31213, -75.55831 6...  \n35  MULTIPOLYGON (((-75.64484 6.28133, -75.64483 6...  \n36  MULTIPOLYGON (((-75.54439 6.30430, -75.54435 6...  \n37  MULTIPOLYGON (((-75.59450 6.20987, -75.59338 6...  \n38  MULTIPOLYGON (((-75.58144 6.19515, -75.58147 6...  \n39  MULTIPOLYGON (((-75.56014 6.24453, -75.55927 6...  \n40  MULTIPOLYGON (((-75.54616 6.23741, -75.54599 6...  \n41  MULTIPOLYGON (((-75.56943 6.22742, -75.56942 6...  \n42  MULTIPOLYGON (((-75.57563 6.23124, -75.57581 6...  \n43  MULTIPOLYGON (((-75.59450 6.20987, -75.59481 6...  \n44  MULTIPOLYGON (((-75.62002 6.23779, -75.61989 6...  \n45  MULTIPOLYGON (((-75.58033 6.24784, -75.58031 6...  \n46  MULTIPOLYGON (((-75.57918 6.25074, -75.57928 6...  \n47  MULTIPOLYGON (((-75.60062 6.25911, -75.60045 6...  \n48  MULTIPOLYGON (((-75.60062 6.25911, -75.60059 6...  \n49  MULTIPOLYGON (((-75.56974 6.27573, -75.56975 6...  \n50  MULTIPOLYGON (((-75.59431 6.27170, -75.59422 6...  \n51  MULTIPOLYGON (((-75.60149 6.28512, -75.60136 6...  \n52  MULTIPOLYGON (((-75.58469 6.29203, -75.58454 6...  \n53  MULTIPOLYGON (((-75.56191 6.29535, -75.56198 6...  \n54  MULTIPOLYGON (((-75.58922 6.29520, -75.58922 6...  \n55  MULTIPOLYGON (((-75.55732 6.31033, -75.55732 6...  \n56  MULTIPOLYGON (((-75.57587 6.31092, -75.57590 6...  \n57  MULTIPOLYGON (((-75.55086 6.19940, -75.55087 6...  \n58  MULTIPOLYGON (((-75.49148 6.22833, -75.49151 6...  ",
      "text/html": "<div>\n<style scoped>\n    .dataframe tbody tr th:only-of-type {\n        vertical-align: middle;\n    }\n\n    .dataframe tbody tr th {\n        vertical-align: top;\n    }\n\n    .dataframe thead th {\n        text-align: right;\n    }\n</style>\n<table border=\"1\" class=\"dataframe\">\n  <thead>\n    <tr style=\"text-align: right;\">\n      <th></th>\n      <th>zonapostal</th>\n      <th>objectid</th>\n      <th>shapearea</th>\n      <th>codigo_pos</th>\n      <th>shapelen</th>\n      <th>geometry</th>\n    </tr>\n  </thead>\n  <tbody>\n    <tr>\n      <th>0</th>\n      <td>0554</td>\n      <td>43</td>\n      <td>6680212.97223428</td>\n      <td>055417</td>\n      <td>15610.854268663901</td>\n      <td>MULTIPOLYGON (((-75.60091 6.19783, -75.60101 6...</td>\n    </tr>\n    <tr>\n      <th>1</th>\n      <td>0554</td>\n      <td>44</td>\n      <td>5685948.57423864</td>\n      <td>055420</td>\n      <td>10608.2667799046</td>\n      <td>MULTIPOLYGON (((-75.55891 6.17570, -75.55888 6...</td>\n    </tr>\n    <tr>\n      <th>2</th>\n      <td>0554</td>\n      <td>45</td>\n      <td>3859621.32287542</td>\n      <td>055422</td>\n      <td>9744.954672637381</td>\n      <td>MULTIPOLYGON (((-75.57954 6.18353, -75.57959 6...</td>\n    </tr>\n    <tr>\n      <th>3</th>\n      <td>0554</td>\n      <td>46</td>\n      <td>32037902.1635823</td>\n      <td>055428</td>\n      <td>30817.9220505459</td>\n      <td>MULTIPOLYGON (((-75.48371 6.19832, -75.48374 6...</td>\n    </tr>\n    <tr>\n      <th>4</th>\n      <td>0500</td>\n      <td>47</td>\n      <td>58662193.604592</td>\n      <td>050048</td>\n      <td>38858.1197240499</td>\n      <td>MULTIPOLYGON (((-75.66876 6.37313, -75.66862 6...</td>\n    </tr>\n    <tr>\n      <th>5</th>\n      <td>0500</td>\n      <td>48</td>\n      <td>56699770.0318451</td>\n      <td>050029</td>\n      <td>38135.547696996604</td>\n      <td>MULTIPOLYGON (((-75.66451 6.24257, -75.66306 6...</td>\n    </tr>\n    <tr>\n      <th>6</th>\n      <td>0500</td>\n      <td>49</td>\n      <td>14426034.1282442</td>\n      <td>050027</td>\n      <td>23560.232614092598</td>\n      <td>MULTIPOLYGON (((-75.61514 6.22775, -75.61500 6...</td>\n    </tr>\n    <tr>\n      <th>7</th>\n      <td>0500</td>\n      <td>50</td>\n      <td>25451699.0709864</td>\n      <td>050047</td>\n      <td>31060.6559913341</td>\n      <td>MULTIPOLYGON (((-75.64461 6.32579, -75.64312 6...</td>\n    </tr>\n    <tr>\n      <th>8</th>\n      <td>0500</td>\n      <td>51</td>\n      <td>7430001.85045064</td>\n      <td>050028</td>\n      <td>15941.2406602466</td>\n      <td>MULTIPOLYGON (((-75.62185 6.24124, -75.62169 6...</td>\n    </tr>\n    <tr>\n      <th>9</th>\n      <td>0500</td>\n      <td>52</td>\n      <td>27791286.0451787</td>\n      <td>050007</td>\n      <td>32687.336654219303</td>\n      <td>MULTIPOLYGON (((-75.51747 6.29918, -75.51699 6...</td>\n    </tr>\n    <tr>\n      <th>10</th>\n      <td>0500</td>\n      <td>53</td>\n      <td>11672709.3215244</td>\n      <td>050018</td>\n      <td>16091.452059861002</td>\n      <td>MULTIPOLYGON (((-75.52345 6.19587, -75.52406 6...</td>\n    </tr>\n    <tr>\n      <th>11</th>\n      <td>0510</td>\n      <td>54</td>\n      <td>6341708.35639133</td>\n      <td>051057</td>\n      <td>14362.1179941936</td>\n      <td>MULTIPOLYGON (((-75.53500 6.32887, -75.53499 6...</td>\n    </tr>\n    <tr>\n      <th>12</th>\n      <td>0510</td>\n      <td>55</td>\n      <td>7401536.32831656</td>\n      <td>051051</td>\n      <td>17905.4725348924</td>\n      <td>MULTIPOLYGON (((-75.53506 6.32899, -75.53511 6...</td>\n    </tr>\n    <tr>\n      <th>13</th>\n      <td>0510</td>\n      <td>56</td>\n      <td>2539985.93881633</td>\n      <td>051052</td>\n      <td>10041.0051746124</td>\n      <td>MULTIPOLYGON (((-75.55832 6.31213, -75.55836 6...</td>\n    </tr>\n    <tr>\n      <th>14</th>\n      <td>0554</td>\n      <td>57</td>\n      <td>12823170.4697813</td>\n      <td>055467</td>\n      <td>17232.280522061097</td>\n      <td>MULTIPOLYGON (((-75.64599 6.16958, -75.64599 6...</td>\n    </tr>\n    <tr>\n      <th>15</th>\n      <td>0540</td>\n      <td>58</td>\n      <td>80650416.0444373</td>\n      <td>054058</td>\n      <td>56242.5029536252</td>\n      <td>MULTIPOLYGON (((-75.46654 6.31822, -75.46130 6...</td>\n    </tr>\n    <tr>\n      <th>16</th>\n      <td>0558</td>\n      <td>59</td>\n      <td>102239201.923564</td>\n      <td>055817</td>\n      <td>54917.3701779416</td>\n      <td>MULTIPOLYGON (((-75.71708 6.36080, -75.71695 6...</td>\n    </tr>\n    <tr>\n      <th>17</th>\n      <td>0558</td>\n      <td>1</td>\n      <td>80953053.5206774</td>\n      <td>055837</td>\n      <td>54992.6691475608</td>\n      <td>MULTIPOLYGON (((-75.67971 6.16367, -75.67950 6...</td>\n    </tr>\n    <tr>\n      <th>18</th>\n      <td>0510</td>\n      <td>2</td>\n      <td>57524574.400344</td>\n      <td>051058</td>\n      <td>37982.636231083394</td>\n      <td>MULTIPOLYGON (((-75.62127 6.38258, -75.62072 6...</td>\n    </tr>\n    <tr>\n      <th>19</th>\n      <td>0510</td>\n      <td>3</td>\n      <td>35461570.3298153</td>\n      <td>051048</td>\n      <td>36203.3927105809</td>\n      <td>MULTIPOLYGON (((-75.45347 6.33563, -75.45290 6...</td>\n    </tr>\n    <tr>\n      <th>20</th>\n      <td>0554</td>\n      <td>4</td>\n      <td>34378961.1491453</td>\n      <td>055427</td>\n      <td>31425.185695565502</td>\n      <td>MULTIPOLYGON (((-75.55726 6.17573, -75.55654 6...</td>\n    </tr>\n    <tr>\n      <th>21</th>\n      <td>0558</td>\n      <td>5</td>\n      <td>113963515.952838</td>\n      <td>055827</td>\n      <td>69942.0293939379</td>\n      <td>MULTIPOLYGON (((-75.71005 6.25920, -75.70949 6...</td>\n    </tr>\n    <tr>\n      <th>22</th>\n      <td>0540</td>\n      <td>6</td>\n      <td>114659225.544001</td>\n      <td>054047</td>\n      <td>71822.16142827111</td>\n      <td>MULTIPOLYGON (((-75.32773 6.22437, -75.32782 6...</td>\n    </tr>\n    <tr>\n      <th>23</th>\n      <td>0510</td>\n      <td>7</td>\n      <td>169791482.137948</td>\n      <td>051077</td>\n      <td>78588.0868044461</td>\n      <td>MULTIPOLYGON (((-75.64685 6.50388, -75.64653 6...</td>\n    </tr>\n    <tr>\n      <th>24</th>\n      <td>0500</td>\n      <td>8</td>\n      <td>1683373.52184888</td>\n      <td>050003</td>\n      <td>7741.14910885974</td>\n      <td>MULTIPOLYGON (((-75.54912 6.29449, -75.54901 6...</td>\n    </tr>\n    <tr>\n      <th>25</th>\n      <td>0500</td>\n      <td>9</td>\n      <td>1631351.02263229</td>\n      <td>050004</td>\n      <td>6445.350030858171</td>\n      <td>MULTIPOLYGON (((-75.55283 6.28633, -75.55283 6...</td>\n    </tr>\n    <tr>\n      <th>26</th>\n      <td>0500</td>\n      <td>10</td>\n      <td>1429020.53318483</td>\n      <td>050006</td>\n      <td>7748.02916951583</td>\n      <td>MULTIPOLYGON (((-75.55304 6.28220, -75.55303 6...</td>\n    </tr>\n    <tr>\n      <th>27</th>\n      <td>0500</td>\n      <td>11</td>\n      <td>2768590.37476756</td>\n      <td>050005</td>\n      <td>8302.910481771281</td>\n      <td>MULTIPOLYGON (((-75.53646 6.28501, -75.53652 6...</td>\n    </tr>\n    <tr>\n      <th>28</th>\n      <td>0500</td>\n      <td>12</td>\n      <td>3418181.56108059</td>\n      <td>050010</td>\n      <td>9641.65829443814</td>\n      <td>MULTIPOLYGON (((-75.55458 6.27106, -75.55465 6...</td>\n    </tr>\n    <tr>\n      <th>29</th>\n      <td>0500</td>\n      <td>13</td>\n      <td>2872112.03730229</td>\n      <td>050011</td>\n      <td>9879.8125680486</td>\n      <td>MULTIPOLYGON (((-75.53552 6.27503, -75.53664 6...</td>\n    </tr>\n    <tr>\n      <th>30</th>\n      <td>0500</td>\n      <td>17</td>\n      <td>2202538.42752415</td>\n      <td>050015</td>\n      <td>7132.17240003591</td>\n      <td>MULTIPOLYGON (((-75.56901 6.24885, -75.56888 6...</td>\n    </tr>\n    <tr>\n      <th>31</th>\n      <td>0500</td>\n      <td>14</td>\n      <td>2718973.43311816</td>\n      <td>050012</td>\n      <td>8080.42311881288</td>\n      <td>MULTIPOLYGON (((-75.55637 6.26133, -75.55615 6...</td>\n    </tr>\n    <tr>\n      <th>32</th>\n      <td>0500</td>\n      <td>15</td>\n      <td>3703020.38446715</td>\n      <td>050013</td>\n      <td>9532.33916924108</td>\n      <td>MULTIPOLYGON (((-75.54165 6.25740, -75.54161 6...</td>\n    </tr>\n    <tr>\n      <th>33</th>\n      <td>0500</td>\n      <td>16</td>\n      <td>2446627.37848649</td>\n      <td>050014</td>\n      <td>10512.218977075301</td>\n      <td>MULTIPOLYGON (((-75.54053 6.22659, -75.54053 6...</td>\n    </tr>\n    <tr>\n      <th>34</th>\n      <td>0500</td>\n      <td>38</td>\n      <td>2757429.32525124</td>\n      <td>050044</td>\n      <td>8609.62095060933</td>\n      <td>MULTIPOLYGON (((-75.55832 6.31213, -75.55831 6...</td>\n    </tr>\n    <tr>\n      <th>35</th>\n      <td>0500</td>\n      <td>39</td>\n      <td>31940141.5351921</td>\n      <td>050037</td>\n      <td>37678.913907786</td>\n      <td>MULTIPOLYGON (((-75.64484 6.28133, -75.64483 6...</td>\n    </tr>\n    <tr>\n      <th>36</th>\n      <td>0500</td>\n      <td>40</td>\n      <td>2083744.52950952</td>\n      <td>050002</td>\n      <td>8729.259712405481</td>\n      <td>MULTIPOLYGON (((-75.54439 6.30430, -75.54435 6...</td>\n    </tr>\n    <tr>\n      <th>37</th>\n      <td>0500</td>\n      <td>41</td>\n      <td>4405691.4474502</td>\n      <td>050023</td>\n      <td>13523.367071452401</td>\n      <td>MULTIPOLYGON (((-75.59450 6.20987, -75.59338 6...</td>\n    </tr>\n    <tr>\n      <th>38</th>\n      <td>0554</td>\n      <td>42</td>\n      <td>2422930.8584854</td>\n      <td>055411</td>\n      <td>7047.44986861359</td>\n      <td>MULTIPOLYGON (((-75.58144 6.19515, -75.58147 6...</td>\n    </tr>\n    <tr>\n      <th>39</th>\n      <td>0500</td>\n      <td>18</td>\n      <td>2939599.69161499</td>\n      <td>050016</td>\n      <td>8218.28022609804</td>\n      <td>MULTIPOLYGON (((-75.56014 6.24453, -75.55927 6...</td>\n    </tr>\n    <tr>\n      <th>40</th>\n      <td>0500</td>\n      <td>19</td>\n      <td>2843346.34135217</td>\n      <td>050020</td>\n      <td>9219.742931006582</td>\n      <td>MULTIPOLYGON (((-75.54616 6.23741, -75.54599 6...</td>\n    </tr>\n    <tr>\n      <th>41</th>\n      <td>0500</td>\n      <td>20</td>\n      <td>8182426.74641896</td>\n      <td>050021</td>\n      <td>16193.9825870861</td>\n      <td>MULTIPOLYGON (((-75.56943 6.22742, -75.56942 6...</td>\n    </tr>\n    <tr>\n      <th>42</th>\n      <td>0500</td>\n      <td>21</td>\n      <td>5040427.42333063</td>\n      <td>050024</td>\n      <td>9547.2266264178</td>\n      <td>MULTIPOLYGON (((-75.57563 6.23124, -75.57581 6...</td>\n    </tr>\n    <tr>\n      <th>43</th>\n      <td>0500</td>\n      <td>22</td>\n      <td>1703542.37761525</td>\n      <td>050025</td>\n      <td>6520.40987288672</td>\n      <td>MULTIPOLYGON (((-75.59450 6.20987, -75.59481 6...</td>\n    </tr>\n    <tr>\n      <th>44</th>\n      <td>0500</td>\n      <td>23</td>\n      <td>2830380.79820989</td>\n      <td>050026</td>\n      <td>12698.4222773348</td>\n      <td>MULTIPOLYGON (((-75.62002 6.23779, -75.61989 6...</td>\n    </tr>\n    <tr>\n      <th>45</th>\n      <td>0500</td>\n      <td>24</td>\n      <td>3144810.51323978</td>\n      <td>050030</td>\n      <td>8656.019710903342</td>\n      <td>MULTIPOLYGON (((-75.58033 6.24784, -75.58031 6...</td>\n    </tr>\n    <tr>\n      <th>46</th>\n      <td>0500</td>\n      <td>25</td>\n      <td>3569933.28511605</td>\n      <td>050031</td>\n      <td>8219.57753768493</td>\n      <td>MULTIPOLYGON (((-75.57918 6.25074, -75.57928 6...</td>\n    </tr>\n    <tr>\n      <th>47</th>\n      <td>0500</td>\n      <td>26</td>\n      <td>4526722.01680362</td>\n      <td>050032</td>\n      <td>10813.6648145171</td>\n      <td>MULTIPOLYGON (((-75.60062 6.25911, -75.60045 6...</td>\n    </tr>\n    <tr>\n      <th>48</th>\n      <td>0500</td>\n      <td>27</td>\n      <td>3638599.44485952</td>\n      <td>050033</td>\n      <td>17928.372194311298</td>\n      <td>MULTIPOLYGON (((-75.60062 6.25911, -75.60059 6...</td>\n    </tr>\n    <tr>\n      <th>49</th>\n      <td>0500</td>\n      <td>28</td>\n      <td>7083655.08827169</td>\n      <td>050034</td>\n      <td>11066.867431984001</td>\n      <td>MULTIPOLYGON (((-75.56974 6.27573, -75.56975 6...</td>\n    </tr>\n    <tr>\n      <th>50</th>\n      <td>0500</td>\n      <td>29</td>\n      <td>4264170.5550841</td>\n      <td>050035</td>\n      <td>9514.72125205002</td>\n      <td>MULTIPOLYGON (((-75.59431 6.27170, -75.59422 6...</td>\n    </tr>\n    <tr>\n      <th>51</th>\n      <td>0500</td>\n      <td>30</td>\n      <td>4367968.72460156</td>\n      <td>050036</td>\n      <td>17966.242475279003</td>\n      <td>MULTIPOLYGON (((-75.60149 6.28512, -75.60136 6...</td>\n    </tr>\n    <tr>\n      <th>52</th>\n      <td>0500</td>\n      <td>31</td>\n      <td>2271897.169395</td>\n      <td>050040</td>\n      <td>6701.098304062581</td>\n      <td>MULTIPOLYGON (((-75.58469 6.29203, -75.58454 6...</td>\n    </tr>\n    <tr>\n      <th>53</th>\n      <td>0500</td>\n      <td>32</td>\n      <td>2532675.94748712</td>\n      <td>050042</td>\n      <td>7354.06857540909</td>\n      <td>MULTIPOLYGON (((-75.56191 6.29535, -75.56198 6...</td>\n    </tr>\n    <tr>\n      <th>54</th>\n      <td>0500</td>\n      <td>33</td>\n      <td>2804381.25760103</td>\n      <td>050041</td>\n      <td>10566.318212999</td>\n      <td>MULTIPOLYGON (((-75.58922 6.29520, -75.58922 6...</td>\n    </tr>\n    <tr>\n      <th>55</th>\n      <td>0500</td>\n      <td>34</td>\n      <td>1658508.28347211</td>\n      <td>050001</td>\n      <td>7326.79247320973</td>\n      <td>MULTIPOLYGON (((-75.55732 6.31033, -75.55732 6...</td>\n    </tr>\n    <tr>\n      <th>56</th>\n      <td>0500</td>\n      <td>35</td>\n      <td>1789977.94276686</td>\n      <td>050043</td>\n      <td>8444.87782361961</td>\n      <td>MULTIPOLYGON (((-75.57587 6.31092, -75.57590 6...</td>\n    </tr>\n    <tr>\n      <th>57</th>\n      <td>0500</td>\n      <td>36</td>\n      <td>8592955.05556555</td>\n      <td>050022</td>\n      <td>15058.1730435874</td>\n      <td>MULTIPOLYGON (((-75.55086 6.19940, -75.55087 6...</td>\n    </tr>\n    <tr>\n      <th>58</th>\n      <td>0500</td>\n      <td>37</td>\n      <td>30385432.1427355</td>\n      <td>050017</td>\n      <td>34066.3067779732</td>\n      <td>MULTIPOLYGON (((-75.49148 6.22833, -75.49151 6...</td>\n    </tr>\n  </tbody>\n</table>\n</div>"
     },
     "metadata": {},
     "execution_count": 335
    }
   ],
   "source": [
    "pc_df"
   ]
  },
  {
   "cell_type": "code",
   "execution_count": 311,
   "metadata": {},
   "outputs": [],
   "source": [
    "url = \"https://ds4a.blob.core.windows.net/ds4a/Barrios.geojson\"\n",
    "borough_df = gpd.read_file(url)\n"
   ]
  },
  {
   "cell_type": "code",
   "execution_count": 312,
   "metadata": {},
   "outputs": [],
   "source": [
    "borough_df.rename(columns={'NOMBRE_COMUNA':'Comuna','CODIGO': 'Cbml','NOMBRE_BARRIO':'Borough' },inplace=True)"
   ]
  },
  {
   "cell_type": "code",
   "execution_count": 313,
   "metadata": {},
   "outputs": [],
   "source": [
    "borough_df.drop(columns=['OBJECTID', 'SHAPEAREA', 'SHAPELEN', 'COMUNA', 'BARRIO'],inplace=True)"
   ]
  },
  {
   "cell_type": "code",
   "execution_count": 314,
   "metadata": {},
   "outputs": [
    {
     "output_type": "execute_result",
     "data": {
      "text/plain": "     Cbml                  Borough           Comuna\n0    0901            Juan Pablo II     BUENOS AIRES\n1    1409                El Tesoro       EL POBLADO\n2    1211            Simón Bolívar       LA AMERICA\n3    0604                 Pedregal  DOCE DE OCTUBRE\n4    9008          Piedras Blancas      SANTA ELENA\n..    ...                      ...              ...\n345  0202  Playón de Los Comuneros       SANTA CRUZ\n346  1112             El Velódromo         LAURELES\n347  1619                Miravalle            BELEN\n348  0303       Campo Valdés No. 2         MANRIQUE\n349  0512                Oleoducto         CASTILLA\n\n[350 rows x 3 columns]",
      "text/html": "<div>\n<style scoped>\n    .dataframe tbody tr th:only-of-type {\n        vertical-align: middle;\n    }\n\n    .dataframe tbody tr th {\n        vertical-align: top;\n    }\n\n    .dataframe thead th {\n        text-align: right;\n    }\n</style>\n<table border=\"1\" class=\"dataframe\">\n  <thead>\n    <tr style=\"text-align: right;\">\n      <th></th>\n      <th>Cbml</th>\n      <th>Borough</th>\n      <th>Comuna</th>\n    </tr>\n  </thead>\n  <tbody>\n    <tr>\n      <th>0</th>\n      <td>0901</td>\n      <td>Juan Pablo II</td>\n      <td>BUENOS AIRES</td>\n    </tr>\n    <tr>\n      <th>1</th>\n      <td>1409</td>\n      <td>El Tesoro</td>\n      <td>EL POBLADO</td>\n    </tr>\n    <tr>\n      <th>2</th>\n      <td>1211</td>\n      <td>Simón Bolívar</td>\n      <td>LA AMERICA</td>\n    </tr>\n    <tr>\n      <th>3</th>\n      <td>0604</td>\n      <td>Pedregal</td>\n      <td>DOCE DE OCTUBRE</td>\n    </tr>\n    <tr>\n      <th>4</th>\n      <td>9008</td>\n      <td>Piedras Blancas</td>\n      <td>SANTA ELENA</td>\n    </tr>\n    <tr>\n      <th>...</th>\n      <td>...</td>\n      <td>...</td>\n      <td>...</td>\n    </tr>\n    <tr>\n      <th>345</th>\n      <td>0202</td>\n      <td>Playón de Los Comuneros</td>\n      <td>SANTA CRUZ</td>\n    </tr>\n    <tr>\n      <th>346</th>\n      <td>1112</td>\n      <td>El Velódromo</td>\n      <td>LAURELES</td>\n    </tr>\n    <tr>\n      <th>347</th>\n      <td>1619</td>\n      <td>Miravalle</td>\n      <td>BELEN</td>\n    </tr>\n    <tr>\n      <th>348</th>\n      <td>0303</td>\n      <td>Campo Valdés No. 2</td>\n      <td>MANRIQUE</td>\n    </tr>\n    <tr>\n      <th>349</th>\n      <td>0512</td>\n      <td>Oleoducto</td>\n      <td>CASTILLA</td>\n    </tr>\n  </tbody>\n</table>\n<p>350 rows × 3 columns</p>\n</div>"
     },
     "metadata": {},
     "execution_count": 314
    }
   ],
   "source": [
    "b_df = borough_df[['Cbml', 'Borough', 'Comuna']].copy()\n",
    "b_df"
   ]
  },
  {
   "cell_type": "code",
   "execution_count": 315,
   "metadata": {},
   "outputs": [],
   "source": [
    "i_df = i_df.merge(b_df,how='left', on='Cbml', suffixes=('_original','')).drop_duplicates()\n"
   ]
  },
  {
   "cell_type": "code",
   "execution_count": 316,
   "metadata": {},
   "outputs": [
    {
     "output_type": "execute_result",
     "data": {
      "text/plain": "       Radicado  Latitude  Longitude            Type            Address  Cbml  \\\n0       1423828  6.219016 -75.602726          Choque         CR 80 CL 8  1611   \n1       1423839  6.260009 -75.568185       Atropello        CR 53 CL 61  1003   \n2       1423840  6.264765 -75.549943       Atropello        CR 39 CL 70  0308   \n3       1423849  6.234327 -75.607611       Atropello        CL 32 CR 84  1617   \n4       1423890  6.300243 -75.579644  Caida Ocupante       CR 80 CL 101  0603   \n...         ...       ...        ...             ...                ...   ...   \n289094  1717678  6.220716 -75.559017  Caida Ocupante       CL 19A CR 27  9004   \n289095  1717650  6.286417 -75.570338          Choque        CR 65 CL 94  0511   \n289096  1717526  6.221415 -75.703776          Choque  CR 86 CL 44 B Sur  1204   \n289097  1717545  6.235761 -75.538379            Otro        CR 12 CL 53  0813   \n289098  1717634  6.254707 -75.562176       Atropello        CR 47 CL 58  1017   \n\n           Severity               Comuna_original      Borough_original  \\\n0       Con heridos                         Belén    Loma de los Bernal   \n1       Con heridos                 La Candelaria        Jesús Nazareno   \n2       Con heridos                      Manrique     Manrique Oriental   \n3       Con heridos                         Belén          Las Mercedes   \n4       Con heridos               Doce De Octubre  Doce de Octubre No.2   \n...             ...                           ...                   ...   \n289094  Con heridos  Corregimiento De Santa Elena                  9004   \n289095  Con heridos                      Castilla              Castilla   \n289096  Con heridos                    La América            La América   \n289097  Con heridos                 Villa Hermosa             Villatina   \n289098  Con heridos                 La Candelaria           Los Ángeles   \n\n               Desing  Year       Date      Time codigo_comuna  \\\n0        Tramo de via  2014 2014-01-01  02:20:00            16   \n1        Tramo de via  2014 2014-01-01  00:50:00            10   \n2        Tramo de via  2014 2014-01-01  01:00:00             3   \n3        Tramo de via  2014 2014-01-01  00:37:00            16   \n4        Tramo de via  2014 2014-01-01  10:40:00             6   \n...               ...   ...        ...       ...           ...   \n289094  Lote o Predio  2020 2020-06-30  21:00:00            90   \n289095   Interseccion  2020 2020-06-30  21:05:00             5   \n289096   Tramo de via  2020 2020-06-30  21:15:00            12   \n289097  Lote o Predio  2020 2020-06-30  22:00:00             8   \n289098   Tramo de via  2020 2020-06-30  22:10:00            10   \n\n                     Borough           Comuna  \n0         Loma de los Bernal            BELEN  \n1             Jesús Nazareno    LA CANDELARIA  \n2          Manrique Oriental         MANRIQUE  \n3               Las Mercedes            BELEN  \n4       Doce de Octubre No.2  DOCE DE OCTUBRE  \n...                      ...              ...  \n289094            Las Palmas      SANTA ELENA  \n289095              Castilla         CASTILLA  \n289096            La América       LA AMERICA  \n289097             Villatina    VILLA HERMOSA  \n289098           Los Ángeles    LA CANDELARIA  \n\n[288983 rows x 16 columns]",
      "text/html": "<div>\n<style scoped>\n    .dataframe tbody tr th:only-of-type {\n        vertical-align: middle;\n    }\n\n    .dataframe tbody tr th {\n        vertical-align: top;\n    }\n\n    .dataframe thead th {\n        text-align: right;\n    }\n</style>\n<table border=\"1\" class=\"dataframe\">\n  <thead>\n    <tr style=\"text-align: right;\">\n      <th></th>\n      <th>Radicado</th>\n      <th>Latitude</th>\n      <th>Longitude</th>\n      <th>Type</th>\n      <th>Address</th>\n      <th>Cbml</th>\n      <th>Severity</th>\n      <th>Comuna_original</th>\n      <th>Borough_original</th>\n      <th>Desing</th>\n      <th>Year</th>\n      <th>Date</th>\n      <th>Time</th>\n      <th>codigo_comuna</th>\n      <th>Borough</th>\n      <th>Comuna</th>\n    </tr>\n  </thead>\n  <tbody>\n    <tr>\n      <th>0</th>\n      <td>1423828</td>\n      <td>6.219016</td>\n      <td>-75.602726</td>\n      <td>Choque</td>\n      <td>CR 80 CL 8</td>\n      <td>1611</td>\n      <td>Con heridos</td>\n      <td>Belén</td>\n      <td>Loma de los Bernal</td>\n      <td>Tramo de via</td>\n      <td>2014</td>\n      <td>2014-01-01</td>\n      <td>02:20:00</td>\n      <td>16</td>\n      <td>Loma de los Bernal</td>\n      <td>BELEN</td>\n    </tr>\n    <tr>\n      <th>1</th>\n      <td>1423839</td>\n      <td>6.260009</td>\n      <td>-75.568185</td>\n      <td>Atropello</td>\n      <td>CR 53 CL 61</td>\n      <td>1003</td>\n      <td>Con heridos</td>\n      <td>La Candelaria</td>\n      <td>Jesús Nazareno</td>\n      <td>Tramo de via</td>\n      <td>2014</td>\n      <td>2014-01-01</td>\n      <td>00:50:00</td>\n      <td>10</td>\n      <td>Jesús Nazareno</td>\n      <td>LA CANDELARIA</td>\n    </tr>\n    <tr>\n      <th>2</th>\n      <td>1423840</td>\n      <td>6.264765</td>\n      <td>-75.549943</td>\n      <td>Atropello</td>\n      <td>CR 39 CL 70</td>\n      <td>0308</td>\n      <td>Con heridos</td>\n      <td>Manrique</td>\n      <td>Manrique Oriental</td>\n      <td>Tramo de via</td>\n      <td>2014</td>\n      <td>2014-01-01</td>\n      <td>01:00:00</td>\n      <td>3</td>\n      <td>Manrique Oriental</td>\n      <td>MANRIQUE</td>\n    </tr>\n    <tr>\n      <th>3</th>\n      <td>1423849</td>\n      <td>6.234327</td>\n      <td>-75.607611</td>\n      <td>Atropello</td>\n      <td>CL 32 CR 84</td>\n      <td>1617</td>\n      <td>Con heridos</td>\n      <td>Belén</td>\n      <td>Las Mercedes</td>\n      <td>Tramo de via</td>\n      <td>2014</td>\n      <td>2014-01-01</td>\n      <td>00:37:00</td>\n      <td>16</td>\n      <td>Las Mercedes</td>\n      <td>BELEN</td>\n    </tr>\n    <tr>\n      <th>4</th>\n      <td>1423890</td>\n      <td>6.300243</td>\n      <td>-75.579644</td>\n      <td>Caida Ocupante</td>\n      <td>CR 80 CL 101</td>\n      <td>0603</td>\n      <td>Con heridos</td>\n      <td>Doce De Octubre</td>\n      <td>Doce de Octubre No.2</td>\n      <td>Tramo de via</td>\n      <td>2014</td>\n      <td>2014-01-01</td>\n      <td>10:40:00</td>\n      <td>6</td>\n      <td>Doce de Octubre No.2</td>\n      <td>DOCE DE OCTUBRE</td>\n    </tr>\n    <tr>\n      <th>...</th>\n      <td>...</td>\n      <td>...</td>\n      <td>...</td>\n      <td>...</td>\n      <td>...</td>\n      <td>...</td>\n      <td>...</td>\n      <td>...</td>\n      <td>...</td>\n      <td>...</td>\n      <td>...</td>\n      <td>...</td>\n      <td>...</td>\n      <td>...</td>\n      <td>...</td>\n      <td>...</td>\n    </tr>\n    <tr>\n      <th>289094</th>\n      <td>1717678</td>\n      <td>6.220716</td>\n      <td>-75.559017</td>\n      <td>Caida Ocupante</td>\n      <td>CL 19A CR 27</td>\n      <td>9004</td>\n      <td>Con heridos</td>\n      <td>Corregimiento De Santa Elena</td>\n      <td>9004</td>\n      <td>Lote o Predio</td>\n      <td>2020</td>\n      <td>2020-06-30</td>\n      <td>21:00:00</td>\n      <td>90</td>\n      <td>Las Palmas</td>\n      <td>SANTA ELENA</td>\n    </tr>\n    <tr>\n      <th>289095</th>\n      <td>1717650</td>\n      <td>6.286417</td>\n      <td>-75.570338</td>\n      <td>Choque</td>\n      <td>CR 65 CL 94</td>\n      <td>0511</td>\n      <td>Con heridos</td>\n      <td>Castilla</td>\n      <td>Castilla</td>\n      <td>Interseccion</td>\n      <td>2020</td>\n      <td>2020-06-30</td>\n      <td>21:05:00</td>\n      <td>5</td>\n      <td>Castilla</td>\n      <td>CASTILLA</td>\n    </tr>\n    <tr>\n      <th>289096</th>\n      <td>1717526</td>\n      <td>6.221415</td>\n      <td>-75.703776</td>\n      <td>Choque</td>\n      <td>CR 86 CL 44 B Sur</td>\n      <td>1204</td>\n      <td>Con heridos</td>\n      <td>La América</td>\n      <td>La América</td>\n      <td>Tramo de via</td>\n      <td>2020</td>\n      <td>2020-06-30</td>\n      <td>21:15:00</td>\n      <td>12</td>\n      <td>La América</td>\n      <td>LA AMERICA</td>\n    </tr>\n    <tr>\n      <th>289097</th>\n      <td>1717545</td>\n      <td>6.235761</td>\n      <td>-75.538379</td>\n      <td>Otro</td>\n      <td>CR 12 CL 53</td>\n      <td>0813</td>\n      <td>Con heridos</td>\n      <td>Villa Hermosa</td>\n      <td>Villatina</td>\n      <td>Lote o Predio</td>\n      <td>2020</td>\n      <td>2020-06-30</td>\n      <td>22:00:00</td>\n      <td>8</td>\n      <td>Villatina</td>\n      <td>VILLA HERMOSA</td>\n    </tr>\n    <tr>\n      <th>289098</th>\n      <td>1717634</td>\n      <td>6.254707</td>\n      <td>-75.562176</td>\n      <td>Atropello</td>\n      <td>CR 47 CL 58</td>\n      <td>1017</td>\n      <td>Con heridos</td>\n      <td>La Candelaria</td>\n      <td>Los Ángeles</td>\n      <td>Tramo de via</td>\n      <td>2020</td>\n      <td>2020-06-30</td>\n      <td>22:10:00</td>\n      <td>10</td>\n      <td>Los Ángeles</td>\n      <td>LA CANDELARIA</td>\n    </tr>\n  </tbody>\n</table>\n<p>288983 rows × 16 columns</p>\n</div>"
     },
     "metadata": {},
     "execution_count": 316
    }
   ],
   "source": [
    "i_df"
   ]
  },
  {
   "cell_type": "code",
   "execution_count": 317,
   "metadata": {
    "tags": []
   },
   "outputs": [
    {
     "output_type": "execute_result",
     "data": {
      "text/plain": "       Radicado                   geometry\n0       1423828  POINT (-75.60273 6.21902)\n1       1423839  POINT (-75.56818 6.26001)\n2       1423840  POINT (-75.54994 6.26476)\n3       1423849  POINT (-75.60761 6.23433)\n4       1423890  POINT (-75.57964 6.30024)\n...         ...                        ...\n289094  1717678  POINT (-75.55902 6.22072)\n289095  1717650  POINT (-75.57034 6.28642)\n289096  1717526  POINT (-75.70378 6.22142)\n289097  1717545  POINT (-75.53838 6.23576)\n289098  1717634  POINT (-75.56218 6.25471)\n\n[288449 rows x 2 columns]",
      "text/html": "<div>\n<style scoped>\n    .dataframe tbody tr th:only-of-type {\n        vertical-align: middle;\n    }\n\n    .dataframe tbody tr th {\n        vertical-align: top;\n    }\n\n    .dataframe thead th {\n        text-align: right;\n    }\n</style>\n<table border=\"1\" class=\"dataframe\">\n  <thead>\n    <tr style=\"text-align: right;\">\n      <th></th>\n      <th>Radicado</th>\n      <th>geometry</th>\n    </tr>\n  </thead>\n  <tbody>\n    <tr>\n      <th>0</th>\n      <td>1423828</td>\n      <td>POINT (-75.60273 6.21902)</td>\n    </tr>\n    <tr>\n      <th>1</th>\n      <td>1423839</td>\n      <td>POINT (-75.56818 6.26001)</td>\n    </tr>\n    <tr>\n      <th>2</th>\n      <td>1423840</td>\n      <td>POINT (-75.54994 6.26476)</td>\n    </tr>\n    <tr>\n      <th>3</th>\n      <td>1423849</td>\n      <td>POINT (-75.60761 6.23433)</td>\n    </tr>\n    <tr>\n      <th>4</th>\n      <td>1423890</td>\n      <td>POINT (-75.57964 6.30024)</td>\n    </tr>\n    <tr>\n      <th>...</th>\n      <td>...</td>\n      <td>...</td>\n    </tr>\n    <tr>\n      <th>289094</th>\n      <td>1717678</td>\n      <td>POINT (-75.55902 6.22072)</td>\n    </tr>\n    <tr>\n      <th>289095</th>\n      <td>1717650</td>\n      <td>POINT (-75.57034 6.28642)</td>\n    </tr>\n    <tr>\n      <th>289096</th>\n      <td>1717526</td>\n      <td>POINT (-75.70378 6.22142)</td>\n    </tr>\n    <tr>\n      <th>289097</th>\n      <td>1717545</td>\n      <td>POINT (-75.53838 6.23576)</td>\n    </tr>\n    <tr>\n      <th>289098</th>\n      <td>1717634</td>\n      <td>POINT (-75.56218 6.25471)</td>\n    </tr>\n  </tbody>\n</table>\n<p>288449 rows × 2 columns</p>\n</div>"
     },
     "metadata": {},
     "execution_count": 317
    }
   ],
   "source": [
    "\n",
    "temp_i_df = i_df[(~i_df.Latitude.isna())][['Radicado','Latitude', 'Longitude']]\n",
    "\n",
    "i_gdf = gpd.GeoDataFrame(\n",
    "    temp_i_df, geometry=gpd.points_from_xy(temp_i_df.Longitude, temp_i_df.Latitude))[['Radicado','geometry']]\n",
    "i_gdf"
   ]
  },
  {
   "cell_type": "code",
   "execution_count": 318,
   "metadata": {},
   "outputs": [
    {
     "output_type": "execute_result",
     "data": {
      "text/plain": "       Radicado                   geometry  index_right  Cbml  \\\n0       1423828  POINT (-75.60273 6.21902)        303.0  1611   \n1       1423839  POINT (-75.56818 6.26001)         11.0  1003   \n2       1423840  POINT (-75.54994 6.26476)         31.0  0308   \n3       1423849  POINT (-75.60761 6.23433)        190.0  1617   \n4       1423890  POINT (-75.57964 6.30024)         53.0  0603   \n...         ...                        ...          ...   ...   \n289094  1717678  POINT (-75.55902 6.22072)         83.0  0916   \n289095  1717650  POINT (-75.57034 6.28642)        203.0  0511   \n289096  1717526  POINT (-75.70378 6.22142)          NaN   NaN   \n289097  1717545  POINT (-75.53838 6.23576)         13.0  0813   \n289098  1717634  POINT (-75.56218 6.25471)         98.0  1018   \n\n                     Borough           Comuna  \n0         Loma de los Bernal            BELEN  \n1             Jesús Nazareno    LA CANDELARIA  \n2          Manrique Oriental         MANRIQUE  \n3               Las Mercedes            BELEN  \n4       Doce de Octubre No.2  DOCE DE OCTUBRE  \n...                      ...              ...  \n289094       Asomadera No. 3     BUENOS AIRES  \n289095              Castilla         CASTILLA  \n289096                   NaN              NaN  \n289097             Villatina    VILLA HERMOSA  \n289098           Villa Nueva    LA CANDELARIA  \n\n[288450 rows x 6 columns]",
      "text/html": "<div>\n<style scoped>\n    .dataframe tbody tr th:only-of-type {\n        vertical-align: middle;\n    }\n\n    .dataframe tbody tr th {\n        vertical-align: top;\n    }\n\n    .dataframe thead th {\n        text-align: right;\n    }\n</style>\n<table border=\"1\" class=\"dataframe\">\n  <thead>\n    <tr style=\"text-align: right;\">\n      <th></th>\n      <th>Radicado</th>\n      <th>geometry</th>\n      <th>index_right</th>\n      <th>Cbml</th>\n      <th>Borough</th>\n      <th>Comuna</th>\n    </tr>\n  </thead>\n  <tbody>\n    <tr>\n      <th>0</th>\n      <td>1423828</td>\n      <td>POINT (-75.60273 6.21902)</td>\n      <td>303.0</td>\n      <td>1611</td>\n      <td>Loma de los Bernal</td>\n      <td>BELEN</td>\n    </tr>\n    <tr>\n      <th>1</th>\n      <td>1423839</td>\n      <td>POINT (-75.56818 6.26001)</td>\n      <td>11.0</td>\n      <td>1003</td>\n      <td>Jesús Nazareno</td>\n      <td>LA CANDELARIA</td>\n    </tr>\n    <tr>\n      <th>2</th>\n      <td>1423840</td>\n      <td>POINT (-75.54994 6.26476)</td>\n      <td>31.0</td>\n      <td>0308</td>\n      <td>Manrique Oriental</td>\n      <td>MANRIQUE</td>\n    </tr>\n    <tr>\n      <th>3</th>\n      <td>1423849</td>\n      <td>POINT (-75.60761 6.23433)</td>\n      <td>190.0</td>\n      <td>1617</td>\n      <td>Las Mercedes</td>\n      <td>BELEN</td>\n    </tr>\n    <tr>\n      <th>4</th>\n      <td>1423890</td>\n      <td>POINT (-75.57964 6.30024)</td>\n      <td>53.0</td>\n      <td>0603</td>\n      <td>Doce de Octubre No.2</td>\n      <td>DOCE DE OCTUBRE</td>\n    </tr>\n    <tr>\n      <th>...</th>\n      <td>...</td>\n      <td>...</td>\n      <td>...</td>\n      <td>...</td>\n      <td>...</td>\n      <td>...</td>\n    </tr>\n    <tr>\n      <th>289094</th>\n      <td>1717678</td>\n      <td>POINT (-75.55902 6.22072)</td>\n      <td>83.0</td>\n      <td>0916</td>\n      <td>Asomadera No. 3</td>\n      <td>BUENOS AIRES</td>\n    </tr>\n    <tr>\n      <th>289095</th>\n      <td>1717650</td>\n      <td>POINT (-75.57034 6.28642)</td>\n      <td>203.0</td>\n      <td>0511</td>\n      <td>Castilla</td>\n      <td>CASTILLA</td>\n    </tr>\n    <tr>\n      <th>289096</th>\n      <td>1717526</td>\n      <td>POINT (-75.70378 6.22142)</td>\n      <td>NaN</td>\n      <td>NaN</td>\n      <td>NaN</td>\n      <td>NaN</td>\n    </tr>\n    <tr>\n      <th>289097</th>\n      <td>1717545</td>\n      <td>POINT (-75.53838 6.23576)</td>\n      <td>13.0</td>\n      <td>0813</td>\n      <td>Villatina</td>\n      <td>VILLA HERMOSA</td>\n    </tr>\n    <tr>\n      <th>289098</th>\n      <td>1717634</td>\n      <td>POINT (-75.56218 6.25471)</td>\n      <td>98.0</td>\n      <td>1018</td>\n      <td>Villa Nueva</td>\n      <td>LA CANDELARIA</td>\n    </tr>\n  </tbody>\n</table>\n<p>288450 rows × 6 columns</p>\n</div>"
     },
     "metadata": {},
     "execution_count": 318
    }
   ],
   "source": [
    "i_gdf = gpd.sjoin(i_gdf, borough_df,op='within', how='left').drop_duplicates()\n",
    "i_gdf"
   ]
  },
  {
   "cell_type": "code",
   "execution_count": 319,
   "metadata": {},
   "outputs": [],
   "source": [
    "i_gdf.dropna(inplace=True)"
   ]
  },
  {
   "cell_type": "code",
   "execution_count": 320,
   "metadata": {},
   "outputs": [],
   "source": [
    "i_gdf.drop(columns=['geometry','index_right'],inplace=True)"
   ]
  },
  {
   "cell_type": "code",
   "execution_count": 323,
   "metadata": {},
   "outputs": [],
   "source": [
    "i_df = i_df.merge(i_gdf, on='Radicado', how='left', suffixes=('_standard', '')).drop_duplicates()\n",
    "\n",
    "# i_df.join(i_gdf.set_index('Radicado'), on='Radicado', how='left', lsuffix='_old').drop_duplicates()\n"
   ]
  },
  {
   "cell_type": "code",
   "execution_count": 390,
   "metadata": {},
   "outputs": [
    {
     "output_type": "execute_result",
     "data": {
      "text/plain": "       Radicado  Latitude  Longitude            Type            Address  \\\n0       1423828  6.219016 -75.602726          Choque         CR 80 CL 8   \n1       1423839  6.260009 -75.568185       Atropello        CR 53 CL 61   \n2       1423840  6.264765 -75.549943       Atropello        CR 39 CL 70   \n3       1423849  6.234327 -75.607611       Atropello        CL 32 CR 84   \n4       1423890  6.300243 -75.579644  Caida Ocupante       CR 80 CL 101   \n...         ...       ...        ...             ...                ...   \n288979  1717678  6.220716 -75.559017  Caida Ocupante       CL 19A CR 27   \n288980  1717650  6.286417 -75.570338          Choque        CR 65 CL 94   \n288981  1717526  6.221415 -75.703776          Choque  CR 86 CL 44 B Sur   \n288982  1717545  6.235761 -75.538379            Otro        CR 12 CL 53   \n288983  1717634  6.254707 -75.562176       Atropello        CR 47 CL 58   \n\n       Cbml_standard     Severity               Comuna_original  \\\n0               1611  Con heridos                         Belén   \n1               1003  Con heridos                 La Candelaria   \n2               0308  Con heridos                      Manrique   \n3               1617  Con heridos                         Belén   \n4               0603  Con heridos               Doce De Octubre   \n...              ...          ...                           ...   \n288979          9004  Con heridos  Corregimiento De Santa Elena   \n288980          0511  Con heridos                      Castilla   \n288981          1204  Con heridos                    La América   \n288982          0813  Con heridos                 Villa Hermosa   \n288983          1017  Con heridos                 La Candelaria   \n\n            Borough_original         Desing  Year       Date      Time  \\\n0         Loma de los Bernal   Tramo de via  2014 2014-01-01  02:20:00   \n1             Jesús Nazareno   Tramo de via  2014 2014-01-01  00:50:00   \n2          Manrique Oriental   Tramo de via  2014 2014-01-01  01:00:00   \n3               Las Mercedes   Tramo de via  2014 2014-01-01  00:37:00   \n4       Doce de Octubre No.2   Tramo de via  2014 2014-01-01  10:40:00   \n...                      ...            ...   ...        ...       ...   \n288979                  9004  Lote o Predio  2020 2020-06-30  21:00:00   \n288980              Castilla   Interseccion  2020 2020-06-30  21:05:00   \n288981            La América   Tramo de via  2020 2020-06-30  21:15:00   \n288982             Villatina  Lote o Predio  2020 2020-06-30  22:00:00   \n288983           Los Ángeles   Tramo de via  2020 2020-06-30  22:10:00   \n\n       codigo_comuna      Borough_standard  Comuna_standard  Cbml  \\\n0                 16    Loma de los Bernal            BELEN  1611   \n1                 10        Jesús Nazareno    LA CANDELARIA  1003   \n2                  3     Manrique Oriental         MANRIQUE  0308   \n3                 16          Las Mercedes            BELEN  1617   \n4                  6  Doce de Octubre No.2  DOCE DE OCTUBRE  0603   \n...              ...                   ...              ...   ...   \n288979            90            Las Palmas      SANTA ELENA  0916   \n288980             5              Castilla         CASTILLA  0511   \n288981            12            La América       LA AMERICA   NaN   \n288982             8             Villatina    VILLA HERMOSA  0813   \n288983            10           Los Ángeles    LA CANDELARIA  1018   \n\n                     Borough           Comuna  \n0         Loma de los Bernal            BELEN  \n1             Jesús Nazareno    LA CANDELARIA  \n2          Manrique Oriental         MANRIQUE  \n3               Las Mercedes            BELEN  \n4       Doce de Octubre No.2  DOCE DE OCTUBRE  \n...                      ...              ...  \n288979       Asomadera No. 3     BUENOS AIRES  \n288980              Castilla         CASTILLA  \n288981                   NaN              NaN  \n288982             Villatina    VILLA HERMOSA  \n288983           Villa Nueva    LA CANDELARIA  \n\n[288984 rows x 19 columns]",
      "text/html": "<div>\n<style scoped>\n    .dataframe tbody tr th:only-of-type {\n        vertical-align: middle;\n    }\n\n    .dataframe tbody tr th {\n        vertical-align: top;\n    }\n\n    .dataframe thead th {\n        text-align: right;\n    }\n</style>\n<table border=\"1\" class=\"dataframe\">\n  <thead>\n    <tr style=\"text-align: right;\">\n      <th></th>\n      <th>Radicado</th>\n      <th>Latitude</th>\n      <th>Longitude</th>\n      <th>Type</th>\n      <th>Address</th>\n      <th>Cbml_standard</th>\n      <th>Severity</th>\n      <th>Comuna_original</th>\n      <th>Borough_original</th>\n      <th>Desing</th>\n      <th>Year</th>\n      <th>Date</th>\n      <th>Time</th>\n      <th>codigo_comuna</th>\n      <th>Borough_standard</th>\n      <th>Comuna_standard</th>\n      <th>Cbml</th>\n      <th>Borough</th>\n      <th>Comuna</th>\n    </tr>\n  </thead>\n  <tbody>\n    <tr>\n      <th>0</th>\n      <td>1423828</td>\n      <td>6.219016</td>\n      <td>-75.602726</td>\n      <td>Choque</td>\n      <td>CR 80 CL 8</td>\n      <td>1611</td>\n      <td>Con heridos</td>\n      <td>Belén</td>\n      <td>Loma de los Bernal</td>\n      <td>Tramo de via</td>\n      <td>2014</td>\n      <td>2014-01-01</td>\n      <td>02:20:00</td>\n      <td>16</td>\n      <td>Loma de los Bernal</td>\n      <td>BELEN</td>\n      <td>1611</td>\n      <td>Loma de los Bernal</td>\n      <td>BELEN</td>\n    </tr>\n    <tr>\n      <th>1</th>\n      <td>1423839</td>\n      <td>6.260009</td>\n      <td>-75.568185</td>\n      <td>Atropello</td>\n      <td>CR 53 CL 61</td>\n      <td>1003</td>\n      <td>Con heridos</td>\n      <td>La Candelaria</td>\n      <td>Jesús Nazareno</td>\n      <td>Tramo de via</td>\n      <td>2014</td>\n      <td>2014-01-01</td>\n      <td>00:50:00</td>\n      <td>10</td>\n      <td>Jesús Nazareno</td>\n      <td>LA CANDELARIA</td>\n      <td>1003</td>\n      <td>Jesús Nazareno</td>\n      <td>LA CANDELARIA</td>\n    </tr>\n    <tr>\n      <th>2</th>\n      <td>1423840</td>\n      <td>6.264765</td>\n      <td>-75.549943</td>\n      <td>Atropello</td>\n      <td>CR 39 CL 70</td>\n      <td>0308</td>\n      <td>Con heridos</td>\n      <td>Manrique</td>\n      <td>Manrique Oriental</td>\n      <td>Tramo de via</td>\n      <td>2014</td>\n      <td>2014-01-01</td>\n      <td>01:00:00</td>\n      <td>3</td>\n      <td>Manrique Oriental</td>\n      <td>MANRIQUE</td>\n      <td>0308</td>\n      <td>Manrique Oriental</td>\n      <td>MANRIQUE</td>\n    </tr>\n    <tr>\n      <th>3</th>\n      <td>1423849</td>\n      <td>6.234327</td>\n      <td>-75.607611</td>\n      <td>Atropello</td>\n      <td>CL 32 CR 84</td>\n      <td>1617</td>\n      <td>Con heridos</td>\n      <td>Belén</td>\n      <td>Las Mercedes</td>\n      <td>Tramo de via</td>\n      <td>2014</td>\n      <td>2014-01-01</td>\n      <td>00:37:00</td>\n      <td>16</td>\n      <td>Las Mercedes</td>\n      <td>BELEN</td>\n      <td>1617</td>\n      <td>Las Mercedes</td>\n      <td>BELEN</td>\n    </tr>\n    <tr>\n      <th>4</th>\n      <td>1423890</td>\n      <td>6.300243</td>\n      <td>-75.579644</td>\n      <td>Caida Ocupante</td>\n      <td>CR 80 CL 101</td>\n      <td>0603</td>\n      <td>Con heridos</td>\n      <td>Doce De Octubre</td>\n      <td>Doce de Octubre No.2</td>\n      <td>Tramo de via</td>\n      <td>2014</td>\n      <td>2014-01-01</td>\n      <td>10:40:00</td>\n      <td>6</td>\n      <td>Doce de Octubre No.2</td>\n      <td>DOCE DE OCTUBRE</td>\n      <td>0603</td>\n      <td>Doce de Octubre No.2</td>\n      <td>DOCE DE OCTUBRE</td>\n    </tr>\n    <tr>\n      <th>...</th>\n      <td>...</td>\n      <td>...</td>\n      <td>...</td>\n      <td>...</td>\n      <td>...</td>\n      <td>...</td>\n      <td>...</td>\n      <td>...</td>\n      <td>...</td>\n      <td>...</td>\n      <td>...</td>\n      <td>...</td>\n      <td>...</td>\n      <td>...</td>\n      <td>...</td>\n      <td>...</td>\n      <td>...</td>\n      <td>...</td>\n      <td>...</td>\n    </tr>\n    <tr>\n      <th>288979</th>\n      <td>1717678</td>\n      <td>6.220716</td>\n      <td>-75.559017</td>\n      <td>Caida Ocupante</td>\n      <td>CL 19A CR 27</td>\n      <td>9004</td>\n      <td>Con heridos</td>\n      <td>Corregimiento De Santa Elena</td>\n      <td>9004</td>\n      <td>Lote o Predio</td>\n      <td>2020</td>\n      <td>2020-06-30</td>\n      <td>21:00:00</td>\n      <td>90</td>\n      <td>Las Palmas</td>\n      <td>SANTA ELENA</td>\n      <td>0916</td>\n      <td>Asomadera No. 3</td>\n      <td>BUENOS AIRES</td>\n    </tr>\n    <tr>\n      <th>288980</th>\n      <td>1717650</td>\n      <td>6.286417</td>\n      <td>-75.570338</td>\n      <td>Choque</td>\n      <td>CR 65 CL 94</td>\n      <td>0511</td>\n      <td>Con heridos</td>\n      <td>Castilla</td>\n      <td>Castilla</td>\n      <td>Interseccion</td>\n      <td>2020</td>\n      <td>2020-06-30</td>\n      <td>21:05:00</td>\n      <td>5</td>\n      <td>Castilla</td>\n      <td>CASTILLA</td>\n      <td>0511</td>\n      <td>Castilla</td>\n      <td>CASTILLA</td>\n    </tr>\n    <tr>\n      <th>288981</th>\n      <td>1717526</td>\n      <td>6.221415</td>\n      <td>-75.703776</td>\n      <td>Choque</td>\n      <td>CR 86 CL 44 B Sur</td>\n      <td>1204</td>\n      <td>Con heridos</td>\n      <td>La América</td>\n      <td>La América</td>\n      <td>Tramo de via</td>\n      <td>2020</td>\n      <td>2020-06-30</td>\n      <td>21:15:00</td>\n      <td>12</td>\n      <td>La América</td>\n      <td>LA AMERICA</td>\n      <td>NaN</td>\n      <td>NaN</td>\n      <td>NaN</td>\n    </tr>\n    <tr>\n      <th>288982</th>\n      <td>1717545</td>\n      <td>6.235761</td>\n      <td>-75.538379</td>\n      <td>Otro</td>\n      <td>CR 12 CL 53</td>\n      <td>0813</td>\n      <td>Con heridos</td>\n      <td>Villa Hermosa</td>\n      <td>Villatina</td>\n      <td>Lote o Predio</td>\n      <td>2020</td>\n      <td>2020-06-30</td>\n      <td>22:00:00</td>\n      <td>8</td>\n      <td>Villatina</td>\n      <td>VILLA HERMOSA</td>\n      <td>0813</td>\n      <td>Villatina</td>\n      <td>VILLA HERMOSA</td>\n    </tr>\n    <tr>\n      <th>288983</th>\n      <td>1717634</td>\n      <td>6.254707</td>\n      <td>-75.562176</td>\n      <td>Atropello</td>\n      <td>CR 47 CL 58</td>\n      <td>1017</td>\n      <td>Con heridos</td>\n      <td>La Candelaria</td>\n      <td>Los Ángeles</td>\n      <td>Tramo de via</td>\n      <td>2020</td>\n      <td>2020-06-30</td>\n      <td>22:10:00</td>\n      <td>10</td>\n      <td>Los Ángeles</td>\n      <td>LA CANDELARIA</td>\n      <td>1018</td>\n      <td>Villa Nueva</td>\n      <td>LA CANDELARIA</td>\n    </tr>\n  </tbody>\n</table>\n<p>288984 rows × 19 columns</p>\n</div>"
     },
     "metadata": {},
     "execution_count": 390
    }
   ],
   "source": [
    "i_df"
   ]
  },
  {
   "cell_type": "code",
   "execution_count": 418,
   "metadata": {
    "tags": []
   },
   "outputs": [
    {
     "output_type": "stream",
     "name": "stdout",
     "text": "[329 W 96th St, New York, NY 10025]\n[114B Rue de Vaugirard, 75006 Paris]\n"
    }
   ],
   "source": [
    "# import geocoder\n",
    "# import json\n",
    "# to_clean = i_df[i_df.Cbml != i_df.Cbml_standard].copy()\n",
    "\n",
    "# batch = [[x,y] for x, y in zip(to_clean.Latitude,to_clean.Longitude) ]\n",
    "# len(batch)\n",
    "g = geocoder.bing([[40.7943, -73.970859], [48.845580, 2.321807]], method='batch_reverse',key='An8rGhIvWo0WthZ813a1cKK7gUjQ_6c2OFAlqLvi3pP9El8P0s_k7beCQEW2EzR1')\n",
    "for x in g:\n",
    "    print(x)\n",
    "# with open('batch_reverse.json', 'w') as outfile:\n",
    "#     json.dump(g, outfile, ensure_ascii=False, indent=4)"
   ]
  },
  {
   "cell_type": "code",
   "execution_count": 421,
   "metadata": {},
   "outputs": [
    {
     "output_type": "execute_result",
     "data": {
      "text/plain": "(69676, 19)"
     },
     "metadata": {},
     "execution_count": 421
    }
   ],
   "source": [
    "to_clean.shape"
   ]
  },
  {
   "cell_type": "code",
   "execution_count": 431,
   "metadata": {
    "tags": []
   },
   "outputs": [
    {
     "output_type": "stream",
     "name": "stdout",
     "text": "1 58\n2.0 %\n[1424094]\n2 69\n3.0 %\n[1424219]\n3 72\n4.0 %\n[1424224]\n4 78\n5.0 %\n[1424243]\n5 83\n6.0 %\n[1425217]\n6 232\n3.0 %\n[1424875]\n7 257\n3.0 %\n[1425010]\n8 323\n2.0 %\n[1425128]\n9 331\n3.0 %\n[1425168]\n10 379\n3.0 %\n[1425483]\n11 382\n3.0 %\n[1425490]\n12 384\n3.0 %\n[1425453]\n13 411\n3.0 %\n[1425707]\n14 438\n3.0 %\n[1425827]\n15 505\n3.0 %\n[1426106]\n16 538\n3.0 %\n[1426213]\n17 617\n3.0 %\n[1426653]\n18 630\n3.0 %\n[1426589]\n19 672\n3.0 %\n[1426797]\n20 691\n3.0 %\n[1426828]\n21 728\n3.0 %\n[1427027]\n22 774\n3.0 %\n[1427324]\n23 777\n3.0 %\n[1427333]\n24 824\n3.0 %\n[1427488]\n25 854\n3.0 %\n[1427659]\n26 873\n3.0 %\n[1427768]\n27 882\n3.0 %\n[1427891]\n28 911\n3.0 %\n[1427888]\n29 966\n3.0 %\n[1428203]\n30 1018\n3.0 %\n[1428369]\n31 1068\n3.0 %\n[1428761]\n32 1088\n3.0 %\n[1428861]\n33 1113\n3.0 %\n[1428874]\n34 1166\n3.0 %\n[1429218]\n35 1173\n3.0 %\n[1429478]\n36 1181\n3.0 %\n[1429162]\n37 1229\n3.0 %\n[1429605]\n38 1266\n3.0 %\n[1429553]\n39 1296\n3.0 %\n[1429735]\n40 1348\n3.0 %\n[1429981]\n41 1385\n3.0 %\n[1430130]\n42 1440\n3.0 %\n[1430413]\n43 1597\n3.0 %\n[1431042]\n44 1688\n3.0 %\n[1431371]\n45 1734\n3.0 %\n[1431665]\n46 1807\n3.0 %\n[1432349]\n47 1813\n3.0 %\n[1432036]\n48 1851\n3.0 %\n[1432031]\n49 1854\n3.0 %\n[1432132]\n50 1943\n3.0 %\n[1433140]\n51 1970\n3.0 %\n[1433216]\n52 2005\n3.0 %\n[1433203]\n53 2128\n2.0 %\n[1433449]\n"
    },
    {
     "output_type": "error",
     "ename": "GeocoderUnavailable",
     "evalue": "HTTPSConnectionPool(host='dev.virtualearth.net', port=443): Max retries exceeded with url: /REST/v1/Locations?query=Tramo+9+Kilometro+999%2CMedellin%2CColombia&key=An8rGhIvWo0WthZ813a1cKK7gUjQ_6c2OFAlqLvi3pP9El8P0s_k7beCQEW2EzR1&maxResults=1 (Caused by NewConnectionError('<urllib3.connection.HTTPSConnection object at 0x18c2581d0>: Failed to establish a new connection: [Errno 8] nodename nor servname provided, or not known'))",
     "traceback": [
      "\u001b[0;31m---------------------------------------------------------------------------\u001b[0m",
      "\u001b[0;31mgaierror\u001b[0m                                  Traceback (most recent call last)",
      "\u001b[0;32m~/Projects/ds4a-practicum/.venv/lib/python3.7/site-packages/urllib3/connection.py\u001b[0m in \u001b[0;36m_new_conn\u001b[0;34m(self)\u001b[0m\n\u001b[1;32m    159\u001b[0m             conn = connection.create_connection(\n\u001b[0;32m--> 160\u001b[0;31m                 \u001b[0;34m(\u001b[0m\u001b[0mself\u001b[0m\u001b[0;34m.\u001b[0m\u001b[0m_dns_host\u001b[0m\u001b[0;34m,\u001b[0m \u001b[0mself\u001b[0m\u001b[0;34m.\u001b[0m\u001b[0mport\u001b[0m\u001b[0;34m)\u001b[0m\u001b[0;34m,\u001b[0m \u001b[0mself\u001b[0m\u001b[0;34m.\u001b[0m\u001b[0mtimeout\u001b[0m\u001b[0;34m,\u001b[0m \u001b[0;34m**\u001b[0m\u001b[0mextra_kw\u001b[0m\u001b[0;34m\u001b[0m\u001b[0;34m\u001b[0m\u001b[0m\n\u001b[0m\u001b[1;32m    161\u001b[0m             )\n",
      "\u001b[0;32m~/Projects/ds4a-practicum/.venv/lib/python3.7/site-packages/urllib3/util/connection.py\u001b[0m in \u001b[0;36mcreate_connection\u001b[0;34m(address, timeout, source_address, socket_options)\u001b[0m\n\u001b[1;32m     60\u001b[0m \u001b[0;34m\u001b[0m\u001b[0m\n\u001b[0;32m---> 61\u001b[0;31m     \u001b[0;32mfor\u001b[0m \u001b[0mres\u001b[0m \u001b[0;32min\u001b[0m \u001b[0msocket\u001b[0m\u001b[0;34m.\u001b[0m\u001b[0mgetaddrinfo\u001b[0m\u001b[0;34m(\u001b[0m\u001b[0mhost\u001b[0m\u001b[0;34m,\u001b[0m \u001b[0mport\u001b[0m\u001b[0;34m,\u001b[0m \u001b[0mfamily\u001b[0m\u001b[0;34m,\u001b[0m \u001b[0msocket\u001b[0m\u001b[0;34m.\u001b[0m\u001b[0mSOCK_STREAM\u001b[0m\u001b[0;34m)\u001b[0m\u001b[0;34m:\u001b[0m\u001b[0;34m\u001b[0m\u001b[0;34m\u001b[0m\u001b[0m\n\u001b[0m\u001b[1;32m     62\u001b[0m         \u001b[0maf\u001b[0m\u001b[0;34m,\u001b[0m \u001b[0msocktype\u001b[0m\u001b[0;34m,\u001b[0m \u001b[0mproto\u001b[0m\u001b[0;34m,\u001b[0m \u001b[0mcanonname\u001b[0m\u001b[0;34m,\u001b[0m \u001b[0msa\u001b[0m \u001b[0;34m=\u001b[0m \u001b[0mres\u001b[0m\u001b[0;34m\u001b[0m\u001b[0;34m\u001b[0m\u001b[0m\n",
      "\u001b[0;32m/usr/local/Cellar/python/3.7.7/Frameworks/Python.framework/Versions/3.7/lib/python3.7/socket.py\u001b[0m in \u001b[0;36mgetaddrinfo\u001b[0;34m(host, port, family, type, proto, flags)\u001b[0m\n\u001b[1;32m    751\u001b[0m     \u001b[0maddrlist\u001b[0m \u001b[0;34m=\u001b[0m \u001b[0;34m[\u001b[0m\u001b[0;34m]\u001b[0m\u001b[0;34m\u001b[0m\u001b[0;34m\u001b[0m\u001b[0m\n\u001b[0;32m--> 752\u001b[0;31m     \u001b[0;32mfor\u001b[0m \u001b[0mres\u001b[0m \u001b[0;32min\u001b[0m \u001b[0m_socket\u001b[0m\u001b[0;34m.\u001b[0m\u001b[0mgetaddrinfo\u001b[0m\u001b[0;34m(\u001b[0m\u001b[0mhost\u001b[0m\u001b[0;34m,\u001b[0m \u001b[0mport\u001b[0m\u001b[0;34m,\u001b[0m \u001b[0mfamily\u001b[0m\u001b[0;34m,\u001b[0m \u001b[0mtype\u001b[0m\u001b[0;34m,\u001b[0m \u001b[0mproto\u001b[0m\u001b[0;34m,\u001b[0m \u001b[0mflags\u001b[0m\u001b[0;34m)\u001b[0m\u001b[0;34m:\u001b[0m\u001b[0;34m\u001b[0m\u001b[0;34m\u001b[0m\u001b[0m\n\u001b[0m\u001b[1;32m    753\u001b[0m         \u001b[0maf\u001b[0m\u001b[0;34m,\u001b[0m \u001b[0msocktype\u001b[0m\u001b[0;34m,\u001b[0m \u001b[0mproto\u001b[0m\u001b[0;34m,\u001b[0m \u001b[0mcanonname\u001b[0m\u001b[0;34m,\u001b[0m \u001b[0msa\u001b[0m \u001b[0;34m=\u001b[0m \u001b[0mres\u001b[0m\u001b[0;34m\u001b[0m\u001b[0;34m\u001b[0m\u001b[0m\n",
      "\u001b[0;31mgaierror\u001b[0m: [Errno 8] nodename nor servname provided, or not known",
      "\nDuring handling of the above exception, another exception occurred:\n",
      "\u001b[0;31mNewConnectionError\u001b[0m                        Traceback (most recent call last)",
      "\u001b[0;32m~/Projects/ds4a-practicum/.venv/lib/python3.7/site-packages/urllib3/connectionpool.py\u001b[0m in \u001b[0;36murlopen\u001b[0;34m(self, method, url, body, headers, retries, redirect, assert_same_host, timeout, pool_timeout, release_conn, chunked, body_pos, **response_kw)\u001b[0m\n\u001b[1;32m    676\u001b[0m                 \u001b[0mheaders\u001b[0m\u001b[0;34m=\u001b[0m\u001b[0mheaders\u001b[0m\u001b[0;34m,\u001b[0m\u001b[0;34m\u001b[0m\u001b[0;34m\u001b[0m\u001b[0m\n\u001b[0;32m--> 677\u001b[0;31m                 \u001b[0mchunked\u001b[0m\u001b[0;34m=\u001b[0m\u001b[0mchunked\u001b[0m\u001b[0;34m,\u001b[0m\u001b[0;34m\u001b[0m\u001b[0;34m\u001b[0m\u001b[0m\n\u001b[0m\u001b[1;32m    678\u001b[0m             )\n",
      "\u001b[0;32m~/Projects/ds4a-practicum/.venv/lib/python3.7/site-packages/urllib3/connectionpool.py\u001b[0m in \u001b[0;36m_make_request\u001b[0;34m(self, conn, method, url, timeout, chunked, **httplib_request_kw)\u001b[0m\n\u001b[1;32m    380\u001b[0m         \u001b[0;32mtry\u001b[0m\u001b[0;34m:\u001b[0m\u001b[0;34m\u001b[0m\u001b[0;34m\u001b[0m\u001b[0m\n\u001b[0;32m--> 381\u001b[0;31m             \u001b[0mself\u001b[0m\u001b[0;34m.\u001b[0m\u001b[0m_validate_conn\u001b[0m\u001b[0;34m(\u001b[0m\u001b[0mconn\u001b[0m\u001b[0;34m)\u001b[0m\u001b[0;34m\u001b[0m\u001b[0;34m\u001b[0m\u001b[0m\n\u001b[0m\u001b[1;32m    382\u001b[0m         \u001b[0;32mexcept\u001b[0m \u001b[0;34m(\u001b[0m\u001b[0mSocketTimeout\u001b[0m\u001b[0;34m,\u001b[0m \u001b[0mBaseSSLError\u001b[0m\u001b[0;34m)\u001b[0m \u001b[0;32mas\u001b[0m \u001b[0me\u001b[0m\u001b[0;34m:\u001b[0m\u001b[0;34m\u001b[0m\u001b[0;34m\u001b[0m\u001b[0m\n",
      "\u001b[0;32m~/Projects/ds4a-practicum/.venv/lib/python3.7/site-packages/urllib3/connectionpool.py\u001b[0m in \u001b[0;36m_validate_conn\u001b[0;34m(self, conn)\u001b[0m\n\u001b[1;32m    975\u001b[0m         \u001b[0;32mif\u001b[0m \u001b[0;32mnot\u001b[0m \u001b[0mgetattr\u001b[0m\u001b[0;34m(\u001b[0m\u001b[0mconn\u001b[0m\u001b[0;34m,\u001b[0m \u001b[0;34m\"sock\"\u001b[0m\u001b[0;34m,\u001b[0m \u001b[0;32mNone\u001b[0m\u001b[0;34m)\u001b[0m\u001b[0;34m:\u001b[0m  \u001b[0;31m# AppEngine might not have  `.sock`\u001b[0m\u001b[0;34m\u001b[0m\u001b[0;34m\u001b[0m\u001b[0m\n\u001b[0;32m--> 976\u001b[0;31m             \u001b[0mconn\u001b[0m\u001b[0;34m.\u001b[0m\u001b[0mconnect\u001b[0m\u001b[0;34m(\u001b[0m\u001b[0;34m)\u001b[0m\u001b[0;34m\u001b[0m\u001b[0;34m\u001b[0m\u001b[0m\n\u001b[0m\u001b[1;32m    977\u001b[0m \u001b[0;34m\u001b[0m\u001b[0m\n",
      "\u001b[0;32m~/Projects/ds4a-practicum/.venv/lib/python3.7/site-packages/urllib3/connection.py\u001b[0m in \u001b[0;36mconnect\u001b[0;34m(self)\u001b[0m\n\u001b[1;32m    307\u001b[0m         \u001b[0;31m# Add certificate verification\u001b[0m\u001b[0;34m\u001b[0m\u001b[0;34m\u001b[0m\u001b[0;34m\u001b[0m\u001b[0m\n\u001b[0;32m--> 308\u001b[0;31m         \u001b[0mconn\u001b[0m \u001b[0;34m=\u001b[0m \u001b[0mself\u001b[0m\u001b[0;34m.\u001b[0m\u001b[0m_new_conn\u001b[0m\u001b[0;34m(\u001b[0m\u001b[0;34m)\u001b[0m\u001b[0;34m\u001b[0m\u001b[0;34m\u001b[0m\u001b[0m\n\u001b[0m\u001b[1;32m    309\u001b[0m         \u001b[0mhostname\u001b[0m \u001b[0;34m=\u001b[0m \u001b[0mself\u001b[0m\u001b[0;34m.\u001b[0m\u001b[0mhost\u001b[0m\u001b[0;34m\u001b[0m\u001b[0;34m\u001b[0m\u001b[0m\n",
      "\u001b[0;32m~/Projects/ds4a-practicum/.venv/lib/python3.7/site-packages/urllib3/connection.py\u001b[0m in \u001b[0;36m_new_conn\u001b[0;34m(self)\u001b[0m\n\u001b[1;32m    171\u001b[0m             raise NewConnectionError(\n\u001b[0;32m--> 172\u001b[0;31m                 \u001b[0mself\u001b[0m\u001b[0;34m,\u001b[0m \u001b[0;34m\"Failed to establish a new connection: %s\"\u001b[0m \u001b[0;34m%\u001b[0m \u001b[0me\u001b[0m\u001b[0;34m\u001b[0m\u001b[0;34m\u001b[0m\u001b[0m\n\u001b[0m\u001b[1;32m    173\u001b[0m             )\n",
      "\u001b[0;31mNewConnectionError\u001b[0m: <urllib3.connection.HTTPSConnection object at 0x18c2581d0>: Failed to establish a new connection: [Errno 8] nodename nor servname provided, or not known",
      "\nDuring handling of the above exception, another exception occurred:\n",
      "\u001b[0;31mMaxRetryError\u001b[0m                             Traceback (most recent call last)",
      "\u001b[0;32m~/Projects/ds4a-practicum/.venv/lib/python3.7/site-packages/requests/adapters.py\u001b[0m in \u001b[0;36msend\u001b[0;34m(self, request, stream, timeout, verify, cert, proxies)\u001b[0m\n\u001b[1;32m    448\u001b[0m                     \u001b[0mretries\u001b[0m\u001b[0;34m=\u001b[0m\u001b[0mself\u001b[0m\u001b[0;34m.\u001b[0m\u001b[0mmax_retries\u001b[0m\u001b[0;34m,\u001b[0m\u001b[0;34m\u001b[0m\u001b[0;34m\u001b[0m\u001b[0m\n\u001b[0;32m--> 449\u001b[0;31m                     \u001b[0mtimeout\u001b[0m\u001b[0;34m=\u001b[0m\u001b[0mtimeout\u001b[0m\u001b[0;34m\u001b[0m\u001b[0;34m\u001b[0m\u001b[0m\n\u001b[0m\u001b[1;32m    450\u001b[0m                 )\n",
      "\u001b[0;32m~/Projects/ds4a-practicum/.venv/lib/python3.7/site-packages/urllib3/connectionpool.py\u001b[0m in \u001b[0;36murlopen\u001b[0;34m(self, method, url, body, headers, retries, redirect, assert_same_host, timeout, pool_timeout, release_conn, chunked, body_pos, **response_kw)\u001b[0m\n\u001b[1;32m    764\u001b[0m                 \u001b[0mbody_pos\u001b[0m\u001b[0;34m=\u001b[0m\u001b[0mbody_pos\u001b[0m\u001b[0;34m,\u001b[0m\u001b[0;34m\u001b[0m\u001b[0;34m\u001b[0m\u001b[0m\n\u001b[0;32m--> 765\u001b[0;31m                 \u001b[0;34m**\u001b[0m\u001b[0mresponse_kw\u001b[0m\u001b[0;34m\u001b[0m\u001b[0;34m\u001b[0m\u001b[0m\n\u001b[0m\u001b[1;32m    766\u001b[0m             )\n",
      "\u001b[0;32m~/Projects/ds4a-practicum/.venv/lib/python3.7/site-packages/urllib3/connectionpool.py\u001b[0m in \u001b[0;36murlopen\u001b[0;34m(self, method, url, body, headers, retries, redirect, assert_same_host, timeout, pool_timeout, release_conn, chunked, body_pos, **response_kw)\u001b[0m\n\u001b[1;32m    764\u001b[0m                 \u001b[0mbody_pos\u001b[0m\u001b[0;34m=\u001b[0m\u001b[0mbody_pos\u001b[0m\u001b[0;34m,\u001b[0m\u001b[0;34m\u001b[0m\u001b[0;34m\u001b[0m\u001b[0m\n\u001b[0;32m--> 765\u001b[0;31m                 \u001b[0;34m**\u001b[0m\u001b[0mresponse_kw\u001b[0m\u001b[0;34m\u001b[0m\u001b[0;34m\u001b[0m\u001b[0m\n\u001b[0m\u001b[1;32m    766\u001b[0m             )\n",
      "\u001b[0;32m~/Projects/ds4a-practicum/.venv/lib/python3.7/site-packages/urllib3/connectionpool.py\u001b[0m in \u001b[0;36murlopen\u001b[0;34m(self, method, url, body, headers, retries, redirect, assert_same_host, timeout, pool_timeout, release_conn, chunked, body_pos, **response_kw)\u001b[0m\n\u001b[1;32m    724\u001b[0m             retries = retries.increment(\n\u001b[0;32m--> 725\u001b[0;31m                 \u001b[0mmethod\u001b[0m\u001b[0;34m,\u001b[0m \u001b[0murl\u001b[0m\u001b[0;34m,\u001b[0m \u001b[0merror\u001b[0m\u001b[0;34m=\u001b[0m\u001b[0me\u001b[0m\u001b[0;34m,\u001b[0m \u001b[0m_pool\u001b[0m\u001b[0;34m=\u001b[0m\u001b[0mself\u001b[0m\u001b[0;34m,\u001b[0m \u001b[0m_stacktrace\u001b[0m\u001b[0;34m=\u001b[0m\u001b[0msys\u001b[0m\u001b[0;34m.\u001b[0m\u001b[0mexc_info\u001b[0m\u001b[0;34m(\u001b[0m\u001b[0;34m)\u001b[0m\u001b[0;34m[\u001b[0m\u001b[0;36m2\u001b[0m\u001b[0;34m]\u001b[0m\u001b[0;34m\u001b[0m\u001b[0;34m\u001b[0m\u001b[0m\n\u001b[0m\u001b[1;32m    726\u001b[0m             )\n",
      "\u001b[0;32m~/Projects/ds4a-practicum/.venv/lib/python3.7/site-packages/urllib3/util/retry.py\u001b[0m in \u001b[0;36mincrement\u001b[0;34m(self, method, url, response, error, _pool, _stacktrace)\u001b[0m\n\u001b[1;32m    438\u001b[0m         \u001b[0;32mif\u001b[0m \u001b[0mnew_retry\u001b[0m\u001b[0;34m.\u001b[0m\u001b[0mis_exhausted\u001b[0m\u001b[0;34m(\u001b[0m\u001b[0;34m)\u001b[0m\u001b[0;34m:\u001b[0m\u001b[0;34m\u001b[0m\u001b[0;34m\u001b[0m\u001b[0m\n\u001b[0;32m--> 439\u001b[0;31m             \u001b[0;32mraise\u001b[0m \u001b[0mMaxRetryError\u001b[0m\u001b[0;34m(\u001b[0m\u001b[0m_pool\u001b[0m\u001b[0;34m,\u001b[0m \u001b[0murl\u001b[0m\u001b[0;34m,\u001b[0m \u001b[0merror\u001b[0m \u001b[0;32mor\u001b[0m \u001b[0mResponseError\u001b[0m\u001b[0;34m(\u001b[0m\u001b[0mcause\u001b[0m\u001b[0;34m)\u001b[0m\u001b[0;34m)\u001b[0m\u001b[0;34m\u001b[0m\u001b[0;34m\u001b[0m\u001b[0m\n\u001b[0m\u001b[1;32m    440\u001b[0m \u001b[0;34m\u001b[0m\u001b[0m\n",
      "\u001b[0;31mMaxRetryError\u001b[0m: HTTPSConnectionPool(host='dev.virtualearth.net', port=443): Max retries exceeded with url: /REST/v1/Locations?query=Tramo+9+Kilometro+999%2CMedellin%2CColombia&key=An8rGhIvWo0WthZ813a1cKK7gUjQ_6c2OFAlqLvi3pP9El8P0s_k7beCQEW2EzR1&maxResults=1 (Caused by NewConnectionError('<urllib3.connection.HTTPSConnection object at 0x18c2581d0>: Failed to establish a new connection: [Errno 8] nodename nor servname provided, or not known'))",
      "\nDuring handling of the above exception, another exception occurred:\n",
      "\u001b[0;31mConnectionError\u001b[0m                           Traceback (most recent call last)",
      "\u001b[0;32m~/Projects/ds4a-practicum/.venv/lib/python3.7/site-packages/geopy/adapters.py\u001b[0m in \u001b[0;36m_request\u001b[0;34m(self, url, timeout, headers)\u001b[0m\n\u001b[1;32m    382\u001b[0m         \u001b[0;32mtry\u001b[0m\u001b[0;34m:\u001b[0m\u001b[0;34m\u001b[0m\u001b[0;34m\u001b[0m\u001b[0m\n\u001b[0;32m--> 383\u001b[0;31m             \u001b[0mresp\u001b[0m \u001b[0;34m=\u001b[0m \u001b[0mself\u001b[0m\u001b[0;34m.\u001b[0m\u001b[0msession\u001b[0m\u001b[0;34m.\u001b[0m\u001b[0mget\u001b[0m\u001b[0;34m(\u001b[0m\u001b[0murl\u001b[0m\u001b[0;34m,\u001b[0m \u001b[0mtimeout\u001b[0m\u001b[0;34m=\u001b[0m\u001b[0mtimeout\u001b[0m\u001b[0;34m,\u001b[0m \u001b[0mheaders\u001b[0m\u001b[0;34m=\u001b[0m\u001b[0mheaders\u001b[0m\u001b[0;34m)\u001b[0m\u001b[0;34m\u001b[0m\u001b[0;34m\u001b[0m\u001b[0m\n\u001b[0m\u001b[1;32m    384\u001b[0m         \u001b[0;32mexcept\u001b[0m \u001b[0mException\u001b[0m \u001b[0;32mas\u001b[0m \u001b[0merror\u001b[0m\u001b[0;34m:\u001b[0m\u001b[0;34m\u001b[0m\u001b[0;34m\u001b[0m\u001b[0m\n",
      "\u001b[0;32m~/Projects/ds4a-practicum/.venv/lib/python3.7/site-packages/requests/sessions.py\u001b[0m in \u001b[0;36mget\u001b[0;34m(self, url, **kwargs)\u001b[0m\n\u001b[1;32m    542\u001b[0m         \u001b[0mkwargs\u001b[0m\u001b[0;34m.\u001b[0m\u001b[0msetdefault\u001b[0m\u001b[0;34m(\u001b[0m\u001b[0;34m'allow_redirects'\u001b[0m\u001b[0;34m,\u001b[0m \u001b[0;32mTrue\u001b[0m\u001b[0;34m)\u001b[0m\u001b[0;34m\u001b[0m\u001b[0;34m\u001b[0m\u001b[0m\n\u001b[0;32m--> 543\u001b[0;31m         \u001b[0;32mreturn\u001b[0m \u001b[0mself\u001b[0m\u001b[0;34m.\u001b[0m\u001b[0mrequest\u001b[0m\u001b[0;34m(\u001b[0m\u001b[0;34m'GET'\u001b[0m\u001b[0;34m,\u001b[0m \u001b[0murl\u001b[0m\u001b[0;34m,\u001b[0m \u001b[0;34m**\u001b[0m\u001b[0mkwargs\u001b[0m\u001b[0;34m)\u001b[0m\u001b[0;34m\u001b[0m\u001b[0;34m\u001b[0m\u001b[0m\n\u001b[0m\u001b[1;32m    544\u001b[0m \u001b[0;34m\u001b[0m\u001b[0m\n",
      "\u001b[0;32m~/Projects/ds4a-practicum/.venv/lib/python3.7/site-packages/requests/sessions.py\u001b[0m in \u001b[0;36mrequest\u001b[0;34m(self, method, url, params, data, headers, cookies, files, auth, timeout, allow_redirects, proxies, hooks, stream, verify, cert, json)\u001b[0m\n\u001b[1;32m    529\u001b[0m         \u001b[0msend_kwargs\u001b[0m\u001b[0;34m.\u001b[0m\u001b[0mupdate\u001b[0m\u001b[0;34m(\u001b[0m\u001b[0msettings\u001b[0m\u001b[0;34m)\u001b[0m\u001b[0;34m\u001b[0m\u001b[0;34m\u001b[0m\u001b[0m\n\u001b[0;32m--> 530\u001b[0;31m         \u001b[0mresp\u001b[0m \u001b[0;34m=\u001b[0m \u001b[0mself\u001b[0m\u001b[0;34m.\u001b[0m\u001b[0msend\u001b[0m\u001b[0;34m(\u001b[0m\u001b[0mprep\u001b[0m\u001b[0;34m,\u001b[0m \u001b[0;34m**\u001b[0m\u001b[0msend_kwargs\u001b[0m\u001b[0;34m)\u001b[0m\u001b[0;34m\u001b[0m\u001b[0;34m\u001b[0m\u001b[0m\n\u001b[0m\u001b[1;32m    531\u001b[0m \u001b[0;34m\u001b[0m\u001b[0m\n",
      "\u001b[0;32m~/Projects/ds4a-practicum/.venv/lib/python3.7/site-packages/requests/sessions.py\u001b[0m in \u001b[0;36msend\u001b[0;34m(self, request, **kwargs)\u001b[0m\n\u001b[1;32m    642\u001b[0m         \u001b[0;31m# Send the request\u001b[0m\u001b[0;34m\u001b[0m\u001b[0;34m\u001b[0m\u001b[0;34m\u001b[0m\u001b[0m\n\u001b[0;32m--> 643\u001b[0;31m         \u001b[0mr\u001b[0m \u001b[0;34m=\u001b[0m \u001b[0madapter\u001b[0m\u001b[0;34m.\u001b[0m\u001b[0msend\u001b[0m\u001b[0;34m(\u001b[0m\u001b[0mrequest\u001b[0m\u001b[0;34m,\u001b[0m \u001b[0;34m**\u001b[0m\u001b[0mkwargs\u001b[0m\u001b[0;34m)\u001b[0m\u001b[0;34m\u001b[0m\u001b[0;34m\u001b[0m\u001b[0m\n\u001b[0m\u001b[1;32m    644\u001b[0m \u001b[0;34m\u001b[0m\u001b[0m\n",
      "\u001b[0;32m~/Projects/ds4a-practicum/.venv/lib/python3.7/site-packages/requests/adapters.py\u001b[0m in \u001b[0;36msend\u001b[0;34m(self, request, stream, timeout, verify, cert, proxies)\u001b[0m\n\u001b[1;32m    515\u001b[0m \u001b[0;34m\u001b[0m\u001b[0m\n\u001b[0;32m--> 516\u001b[0;31m             \u001b[0;32mraise\u001b[0m \u001b[0mConnectionError\u001b[0m\u001b[0;34m(\u001b[0m\u001b[0me\u001b[0m\u001b[0;34m,\u001b[0m \u001b[0mrequest\u001b[0m\u001b[0;34m=\u001b[0m\u001b[0mrequest\u001b[0m\u001b[0;34m)\u001b[0m\u001b[0;34m\u001b[0m\u001b[0;34m\u001b[0m\u001b[0m\n\u001b[0m\u001b[1;32m    517\u001b[0m \u001b[0;34m\u001b[0m\u001b[0m\n",
      "\u001b[0;31mConnectionError\u001b[0m: HTTPSConnectionPool(host='dev.virtualearth.net', port=443): Max retries exceeded with url: /REST/v1/Locations?query=Tramo+9+Kilometro+999%2CMedellin%2CColombia&key=An8rGhIvWo0WthZ813a1cKK7gUjQ_6c2OFAlqLvi3pP9El8P0s_k7beCQEW2EzR1&maxResults=1 (Caused by NewConnectionError('<urllib3.connection.HTTPSConnection object at 0x18c2581d0>: Failed to establish a new connection: [Errno 8] nodename nor servname provided, or not known'))",
      "\nDuring handling of the above exception, another exception occurred:\n",
      "\u001b[0;31mGeocoderUnavailable\u001b[0m                       Traceback (most recent call last)",
      "\u001b[0;32m<ipython-input-431-9d3b65b850a6>\u001b[0m in \u001b[0;36m<module>\u001b[0;34m\u001b[0m\n\u001b[1;32m     14\u001b[0m \u001b[0moks\u001b[0m \u001b[0;34m=\u001b[0m \u001b[0;36m0\u001b[0m\u001b[0;34m\u001b[0m\u001b[0;34m\u001b[0m\u001b[0m\n\u001b[1;32m     15\u001b[0m \u001b[0;32mfor\u001b[0m \u001b[0mi\u001b[0m\u001b[0;34m,\u001b[0m \u001b[0mrow\u001b[0m \u001b[0;32min\u001b[0m \u001b[0mto_clean\u001b[0m\u001b[0;34m.\u001b[0m\u001b[0miterrows\u001b[0m\u001b[0;34m(\u001b[0m\u001b[0;34m)\u001b[0m\u001b[0;34m:\u001b[0m\u001b[0;34m\u001b[0m\u001b[0;34m\u001b[0m\u001b[0m\n\u001b[0;32m---> 16\u001b[0;31m     \u001b[0mloc_from_address\u001b[0m \u001b[0;34m=\u001b[0m \u001b[0mg\u001b[0m\u001b[0;34m.\u001b[0m\u001b[0mgeocode\u001b[0m\u001b[0;34m(\u001b[0m\u001b[0mrow\u001b[0m\u001b[0;34m.\u001b[0m\u001b[0mAddress\u001b[0m\u001b[0;34m+\u001b[0m\u001b[0;34m',Medellin,Colombia'\u001b[0m\u001b[0;34m)\u001b[0m\u001b[0;34m\u001b[0m\u001b[0;34m\u001b[0m\u001b[0m\n\u001b[0m\u001b[1;32m     17\u001b[0m     \u001b[0mloc_from_coord\u001b[0m \u001b[0;34m=\u001b[0m \u001b[0mg\u001b[0m\u001b[0;34m.\u001b[0m\u001b[0mreverse\u001b[0m\u001b[0;34m(\u001b[0m\u001b[0mstr\u001b[0m\u001b[0;34m(\u001b[0m\u001b[0mrow\u001b[0m\u001b[0;34m.\u001b[0m\u001b[0mLatitude\u001b[0m\u001b[0;34m)\u001b[0m\u001b[0;34m+\u001b[0m\u001b[0;34m','\u001b[0m\u001b[0;34m+\u001b[0m\u001b[0mstr\u001b[0m\u001b[0;34m(\u001b[0m\u001b[0mrow\u001b[0m\u001b[0;34m.\u001b[0m\u001b[0mLongitude\u001b[0m\u001b[0;34m)\u001b[0m\u001b[0;34m)\u001b[0m\u001b[0;34m\u001b[0m\u001b[0;34m\u001b[0m\u001b[0m\n\u001b[1;32m     18\u001b[0m \u001b[0;34m\u001b[0m\u001b[0m\n",
      "\u001b[0;32m~/Projects/ds4a-practicum/.venv/lib/python3.7/site-packages/geopy/geocoders/bing.py\u001b[0m in \u001b[0;36mgeocode\u001b[0;34m(self, query, exactly_one, user_location, timeout, culture, include_neighborhood, include_country_code)\u001b[0m\n\u001b[1;32m    159\u001b[0m         \u001b[0mlogger\u001b[0m\u001b[0;34m.\u001b[0m\u001b[0mdebug\u001b[0m\u001b[0;34m(\u001b[0m\u001b[0;34m\"%s.geocode: %s\"\u001b[0m\u001b[0;34m,\u001b[0m \u001b[0mself\u001b[0m\u001b[0;34m.\u001b[0m\u001b[0m__class__\u001b[0m\u001b[0;34m.\u001b[0m\u001b[0m__name__\u001b[0m\u001b[0;34m,\u001b[0m \u001b[0murl\u001b[0m\u001b[0;34m)\u001b[0m\u001b[0;34m\u001b[0m\u001b[0;34m\u001b[0m\u001b[0m\n\u001b[1;32m    160\u001b[0m         \u001b[0mcallback\u001b[0m \u001b[0;34m=\u001b[0m \u001b[0mpartial\u001b[0m\u001b[0;34m(\u001b[0m\u001b[0mself\u001b[0m\u001b[0;34m.\u001b[0m\u001b[0m_parse_json\u001b[0m\u001b[0;34m,\u001b[0m \u001b[0mexactly_one\u001b[0m\u001b[0;34m=\u001b[0m\u001b[0mexactly_one\u001b[0m\u001b[0;34m)\u001b[0m\u001b[0;34m\u001b[0m\u001b[0;34m\u001b[0m\u001b[0m\n\u001b[0;32m--> 161\u001b[0;31m         \u001b[0;32mreturn\u001b[0m \u001b[0mself\u001b[0m\u001b[0;34m.\u001b[0m\u001b[0m_call_geocoder\u001b[0m\u001b[0;34m(\u001b[0m\u001b[0murl\u001b[0m\u001b[0;34m,\u001b[0m \u001b[0mcallback\u001b[0m\u001b[0;34m,\u001b[0m \u001b[0mtimeout\u001b[0m\u001b[0;34m=\u001b[0m\u001b[0mtimeout\u001b[0m\u001b[0;34m)\u001b[0m\u001b[0;34m\u001b[0m\u001b[0;34m\u001b[0m\u001b[0m\n\u001b[0m\u001b[1;32m    162\u001b[0m \u001b[0;34m\u001b[0m\u001b[0m\n\u001b[1;32m    163\u001b[0m     def reverse(\n",
      "\u001b[0;32m~/Projects/ds4a-practicum/.venv/lib/python3.7/site-packages/geopy/geocoders/base.py\u001b[0m in \u001b[0;36m_call_geocoder\u001b[0;34m(self, url, callback, timeout, is_json, headers)\u001b[0m\n\u001b[1;32m    358\u001b[0m         \u001b[0;32mtry\u001b[0m\u001b[0;34m:\u001b[0m\u001b[0;34m\u001b[0m\u001b[0;34m\u001b[0m\u001b[0m\n\u001b[1;32m    359\u001b[0m             \u001b[0;32mif\u001b[0m \u001b[0mis_json\u001b[0m\u001b[0;34m:\u001b[0m\u001b[0;34m\u001b[0m\u001b[0;34m\u001b[0m\u001b[0m\n\u001b[0;32m--> 360\u001b[0;31m                 \u001b[0mresult\u001b[0m \u001b[0;34m=\u001b[0m \u001b[0mself\u001b[0m\u001b[0;34m.\u001b[0m\u001b[0madapter\u001b[0m\u001b[0;34m.\u001b[0m\u001b[0mget_json\u001b[0m\u001b[0;34m(\u001b[0m\u001b[0murl\u001b[0m\u001b[0;34m,\u001b[0m \u001b[0mtimeout\u001b[0m\u001b[0;34m=\u001b[0m\u001b[0mtimeout\u001b[0m\u001b[0;34m,\u001b[0m \u001b[0mheaders\u001b[0m\u001b[0;34m=\u001b[0m\u001b[0mreq_headers\u001b[0m\u001b[0;34m)\u001b[0m\u001b[0;34m\u001b[0m\u001b[0;34m\u001b[0m\u001b[0m\n\u001b[0m\u001b[1;32m    361\u001b[0m             \u001b[0;32melse\u001b[0m\u001b[0;34m:\u001b[0m\u001b[0;34m\u001b[0m\u001b[0;34m\u001b[0m\u001b[0m\n\u001b[1;32m    362\u001b[0m                 \u001b[0mresult\u001b[0m \u001b[0;34m=\u001b[0m \u001b[0mself\u001b[0m\u001b[0;34m.\u001b[0m\u001b[0madapter\u001b[0m\u001b[0;34m.\u001b[0m\u001b[0mget_text\u001b[0m\u001b[0;34m(\u001b[0m\u001b[0murl\u001b[0m\u001b[0;34m,\u001b[0m \u001b[0mtimeout\u001b[0m\u001b[0;34m=\u001b[0m\u001b[0mtimeout\u001b[0m\u001b[0;34m,\u001b[0m \u001b[0mheaders\u001b[0m\u001b[0;34m=\u001b[0m\u001b[0mreq_headers\u001b[0m\u001b[0;34m)\u001b[0m\u001b[0;34m\u001b[0m\u001b[0;34m\u001b[0m\u001b[0m\n",
      "\u001b[0;32m~/Projects/ds4a-practicum/.venv/lib/python3.7/site-packages/geopy/adapters.py\u001b[0m in \u001b[0;36mget_json\u001b[0;34m(self, url, timeout, headers)\u001b[0m\n\u001b[1;32m    371\u001b[0m \u001b[0;34m\u001b[0m\u001b[0m\n\u001b[1;32m    372\u001b[0m     \u001b[0;32mdef\u001b[0m \u001b[0mget_json\u001b[0m\u001b[0;34m(\u001b[0m\u001b[0mself\u001b[0m\u001b[0;34m,\u001b[0m \u001b[0murl\u001b[0m\u001b[0;34m,\u001b[0m \u001b[0;34m*\u001b[0m\u001b[0;34m,\u001b[0m \u001b[0mtimeout\u001b[0m\u001b[0;34m,\u001b[0m \u001b[0mheaders\u001b[0m\u001b[0;34m)\u001b[0m\u001b[0;34m:\u001b[0m\u001b[0;34m\u001b[0m\u001b[0;34m\u001b[0m\u001b[0m\n\u001b[0;32m--> 373\u001b[0;31m         \u001b[0mresp\u001b[0m \u001b[0;34m=\u001b[0m \u001b[0mself\u001b[0m\u001b[0;34m.\u001b[0m\u001b[0m_request\u001b[0m\u001b[0;34m(\u001b[0m\u001b[0murl\u001b[0m\u001b[0;34m,\u001b[0m \u001b[0mtimeout\u001b[0m\u001b[0;34m=\u001b[0m\u001b[0mtimeout\u001b[0m\u001b[0;34m,\u001b[0m \u001b[0mheaders\u001b[0m\u001b[0;34m=\u001b[0m\u001b[0mheaders\u001b[0m\u001b[0;34m)\u001b[0m\u001b[0;34m\u001b[0m\u001b[0;34m\u001b[0m\u001b[0m\n\u001b[0m\u001b[1;32m    374\u001b[0m         \u001b[0;32mtry\u001b[0m\u001b[0;34m:\u001b[0m\u001b[0;34m\u001b[0m\u001b[0;34m\u001b[0m\u001b[0m\n\u001b[1;32m    375\u001b[0m             \u001b[0;32mreturn\u001b[0m \u001b[0mresp\u001b[0m\u001b[0;34m.\u001b[0m\u001b[0mjson\u001b[0m\u001b[0;34m(\u001b[0m\u001b[0;34m)\u001b[0m\u001b[0;34m\u001b[0m\u001b[0;34m\u001b[0m\u001b[0m\n",
      "\u001b[0;32m~/Projects/ds4a-practicum/.venv/lib/python3.7/site-packages/geopy/adapters.py\u001b[0m in \u001b[0;36m_request\u001b[0;34m(self, url, timeout, headers)\u001b[0m\n\u001b[1;32m    393\u001b[0m                     \u001b[0;32mraise\u001b[0m \u001b[0mGeocoderServiceError\u001b[0m\u001b[0;34m(\u001b[0m\u001b[0mmessage\u001b[0m\u001b[0;34m)\u001b[0m\u001b[0;34m\u001b[0m\u001b[0;34m\u001b[0m\u001b[0m\n\u001b[1;32m    394\u001b[0m                 \u001b[0;32melse\u001b[0m\u001b[0;34m:\u001b[0m\u001b[0;34m\u001b[0m\u001b[0;34m\u001b[0m\u001b[0m\n\u001b[0;32m--> 395\u001b[0;31m                     \u001b[0;32mraise\u001b[0m \u001b[0mGeocoderUnavailable\u001b[0m\u001b[0;34m(\u001b[0m\u001b[0mmessage\u001b[0m\u001b[0;34m)\u001b[0m\u001b[0;34m\u001b[0m\u001b[0;34m\u001b[0m\u001b[0m\n\u001b[0m\u001b[1;32m    396\u001b[0m             \u001b[0;32melif\u001b[0m \u001b[0misinstance\u001b[0m\u001b[0;34m(\u001b[0m\u001b[0merror\u001b[0m\u001b[0;34m,\u001b[0m \u001b[0mrequests\u001b[0m\u001b[0;34m.\u001b[0m\u001b[0mTimeout\u001b[0m\u001b[0;34m)\u001b[0m\u001b[0;34m:\u001b[0m\u001b[0;34m\u001b[0m\u001b[0;34m\u001b[0m\u001b[0m\n\u001b[1;32m    397\u001b[0m                 \u001b[0;32mraise\u001b[0m \u001b[0mGeocoderTimedOut\u001b[0m\u001b[0;34m(\u001b[0m\u001b[0;34m\"Service timed out\"\u001b[0m\u001b[0;34m)\u001b[0m\u001b[0;34m\u001b[0m\u001b[0;34m\u001b[0m\u001b[0m\n",
      "\u001b[0;31mGeocoderUnavailable\u001b[0m: HTTPSConnectionPool(host='dev.virtualearth.net', port=443): Max retries exceeded with url: /REST/v1/Locations?query=Tramo+9+Kilometro+999%2CMedellin%2CColombia&key=An8rGhIvWo0WthZ813a1cKK7gUjQ_6c2OFAlqLvi3pP9El8P0s_k7beCQEW2EzR1&maxResults=1 (Caused by NewConnectionError('<urllib3.connection.HTTPSConnection object at 0x18c2581d0>: Failed to establish a new connection: [Errno 8] nodename nor servname provided, or not known'))"
     ]
    }
   ],
   "source": [
    "from geopy.geocoders import Bing\n",
    "from geopy.distance import distance\n",
    "g = Bing('An8rGhIvWo0WthZ813a1cKK7gUjQ_6c2OFAlqLvi3pP9El8P0s_k7beCQEW2EzR1')\n",
    "\n",
    "to_clean = i_df[i_df.Cbml != i_df.Cbml_standard].copy()\n",
    "collistFromAddress =['postalCodeFromAddress','stateFromAddress','cityFromAddress','locTypeFromAddress','boroughsFromAddress','otherBoroughsFromAddress']\n",
    "for col in collistFromAddress:\n",
    "    to_clean[col] = ''\n",
    "\n",
    "collistFromCoord =['postalCodeFromCoord','stateFromCoord','cityFromCoord','locTypeFromCoord','boroughsFromCoord','otherBoroughsFromCoord']\n",
    "for col in collistFromCoord:\n",
    "    to_clean[col] = ''\n",
    "currentIndex = 1\n",
    "oks = 0\n",
    "for i, row in to_clean.iterrows():\n",
    "    loc_from_address = g.geocode(row.Address+',Medellin,Colombia')\n",
    "    loc_from_coord = g.reverse(str(row.Latitude)+','+str(row.Longitude))\n",
    "\n",
    "    if 'raw' in loc_from_address:\n",
    "        pc_from_address = loc_from_address.raw['address']['postalCode'] if 'postalCode' in loc_from_address.raw['address'] else ''\n",
    "        if pc_from_address != '' and not pcb_df[pcb_df.postalCode==pc_from_address].empty:\n",
    "            to_clean.loc[(to_clean.Radicado == row.Radicado),collistFromAddress] = pcb_df[pcb_df.postalCode==pc_from_address].values \n",
    "            to_clean.loc[to_clean.Radicado == row.Radicado,'PostalCodeFromAddress'] =  pc_from_address\n",
    "        to_clean.loc[to_clean.Radicado == row.Radicado,'AddressFromAddress'] =  loc_from_address.raw['name'] \n",
    "        to_clean.loc[to_clean.Radicado == row.Radicado,'ConfidenceFromAddress'] =  loc_from_address.raw['confidence']\n",
    "        to_clean.loc[to_clean.Radicado == row.Radicado,'LocalityFromAddress'] =  loc_from_address.raw['address']['locality'] \n",
    "        to_clean.loc[to_clean.Radicado == row.Radicado,'MatchCodesFromAddress'] =  ','.join(loc_from_address.raw['matchCodes'])\n",
    "\n",
    "    p_from_address = (loc_from_address.latitude, loc_from_address.longitude)\n",
    "    d_from_address = distance(p_from_address, p_from_coord).km\n",
    "    to_clean.loc[to_clean.Radicado == row.Radicado,'DistanceFromAddress'] =  d_from_address\n",
    "    \n",
    "    if 'raw' in loc_from_coord:\n",
    "        pc_from_coord = loc_from_coord.raw['address']['postalCode'] if 'postalCode' in loc_from_coord.raw['address'] else ''\n",
    "        if pc_from_coord != '' and not pcb_df[pcb_df.postalCode==pc_from_coord].empty:\n",
    "            to_clean.loc[to_clean.Radicado == row.Radicado,collistFromCoord] = pcb_df[pcb_df.postalCode==pc_from_coord].values\n",
    "            to_clean.loc[to_clean.Radicado == row.Radicado,'PostalCodeFromCoord'] =  pc_from_coord\n",
    "        to_clean.loc[to_clean.Radicado == row.Radicado,'AddressFromCoord'] =  loc_from_coord.raw['name'] \n",
    "        to_clean.loc[to_clean.Radicado == row.Radicado,'ConfidenceFromCoord'] =  loc_from_coord.raw['confidence']\n",
    "        to_clean.loc[to_clean.Radicado == row.Radicado,'LocalityFromCoord'] =  loc_from_coord.raw['address']['locality'] \n",
    "        to_clean.loc[to_clean.Radicado == row.Radicado,'MatchCodesFromCoord'] =  ','.join(loc_from_coord.raw['matchCodes'])\n",
    "       \n",
    "\n",
    "    p_from_coord = (row.Latitude, row.Longitude)\n",
    "    d_from_coord = distance((loc_from_coord.latitude,loc_from_coord.longitude), p_from_coord).km\n",
    "    to_clean.loc[to_clean.Radicado == row.Radicado,'DistanceFromCoord'] =  d_from_coord\n",
    "    \n",
    "    if d_from_address < 1:\n",
    "        oks = oks + 1\n",
    "        print(oks,currentIndex)\n",
    "        print(round(oks/currentIndex,2)*100,'%')\n",
    "        print(to_clean.loc[to_clean.Radicado == row.Radicado].Radicado.values)\n",
    "        to_clean.loc[to_clean.Radicado == row.Radicado ,'DistanceAnalysis'] =  'Ok'\n",
    "    else:\n",
    "        to_clean.loc[to_clean.Radicado == row.Radicado ,'DistanceAnalysis'] = 'Nok'\n",
    "    currentIndex = currentIndex + 1 \n",
    "to_clean"
   ]
  },
  {
   "cell_type": "code",
   "execution_count": null,
   "metadata": {},
   "outputs": [],
   "source": [
    "to_clean[to_clean.DistanceAnalysis=='Ok']"
   ]
  },
  {
   "cell_type": "code",
   "execution_count": 191,
   "metadata": {},
   "outputs": [
    {
     "output_type": "execute_result",
     "data": {
      "text/plain": "Radicado          True\nLatitude          True\nLongitude         True\nType              True\nAddress          False\nCbml              True\nSeverity         False\nComuna           False\nBorough           True\nDesing            True\nYear             False\nDate             False\nTime              True\ncodigo_comuna    False\nComuna           False\ndtype: bool"
     },
     "metadata": {},
     "execution_count": 191
    }
   ],
   "source": [
    "#\"Source\", \"Objectid\", \"Radicado\", \"Type\", \"Address\", \"Cbml\", \"Borough\", \"Comuna\", \"Geocod\", \"Desing\", \"Longitude\", \"Latitude\", \"X_magnamed\", \"Y_magnamed\", \"Severity\", \"SeverityIndex\", \"Date\", \"Year\", \"MonthNum\", \"Month\", \"Quarter\", \"Week\", \"Day\", \"WeekDayNum\", \"WeekDay\", \"Holiday\", \"IsHoliday\", \"Time\", \"Hour\", \"Motorcycle\"\n",
    "# i_df['Date'] = i_df.Date.dt.strftime('%d/%m/%Y')\n",
    "# i_df['Time'] = i_df.Time.dt.strftime('%H:%M:%S')\n",
    "\n",
    "# i_df['Hour']  = pd.to_datetime(i_df.Time, format='%Y-%m-%d %H:%M:%S').dt.hour\n",
    "# i_df['Date'] = pd.to_datetime(i_df.Date,format='%d/%m/%Y')\n"
   ]
  },
  {
   "cell_type": "code",
   "execution_count": 263,
   "metadata": {
    "tags": []
   },
   "outputs": [
    {
     "output_type": "error",
     "ename": "KeyboardInterrupt",
     "evalue": "",
     "traceback": [
      "\u001b[0;31m---------------------------------------------------------------------------\u001b[0m",
      "\u001b[0;31mKeyboardInterrupt\u001b[0m                         Traceback (most recent call last)",
      "\u001b[0;32m<ipython-input-263-a5394043e3bf>\u001b[0m in \u001b[0;36m<module>\u001b[0;34m\u001b[0m\n\u001b[1;32m      5\u001b[0m     \u001b[0;32mif\u001b[0m \u001b[0mborough_row\u001b[0m \u001b[0;32mis\u001b[0m \u001b[0;32mnot\u001b[0m \u001b[0;32mNone\u001b[0m\u001b[0;34m:\u001b[0m\u001b[0;34m\u001b[0m\u001b[0;34m\u001b[0m\u001b[0m\n\u001b[1;32m      6\u001b[0m         \u001b[0mi_df\u001b[0m\u001b[0;34m.\u001b[0m\u001b[0mComuna\u001b[0m \u001b[0;34m=\u001b[0m \u001b[0mborough_row\u001b[0m\u001b[0;34m.\u001b[0m\u001b[0mNOMBRE_COMUNA\u001b[0m\u001b[0;34m\u001b[0m\u001b[0;34m\u001b[0m\u001b[0m\n\u001b[0;32m----> 7\u001b[0;31m         \u001b[0mi_df\u001b[0m\u001b[0;34m.\u001b[0m\u001b[0mCbml\u001b[0m \u001b[0;34m=\u001b[0m \u001b[0mborough_row\u001b[0m\u001b[0;34m.\u001b[0m\u001b[0mCODIGO\u001b[0m\u001b[0;34m\u001b[0m\u001b[0;34m\u001b[0m\u001b[0m\n\u001b[0m\u001b[1;32m      8\u001b[0m         \u001b[0mi_df\u001b[0m\u001b[0;34m.\u001b[0m\u001b[0mBorough\u001b[0m \u001b[0;34m=\u001b[0m \u001b[0mborough_row\u001b[0m\u001b[0;34m.\u001b[0m\u001b[0mNOMBRE_BARRIO\u001b[0m\u001b[0;34m\u001b[0m\u001b[0;34m\u001b[0m\u001b[0m\n\u001b[1;32m      9\u001b[0m \u001b[0mi_df\u001b[0m\u001b[0;34m[\u001b[0m\u001b[0;34m(\u001b[0m\u001b[0;34m~\u001b[0m\u001b[0mi_df\u001b[0m\u001b[0;34m.\u001b[0m\u001b[0mLatitude\u001b[0m\u001b[0;34m.\u001b[0m\u001b[0misna\u001b[0m\u001b[0;34m(\u001b[0m\u001b[0;34m)\u001b[0m\u001b[0;34m)\u001b[0m \u001b[0;34m&\u001b[0m \u001b[0;34m(\u001b[0m\u001b[0mi_df\u001b[0m\u001b[0;34m.\u001b[0m\u001b[0mBorough\u001b[0m\u001b[0;34m.\u001b[0m\u001b[0misna\u001b[0m\u001b[0;34m(\u001b[0m\u001b[0;34m)\u001b[0m\u001b[0;34m)\u001b[0m\u001b[0;34m]\u001b[0m\u001b[0;34m\u001b[0m\u001b[0;34m\u001b[0m\u001b[0m\n",
      "\u001b[0;32m~/Projects/ds4a-practicum/.venv/lib/python3.7/site-packages/pandas/core/generic.py\u001b[0m in \u001b[0;36m__setattr__\u001b[0;34m(self, name, value)\u001b[0m\n\u001b[1;32m   5301\u001b[0m                     \u001b[0mobject\u001b[0m\u001b[0;34m.\u001b[0m\u001b[0m__setattr__\u001b[0m\u001b[0;34m(\u001b[0m\u001b[0mself\u001b[0m\u001b[0;34m,\u001b[0m \u001b[0mname\u001b[0m\u001b[0;34m,\u001b[0m \u001b[0mvalue\u001b[0m\u001b[0;34m)\u001b[0m\u001b[0;34m\u001b[0m\u001b[0;34m\u001b[0m\u001b[0m\n\u001b[1;32m   5302\u001b[0m                 \u001b[0;32melif\u001b[0m \u001b[0mname\u001b[0m \u001b[0;32min\u001b[0m \u001b[0mself\u001b[0m\u001b[0;34m.\u001b[0m\u001b[0m_info_axis\u001b[0m\u001b[0;34m:\u001b[0m\u001b[0;34m\u001b[0m\u001b[0;34m\u001b[0m\u001b[0m\n\u001b[0;32m-> 5303\u001b[0;31m                     \u001b[0mself\u001b[0m\u001b[0;34m[\u001b[0m\u001b[0mname\u001b[0m\u001b[0;34m]\u001b[0m \u001b[0;34m=\u001b[0m \u001b[0mvalue\u001b[0m\u001b[0;34m\u001b[0m\u001b[0;34m\u001b[0m\u001b[0m\n\u001b[0m\u001b[1;32m   5304\u001b[0m                 \u001b[0;32melse\u001b[0m\u001b[0;34m:\u001b[0m\u001b[0;34m\u001b[0m\u001b[0;34m\u001b[0m\u001b[0m\n\u001b[1;32m   5305\u001b[0m                     \u001b[0mobject\u001b[0m\u001b[0;34m.\u001b[0m\u001b[0m__setattr__\u001b[0m\u001b[0;34m(\u001b[0m\u001b[0mself\u001b[0m\u001b[0;34m,\u001b[0m \u001b[0mname\u001b[0m\u001b[0;34m,\u001b[0m \u001b[0mvalue\u001b[0m\u001b[0;34m)\u001b[0m\u001b[0;34m\u001b[0m\u001b[0;34m\u001b[0m\u001b[0m\n",
      "\u001b[0;32m~/Projects/ds4a-practicum/.venv/lib/python3.7/site-packages/pandas/core/frame.py\u001b[0m in \u001b[0;36m__setitem__\u001b[0;34m(self, key, value)\u001b[0m\n\u001b[1;32m   2936\u001b[0m         \u001b[0;32melse\u001b[0m\u001b[0;34m:\u001b[0m\u001b[0;34m\u001b[0m\u001b[0;34m\u001b[0m\u001b[0m\n\u001b[1;32m   2937\u001b[0m             \u001b[0;31m# set column\u001b[0m\u001b[0;34m\u001b[0m\u001b[0;34m\u001b[0m\u001b[0;34m\u001b[0m\u001b[0m\n\u001b[0;32m-> 2938\u001b[0;31m             \u001b[0mself\u001b[0m\u001b[0;34m.\u001b[0m\u001b[0m_set_item\u001b[0m\u001b[0;34m(\u001b[0m\u001b[0mkey\u001b[0m\u001b[0;34m,\u001b[0m \u001b[0mvalue\u001b[0m\u001b[0;34m)\u001b[0m\u001b[0;34m\u001b[0m\u001b[0;34m\u001b[0m\u001b[0m\n\u001b[0m\u001b[1;32m   2939\u001b[0m \u001b[0;34m\u001b[0m\u001b[0m\n\u001b[1;32m   2940\u001b[0m     \u001b[0;32mdef\u001b[0m \u001b[0m_setitem_slice\u001b[0m\u001b[0;34m(\u001b[0m\u001b[0mself\u001b[0m\u001b[0;34m,\u001b[0m \u001b[0mkey\u001b[0m\u001b[0;34m,\u001b[0m \u001b[0mvalue\u001b[0m\u001b[0;34m)\u001b[0m\u001b[0;34m:\u001b[0m\u001b[0;34m\u001b[0m\u001b[0;34m\u001b[0m\u001b[0m\n",
      "\u001b[0;32m~/Projects/ds4a-practicum/.venv/lib/python3.7/site-packages/pandas/core/frame.py\u001b[0m in \u001b[0;36m_set_item\u001b[0;34m(self, key, value)\u001b[0m\n\u001b[1;32m   2998\u001b[0m \u001b[0;34m\u001b[0m\u001b[0m\n\u001b[1;32m   2999\u001b[0m         \u001b[0mself\u001b[0m\u001b[0;34m.\u001b[0m\u001b[0m_ensure_valid_index\u001b[0m\u001b[0;34m(\u001b[0m\u001b[0mvalue\u001b[0m\u001b[0;34m)\u001b[0m\u001b[0;34m\u001b[0m\u001b[0;34m\u001b[0m\u001b[0m\n\u001b[0;32m-> 3000\u001b[0;31m         \u001b[0mvalue\u001b[0m \u001b[0;34m=\u001b[0m \u001b[0mself\u001b[0m\u001b[0;34m.\u001b[0m\u001b[0m_sanitize_column\u001b[0m\u001b[0;34m(\u001b[0m\u001b[0mkey\u001b[0m\u001b[0;34m,\u001b[0m \u001b[0mvalue\u001b[0m\u001b[0;34m)\u001b[0m\u001b[0;34m\u001b[0m\u001b[0;34m\u001b[0m\u001b[0m\n\u001b[0m\u001b[1;32m   3001\u001b[0m         \u001b[0mNDFrame\u001b[0m\u001b[0;34m.\u001b[0m\u001b[0m_set_item\u001b[0m\u001b[0;34m(\u001b[0m\u001b[0mself\u001b[0m\u001b[0;34m,\u001b[0m \u001b[0mkey\u001b[0m\u001b[0;34m,\u001b[0m \u001b[0mvalue\u001b[0m\u001b[0;34m)\u001b[0m\u001b[0;34m\u001b[0m\u001b[0;34m\u001b[0m\u001b[0m\n\u001b[1;32m   3002\u001b[0m \u001b[0;34m\u001b[0m\u001b[0m\n",
      "\u001b[0;32m~/Projects/ds4a-practicum/.venv/lib/python3.7/site-packages/pandas/core/frame.py\u001b[0m in \u001b[0;36m_sanitize_column\u001b[0;34m(self, key, value, broadcast)\u001b[0m\n\u001b[1;32m   3656\u001b[0m \u001b[0;34m\u001b[0m\u001b[0m\n\u001b[1;32m   3657\u001b[0m             \u001b[0;31m# upcast\u001b[0m\u001b[0;34m\u001b[0m\u001b[0;34m\u001b[0m\u001b[0;34m\u001b[0m\u001b[0m\n\u001b[0;32m-> 3658\u001b[0;31m             \u001b[0mvalue\u001b[0m \u001b[0;34m=\u001b[0m \u001b[0mcast_scalar_to_array\u001b[0m\u001b[0;34m(\u001b[0m\u001b[0mlen\u001b[0m\u001b[0;34m(\u001b[0m\u001b[0mself\u001b[0m\u001b[0;34m.\u001b[0m\u001b[0mindex\u001b[0m\u001b[0;34m)\u001b[0m\u001b[0;34m,\u001b[0m \u001b[0mvalue\u001b[0m\u001b[0;34m)\u001b[0m\u001b[0;34m\u001b[0m\u001b[0;34m\u001b[0m\u001b[0m\n\u001b[0m\u001b[1;32m   3659\u001b[0m             \u001b[0mvalue\u001b[0m \u001b[0;34m=\u001b[0m \u001b[0mmaybe_cast_to_datetime\u001b[0m\u001b[0;34m(\u001b[0m\u001b[0mvalue\u001b[0m\u001b[0;34m,\u001b[0m \u001b[0minfer_dtype\u001b[0m\u001b[0;34m)\u001b[0m\u001b[0;34m\u001b[0m\u001b[0;34m\u001b[0m\u001b[0m\n\u001b[1;32m   3660\u001b[0m \u001b[0;34m\u001b[0m\u001b[0m\n",
      "\u001b[0;32m~/Projects/ds4a-practicum/.venv/lib/python3.7/site-packages/pandas/core/dtypes/cast.py\u001b[0m in \u001b[0;36mcast_scalar_to_array\u001b[0;34m(shape, value, dtype)\u001b[0m\n\u001b[1;32m   1410\u001b[0m         \u001b[0mfill_value\u001b[0m \u001b[0;34m=\u001b[0m \u001b[0mvalue\u001b[0m\u001b[0;34m\u001b[0m\u001b[0;34m\u001b[0m\u001b[0m\n\u001b[1;32m   1411\u001b[0m \u001b[0;34m\u001b[0m\u001b[0m\n\u001b[0;32m-> 1412\u001b[0;31m     \u001b[0mvalues\u001b[0m \u001b[0;34m=\u001b[0m \u001b[0mnp\u001b[0m\u001b[0;34m.\u001b[0m\u001b[0mempty\u001b[0m\u001b[0;34m(\u001b[0m\u001b[0mshape\u001b[0m\u001b[0;34m,\u001b[0m \u001b[0mdtype\u001b[0m\u001b[0;34m=\u001b[0m\u001b[0mdtype\u001b[0m\u001b[0;34m)\u001b[0m\u001b[0;34m\u001b[0m\u001b[0;34m\u001b[0m\u001b[0m\n\u001b[0m\u001b[1;32m   1413\u001b[0m     \u001b[0mvalues\u001b[0m\u001b[0;34m.\u001b[0m\u001b[0mfill\u001b[0m\u001b[0;34m(\u001b[0m\u001b[0mfill_value\u001b[0m\u001b[0;34m)\u001b[0m\u001b[0;34m\u001b[0m\u001b[0;34m\u001b[0m\u001b[0m\n\u001b[1;32m   1414\u001b[0m \u001b[0;34m\u001b[0m\u001b[0m\n",
      "\u001b[0;31mKeyboardInterrupt\u001b[0m: "
     ]
    }
   ],
   "source": [
    "for i, row in i_df[(~i_df.Latitude.isna()) & (i_df.Borough.isna())].iterrows():\n",
    "    p1 = geometry.Point(float(row.Longitude), float(row.Latitude))\n",
    "    borough_row = find_borough(borough_df, p1)\n",
    "    \n",
    "    if borough_row is not None:\n",
    "        i_df.Comuna = borough_row.NOMBRE_COMUNA\n",
    "        i_df.Cbml = borough_row.CODIGO\n",
    "        i_df.Borough = borough_row.NOMBRE_BARRIO\n",
    "i_df[(~i_df.Latitude.isna()) & (i_df.Borough.isna())]"
   ]
  },
  {
   "cell_type": "code",
   "execution_count": 228,
   "metadata": {},
   "outputs": [
    {
     "output_type": "execute_result",
     "data": {
      "text/plain": "       Radicado  Latitude  Longitude            Type            Address Cbml  \\\n10      1423899  6.221806 -75.703816       Atropello    CL 115 CR 39 BE  NaN   \n20      1423918  6.221806 -75.703816  Caida Ocupante  CR 63 CL 49 B Sur  NaN   \n29      1423930  6.221806 -75.703816       Atropello      CR 999 CL 999  NaN   \n44      1423948  6.221806 -75.703816       Atropello                Con  NaN   \n45      1423949  6.221806 -75.703816       Atropello                Con  NaN   \n...         ...       ...        ...             ...                ...  ...   \n288935  1717521  6.221806 -75.703816            Otro        CR 62 CL 70  NaN   \n288946  1717697  6.274931 -75.595161          Choque        CR 84 CL 65  NaN   \n288954  1717550  6.221415 -75.703776          Choque     CR 64AA CL 113  NaN   \n288968  1717508  6.256059 -75.575423          Choque       CR 62 CL 53A  NaN   \n288974  1717523  6.293124 -75.569196          Choque       CR 65 CL 98A  NaN   \n\n           Severity         Comuna Borough         Desing  Year       Date  \\\n10      Con heridos        Sin Inf     NaN   Tramo de via  2014 2014-01-01   \n20      Con heridos        Sin Inf     NaN   Tramo de via  2014 2014-01-01   \n29      Con heridos        Sin Inf     NaN   Tramo de via  2014 2014-01-01   \n44      Con heridos        Sin Inf     NaN  Lote o Predio  2014 2014-01-01   \n45      Con heridos        Sin Inf     NaN  Lote o Predio  2014 2014-01-01   \n...             ...            ...     ...            ...   ...        ...   \n288935  Con heridos        Sin Inf     NaN   Tramo de via  2020 2020-06-30   \n288946  Con heridos        Robledo     NaN   Interseccion  2020 2020-06-30   \n288954  Con heridos        Sin Inf     NaN   Tramo de via  2020 2020-06-30   \n288968  Con heridos  La Candelaria     NaN   Tramo de via  2020 2020-06-30   \n288974  Con heridos       Castilla     NaN   Tramo de via  2020 2020-06-30   \n\n            Time codigo_comuna              Comuna  \n10      01:40:00       Sin Inf             Sin Inf  \n20      04:45:00       Sin Inf             Sin Inf  \n29      17:40:00       Sin Inf             Sin Inf  \n44      22:30:00       Sin Inf             Sin Inf  \n45      21:30:00       Sin Inf             Sin Inf  \n...          ...           ...                 ...  \n288935  10:00:00       Sin Inf             Sin Inf  \n288946  13:00:00             7        07 - Robledo  \n288954  15:00:00       Sin Inf             Sin Inf  \n288968  17:35:00            10  10 - La Candelaria  \n288974  18:45:00             5       05 - Castilla  \n\n[22939 rows x 15 columns]",
      "text/html": "<div>\n<style scoped>\n    .dataframe tbody tr th:only-of-type {\n        vertical-align: middle;\n    }\n\n    .dataframe tbody tr th {\n        vertical-align: top;\n    }\n\n    .dataframe thead th {\n        text-align: right;\n    }\n</style>\n<table border=\"1\" class=\"dataframe\">\n  <thead>\n    <tr style=\"text-align: right;\">\n      <th></th>\n      <th>Radicado</th>\n      <th>Latitude</th>\n      <th>Longitude</th>\n      <th>Type</th>\n      <th>Address</th>\n      <th>Cbml</th>\n      <th>Severity</th>\n      <th>Comuna</th>\n      <th>Borough</th>\n      <th>Desing</th>\n      <th>Year</th>\n      <th>Date</th>\n      <th>Time</th>\n      <th>codigo_comuna</th>\n      <th>Comuna</th>\n    </tr>\n  </thead>\n  <tbody>\n    <tr>\n      <th>10</th>\n      <td>1423899</td>\n      <td>6.221806</td>\n      <td>-75.703816</td>\n      <td>Atropello</td>\n      <td>CL 115 CR 39 BE</td>\n      <td>NaN</td>\n      <td>Con heridos</td>\n      <td>Sin Inf</td>\n      <td>NaN</td>\n      <td>Tramo de via</td>\n      <td>2014</td>\n      <td>2014-01-01</td>\n      <td>01:40:00</td>\n      <td>Sin Inf</td>\n      <td>Sin Inf</td>\n    </tr>\n    <tr>\n      <th>20</th>\n      <td>1423918</td>\n      <td>6.221806</td>\n      <td>-75.703816</td>\n      <td>Caida Ocupante</td>\n      <td>CR 63 CL 49 B Sur</td>\n      <td>NaN</td>\n      <td>Con heridos</td>\n      <td>Sin Inf</td>\n      <td>NaN</td>\n      <td>Tramo de via</td>\n      <td>2014</td>\n      <td>2014-01-01</td>\n      <td>04:45:00</td>\n      <td>Sin Inf</td>\n      <td>Sin Inf</td>\n    </tr>\n    <tr>\n      <th>29</th>\n      <td>1423930</td>\n      <td>6.221806</td>\n      <td>-75.703816</td>\n      <td>Atropello</td>\n      <td>CR 999 CL 999</td>\n      <td>NaN</td>\n      <td>Con heridos</td>\n      <td>Sin Inf</td>\n      <td>NaN</td>\n      <td>Tramo de via</td>\n      <td>2014</td>\n      <td>2014-01-01</td>\n      <td>17:40:00</td>\n      <td>Sin Inf</td>\n      <td>Sin Inf</td>\n    </tr>\n    <tr>\n      <th>44</th>\n      <td>1423948</td>\n      <td>6.221806</td>\n      <td>-75.703816</td>\n      <td>Atropello</td>\n      <td>Con</td>\n      <td>NaN</td>\n      <td>Con heridos</td>\n      <td>Sin Inf</td>\n      <td>NaN</td>\n      <td>Lote o Predio</td>\n      <td>2014</td>\n      <td>2014-01-01</td>\n      <td>22:30:00</td>\n      <td>Sin Inf</td>\n      <td>Sin Inf</td>\n    </tr>\n    <tr>\n      <th>45</th>\n      <td>1423949</td>\n      <td>6.221806</td>\n      <td>-75.703816</td>\n      <td>Atropello</td>\n      <td>Con</td>\n      <td>NaN</td>\n      <td>Con heridos</td>\n      <td>Sin Inf</td>\n      <td>NaN</td>\n      <td>Lote o Predio</td>\n      <td>2014</td>\n      <td>2014-01-01</td>\n      <td>21:30:00</td>\n      <td>Sin Inf</td>\n      <td>Sin Inf</td>\n    </tr>\n    <tr>\n      <th>...</th>\n      <td>...</td>\n      <td>...</td>\n      <td>...</td>\n      <td>...</td>\n      <td>...</td>\n      <td>...</td>\n      <td>...</td>\n      <td>...</td>\n      <td>...</td>\n      <td>...</td>\n      <td>...</td>\n      <td>...</td>\n      <td>...</td>\n      <td>...</td>\n      <td>...</td>\n    </tr>\n    <tr>\n      <th>288935</th>\n      <td>1717521</td>\n      <td>6.221806</td>\n      <td>-75.703816</td>\n      <td>Otro</td>\n      <td>CR 62 CL 70</td>\n      <td>NaN</td>\n      <td>Con heridos</td>\n      <td>Sin Inf</td>\n      <td>NaN</td>\n      <td>Tramo de via</td>\n      <td>2020</td>\n      <td>2020-06-30</td>\n      <td>10:00:00</td>\n      <td>Sin Inf</td>\n      <td>Sin Inf</td>\n    </tr>\n    <tr>\n      <th>288946</th>\n      <td>1717697</td>\n      <td>6.274931</td>\n      <td>-75.595161</td>\n      <td>Choque</td>\n      <td>CR 84 CL 65</td>\n      <td>NaN</td>\n      <td>Con heridos</td>\n      <td>Robledo</td>\n      <td>NaN</td>\n      <td>Interseccion</td>\n      <td>2020</td>\n      <td>2020-06-30</td>\n      <td>13:00:00</td>\n      <td>7</td>\n      <td>07 - Robledo</td>\n    </tr>\n    <tr>\n      <th>288954</th>\n      <td>1717550</td>\n      <td>6.221415</td>\n      <td>-75.703776</td>\n      <td>Choque</td>\n      <td>CR 64AA CL 113</td>\n      <td>NaN</td>\n      <td>Con heridos</td>\n      <td>Sin Inf</td>\n      <td>NaN</td>\n      <td>Tramo de via</td>\n      <td>2020</td>\n      <td>2020-06-30</td>\n      <td>15:00:00</td>\n      <td>Sin Inf</td>\n      <td>Sin Inf</td>\n    </tr>\n    <tr>\n      <th>288968</th>\n      <td>1717508</td>\n      <td>6.256059</td>\n      <td>-75.575423</td>\n      <td>Choque</td>\n      <td>CR 62 CL 53A</td>\n      <td>NaN</td>\n      <td>Con heridos</td>\n      <td>La Candelaria</td>\n      <td>NaN</td>\n      <td>Tramo de via</td>\n      <td>2020</td>\n      <td>2020-06-30</td>\n      <td>17:35:00</td>\n      <td>10</td>\n      <td>10 - La Candelaria</td>\n    </tr>\n    <tr>\n      <th>288974</th>\n      <td>1717523</td>\n      <td>6.293124</td>\n      <td>-75.569196</td>\n      <td>Choque</td>\n      <td>CR 65 CL 98A</td>\n      <td>NaN</td>\n      <td>Con heridos</td>\n      <td>Castilla</td>\n      <td>NaN</td>\n      <td>Tramo de via</td>\n      <td>2020</td>\n      <td>2020-06-30</td>\n      <td>18:45:00</td>\n      <td>5</td>\n      <td>05 - Castilla</td>\n    </tr>\n  </tbody>\n</table>\n<p>22939 rows × 15 columns</p>\n</div>"
     },
     "metadata": {},
     "execution_count": 228
    }
   ],
   "source": [
    "i_df[(~i_df.Latitude.isna()) & (i_df.Borough.isna())]"
   ]
  },
  {
   "cell_type": "code",
   "execution_count": null,
   "metadata": {},
   "outputs": [],
   "source": []
  },
  {
   "cell_type": "code",
   "execution_count": null,
   "metadata": {},
   "outputs": [],
   "source": []
  },
  {
   "cell_type": "code",
   "execution_count": 177,
   "metadata": {},
   "outputs": [
    {
     "output_type": "error",
     "ename": "AttributeError",
     "evalue": "'DataFrame' object has no attribute 'Date'",
     "traceback": [
      "\u001b[0;31m---------------------------------------------------------------------------\u001b[0m",
      "\u001b[0;31mAttributeError\u001b[0m                            Traceback (most recent call last)",
      "\u001b[0;32m<ipython-input-177-5b6244392276>\u001b[0m in \u001b[0;36m<module>\u001b[0;34m\u001b[0m\n\u001b[0;32m----> 1\u001b[0;31m \u001b[0mi_df\u001b[0m\u001b[0;34m[\u001b[0m\u001b[0;34m'MonthNum'\u001b[0m\u001b[0;34m]\u001b[0m\u001b[0;34m=\u001b[0m \u001b[0mi_df\u001b[0m\u001b[0;34m.\u001b[0m\u001b[0mDate\u001b[0m\u001b[0;34m.\u001b[0m\u001b[0mdt\u001b[0m\u001b[0;34m.\u001b[0m\u001b[0mmonth\u001b[0m\u001b[0;34m\u001b[0m\u001b[0;34m\u001b[0m\u001b[0m\n\u001b[0m\u001b[1;32m      2\u001b[0m \u001b[0mi_df\u001b[0m\u001b[0;34m[\u001b[0m\u001b[0;34m'Month'\u001b[0m\u001b[0;34m]\u001b[0m\u001b[0;34m=\u001b[0m \u001b[0mi_df\u001b[0m\u001b[0;34m.\u001b[0m\u001b[0mDate\u001b[0m\u001b[0;34m.\u001b[0m\u001b[0mdt\u001b[0m\u001b[0;34m.\u001b[0m\u001b[0mmonth_name\u001b[0m\u001b[0;34m(\u001b[0m\u001b[0;34m)\u001b[0m\u001b[0;34m\u001b[0m\u001b[0;34m\u001b[0m\u001b[0m\n\u001b[1;32m      3\u001b[0m \u001b[0mi_df\u001b[0m\u001b[0;34m[\u001b[0m\u001b[0;34m'Quarter'\u001b[0m\u001b[0;34m]\u001b[0m \u001b[0;34m=\u001b[0m \u001b[0mi_df\u001b[0m\u001b[0;34m.\u001b[0m\u001b[0mDate\u001b[0m\u001b[0;34m.\u001b[0m\u001b[0mdt\u001b[0m\u001b[0;34m.\u001b[0m\u001b[0mquarter\u001b[0m\u001b[0;34m\u001b[0m\u001b[0;34m\u001b[0m\u001b[0m\n\u001b[1;32m      4\u001b[0m \u001b[0mi_df\u001b[0m\u001b[0;34m[\u001b[0m\u001b[0;34m'Week'\u001b[0m\u001b[0;34m]\u001b[0m \u001b[0;34m=\u001b[0m \u001b[0mi_df\u001b[0m\u001b[0;34m.\u001b[0m\u001b[0mDate\u001b[0m\u001b[0;34m.\u001b[0m\u001b[0mdt\u001b[0m\u001b[0;34m.\u001b[0m\u001b[0mweek\u001b[0m\u001b[0;34m\u001b[0m\u001b[0;34m\u001b[0m\u001b[0m\n\u001b[1;32m      5\u001b[0m \u001b[0mi_df\u001b[0m\u001b[0;34m[\u001b[0m\u001b[0;34m'Day'\u001b[0m\u001b[0;34m]\u001b[0m \u001b[0;34m=\u001b[0m \u001b[0mi_df\u001b[0m\u001b[0;34m.\u001b[0m\u001b[0mDate\u001b[0m\u001b[0;34m.\u001b[0m\u001b[0mdt\u001b[0m\u001b[0;34m.\u001b[0m\u001b[0mday\u001b[0m\u001b[0;34m\u001b[0m\u001b[0;34m\u001b[0m\u001b[0m\n",
      "\u001b[0;32m~/Projects/ds4a-practicum/.venv/lib/python3.7/site-packages/pandas/core/generic.py\u001b[0m in \u001b[0;36m__getattr__\u001b[0;34m(self, name)\u001b[0m\n\u001b[1;32m   5272\u001b[0m             \u001b[0;32mif\u001b[0m \u001b[0mself\u001b[0m\u001b[0;34m.\u001b[0m\u001b[0m_info_axis\u001b[0m\u001b[0;34m.\u001b[0m\u001b[0m_can_hold_identifiers_and_holds_name\u001b[0m\u001b[0;34m(\u001b[0m\u001b[0mname\u001b[0m\u001b[0;34m)\u001b[0m\u001b[0;34m:\u001b[0m\u001b[0;34m\u001b[0m\u001b[0;34m\u001b[0m\u001b[0m\n\u001b[1;32m   5273\u001b[0m                 \u001b[0;32mreturn\u001b[0m \u001b[0mself\u001b[0m\u001b[0;34m[\u001b[0m\u001b[0mname\u001b[0m\u001b[0;34m]\u001b[0m\u001b[0;34m\u001b[0m\u001b[0;34m\u001b[0m\u001b[0m\n\u001b[0;32m-> 5274\u001b[0;31m             \u001b[0;32mreturn\u001b[0m \u001b[0mobject\u001b[0m\u001b[0;34m.\u001b[0m\u001b[0m__getattribute__\u001b[0m\u001b[0;34m(\u001b[0m\u001b[0mself\u001b[0m\u001b[0;34m,\u001b[0m \u001b[0mname\u001b[0m\u001b[0;34m)\u001b[0m\u001b[0;34m\u001b[0m\u001b[0;34m\u001b[0m\u001b[0m\n\u001b[0m\u001b[1;32m   5275\u001b[0m \u001b[0;34m\u001b[0m\u001b[0m\n\u001b[1;32m   5276\u001b[0m     \u001b[0;32mdef\u001b[0m \u001b[0m__setattr__\u001b[0m\u001b[0;34m(\u001b[0m\u001b[0mself\u001b[0m\u001b[0;34m,\u001b[0m \u001b[0mname\u001b[0m\u001b[0;34m:\u001b[0m \u001b[0mstr\u001b[0m\u001b[0;34m,\u001b[0m \u001b[0mvalue\u001b[0m\u001b[0;34m)\u001b[0m \u001b[0;34m->\u001b[0m \u001b[0;32mNone\u001b[0m\u001b[0;34m:\u001b[0m\u001b[0;34m\u001b[0m\u001b[0;34m\u001b[0m\u001b[0m\n",
      "\u001b[0;31mAttributeError\u001b[0m: 'DataFrame' object has no attribute 'Date'"
     ]
    }
   ],
   "source": [
    "i_df['MonthNum']= i_df.Date.dt.month\n",
    "i_df['Month']= i_df.Date.dt.month_name()\n",
    "i_df['Quarter'] = i_df.Date.dt.quarter\n",
    "i_df['Week'] = i_df.Date.dt.week\n",
    "i_df['Day'] = i_df.Date.dt.day\n",
    "i_df['WeekDayNum'] = i_df.Date.dt.dayofweek\n",
    "i_df['WeekDay']  = i_df.Date.dt.day_name()\n",
    "i_df['Hour']  = i_df.Time.hour\n",
    "\n",
    "col_holidays = holidays.COL(years = list(range(2014,2021))) \n",
    "h_df = pd.DataFrame([col_holidays.keys(), col_holidays.values()]).T\n",
    "h_df.rename(columns={0:'Date',1:'Holiday'},inplace=True)\n",
    "\n",
    "h_df['Date']= pd.to_datetime(h_df.Date,format='%Y/%m/%d')\n",
    "h_df\n",
    "# \n",
    "#i_df['Holiday'] = i_df.\n",
    "# i_df['WeekDay'].value_counts().sort_index()"
   ]
  },
  {
   "cell_type": "code",
   "execution_count": 136,
   "metadata": {},
   "outputs": [
    {
     "output_type": "execute_result",
     "data": {
      "text/plain": "       Radicado  Latitude  Longitude            Type            Address  Cbml  \\\n0       1423828  6.219016 -75.602726          Choque         CR 80 CL 8  1611   \n1       1423839  6.260009 -75.568185       Atropello        CR 53 CL 61  1003   \n2       1423840  6.264765 -75.549943       Atropello        CR 39 CL 70  0308   \n3       1423849  6.234327 -75.607611       Atropello        CL 32 CR 84  1617   \n4       1423890  6.300243 -75.579644  Caida Ocupante       CR 80 CL 101  0603   \n...         ...       ...        ...             ...                ...   ...   \n288978  1717678  6.220716 -75.559017  Caida Ocupante       CL 19A CR 27  9004   \n288979  1717650  6.286417 -75.570338          Choque        CR 65 CL 94  0511   \n288980  1717526  6.221415 -75.703776          Choque  CR 86 CL 44 B Sur  1204   \n288981  1717545  6.235761 -75.538379            Otro        CR 12 CL 53  0813   \n288982  1717634  6.254707 -75.562176       Atropello        CR 47 CL 58  1017   \n\n           Severity                        Comuna               Borough  \\\n0       Con heridos                         Belén    Loma de los Bernal   \n1       Con heridos                 La Candelaria        Jesús Nazareno   \n2       Con heridos                      Manrique     Manrique Oriental   \n3       Con heridos                         Belén          Las Mercedes   \n4       Con heridos               Doce De Octubre  Doce de Octubre No.2   \n...             ...                           ...                   ...   \n288978  Con heridos  Corregimiento De Santa Elena                  9004   \n288979  Con heridos                      Castilla              Castilla   \n288980  Con heridos                    La América            La América   \n288981  Con heridos                 Villa Hermosa             Villatina   \n288982  Con heridos                 La Candelaria           Los Ángeles   \n\n               Desing  Year       Date      Time codigo_comuna  \\\n0        Tramo de via  2014 2014-01-01  02:20:00            16   \n1        Tramo de via  2014 2014-01-01  00:50:00            10   \n2        Tramo de via  2014 2014-01-01  01:00:00             3   \n3        Tramo de via  2014 2014-01-01  00:37:00            16   \n4        Tramo de via  2014 2014-01-01  10:40:00             6   \n...               ...   ...        ...       ...           ...   \n288978  Lote o Predio  2020 2020-06-30  21:00:00            90   \n288979   Interseccion  2020 2020-06-30  21:05:00             5   \n288980   Tramo de via  2020 2020-06-30  21:15:00            12   \n288981  Lote o Predio  2020 2020-06-30  22:00:00             8   \n288982   Tramo de via  2020 2020-06-30  22:10:00            10   \n\n                                   Comuna  MonthNum    Month  Quarter  Week  \\\n0                              16 - Belén         1  January        1     1   \n1                      10 - La Candelaria         1  January        1     1   \n2                           03 - Manrique         1  January        1     1   \n3                              16 - Belén         1  January        1     1   \n4                    06 - Doce de Octubre         1  January        1     1   \n...                                   ...       ...      ...      ...   ...   \n288978  90 - Corregimiento de Santa Elena         6     June        2    27   \n288979                      05 - Castilla         6     June        2    27   \n288980                    12 - La América         6     June        2    27   \n288981                 08 - Villa Hermosa         6     June        2    27   \n288982                 10 - La Candelaria         6     June        2    27   \n\n        Day  WeekDayNum    WeekDay  Hour                     Holiday  \n0         1           2  Wednesday     0  Año Nuevo [New Year's Day]  \n1         1           2  Wednesday     0  Año Nuevo [New Year's Day]  \n2         1           2  Wednesday     0  Año Nuevo [New Year's Day]  \n3         1           2  Wednesday     0  Año Nuevo [New Year's Day]  \n4         1           2  Wednesday     0  Año Nuevo [New Year's Day]  \n...     ...         ...        ...   ...                         ...  \n288978   30           1    Tuesday     0                         NaN  \n288979   30           1    Tuesday     0                         NaN  \n288980   30           1    Tuesday     0                         NaN  \n288981   30           1    Tuesday     0                         NaN  \n288982   30           1    Tuesday     0                         NaN  \n\n[288983 rows x 24 columns]",
      "text/html": "<div>\n<style scoped>\n    .dataframe tbody tr th:only-of-type {\n        vertical-align: middle;\n    }\n\n    .dataframe tbody tr th {\n        vertical-align: top;\n    }\n\n    .dataframe thead th {\n        text-align: right;\n    }\n</style>\n<table border=\"1\" class=\"dataframe\">\n  <thead>\n    <tr style=\"text-align: right;\">\n      <th></th>\n      <th>Radicado</th>\n      <th>Latitude</th>\n      <th>Longitude</th>\n      <th>Type</th>\n      <th>Address</th>\n      <th>Cbml</th>\n      <th>Severity</th>\n      <th>Comuna</th>\n      <th>Borough</th>\n      <th>Desing</th>\n      <th>Year</th>\n      <th>Date</th>\n      <th>Time</th>\n      <th>codigo_comuna</th>\n      <th>Comuna</th>\n      <th>MonthNum</th>\n      <th>Month</th>\n      <th>Quarter</th>\n      <th>Week</th>\n      <th>Day</th>\n      <th>WeekDayNum</th>\n      <th>WeekDay</th>\n      <th>Hour</th>\n      <th>Holiday</th>\n    </tr>\n  </thead>\n  <tbody>\n    <tr>\n      <th>0</th>\n      <td>1423828</td>\n      <td>6.219016</td>\n      <td>-75.602726</td>\n      <td>Choque</td>\n      <td>CR 80 CL 8</td>\n      <td>1611</td>\n      <td>Con heridos</td>\n      <td>Belén</td>\n      <td>Loma de los Bernal</td>\n      <td>Tramo de via</td>\n      <td>2014</td>\n      <td>2014-01-01</td>\n      <td>02:20:00</td>\n      <td>16</td>\n      <td>16 - Belén</td>\n      <td>1</td>\n      <td>January</td>\n      <td>1</td>\n      <td>1</td>\n      <td>1</td>\n      <td>2</td>\n      <td>Wednesday</td>\n      <td>0</td>\n      <td>Año Nuevo [New Year's Day]</td>\n    </tr>\n    <tr>\n      <th>1</th>\n      <td>1423839</td>\n      <td>6.260009</td>\n      <td>-75.568185</td>\n      <td>Atropello</td>\n      <td>CR 53 CL 61</td>\n      <td>1003</td>\n      <td>Con heridos</td>\n      <td>La Candelaria</td>\n      <td>Jesús Nazareno</td>\n      <td>Tramo de via</td>\n      <td>2014</td>\n      <td>2014-01-01</td>\n      <td>00:50:00</td>\n      <td>10</td>\n      <td>10 - La Candelaria</td>\n      <td>1</td>\n      <td>January</td>\n      <td>1</td>\n      <td>1</td>\n      <td>1</td>\n      <td>2</td>\n      <td>Wednesday</td>\n      <td>0</td>\n      <td>Año Nuevo [New Year's Day]</td>\n    </tr>\n    <tr>\n      <th>2</th>\n      <td>1423840</td>\n      <td>6.264765</td>\n      <td>-75.549943</td>\n      <td>Atropello</td>\n      <td>CR 39 CL 70</td>\n      <td>0308</td>\n      <td>Con heridos</td>\n      <td>Manrique</td>\n      <td>Manrique Oriental</td>\n      <td>Tramo de via</td>\n      <td>2014</td>\n      <td>2014-01-01</td>\n      <td>01:00:00</td>\n      <td>3</td>\n      <td>03 - Manrique</td>\n      <td>1</td>\n      <td>January</td>\n      <td>1</td>\n      <td>1</td>\n      <td>1</td>\n      <td>2</td>\n      <td>Wednesday</td>\n      <td>0</td>\n      <td>Año Nuevo [New Year's Day]</td>\n    </tr>\n    <tr>\n      <th>3</th>\n      <td>1423849</td>\n      <td>6.234327</td>\n      <td>-75.607611</td>\n      <td>Atropello</td>\n      <td>CL 32 CR 84</td>\n      <td>1617</td>\n      <td>Con heridos</td>\n      <td>Belén</td>\n      <td>Las Mercedes</td>\n      <td>Tramo de via</td>\n      <td>2014</td>\n      <td>2014-01-01</td>\n      <td>00:37:00</td>\n      <td>16</td>\n      <td>16 - Belén</td>\n      <td>1</td>\n      <td>January</td>\n      <td>1</td>\n      <td>1</td>\n      <td>1</td>\n      <td>2</td>\n      <td>Wednesday</td>\n      <td>0</td>\n      <td>Año Nuevo [New Year's Day]</td>\n    </tr>\n    <tr>\n      <th>4</th>\n      <td>1423890</td>\n      <td>6.300243</td>\n      <td>-75.579644</td>\n      <td>Caida Ocupante</td>\n      <td>CR 80 CL 101</td>\n      <td>0603</td>\n      <td>Con heridos</td>\n      <td>Doce De Octubre</td>\n      <td>Doce de Octubre No.2</td>\n      <td>Tramo de via</td>\n      <td>2014</td>\n      <td>2014-01-01</td>\n      <td>10:40:00</td>\n      <td>6</td>\n      <td>06 - Doce de Octubre</td>\n      <td>1</td>\n      <td>January</td>\n      <td>1</td>\n      <td>1</td>\n      <td>1</td>\n      <td>2</td>\n      <td>Wednesday</td>\n      <td>0</td>\n      <td>Año Nuevo [New Year's Day]</td>\n    </tr>\n    <tr>\n      <th>...</th>\n      <td>...</td>\n      <td>...</td>\n      <td>...</td>\n      <td>...</td>\n      <td>...</td>\n      <td>...</td>\n      <td>...</td>\n      <td>...</td>\n      <td>...</td>\n      <td>...</td>\n      <td>...</td>\n      <td>...</td>\n      <td>...</td>\n      <td>...</td>\n      <td>...</td>\n      <td>...</td>\n      <td>...</td>\n      <td>...</td>\n      <td>...</td>\n      <td>...</td>\n      <td>...</td>\n      <td>...</td>\n      <td>...</td>\n      <td>...</td>\n    </tr>\n    <tr>\n      <th>288978</th>\n      <td>1717678</td>\n      <td>6.220716</td>\n      <td>-75.559017</td>\n      <td>Caida Ocupante</td>\n      <td>CL 19A CR 27</td>\n      <td>9004</td>\n      <td>Con heridos</td>\n      <td>Corregimiento De Santa Elena</td>\n      <td>9004</td>\n      <td>Lote o Predio</td>\n      <td>2020</td>\n      <td>2020-06-30</td>\n      <td>21:00:00</td>\n      <td>90</td>\n      <td>90 - Corregimiento de Santa Elena</td>\n      <td>6</td>\n      <td>June</td>\n      <td>2</td>\n      <td>27</td>\n      <td>30</td>\n      <td>1</td>\n      <td>Tuesday</td>\n      <td>0</td>\n      <td>NaN</td>\n    </tr>\n    <tr>\n      <th>288979</th>\n      <td>1717650</td>\n      <td>6.286417</td>\n      <td>-75.570338</td>\n      <td>Choque</td>\n      <td>CR 65 CL 94</td>\n      <td>0511</td>\n      <td>Con heridos</td>\n      <td>Castilla</td>\n      <td>Castilla</td>\n      <td>Interseccion</td>\n      <td>2020</td>\n      <td>2020-06-30</td>\n      <td>21:05:00</td>\n      <td>5</td>\n      <td>05 - Castilla</td>\n      <td>6</td>\n      <td>June</td>\n      <td>2</td>\n      <td>27</td>\n      <td>30</td>\n      <td>1</td>\n      <td>Tuesday</td>\n      <td>0</td>\n      <td>NaN</td>\n    </tr>\n    <tr>\n      <th>288980</th>\n      <td>1717526</td>\n      <td>6.221415</td>\n      <td>-75.703776</td>\n      <td>Choque</td>\n      <td>CR 86 CL 44 B Sur</td>\n      <td>1204</td>\n      <td>Con heridos</td>\n      <td>La América</td>\n      <td>La América</td>\n      <td>Tramo de via</td>\n      <td>2020</td>\n      <td>2020-06-30</td>\n      <td>21:15:00</td>\n      <td>12</td>\n      <td>12 - La América</td>\n      <td>6</td>\n      <td>June</td>\n      <td>2</td>\n      <td>27</td>\n      <td>30</td>\n      <td>1</td>\n      <td>Tuesday</td>\n      <td>0</td>\n      <td>NaN</td>\n    </tr>\n    <tr>\n      <th>288981</th>\n      <td>1717545</td>\n      <td>6.235761</td>\n      <td>-75.538379</td>\n      <td>Otro</td>\n      <td>CR 12 CL 53</td>\n      <td>0813</td>\n      <td>Con heridos</td>\n      <td>Villa Hermosa</td>\n      <td>Villatina</td>\n      <td>Lote o Predio</td>\n      <td>2020</td>\n      <td>2020-06-30</td>\n      <td>22:00:00</td>\n      <td>8</td>\n      <td>08 - Villa Hermosa</td>\n      <td>6</td>\n      <td>June</td>\n      <td>2</td>\n      <td>27</td>\n      <td>30</td>\n      <td>1</td>\n      <td>Tuesday</td>\n      <td>0</td>\n      <td>NaN</td>\n    </tr>\n    <tr>\n      <th>288982</th>\n      <td>1717634</td>\n      <td>6.254707</td>\n      <td>-75.562176</td>\n      <td>Atropello</td>\n      <td>CR 47 CL 58</td>\n      <td>1017</td>\n      <td>Con heridos</td>\n      <td>La Candelaria</td>\n      <td>Los Ángeles</td>\n      <td>Tramo de via</td>\n      <td>2020</td>\n      <td>2020-06-30</td>\n      <td>22:10:00</td>\n      <td>10</td>\n      <td>10 - La Candelaria</td>\n      <td>6</td>\n      <td>June</td>\n      <td>2</td>\n      <td>27</td>\n      <td>30</td>\n      <td>1</td>\n      <td>Tuesday</td>\n      <td>0</td>\n      <td>NaN</td>\n    </tr>\n  </tbody>\n</table>\n<p>288983 rows × 24 columns</p>\n</div>"
     },
     "metadata": {},
     "execution_count": 136
    }
   ],
   "source": [
    "i_df = i_df.merge(h_df,on='Date',how='left')\n",
    "i_df"
   ]
  },
  {
   "cell_type": "code",
   "execution_count": 145,
   "metadata": {},
   "outputs": [
    {
     "output_type": "execute_result",
     "data": {
      "text/plain": "    Radicado  Latitude  Longitude    Type           Address         Cbml  \\\n483    00523  6.263128 -75.554245  Choque  CR 44 CL 67 - 18  03070040016   \n\n        Severity    Comuna                 Borough Desing  Year        Date  \\\n483  Con muertos  Manrique  Manrique Central No. 2    NaN  2014  06/01/2014   \n\n         Time         Comuna  MonthNum    Month  Quarter  Week  Day  \\\n483  10:56:00  03 - Manrique         1  January        1     2    6   \n\n     WeekDayNum WeekDay  Hour                            Holiday  IsHoliday  \n483           0  Monday     0  Día de los Reyes Magos [Epiphany]          1  ",
      "text/html": "<div>\n<style scoped>\n    .dataframe tbody tr th:only-of-type {\n        vertical-align: middle;\n    }\n\n    .dataframe tbody tr th {\n        vertical-align: top;\n    }\n\n    .dataframe thead th {\n        text-align: right;\n    }\n</style>\n<table border=\"1\" class=\"dataframe\">\n  <thead>\n    <tr style=\"text-align: right;\">\n      <th></th>\n      <th>Radicado</th>\n      <th>Latitude</th>\n      <th>Longitude</th>\n      <th>Type</th>\n      <th>Address</th>\n      <th>Cbml</th>\n      <th>Severity</th>\n      <th>Comuna</th>\n      <th>Borough</th>\n      <th>Desing</th>\n      <th>Year</th>\n      <th>Date</th>\n      <th>Time</th>\n      <th>Comuna</th>\n      <th>MonthNum</th>\n      <th>Month</th>\n      <th>Quarter</th>\n      <th>Week</th>\n      <th>Day</th>\n      <th>WeekDayNum</th>\n      <th>WeekDay</th>\n      <th>Hour</th>\n      <th>Holiday</th>\n      <th>IsHoliday</th>\n    </tr>\n  </thead>\n  <tbody>\n    <tr>\n      <th>483</th>\n      <td>00523</td>\n      <td>6.263128</td>\n      <td>-75.554245</td>\n      <td>Choque</td>\n      <td>CR 44 CL 67 - 18</td>\n      <td>03070040016</td>\n      <td>Con muertos</td>\n      <td>Manrique</td>\n      <td>Manrique Central No. 2</td>\n      <td>NaN</td>\n      <td>2014</td>\n      <td>06/01/2014</td>\n      <td>10:56:00</td>\n      <td>03 - Manrique</td>\n      <td>1</td>\n      <td>January</td>\n      <td>1</td>\n      <td>2</td>\n      <td>6</td>\n      <td>0</td>\n      <td>Monday</td>\n      <td>0</td>\n      <td>Día de los Reyes Magos [Epiphany]</td>\n      <td>1</td>\n    </tr>\n  </tbody>\n</table>\n</div>"
     },
     "metadata": {},
     "execution_count": 145
    }
   ],
   "source": [
    "i_df[i_df.Cbml== '03070040016']"
   ]
  },
  {
   "cell_type": "code",
   "execution_count": 142,
   "metadata": {},
   "outputs": [
    {
     "output_type": "error",
     "ename": "AttributeError",
     "evalue": "Can only use .dt accessor with datetimelike values",
     "traceback": [
      "\u001b[0;31m---------------------------------------------------------------------------\u001b[0m",
      "\u001b[0;31mAttributeError\u001b[0m                            Traceback (most recent call last)",
      "\u001b[0;32m<ipython-input-142-c0fa36fed719>\u001b[0m in \u001b[0;36m<module>\u001b[0;34m\u001b[0m\n\u001b[1;32m      1\u001b[0m \u001b[0mi_df\u001b[0m\u001b[0;34m[\u001b[0m\u001b[0;34m'IsHoliday'\u001b[0m\u001b[0;34m]\u001b[0m \u001b[0;34m=\u001b[0m \u001b[0mi_df\u001b[0m\u001b[0;34m.\u001b[0m\u001b[0mHoliday\u001b[0m\u001b[0;34m.\u001b[0m\u001b[0mapply\u001b[0m\u001b[0;34m(\u001b[0m\u001b[0;32mlambda\u001b[0m \u001b[0mx\u001b[0m \u001b[0;34m:\u001b[0m \u001b[0;36m0\u001b[0m \u001b[0;32mif\u001b[0m \u001b[0mx\u001b[0m \u001b[0;32mis\u001b[0m \u001b[0mnp\u001b[0m\u001b[0;34m.\u001b[0m\u001b[0mnan\u001b[0m \u001b[0;32melse\u001b[0m \u001b[0;36m1\u001b[0m\u001b[0;34m)\u001b[0m\u001b[0;34m\u001b[0m\u001b[0;34m\u001b[0m\u001b[0m\n\u001b[0;32m----> 2\u001b[0;31m \u001b[0mi_df\u001b[0m\u001b[0;34m[\u001b[0m\u001b[0;34m'Date'\u001b[0m\u001b[0;34m]\u001b[0m \u001b[0;34m=\u001b[0m \u001b[0mi_df\u001b[0m\u001b[0;34m.\u001b[0m\u001b[0mDate\u001b[0m\u001b[0;34m.\u001b[0m\u001b[0mdt\u001b[0m\u001b[0;34m.\u001b[0m\u001b[0mstrftime\u001b[0m\u001b[0;34m(\u001b[0m\u001b[0;34m'%d/%m/%Y'\u001b[0m\u001b[0;34m)\u001b[0m\u001b[0;34m\u001b[0m\u001b[0;34m\u001b[0m\u001b[0m\n\u001b[0m",
      "\u001b[0;32m~/Projects/ds4a-practicum/.venv/lib/python3.7/site-packages/pandas/core/generic.py\u001b[0m in \u001b[0;36m__getattr__\u001b[0;34m(self, name)\u001b[0m\n\u001b[1;32m   5268\u001b[0m             \u001b[0;32mor\u001b[0m \u001b[0mname\u001b[0m \u001b[0;32min\u001b[0m \u001b[0mself\u001b[0m\u001b[0;34m.\u001b[0m\u001b[0m_accessors\u001b[0m\u001b[0;34m\u001b[0m\u001b[0;34m\u001b[0m\u001b[0m\n\u001b[1;32m   5269\u001b[0m         ):\n\u001b[0;32m-> 5270\u001b[0;31m             \u001b[0;32mreturn\u001b[0m \u001b[0mobject\u001b[0m\u001b[0;34m.\u001b[0m\u001b[0m__getattribute__\u001b[0m\u001b[0;34m(\u001b[0m\u001b[0mself\u001b[0m\u001b[0;34m,\u001b[0m \u001b[0mname\u001b[0m\u001b[0;34m)\u001b[0m\u001b[0;34m\u001b[0m\u001b[0;34m\u001b[0m\u001b[0m\n\u001b[0m\u001b[1;32m   5271\u001b[0m         \u001b[0;32melse\u001b[0m\u001b[0;34m:\u001b[0m\u001b[0;34m\u001b[0m\u001b[0;34m\u001b[0m\u001b[0m\n\u001b[1;32m   5272\u001b[0m             \u001b[0;32mif\u001b[0m \u001b[0mself\u001b[0m\u001b[0;34m.\u001b[0m\u001b[0m_info_axis\u001b[0m\u001b[0;34m.\u001b[0m\u001b[0m_can_hold_identifiers_and_holds_name\u001b[0m\u001b[0;34m(\u001b[0m\u001b[0mname\u001b[0m\u001b[0;34m)\u001b[0m\u001b[0;34m:\u001b[0m\u001b[0;34m\u001b[0m\u001b[0;34m\u001b[0m\u001b[0m\n",
      "\u001b[0;32m~/Projects/ds4a-practicum/.venv/lib/python3.7/site-packages/pandas/core/accessor.py\u001b[0m in \u001b[0;36m__get__\u001b[0;34m(self, obj, cls)\u001b[0m\n\u001b[1;32m    185\u001b[0m             \u001b[0;31m# we're accessing the attribute of the class, i.e., Dataset.geo\u001b[0m\u001b[0;34m\u001b[0m\u001b[0;34m\u001b[0m\u001b[0;34m\u001b[0m\u001b[0m\n\u001b[1;32m    186\u001b[0m             \u001b[0;32mreturn\u001b[0m \u001b[0mself\u001b[0m\u001b[0;34m.\u001b[0m\u001b[0m_accessor\u001b[0m\u001b[0;34m\u001b[0m\u001b[0;34m\u001b[0m\u001b[0m\n\u001b[0;32m--> 187\u001b[0;31m         \u001b[0maccessor_obj\u001b[0m \u001b[0;34m=\u001b[0m \u001b[0mself\u001b[0m\u001b[0;34m.\u001b[0m\u001b[0m_accessor\u001b[0m\u001b[0;34m(\u001b[0m\u001b[0mobj\u001b[0m\u001b[0;34m)\u001b[0m\u001b[0;34m\u001b[0m\u001b[0;34m\u001b[0m\u001b[0m\n\u001b[0m\u001b[1;32m    188\u001b[0m         \u001b[0;31m# Replace the property with the accessor object. Inspired by:\u001b[0m\u001b[0;34m\u001b[0m\u001b[0;34m\u001b[0m\u001b[0;34m\u001b[0m\u001b[0m\n\u001b[1;32m    189\u001b[0m         \u001b[0;31m# http://www.pydanny.com/cached-property.html\u001b[0m\u001b[0;34m\u001b[0m\u001b[0;34m\u001b[0m\u001b[0;34m\u001b[0m\u001b[0m\n",
      "\u001b[0;32m~/Projects/ds4a-practicum/.venv/lib/python3.7/site-packages/pandas/core/indexes/accessors.py\u001b[0m in \u001b[0;36m__new__\u001b[0;34m(cls, data)\u001b[0m\n\u001b[1;32m    336\u001b[0m             \u001b[0;32mreturn\u001b[0m \u001b[0mDatetimeProperties\u001b[0m\u001b[0;34m(\u001b[0m\u001b[0mdata\u001b[0m\u001b[0;34m,\u001b[0m \u001b[0morig\u001b[0m\u001b[0;34m)\u001b[0m\u001b[0;34m\u001b[0m\u001b[0;34m\u001b[0m\u001b[0m\n\u001b[1;32m    337\u001b[0m \u001b[0;34m\u001b[0m\u001b[0m\n\u001b[0;32m--> 338\u001b[0;31m         \u001b[0;32mraise\u001b[0m \u001b[0mAttributeError\u001b[0m\u001b[0;34m(\u001b[0m\u001b[0;34m\"Can only use .dt accessor with datetimelike values\"\u001b[0m\u001b[0;34m)\u001b[0m\u001b[0;34m\u001b[0m\u001b[0;34m\u001b[0m\u001b[0m\n\u001b[0m",
      "\u001b[0;31mAttributeError\u001b[0m: Can only use .dt accessor with datetimelike values"
     ]
    }
   ],
   "source": [
    "i_df['IsHoliday'] = i_df.Holiday.apply(lambda x : 0 if x is np.nan else 1)\n",
    "i_df['Date'] = i_df.Date.dt.strftime('%d/%m/%Y')\n"
   ]
  },
  {
   "cell_type": "code",
   "execution_count": 143,
   "metadata": {},
   "outputs": [],
   "source": [
    "i_df.drop(columns='codigo_comuna',inplace=True)"
   ]
  },
  {
   "cell_type": "code",
   "execution_count": 150,
   "metadata": {},
   "outputs": [
    {
     "output_type": "execute_result",
     "data": {
      "text/plain": "0         0\n1         0\n2         0\n3         0\n4         0\n         ..\n288978    0\n288979    0\n288980    0\n288981    0\n288982    0\nName: Hour, Length: 288983, dtype: int64"
     },
     "metadata": {},
     "execution_count": 150
    }
   ],
   "source": [
    "i_df['Hour']"
   ]
  },
  {
   "cell_type": "code",
   "execution_count": 149,
   "metadata": {},
   "outputs": [],
   "source": [
    "# dont forget to import event\n",
    "from sqlalchemy import event, create_engine\n",
    " \n",
    "DB_USERNAME = 'postgres@psql-ds4a-prod'\n",
    "DB_PASSWORD = 'FliFUDlbO72cq2h9AaFF'\n",
    "HOST = 'psql-ds4a-prod.postgres.database.azure.com'\n",
    "engine=create_engine(f'postgresql://{DB_USERNAME}:{DB_PASSWORD}@{HOST}/ds4a', connect_args={'sslmode':'require'}, max_overflow=20)\n",
    "\n",
    "\n",
    "i_df.to_sql(name='incidents', con=engine,schema='processed',if_exists='append',index=False,chunksize=1000, method='multi')\n",
    "\n",
    "\n"
   ]
  },
  {
   "cell_type": "markdown",
   "metadata": {},
   "source": [
    "```pwsh\n",
    "Install-Module -Name AzureRM.profile\n",
    "Install-Module -Name MSAL.PS\n",
    "\n",
    "https://docs.microsoft.com/en-us/sharepoint/dev/sp-add-ins/add-in-permissions-in-sharepoint\n",
    "\n",
    "https://celerik-admin.sharepoint.com/_layouts/15/appinv.aspx\n",
    "\n",
    "<AppPermissionRequests AllowAppOnlyPolicy=\"true\">\n",
    "  <AppPermissionRequest Scope=\"http://sharepoint/content/sitecollection/web\" Right=\"Read\" />\n",
    "  <AppPermissionRequest Scope=\"http://sharepoint/content/sitecollection/web/list\" Right=\"Read\"/>\n",
    "</AppPermissionRequests>\n",
    "\n",
    "https://login.microsoftonline.com/celerik.onmicrosoft.com/.well-known/openid-configuration\n",
    "\n",
    "$tenantId = \"65de2287-e076-4804-9fa6-ddbd24d2d0ff\"\n",
    "$authority = \"https://login.microsoftonline.com/$tenantId\"\n",
    "$resource = \"https://graph.microsoft.com\"\n",
    "$clientId = \"f768001f-0170-455a-a3da-cdd617efe34b\"\n",
    "$clientSecret = '/KlFUYi9ZI0Jye0/ZY39w0uKARlZSIUHovkh6lYOjtY='\n",
    "$secClientSecret = (ConvertTo-SecureString '/KlFUYi9ZI0Jye0/ZY39w0uKARlZSIUHovkh6lYOjtY=' -AsPlainText -Force)\n",
    "$redirectUri = 'https://celerik.com'\n",
    "\n",
    "$token = Get-MsalToken -clientID $clientId -clientSecret $secClientSecret -tenantID $tenantId\n",
    "$token.AccessToken\n",
    "\n",
    "$clientCreds = New-Object Microsoft.IdentityModel.Clients.ActiveDirectory.ClientCredential($clientId, $clientSecret);\n",
    "\n",
    "$authUrl = 'https://login.microsoftonline.com/{0}/oauth2/token' -f $tenantId\n",
    "\n",
    "$authContext = New-Object Microsoft.IdentityModel.Clients.ActiveDirectory.AuthenticationContext -ArgumentList $authUrl,$false\n",
    "\n",
    "\n",
    "$authResult = $authContext.AcquireTokenAsync($resource, $clientCreds);\n",
    "\n",
    "$authResult.Wait()\n",
    "\n",
    "\t\n",
    "$authResult.Result.AccessToken\n",
    "\n",
    "# Server name, database name and the connection string that will be used to open connection\n",
    "$sqlServerUrl = \"fcobo.database.windows.net\"\n",
    "$database = \"TESTDB\"\n",
    "$connectionString = \"Server=tcp:$sqlServerUrl,1433;Initial Catalog=$database;Persist Security Info=False;MultipleActiveResultSets=False;Encrypt=True;TrustServerCertificate=False;\"\n",
    "\n",
    "# Create the connection object\n",
    "$connection = New-Object System.Data.SqlClient.SqlConnection($connectionString)\n",
    "\n",
    "# Set AAD generated token to SQL connection token\n",
    "$connection.AccessToken = $authResult.Result.AccessToken\n",
    "$connection.AccessToken\n",
    "\n",
    "# prints the connection information, it's still closed at this point, will open later on. The token is already attached.\n",
    "$connection\n",
    "\n",
    "# Query that will be sent when the connection is open. I had a 4,000 record table and I was able to truncate with this script\n",
    "$query = \"TRUNCATE TABLE TEST1\"\n",
    "\n",
    "# Opens connection to Azure SQL Database and executes a query\n",
    "$connection.Open()\n",
    "# After this, the token is no longer there, I believe this is because the authentication went through already, so it gets rid of it.\n",
    "$connection\n",
    "$command = New-Object -Type System.Data.SqlClient.SqlCommand($query, $connection)\n",
    "$command.ExecuteNonQuery()\n",
    "$connection.Close()\n",
    " \n",
    "\n",
    "Client Secret:\n",
    "\n",
    "\t\n",
    "/KlFUYi9ZI0Jye0/ZY39w0uKARlZSIUHovkh6lYOjtY=\n",
    " \n",
    "\n",
    "Title:\n",
    "\n",
    "\t\n",
    "test\n",
    "\n",
    "App Domain:\n",
    "\n",
    "\t\n",
    "www.celerik.com\n",
    "\tExample: \"www.contoso.com\"\n",
    "\n",
    "Redirect URI:\n",
    "\n",
    "\t\n",
    "https://www.celerik.com\n",
    "\n",
    "\n",
    "\n",
    "\n",
    "$url = \"https://login.microsoftonline.com/celerik/oauth2/token\";\n",
    " $body = @{\n",
    "    resource='https://celerik.sharepoint.com/sites/idlink'\n",
    "    client_id='f768001f-0170-455a-a3da-cdd617efe34b'\n",
    "    grant_type=code\n",
    "    username={userName}\n",
    "    password={password}\n",
    "  }\n",
    "  $json = $body | ConvertTo-Json\n",
    "\n",
    "  ```"
   ]
  },
  {
   "cell_type": "code",
   "execution_count": null,
   "metadata": {},
   "outputs": [],
   "source": []
  },
  {
   "cell_type": "code",
   "execution_count": null,
   "metadata": {},
   "outputs": [],
   "source": [
    "\n",
    "urls = {'url_accidentalidad' : 'http://medata.gov.co/sites/default/files/medata_harvest_files/accidentalidad.csv',\n",
    "'url_accidentalidad_georreferenciada_2019' : 'https://opendata.arcgis.com/datasets/e132c88e875b429db4c1a3c80b7977da_20.csv',\n",
    "'url_accidentalidad_georreferenciada_2018' : 'https://opendata.arcgis.com/datasets/e4b4645cc47b462495305db0574982b5_16.csv',\n",
    "'url_accidentalidad_georreferenciada_2017' : 'https://opendata.arcgis.com/datasets/b7f7158734f64e7f849df6ac4a6b10f1_12.csv',\n",
    "'url_accidentalidad_georreferenciada_2016' : 'https://opendata.arcgis.com/datasets/a65c3aff0ef34973a2441b6cd0fbc24a_8.csv',\n",
    "'url_accidentalidad_georreferenciada_2015' : 'https://opendata.arcgis.com/datasets/025f3be66fbd48b888b779cf00928ae8_4.csv',\n",
    "'url_accidentalidad_georreferenciada_2014' : 'https://opendata.arcgis.com/datasets/505e89d2ade143a684d51b60236ba285_0.csv',\n",
    "'url_accidentalidad_motos':'https://www.datos.gov.co/api/views/b7ik-2upt/rows.csv?accessType=DOWNLOAD',\n",
    "'url_camaras_cctv' : 'https://opendata.arcgis.com/datasets/9721295ac3644bfbb076795b36912037_9.csv',\n",
    "'url_camaras_fotodeteccion' : 'https://opendata.arcgis.com/datasets/bfcd5e4e3e364957b1aeeff0ee022815_7.csv',\n",
    "'url_cruces_semafóricos' : 'https://opendata.arcgis.com/datasets/072ed4e620b849d6bdbb058c3cb77922_0.csv',\n",
    "'url_limite_comunas' : 'https://opendata.arcgis.com/datasets/283d1d14584641c9971edbd2f695e502_6.csv',\n",
    "'url_limite_barrios' : 'https://opendata.arcgis.com/datasets/1a6dbf15865b4357aa559699ea90c5b9_7.csv'}\n",
    "\n",
    "for key in urls:\n",
    "    r =requests.get(urls[key], allow_redirects=True)\n",
    "    open(key.replace('url_','')+'.csv', 'wb').write(r.content)"
   ]
  },
  {
   "cell_type": "markdown",
   "metadata": {},
   "source": [
    "### Concatenate all the accidentalidad_georreferenciada files"
   ]
  },
  {
   "cell_type": "code",
   "execution_count": 149,
   "metadata": {},
   "outputs": [],
   "source": [
    "# ag_df: yearly file\n",
    "ag_df = pd.DataFrame()\n",
    "path = \"./\"\n",
    "for  file in os.listdir(path):\n",
    "    if 'accidentalidad_georreferenciada_' in file:\n",
    "        df_tmp = pd.read_csv(os.path.join(path, file))\n",
    "        df_tmp.columns = [c.lower() for c in df_tmp.columns]\n",
    "        df_tmp['file'] = file\n",
    "        ag_df = pd.concat([ag_df, df_tmp])\n",
    "\n",
    "ag_df.to_csv(\"../raw/accidentalidad_georreferenciada.csv\",index=False)"
   ]
  },
  {
   "cell_type": "markdown",
   "metadata": {},
   "source": [
    "### Check the columns"
   ]
  },
  {
   "cell_type": "markdown",
   "metadata": {},
   "source": [
    "# Delete 'radicados' duplicates from three sources:\n",
    "- accidentalidad.csv\n",
    "- accidentalidad_georreferenciada.csv\n",
    "- accidentalidad_motos.csv\n",
    "\n",
    "We found some duplicates values in \"radicado\" field so we procedure to drop them.\n"
   ]
  },
  {
   "cell_type": "code",
   "execution_count": 58,
   "metadata": {},
   "outputs": [],
   "source": [
    "ag_df = pd.read_csv(\"../raw/accidentalidad_georreferenciada.csv\")\n",
    "\n",
    "a_df = pd.read_csv('./accidentalidad.csv', skiprows=1,header=None,sep=';')\n",
    "a_df.rename(columns={18:'fecha_hora',22: 'objectid', 23:'radicado'},inplace=True)\n",
    "\n",
    "am_df = pd.read_csv('./accidentalidad_motos.csv')\n",
    "am_df['moto']=1\n",
    "\n",
    "\n",
    "\n",
    "\n"
   ]
  },
  {
   "cell_type": "code",
   "execution_count": 66,
   "metadata": {},
   "outputs": [
    {
     "output_type": "execute_result",
     "data": {
      "text/plain": "                x         y  objectid radicado                   fecha  \\\n93458  -75.591921  6.282942    507560       12  2017/01/01 00:00:00+00   \n93459  -75.613491  6.284049    507561       20  2017/01/01 00:00:00+00   \n223849 -75.604448  6.250820    252567       38  2014/11/25 00:00:00+00   \n93460  -75.703816  6.221806    507562       47  2017/01/02 00:00:00+00   \n93462  -75.567295  6.254069    507564      499  2017/01/05 00:00:00+00   \n\n            hora  dia  periodo      clase            direccion  \\\n93458   05:05:00    1     2017  Atropello        CL 77 A CR 88   \n93459   08:30:00    1     2017     Choque  CL 66 CR 103 B - 15   \n223849  12:33:00   25     2014  Atropello     CR 84 CL 44 - 05   \n93460   01:30:00    2     2017     Choque     CR 42 CL 92 - 50   \n93462   07:55:00    5     2017  Atropello        CR 51 D CL 54   \n\n                     direccion_enc         cbml  \\\n93458   CL  077 A   088  000 00000         0713   \n93459   CL  066   103 B  015 00000  60980380285   \n223849    CR  084   044  005 00000         1204   \n93460     CR  042   092  050 00000          NaN   \n93462   CR  051 D   054  000 00000         1005   \n\n                            tipo_geocod gravedad                      barrio  \\\n93458                        Malla vial   MUERTO                  Aures No.1   \n93459         Nomenclatura con Interior   MUERTO  Área de Expansión Pajarito   \n223849                       Malla vial   MUERTO                  La América   \n93460                        No Ubicada   MUERTO                         NaN   \n93462   Malla vial aproximada: CR 51-54   MUERTO              Estación Villa   \n\n                                comuna diseno dia_nombre  mes mes_nombre  \\\n93458                          Robledo    NaN  DOMINGO      1        NaN   \n93459   Corregimiento de San Cristóbal    NaN  DOMINGO      1        NaN   \n223849                      La América    NaN  MARTES      11        NaN   \n93460                              NaN    NaN  LUNES        1        NaN   \n93462                    La Candelaria    NaN  JUEVES       1        NaN   \n\n        x_magnamed  y_magnamed   longitud   latitud  \\\n93458    832386.43  1186760.60 -75.591921  6.282942   \n93459    829999.08  1186883.23 -75.613491  6.284049   \n223849   830999.75  1183207.50 -75.604448  6.250820   \n93460    820000.00  1180000.00 -75.703816  6.221806   \n93462    835112.08  1183566.79 -75.567295  6.254069   \n\n                                            file  shape  \n93458   accidentalidad_georreferenciada_2017.csv    NaN  \n93459   accidentalidad_georreferenciada_2017.csv    NaN  \n223849  accidentalidad_georreferenciada_2014.csv    NaN  \n93460   accidentalidad_georreferenciada_2017.csv    NaN  \n93462   accidentalidad_georreferenciada_2017.csv    NaN  ",
      "text/html": "<div>\n<style scoped>\n    .dataframe tbody tr th:only-of-type {\n        vertical-align: middle;\n    }\n\n    .dataframe tbody tr th {\n        vertical-align: top;\n    }\n\n    .dataframe thead th {\n        text-align: right;\n    }\n</style>\n<table border=\"1\" class=\"dataframe\">\n  <thead>\n    <tr style=\"text-align: right;\">\n      <th></th>\n      <th>x</th>\n      <th>y</th>\n      <th>objectid</th>\n      <th>radicado</th>\n      <th>fecha</th>\n      <th>hora</th>\n      <th>dia</th>\n      <th>periodo</th>\n      <th>clase</th>\n      <th>direccion</th>\n      <th>direccion_enc</th>\n      <th>cbml</th>\n      <th>tipo_geocod</th>\n      <th>gravedad</th>\n      <th>barrio</th>\n      <th>comuna</th>\n      <th>diseno</th>\n      <th>dia_nombre</th>\n      <th>mes</th>\n      <th>mes_nombre</th>\n      <th>x_magnamed</th>\n      <th>y_magnamed</th>\n      <th>longitud</th>\n      <th>latitud</th>\n      <th>file</th>\n      <th>shape</th>\n    </tr>\n  </thead>\n  <tbody>\n    <tr>\n      <th>93458</th>\n      <td>-75.591921</td>\n      <td>6.282942</td>\n      <td>507560</td>\n      <td>12</td>\n      <td>2017/01/01 00:00:00+00</td>\n      <td>05:05:00</td>\n      <td>1</td>\n      <td>2017</td>\n      <td>Atropello</td>\n      <td>CL 77 A CR 88</td>\n      <td>CL  077 A   088  000 00000</td>\n      <td>0713</td>\n      <td>Malla vial</td>\n      <td>MUERTO</td>\n      <td>Aures No.1</td>\n      <td>Robledo</td>\n      <td>NaN</td>\n      <td>DOMINGO</td>\n      <td>1</td>\n      <td>NaN</td>\n      <td>832386.43</td>\n      <td>1186760.60</td>\n      <td>-75.591921</td>\n      <td>6.282942</td>\n      <td>accidentalidad_georreferenciada_2017.csv</td>\n      <td>NaN</td>\n    </tr>\n    <tr>\n      <th>93459</th>\n      <td>-75.613491</td>\n      <td>6.284049</td>\n      <td>507561</td>\n      <td>20</td>\n      <td>2017/01/01 00:00:00+00</td>\n      <td>08:30:00</td>\n      <td>1</td>\n      <td>2017</td>\n      <td>Choque</td>\n      <td>CL 66 CR 103 B - 15</td>\n      <td>CL  066   103 B  015 00000</td>\n      <td>60980380285</td>\n      <td>Nomenclatura con Interior</td>\n      <td>MUERTO</td>\n      <td>Área de Expansión Pajarito</td>\n      <td>Corregimiento de San Cristóbal</td>\n      <td>NaN</td>\n      <td>DOMINGO</td>\n      <td>1</td>\n      <td>NaN</td>\n      <td>829999.08</td>\n      <td>1186883.23</td>\n      <td>-75.613491</td>\n      <td>6.284049</td>\n      <td>accidentalidad_georreferenciada_2017.csv</td>\n      <td>NaN</td>\n    </tr>\n    <tr>\n      <th>223849</th>\n      <td>-75.604448</td>\n      <td>6.250820</td>\n      <td>252567</td>\n      <td>38</td>\n      <td>2014/11/25 00:00:00+00</td>\n      <td>12:33:00</td>\n      <td>25</td>\n      <td>2014</td>\n      <td>Atropello</td>\n      <td>CR 84 CL 44 - 05</td>\n      <td>CR  084   044  005 00000</td>\n      <td>1204</td>\n      <td>Malla vial</td>\n      <td>MUERTO</td>\n      <td>La América</td>\n      <td>La América</td>\n      <td>NaN</td>\n      <td>MARTES</td>\n      <td>11</td>\n      <td>NaN</td>\n      <td>830999.75</td>\n      <td>1183207.50</td>\n      <td>-75.604448</td>\n      <td>6.250820</td>\n      <td>accidentalidad_georreferenciada_2014.csv</td>\n      <td>NaN</td>\n    </tr>\n    <tr>\n      <th>93460</th>\n      <td>-75.703816</td>\n      <td>6.221806</td>\n      <td>507562</td>\n      <td>47</td>\n      <td>2017/01/02 00:00:00+00</td>\n      <td>01:30:00</td>\n      <td>2</td>\n      <td>2017</td>\n      <td>Choque</td>\n      <td>CR 42 CL 92 - 50</td>\n      <td>CR  042   092  050 00000</td>\n      <td>NaN</td>\n      <td>No Ubicada</td>\n      <td>MUERTO</td>\n      <td>NaN</td>\n      <td>NaN</td>\n      <td>NaN</td>\n      <td>LUNES</td>\n      <td>1</td>\n      <td>NaN</td>\n      <td>820000.00</td>\n      <td>1180000.00</td>\n      <td>-75.703816</td>\n      <td>6.221806</td>\n      <td>accidentalidad_georreferenciada_2017.csv</td>\n      <td>NaN</td>\n    </tr>\n    <tr>\n      <th>93462</th>\n      <td>-75.567295</td>\n      <td>6.254069</td>\n      <td>507564</td>\n      <td>499</td>\n      <td>2017/01/05 00:00:00+00</td>\n      <td>07:55:00</td>\n      <td>5</td>\n      <td>2017</td>\n      <td>Atropello</td>\n      <td>CR 51 D CL 54</td>\n      <td>CR  051 D   054  000 00000</td>\n      <td>1005</td>\n      <td>Malla vial aproximada: CR 51-54</td>\n      <td>MUERTO</td>\n      <td>Estación Villa</td>\n      <td>La Candelaria</td>\n      <td>NaN</td>\n      <td>JUEVES</td>\n      <td>1</td>\n      <td>NaN</td>\n      <td>835112.08</td>\n      <td>1183566.79</td>\n      <td>-75.567295</td>\n      <td>6.254069</td>\n      <td>accidentalidad_georreferenciada_2017.csv</td>\n      <td>NaN</td>\n    </tr>\n  </tbody>\n</table>\n</div>"
     },
     "metadata": {},
     "execution_count": 66
    }
   ],
   "source": [
    "ag_df = ag_df.sort_values(by=[\"radicado\", \"objectid\"])\n",
    "ag_df.head(5)"
   ]
  },
  {
   "cell_type": "code",
   "execution_count": 45,
   "metadata": {},
   "outputs": [
    {
     "output_type": "execute_result",
     "data": {
      "text/plain": "                x         y  objectid radicado                   fecha  \\\n132131 -75.557246  6.299648    546233    62196  2017/12/25 00:00:00+00   \n132132 -75.557246  6.299648    546234    62196  2017/12/25 00:00:00+00   \n132133 -75.557246  6.299648    546235    62196  2017/12/25 00:00:00+00   \n\n            hora  dia  periodo   clase     direccion  \\\n132131  10:00:00   25     2017  Choque  CR 52 CL 107   \n132132  10:00:00   25     2017  Choque  CR 52 CL 107   \n132133  10:00:00   25     2017  Choque  CR 52 CL 107   \n\n                   direccion_enc  cbml tipo_geocod gravedad      barrio  \\\n132131  CR  052   107  000 00000  0206  Malla vial   MUERTO  Santa Cruz   \n132132  CR  052   107  000 00000  0206  Malla vial   MUERTO  Santa Cruz   \n132133  CR  052   107  000 00000  0206  Malla vial   MUERTO  Santa Cruz   \n\n           comuna diseno dia_nombre  mes mes_nombre  x_magnamed  y_magnamed  \\\n132131  Andalucía    NaN  LUNES       12        NaN   836224.31  1188608.41   \n132132  Andalucía    NaN  LUNES       12        NaN   836224.31  1188608.41   \n132133  Andalucía    NaN  LUNES       12        NaN   836224.31  1188608.41   \n\n         longitud   latitud                                      file  shape  \n132131 -75.557246  6.299648  accidentalidad_georreferenciada_2017.csv    NaN  \n132132 -75.557246  6.299648  accidentalidad_georreferenciada_2017.csv    NaN  \n132133 -75.557246  6.299648  accidentalidad_georreferenciada_2017.csv    NaN  ",
      "text/html": "<div>\n<style scoped>\n    .dataframe tbody tr th:only-of-type {\n        vertical-align: middle;\n    }\n\n    .dataframe tbody tr th {\n        vertical-align: top;\n    }\n\n    .dataframe thead th {\n        text-align: right;\n    }\n</style>\n<table border=\"1\" class=\"dataframe\">\n  <thead>\n    <tr style=\"text-align: right;\">\n      <th></th>\n      <th>x</th>\n      <th>y</th>\n      <th>objectid</th>\n      <th>radicado</th>\n      <th>fecha</th>\n      <th>hora</th>\n      <th>dia</th>\n      <th>periodo</th>\n      <th>clase</th>\n      <th>direccion</th>\n      <th>direccion_enc</th>\n      <th>cbml</th>\n      <th>tipo_geocod</th>\n      <th>gravedad</th>\n      <th>barrio</th>\n      <th>comuna</th>\n      <th>diseno</th>\n      <th>dia_nombre</th>\n      <th>mes</th>\n      <th>mes_nombre</th>\n      <th>x_magnamed</th>\n      <th>y_magnamed</th>\n      <th>longitud</th>\n      <th>latitud</th>\n      <th>file</th>\n      <th>shape</th>\n    </tr>\n  </thead>\n  <tbody>\n    <tr>\n      <th>132131</th>\n      <td>-75.557246</td>\n      <td>6.299648</td>\n      <td>546233</td>\n      <td>62196</td>\n      <td>2017/12/25 00:00:00+00</td>\n      <td>10:00:00</td>\n      <td>25</td>\n      <td>2017</td>\n      <td>Choque</td>\n      <td>CR 52 CL 107</td>\n      <td>CR  052   107  000 00000</td>\n      <td>0206</td>\n      <td>Malla vial</td>\n      <td>MUERTO</td>\n      <td>Santa Cruz</td>\n      <td>Andalucía</td>\n      <td>NaN</td>\n      <td>LUNES</td>\n      <td>12</td>\n      <td>NaN</td>\n      <td>836224.31</td>\n      <td>1188608.41</td>\n      <td>-75.557246</td>\n      <td>6.299648</td>\n      <td>accidentalidad_georreferenciada_2017.csv</td>\n      <td>NaN</td>\n    </tr>\n    <tr>\n      <th>132132</th>\n      <td>-75.557246</td>\n      <td>6.299648</td>\n      <td>546234</td>\n      <td>62196</td>\n      <td>2017/12/25 00:00:00+00</td>\n      <td>10:00:00</td>\n      <td>25</td>\n      <td>2017</td>\n      <td>Choque</td>\n      <td>CR 52 CL 107</td>\n      <td>CR  052   107  000 00000</td>\n      <td>0206</td>\n      <td>Malla vial</td>\n      <td>MUERTO</td>\n      <td>Santa Cruz</td>\n      <td>Andalucía</td>\n      <td>NaN</td>\n      <td>LUNES</td>\n      <td>12</td>\n      <td>NaN</td>\n      <td>836224.31</td>\n      <td>1188608.41</td>\n      <td>-75.557246</td>\n      <td>6.299648</td>\n      <td>accidentalidad_georreferenciada_2017.csv</td>\n      <td>NaN</td>\n    </tr>\n    <tr>\n      <th>132133</th>\n      <td>-75.557246</td>\n      <td>6.299648</td>\n      <td>546235</td>\n      <td>62196</td>\n      <td>2017/12/25 00:00:00+00</td>\n      <td>10:00:00</td>\n      <td>25</td>\n      <td>2017</td>\n      <td>Choque</td>\n      <td>CR 52 CL 107</td>\n      <td>CR  052   107  000 00000</td>\n      <td>0206</td>\n      <td>Malla vial</td>\n      <td>MUERTO</td>\n      <td>Santa Cruz</td>\n      <td>Andalucía</td>\n      <td>NaN</td>\n      <td>LUNES</td>\n      <td>12</td>\n      <td>NaN</td>\n      <td>836224.31</td>\n      <td>1188608.41</td>\n      <td>-75.557246</td>\n      <td>6.299648</td>\n      <td>accidentalidad_georreferenciada_2017.csv</td>\n      <td>NaN</td>\n    </tr>\n  </tbody>\n</table>\n</div>"
     },
     "metadata": {},
     "execution_count": 45
    }
   ],
   "source": [
    "ag_df[ag_df['radicado']=='62196']"
   ]
  },
  {
   "cell_type": "code",
   "execution_count": 47,
   "metadata": {},
   "outputs": [],
   "source": [
    "ag_df.drop_duplicates(subset=[\"radicado\"], keep=\"first\", inplace=True)"
   ]
  },
  {
   "cell_type": "code",
   "execution_count": 49,
   "metadata": {},
   "outputs": [
    {
     "output_type": "execute_result",
     "data": {
      "text/plain": "                x         y  objectid radicado                   fecha  \\\n132131 -75.557246  6.299648    546233    62196  2017/12/25 00:00:00+00   \n\n            hora  dia  periodo   clase     direccion  \\\n132131  10:00:00   25     2017  Choque  CR 52 CL 107   \n\n                   direccion_enc  cbml tipo_geocod gravedad      barrio  \\\n132131  CR  052   107  000 00000  0206  Malla vial   MUERTO  Santa Cruz   \n\n           comuna diseno dia_nombre  mes mes_nombre  x_magnamed  y_magnamed  \\\n132131  Andalucía    NaN  LUNES       12        NaN   836224.31  1188608.41   \n\n         longitud   latitud                                      file  shape  \n132131 -75.557246  6.299648  accidentalidad_georreferenciada_2017.csv    NaN  ",
      "text/html": "<div>\n<style scoped>\n    .dataframe tbody tr th:only-of-type {\n        vertical-align: middle;\n    }\n\n    .dataframe tbody tr th {\n        vertical-align: top;\n    }\n\n    .dataframe thead th {\n        text-align: right;\n    }\n</style>\n<table border=\"1\" class=\"dataframe\">\n  <thead>\n    <tr style=\"text-align: right;\">\n      <th></th>\n      <th>x</th>\n      <th>y</th>\n      <th>objectid</th>\n      <th>radicado</th>\n      <th>fecha</th>\n      <th>hora</th>\n      <th>dia</th>\n      <th>periodo</th>\n      <th>clase</th>\n      <th>direccion</th>\n      <th>direccion_enc</th>\n      <th>cbml</th>\n      <th>tipo_geocod</th>\n      <th>gravedad</th>\n      <th>barrio</th>\n      <th>comuna</th>\n      <th>diseno</th>\n      <th>dia_nombre</th>\n      <th>mes</th>\n      <th>mes_nombre</th>\n      <th>x_magnamed</th>\n      <th>y_magnamed</th>\n      <th>longitud</th>\n      <th>latitud</th>\n      <th>file</th>\n      <th>shape</th>\n    </tr>\n  </thead>\n  <tbody>\n    <tr>\n      <th>132131</th>\n      <td>-75.557246</td>\n      <td>6.299648</td>\n      <td>546233</td>\n      <td>62196</td>\n      <td>2017/12/25 00:00:00+00</td>\n      <td>10:00:00</td>\n      <td>25</td>\n      <td>2017</td>\n      <td>Choque</td>\n      <td>CR 52 CL 107</td>\n      <td>CR  052   107  000 00000</td>\n      <td>0206</td>\n      <td>Malla vial</td>\n      <td>MUERTO</td>\n      <td>Santa Cruz</td>\n      <td>Andalucía</td>\n      <td>NaN</td>\n      <td>LUNES</td>\n      <td>12</td>\n      <td>NaN</td>\n      <td>836224.31</td>\n      <td>1188608.41</td>\n      <td>-75.557246</td>\n      <td>6.299648</td>\n      <td>accidentalidad_georreferenciada_2017.csv</td>\n      <td>NaN</td>\n    </tr>\n  </tbody>\n</table>\n</div>"
     },
     "metadata": {},
     "execution_count": 49
    }
   ],
   "source": [
    "ag_df[ag_df['radicado']=='62196']"
   ]
  },
  {
   "cell_type": "code",
   "execution_count": 52,
   "metadata": {},
   "outputs": [
    {
     "output_type": "execute_result",
     "data": {
      "text/plain": "HERIDO         144059\nSOLO DAÑOS     116379\nCon heridos      7163\nSolo daños       5269\nMUERTO           1530\nCon muertos        61\nName: gravedad, dtype: int64"
     },
     "metadata": {},
     "execution_count": 52
    }
   ],
   "source": [
    "ag_df['gravedad'].value_counts()"
   ]
  },
  {
   "cell_type": "code",
   "execution_count": 59,
   "metadata": {},
   "outputs": [
    {
     "output_type": "execute_result",
     "data": {
      "text/plain": "               x         y  objectid    radicado                   fecha  \\\n93461 -75.559541  6.245486    507563  5.0016e+19  2017/01/03 00:00:00+00   \n\n           hora  dia  periodo               clase    direccion  \\\n93461  09:41:00    3     2017  Choque y Atropello  CR 39 CL 50   \n\n                  direccion_enc  cbml tipo_geocod gravedad  barrio  \\\n93461  CR  039   050  000 00000  1016  Malla vial   MUERTO  Boston   \n\n              comuna diseno dia_nombre  mes mes_nombre  x_magnamed  \\\n93461  La Candelaria    NaN  MARTES       1        NaN    835970.4   \n\n       y_magnamed   longitud   latitud  \\\n93461  1182617.38 -75.559541  6.245486   \n\n                                           file  shape  \n93461  accidentalidad_georreferenciada_2017.csv    NaN  ",
      "text/html": "<div>\n<style scoped>\n    .dataframe tbody tr th:only-of-type {\n        vertical-align: middle;\n    }\n\n    .dataframe tbody tr th {\n        vertical-align: top;\n    }\n\n    .dataframe thead th {\n        text-align: right;\n    }\n</style>\n<table border=\"1\" class=\"dataframe\">\n  <thead>\n    <tr style=\"text-align: right;\">\n      <th></th>\n      <th>x</th>\n      <th>y</th>\n      <th>objectid</th>\n      <th>radicado</th>\n      <th>fecha</th>\n      <th>hora</th>\n      <th>dia</th>\n      <th>periodo</th>\n      <th>clase</th>\n      <th>direccion</th>\n      <th>direccion_enc</th>\n      <th>cbml</th>\n      <th>tipo_geocod</th>\n      <th>gravedad</th>\n      <th>barrio</th>\n      <th>comuna</th>\n      <th>diseno</th>\n      <th>dia_nombre</th>\n      <th>mes</th>\n      <th>mes_nombre</th>\n      <th>x_magnamed</th>\n      <th>y_magnamed</th>\n      <th>longitud</th>\n      <th>latitud</th>\n      <th>file</th>\n      <th>shape</th>\n    </tr>\n  </thead>\n  <tbody>\n    <tr>\n      <th>93461</th>\n      <td>-75.559541</td>\n      <td>6.245486</td>\n      <td>507563</td>\n      <td>5.0016e+19</td>\n      <td>2017/01/03 00:00:00+00</td>\n      <td>09:41:00</td>\n      <td>3</td>\n      <td>2017</td>\n      <td>Choque y Atropello</td>\n      <td>CR 39 CL 50</td>\n      <td>CR  039   050  000 00000</td>\n      <td>1016</td>\n      <td>Malla vial</td>\n      <td>MUERTO</td>\n      <td>Boston</td>\n      <td>La Candelaria</td>\n      <td>NaN</td>\n      <td>MARTES</td>\n      <td>1</td>\n      <td>NaN</td>\n      <td>835970.4</td>\n      <td>1182617.38</td>\n      <td>-75.559541</td>\n      <td>6.245486</td>\n      <td>accidentalidad_georreferenciada_2017.csv</td>\n      <td>NaN</td>\n    </tr>\n  </tbody>\n</table>\n</div>"
     },
     "metadata": {},
     "execution_count": 59
    }
   ],
   "source": [
    "ag_df[ag_df['objectid']==507563]\n"
   ]
  },
  {
   "cell_type": "code",
   "execution_count": null,
   "metadata": {},
   "outputs": [],
   "source": [
    "df.clase = df.clase.apply(lambda x: unidecode(x).upper().strip().replace(' de ',' '))"
   ]
  },
  {
   "cell_type": "code",
   "execution_count": 27,
   "metadata": {},
   "outputs": [
    {
     "output_type": "execute_result",
     "data": {
      "text/plain": "['@timestamp',\n 'cbml',\n 'expediente',\n 'tipo',\n 'direccion encasillada',\n 'clase_accidente',\n 'location',\n 'mes',\n 'fecha_accidentes',\n 'año',\n 'comuna',\n 'tags',\n 'direccion',\n 'host',\n 'fingerprint',\n 'path',\n 'numcomuna',\n 'diseño',\n 'barrio',\n 'gravedad_accidente',\n 'fecha_accidente',\n 'y',\n 'x',\n '@version',\n 'id',\n 'nro_radicado']"
     },
     "metadata": {},
     "execution_count": 27
    }
   ],
   "source": [
    "from ast import literal_eval\n",
    "[l.lower() for l in list(literal_eval(list(a_df.loc[a_df[0]==\"1.0\", 4][0:1])[0]).keys())]"
   ]
  },
  {
   "cell_type": "code",
   "execution_count": 39,
   "metadata": {},
   "outputs": [
    {
     "output_type": "execute_result",
     "data": {
      "text/plain": "1613593    1\n1620992    1\n1645994    1\n1567028    1\n1465342    1\n          ..\n1451850    1\n1442267    1\n1635939    1\n1436460    1\n1466846    1\nName: radicado, Length: 261875, dtype: int64"
     },
     "metadata": {},
     "execution_count": 39
    }
   ],
   "source": [
    "a_df = a_df.sort_values(by=['radicado', 'objectid'])\n",
    "a_df['radicado'].value_counts()\n"
   ]
  },
  {
   "cell_type": "code",
   "execution_count": 29,
   "metadata": {},
   "outputs": [],
   "source": [
    "a_df.drop_duplicates(subset=['radicado'], keep=\"first\", inplace=True)"
   ]
  },
  {
   "cell_type": "code",
   "execution_count": 30,
   "metadata": {},
   "outputs": [
    {
     "output_type": "execute_result",
     "data": {
      "text/plain": "1647286    2\n1638618    2\n1641667    2\n1647440    2\n1640023    2\n          ..\n1578967    1\n1603547    1\n1593308    1\n1591261    1\n1574913    1\nName: NRO_RADICADO, Length: 136653, dtype: int64"
     },
     "metadata": {},
     "execution_count": 30
    }
   ],
   "source": [
    "am_df = am_df.sort_values(by=['NRO_RADICADO'])\n",
    "am_df['NRO_RADICADO'].value_counts()"
   ]
  },
  {
   "cell_type": "code",
   "execution_count": 31,
   "metadata": {},
   "outputs": [],
   "source": [
    "ag_df = ag_df[~ag_df.radicado.isna()]\n",
    "a_df=a_df[~a_df.radicado.isna()]\n",
    "dtype = dict(radicado=str)\n",
    "ag_df.radicado = ag_df.radicado.astype(dtype)\n",
    "a_df.radicado = a_df.radicado.astype(dtype)\n",
    "ag_df.radicado = ag_df.radicado.str.strip()\n",
    "ag_df.radicado = ag_df.radicado.str.replace(\"(\\d+)(.0)*\",\"\\\\1\") #.dtype #.sort_values(by=\"radicado\", ascending=False)\n",
    "ag_df.radicado = ag_df.radicado.str.replace(\"^(0+)(\\d+)\", \"\\\\2\")\n",
    "a_df.radicado = a_df.radicado.str.strip()\n",
    "a_df.radicado = a_df.radicado.str.replace(\"(\\d+)(.0)*\",\"\\\\1\")"
   ]
  },
  {
   "cell_type": "code",
   "execution_count": 32,
   "metadata": {},
   "outputs": [],
   "source": [
    "am_df.drop_duplicates(subset=['NRO_RADICADO'], keep=\"first\", inplace=True)"
   ]
  },
  {
   "cell_type": "markdown",
   "metadata": {},
   "source": [
    "Merge accidentes geo with accidentes, and motos"
   ]
  },
  {
   "cell_type": "code",
   "execution_count": 33,
   "metadata": {},
   "outputs": [],
   "source": [
    "ag_df = ag_df.merge(a_df[['fecha_hora','radicado']],on='radicado',how='left')"
   ]
  },
  {
   "cell_type": "code",
   "execution_count": 34,
   "metadata": {},
   "outputs": [
    {
     "output_type": "error",
     "ename": "ValueError",
     "evalue": "You are trying to merge on object and int64 columns. If you wish to proceed you should use pd.concat",
     "traceback": [
      "\u001b[0;31m---------------------------------------------------------------------------\u001b[0m",
      "\u001b[0;31mValueError\u001b[0m                                Traceback (most recent call last)",
      "\u001b[0;32m<ipython-input-34-ce4995fb2f5f>\u001b[0m in \u001b[0;36m<module>\u001b[0;34m\u001b[0m\n\u001b[1;32m      1\u001b[0m \u001b[0mam_df\u001b[0m\u001b[0;34m.\u001b[0m\u001b[0mrename\u001b[0m\u001b[0;34m(\u001b[0m\u001b[0mcolumns\u001b[0m\u001b[0;34m=\u001b[0m\u001b[0;34m{\u001b[0m\u001b[0;34m'NRO_RADICADO'\u001b[0m\u001b[0;34m:\u001b[0m\u001b[0;34m'radicado'\u001b[0m\u001b[0;34m}\u001b[0m\u001b[0;34m,\u001b[0m\u001b[0minplace\u001b[0m\u001b[0;34m=\u001b[0m\u001b[0;32mTrue\u001b[0m\u001b[0;34m)\u001b[0m\u001b[0;34m\u001b[0m\u001b[0;34m\u001b[0m\u001b[0m\n\u001b[1;32m      2\u001b[0m \u001b[0;34m\u001b[0m\u001b[0m\n\u001b[0;32m----> 3\u001b[0;31m \u001b[0mag_df\u001b[0m \u001b[0;34m=\u001b[0m \u001b[0mag_df\u001b[0m\u001b[0;34m.\u001b[0m\u001b[0mmerge\u001b[0m\u001b[0;34m(\u001b[0m\u001b[0mam_df\u001b[0m\u001b[0;34m[\u001b[0m\u001b[0;34m[\u001b[0m\u001b[0;34m'radicado'\u001b[0m\u001b[0;34m,\u001b[0m\u001b[0;34m'moto'\u001b[0m\u001b[0;34m]\u001b[0m\u001b[0;34m]\u001b[0m\u001b[0;34m,\u001b[0m\u001b[0mon\u001b[0m\u001b[0;34m=\u001b[0m\u001b[0;34m'radicado'\u001b[0m\u001b[0;34m,\u001b[0m\u001b[0mhow\u001b[0m\u001b[0;34m=\u001b[0m\u001b[0;34m'left'\u001b[0m\u001b[0;34m)\u001b[0m\u001b[0;34m\u001b[0m\u001b[0;34m\u001b[0m\u001b[0m\n\u001b[0m",
      "\u001b[0;32m~/Projects/ds4a-practicum/.venv/lib/python3.7/site-packages/pandas/core/frame.py\u001b[0m in \u001b[0;36mmerge\u001b[0;34m(self, right, how, on, left_on, right_on, left_index, right_index, sort, suffixes, copy, indicator, validate)\u001b[0m\n\u001b[1;32m   7295\u001b[0m             \u001b[0mcopy\u001b[0m\u001b[0;34m=\u001b[0m\u001b[0mcopy\u001b[0m\u001b[0;34m,\u001b[0m\u001b[0;34m\u001b[0m\u001b[0;34m\u001b[0m\u001b[0m\n\u001b[1;32m   7296\u001b[0m             \u001b[0mindicator\u001b[0m\u001b[0;34m=\u001b[0m\u001b[0mindicator\u001b[0m\u001b[0;34m,\u001b[0m\u001b[0;34m\u001b[0m\u001b[0;34m\u001b[0m\u001b[0m\n\u001b[0;32m-> 7297\u001b[0;31m             \u001b[0mvalidate\u001b[0m\u001b[0;34m=\u001b[0m\u001b[0mvalidate\u001b[0m\u001b[0;34m,\u001b[0m\u001b[0;34m\u001b[0m\u001b[0;34m\u001b[0m\u001b[0m\n\u001b[0m\u001b[1;32m   7298\u001b[0m         )\n\u001b[1;32m   7299\u001b[0m \u001b[0;34m\u001b[0m\u001b[0m\n",
      "\u001b[0;32m~/Projects/ds4a-practicum/.venv/lib/python3.7/site-packages/pandas/core/reshape/merge.py\u001b[0m in \u001b[0;36mmerge\u001b[0;34m(left, right, how, on, left_on, right_on, left_index, right_index, sort, suffixes, copy, indicator, validate)\u001b[0m\n\u001b[1;32m     84\u001b[0m         \u001b[0mcopy\u001b[0m\u001b[0;34m=\u001b[0m\u001b[0mcopy\u001b[0m\u001b[0;34m,\u001b[0m\u001b[0;34m\u001b[0m\u001b[0;34m\u001b[0m\u001b[0m\n\u001b[1;32m     85\u001b[0m         \u001b[0mindicator\u001b[0m\u001b[0;34m=\u001b[0m\u001b[0mindicator\u001b[0m\u001b[0;34m,\u001b[0m\u001b[0;34m\u001b[0m\u001b[0;34m\u001b[0m\u001b[0m\n\u001b[0;32m---> 86\u001b[0;31m         \u001b[0mvalidate\u001b[0m\u001b[0;34m=\u001b[0m\u001b[0mvalidate\u001b[0m\u001b[0;34m,\u001b[0m\u001b[0;34m\u001b[0m\u001b[0;34m\u001b[0m\u001b[0m\n\u001b[0m\u001b[1;32m     87\u001b[0m     )\n\u001b[1;32m     88\u001b[0m     \u001b[0;32mreturn\u001b[0m \u001b[0mop\u001b[0m\u001b[0;34m.\u001b[0m\u001b[0mget_result\u001b[0m\u001b[0;34m(\u001b[0m\u001b[0;34m)\u001b[0m\u001b[0;34m\u001b[0m\u001b[0;34m\u001b[0m\u001b[0m\n",
      "\u001b[0;32m~/Projects/ds4a-practicum/.venv/lib/python3.7/site-packages/pandas/core/reshape/merge.py\u001b[0m in \u001b[0;36m__init__\u001b[0;34m(self, left, right, how, on, left_on, right_on, axis, left_index, right_index, sort, suffixes, copy, indicator, validate)\u001b[0m\n\u001b[1;32m    629\u001b[0m         \u001b[0;31m# validate the merge keys dtypes. We may need to coerce\u001b[0m\u001b[0;34m\u001b[0m\u001b[0;34m\u001b[0m\u001b[0;34m\u001b[0m\u001b[0m\n\u001b[1;32m    630\u001b[0m         \u001b[0;31m# to avoid incompat dtypes\u001b[0m\u001b[0;34m\u001b[0m\u001b[0;34m\u001b[0m\u001b[0;34m\u001b[0m\u001b[0m\n\u001b[0;32m--> 631\u001b[0;31m         \u001b[0mself\u001b[0m\u001b[0;34m.\u001b[0m\u001b[0m_maybe_coerce_merge_keys\u001b[0m\u001b[0;34m(\u001b[0m\u001b[0;34m)\u001b[0m\u001b[0;34m\u001b[0m\u001b[0;34m\u001b[0m\u001b[0m\n\u001b[0m\u001b[1;32m    632\u001b[0m \u001b[0;34m\u001b[0m\u001b[0m\n\u001b[1;32m    633\u001b[0m         \u001b[0;31m# If argument passed to validate,\u001b[0m\u001b[0;34m\u001b[0m\u001b[0;34m\u001b[0m\u001b[0;34m\u001b[0m\u001b[0m\n",
      "\u001b[0;32m~/Projects/ds4a-practicum/.venv/lib/python3.7/site-packages/pandas/core/reshape/merge.py\u001b[0m in \u001b[0;36m_maybe_coerce_merge_keys\u001b[0;34m(self)\u001b[0m\n\u001b[1;32m   1144\u001b[0m                     \u001b[0minferred_right\u001b[0m \u001b[0;32min\u001b[0m \u001b[0mstring_types\u001b[0m \u001b[0;32mand\u001b[0m \u001b[0minferred_left\u001b[0m \u001b[0;32mnot\u001b[0m \u001b[0;32min\u001b[0m \u001b[0mstring_types\u001b[0m\u001b[0;34m\u001b[0m\u001b[0;34m\u001b[0m\u001b[0m\n\u001b[1;32m   1145\u001b[0m                 ):\n\u001b[0;32m-> 1146\u001b[0;31m                     \u001b[0;32mraise\u001b[0m \u001b[0mValueError\u001b[0m\u001b[0;34m(\u001b[0m\u001b[0mmsg\u001b[0m\u001b[0;34m)\u001b[0m\u001b[0;34m\u001b[0m\u001b[0;34m\u001b[0m\u001b[0m\n\u001b[0m\u001b[1;32m   1147\u001b[0m \u001b[0;34m\u001b[0m\u001b[0m\n\u001b[1;32m   1148\u001b[0m             \u001b[0;31m# datetimelikes must match exactly\u001b[0m\u001b[0;34m\u001b[0m\u001b[0;34m\u001b[0m\u001b[0;34m\u001b[0m\u001b[0m\n",
      "\u001b[0;31mValueError\u001b[0m: You are trying to merge on object and int64 columns. If you wish to proceed you should use pd.concat"
     ]
    }
   ],
   "source": [
    "am_df.rename(columns={'NRO_RADICADO':'radicado'},inplace=True)\n",
    "\n",
    "ag_df = ag_df.merge(am_df[['radicado','moto']],on='radicado',how='left')"
   ]
  },
  {
   "cell_type": "code",
   "execution_count": 155,
   "metadata": {},
   "outputs": [],
   "source": [
    "import numpy as np\n",
    "ag_df['fecha'] = ag_df['fecha'].apply(lambda x : x.replace(' 00:00:00+00',''))\n",
    "ag_df['fecha'] = pd.to_datetime(ag_df['fecha'],format='%Y/%m/%d')\n",
    "\n",
    "ag_df[ag_df['fecha'].dt.year>2014]['moto'].fillna(0,inplace=True)\n",
    "\n"
   ]
  },
  {
   "cell_type": "code",
   "execution_count": 156,
   "metadata": {},
   "outputs": [
    {
     "output_type": "execute_result",
     "data": {
      "text/plain": "                x      y  objectid  radicado   hora    dia  periodo  clase  \\\nfecha                                                                        \n2015-12-31  19441  19441     19441     19441  19441  19441    19441  19441   \n2016-12-31      0      0         0         0      0      0        0      0   \n2017-12-31      0      0         0         0      0      0        0      0   \n2018-12-31  24596  24596     24596     24596  24596  24596    24596  24596   \n2019-12-31  19246  19246     26804     26804  26804  26804    26804  26804   \n\n            direccion  direccion_enc   cbml  tipo_geocod  gravedad  barrio  \\\nfecha                                                                        \n2015-12-31      19441          19240  17471        19441     19441   17471   \n2016-12-31          0              0      0            0         0       0   \n2017-12-31          0              0      0            0         0       0   \n2018-12-31      24596          24517  22701        24596     24596   22692   \n2019-12-31      26804          26765  25216        26804     26804   24718   \n\n            comuna  diseno  dia_nombre    mes  mes_nombre  x_magnamed  \\\nfecha                                                                   \n2015-12-31   17471   19441       19441  19441           0       19441   \n2016-12-31       0       0           0      0           0           0   \n2017-12-31       0       0           0      0           0           0   \n2018-12-31   22701   24596       24596  24596           0       24596   \n2019-12-31   25915   26804       26804  26804       26804       26804   \n\n            y_magnamed  longitud  latitud   file  shape  fecha_hora   moto  \nfecha                                                                       \n2015-12-31       19441     19441    19441  19441      0           0  19441  \n2016-12-31           0         0        0      0      0           0      0  \n2017-12-31           0         0        0      0      0           0      0  \n2018-12-31       24596     24596    24596  24596      0           0  24596  \n2019-12-31       26804     26804    26804  26804      0        4271  26804  ",
      "text/html": "<div>\n<style scoped>\n    .dataframe tbody tr th:only-of-type {\n        vertical-align: middle;\n    }\n\n    .dataframe tbody tr th {\n        vertical-align: top;\n    }\n\n    .dataframe thead th {\n        text-align: right;\n    }\n</style>\n<table border=\"1\" class=\"dataframe\">\n  <thead>\n    <tr style=\"text-align: right;\">\n      <th></th>\n      <th>x</th>\n      <th>y</th>\n      <th>objectid</th>\n      <th>radicado</th>\n      <th>hora</th>\n      <th>dia</th>\n      <th>periodo</th>\n      <th>clase</th>\n      <th>direccion</th>\n      <th>direccion_enc</th>\n      <th>cbml</th>\n      <th>tipo_geocod</th>\n      <th>gravedad</th>\n      <th>barrio</th>\n      <th>comuna</th>\n      <th>diseno</th>\n      <th>dia_nombre</th>\n      <th>mes</th>\n      <th>mes_nombre</th>\n      <th>x_magnamed</th>\n      <th>y_magnamed</th>\n      <th>longitud</th>\n      <th>latitud</th>\n      <th>file</th>\n      <th>shape</th>\n      <th>fecha_hora</th>\n      <th>moto</th>\n    </tr>\n    <tr>\n      <th>fecha</th>\n      <th></th>\n      <th></th>\n      <th></th>\n      <th></th>\n      <th></th>\n      <th></th>\n      <th></th>\n      <th></th>\n      <th></th>\n      <th></th>\n      <th></th>\n      <th></th>\n      <th></th>\n      <th></th>\n      <th></th>\n      <th></th>\n      <th></th>\n      <th></th>\n      <th></th>\n      <th></th>\n      <th></th>\n      <th></th>\n      <th></th>\n      <th></th>\n      <th></th>\n      <th></th>\n      <th></th>\n    </tr>\n  </thead>\n  <tbody>\n    <tr>\n      <th>2015-12-31</th>\n      <td>19441</td>\n      <td>19441</td>\n      <td>19441</td>\n      <td>19441</td>\n      <td>19441</td>\n      <td>19441</td>\n      <td>19441</td>\n      <td>19441</td>\n      <td>19441</td>\n      <td>19240</td>\n      <td>17471</td>\n      <td>19441</td>\n      <td>19441</td>\n      <td>17471</td>\n      <td>17471</td>\n      <td>19441</td>\n      <td>19441</td>\n      <td>19441</td>\n      <td>0</td>\n      <td>19441</td>\n      <td>19441</td>\n      <td>19441</td>\n      <td>19441</td>\n      <td>19441</td>\n      <td>0</td>\n      <td>0</td>\n      <td>19441</td>\n    </tr>\n    <tr>\n      <th>2016-12-31</th>\n      <td>0</td>\n      <td>0</td>\n      <td>0</td>\n      <td>0</td>\n      <td>0</td>\n      <td>0</td>\n      <td>0</td>\n      <td>0</td>\n      <td>0</td>\n      <td>0</td>\n      <td>0</td>\n      <td>0</td>\n      <td>0</td>\n      <td>0</td>\n      <td>0</td>\n      <td>0</td>\n      <td>0</td>\n      <td>0</td>\n      <td>0</td>\n      <td>0</td>\n      <td>0</td>\n      <td>0</td>\n      <td>0</td>\n      <td>0</td>\n      <td>0</td>\n      <td>0</td>\n      <td>0</td>\n    </tr>\n    <tr>\n      <th>2017-12-31</th>\n      <td>0</td>\n      <td>0</td>\n      <td>0</td>\n      <td>0</td>\n      <td>0</td>\n      <td>0</td>\n      <td>0</td>\n      <td>0</td>\n      <td>0</td>\n      <td>0</td>\n      <td>0</td>\n      <td>0</td>\n      <td>0</td>\n      <td>0</td>\n      <td>0</td>\n      <td>0</td>\n      <td>0</td>\n      <td>0</td>\n      <td>0</td>\n      <td>0</td>\n      <td>0</td>\n      <td>0</td>\n      <td>0</td>\n      <td>0</td>\n      <td>0</td>\n      <td>0</td>\n      <td>0</td>\n    </tr>\n    <tr>\n      <th>2018-12-31</th>\n      <td>24596</td>\n      <td>24596</td>\n      <td>24596</td>\n      <td>24596</td>\n      <td>24596</td>\n      <td>24596</td>\n      <td>24596</td>\n      <td>24596</td>\n      <td>24596</td>\n      <td>24517</td>\n      <td>22701</td>\n      <td>24596</td>\n      <td>24596</td>\n      <td>22692</td>\n      <td>22701</td>\n      <td>24596</td>\n      <td>24596</td>\n      <td>24596</td>\n      <td>0</td>\n      <td>24596</td>\n      <td>24596</td>\n      <td>24596</td>\n      <td>24596</td>\n      <td>24596</td>\n      <td>0</td>\n      <td>0</td>\n      <td>24596</td>\n    </tr>\n    <tr>\n      <th>2019-12-31</th>\n      <td>19246</td>\n      <td>19246</td>\n      <td>26804</td>\n      <td>26804</td>\n      <td>26804</td>\n      <td>26804</td>\n      <td>26804</td>\n      <td>26804</td>\n      <td>26804</td>\n      <td>26765</td>\n      <td>25216</td>\n      <td>26804</td>\n      <td>26804</td>\n      <td>24718</td>\n      <td>25915</td>\n      <td>26804</td>\n      <td>26804</td>\n      <td>26804</td>\n      <td>26804</td>\n      <td>26804</td>\n      <td>26804</td>\n      <td>26804</td>\n      <td>26804</td>\n      <td>26804</td>\n      <td>0</td>\n      <td>4271</td>\n      <td>26804</td>\n    </tr>\n  </tbody>\n</table>\n</div>"
     },
     "metadata": {},
     "execution_count": 156
    }
   ],
   "source": [
    "ag_df[ag_df['radicado'].isin(am_df['radicado'])].groupby(pd.Grouper(key='fecha',freq='Y')).count()"
   ]
  },
  {
   "cell_type": "markdown",
   "metadata": {},
   "source": [
    "## How did you merge the two DataFrames (aggregated data from 2014-2019 and accidentalidad.csv)"
   ]
  },
  {
   "cell_type": "code",
   "execution_count": 28,
   "metadata": {
    "tags": []
   },
   "outputs": [
    {
     "output_type": "stream",
     "name": "stdout",
     "text": "0           False\n1            True\n2            True\n3           False\n4            True\n5            True\n6            True\n7            True\n8            True\n9            True\n10           True\n11           True\n12           True\n13           True\n14           True\n15           True\n16           True\n17           True\nfecha        True\n19           True\n20           True\n21           True\n22           True\nradicado     True\ndtype: bool\nx                 True\ny                 True\nobjectid         False\nradicado          True\nfecha            False\nhora             False\ndia              False\nperiodo          False\nclase             True\ndireccion        False\ndireccion_enc     True\ncbml              True\ntipo_geocod      False\ngravedad         False\nbarrio            True\ncomuna            True\ndiseno            True\ndia_nombre       False\nmes              False\nmes_nombre        True\nx_magnamed       False\ny_magnamed       False\nlongitud         False\nlatitud          False\nfile             False\nshape             True\ndtype: bool\nNRO_RADICADO          False\nAÑO_ACCIDENTE         False\nFECHA_ACCIDENTE       False\nHORA_ACCIDENTE        False\nCLASE_ACCIDENTE        True\nGRAVEDAD_ACCIDENTE    False\nDIRECCION              True\nZONA                  False\nDiseño Vía            False\ndtype: bool\n"
    }
   ],
   "source": [
    "print(a_df.isna().any())\n",
    "print(ag_df.isna().any())\n",
    "print(am_df.isna().any())\n"
   ]
  },
  {
   "cell_type": "code",
   "execution_count": 112,
   "metadata": {},
   "outputs": [
    {
     "output_type": "execute_result",
     "data": {
      "text/plain": "               x         y  objectid radicado                   fecha  \\\n39496 -75.561594  6.293715    546224      NaN  2017/12/21 00:00:00+00   \n40150 -75.578129  6.247262    546941      NaN  2017/09/06 00:00:00+00   \n37075 -75.564198  6.261494    683301      NaN  2018/05/07 00:00:00+00   \n37076 -75.546095  6.271341    683302      NaN  2018/11/01 00:00:00+00   \n37077 -75.593598  6.270184    683303      NaN  2018/12/26 00:00:00+00   \n\n           hora  dia  periodo      clase               direccion  \\\n39496  09:58:00   21     2017  Atropello      CR 52 CL 100  - 75   \n40150  05:45:00    6     2017  Atropello  CL 44 entre CR 59 y 60   \n37075  06:00:00    7     2018     Choque             CR 51 CL 64   \n37076  07:40:00    1     2018     Choque        CL 80 CR 32 - 82   \n37077  12:30:00   26     2018     Choque          CL 59 CR 78 AA   \n\n                    direccion_enc         cbml                tipo_geocod  \\\n39496    CR  052   100  075 00000  02100090113  Nomenclatura con Interior   \n40150    CL  044   59,  060 00000         1008                 Malla vial   \n37075    CR  051   064  000 00000         1001                 Malla vial   \n37076    CL  080   032  082 00000  03040160010      Catastro con Interior   \n37077  CL  059   078 AA 000 00000         1114                 Malla vial   \n\n      gravedad         barrio            comuna diseno dia_nombre  mes  \\\n39496   MUERTO     Santa Cruz        Santa Cruz    NaN  JUEVES      12   \n40150   MUERTO  La Candelaria  Corazón de Jesús    NaN  MIÉRCOLES    9   \n37075   MUERTO          Prado     La Candelaria    NaN  LUNES        5   \n37076   MUERTO     Santa Inés          Manrique    NaN  JUEVES      11   \n37077   MUERTO    Los Colores  Laureles Estadio    NaN  MIÉRCOLES   12   \n\n      mes_nombre  x_magnamed  y_magnamed   longitud   latitud  \\\n39496        NaN   835743.14  1187952.15 -75.561594  6.293715   \n40150        NaN   833912.85  1182813.77 -75.578129  6.247262   \n37075        NaN   835454.94  1184388.09 -75.564198  6.261494   \n37076        NaN   837458.56  1185477.35 -75.546095  6.271341   \n37077        NaN   832200.75  1185349.38 -75.593598  6.270184   \n\n                                         file  shape  \n39496  Accidentalidadgeorreferenciada2017.csv    NaN  \n40150  Accidentalidadgeorreferenciada2017.csv    NaN  \n37075  Accidentalidadgeorreferenciada2018.csv    NaN  \n37076  Accidentalidadgeorreferenciada2018.csv    NaN  \n37077  Accidentalidadgeorreferenciada2018.csv    NaN  ",
      "text/html": "<div>\n<style scoped>\n    .dataframe tbody tr th:only-of-type {\n        vertical-align: middle;\n    }\n\n    .dataframe tbody tr th {\n        vertical-align: top;\n    }\n\n    .dataframe thead th {\n        text-align: right;\n    }\n</style>\n<table border=\"1\" class=\"dataframe\">\n  <thead>\n    <tr style=\"text-align: right;\">\n      <th></th>\n      <th>x</th>\n      <th>y</th>\n      <th>objectid</th>\n      <th>radicado</th>\n      <th>fecha</th>\n      <th>hora</th>\n      <th>dia</th>\n      <th>periodo</th>\n      <th>clase</th>\n      <th>direccion</th>\n      <th>direccion_enc</th>\n      <th>cbml</th>\n      <th>tipo_geocod</th>\n      <th>gravedad</th>\n      <th>barrio</th>\n      <th>comuna</th>\n      <th>diseno</th>\n      <th>dia_nombre</th>\n      <th>mes</th>\n      <th>mes_nombre</th>\n      <th>x_magnamed</th>\n      <th>y_magnamed</th>\n      <th>longitud</th>\n      <th>latitud</th>\n      <th>file</th>\n      <th>shape</th>\n    </tr>\n  </thead>\n  <tbody>\n    <tr>\n      <th>39496</th>\n      <td>-75.561594</td>\n      <td>6.293715</td>\n      <td>546224</td>\n      <td>NaN</td>\n      <td>2017/12/21 00:00:00+00</td>\n      <td>09:58:00</td>\n      <td>21</td>\n      <td>2017</td>\n      <td>Atropello</td>\n      <td>CR 52 CL 100  - 75</td>\n      <td>CR  052   100  075 00000</td>\n      <td>02100090113</td>\n      <td>Nomenclatura con Interior</td>\n      <td>MUERTO</td>\n      <td>Santa Cruz</td>\n      <td>Santa Cruz</td>\n      <td>NaN</td>\n      <td>JUEVES</td>\n      <td>12</td>\n      <td>NaN</td>\n      <td>835743.14</td>\n      <td>1187952.15</td>\n      <td>-75.561594</td>\n      <td>6.293715</td>\n      <td>Accidentalidadgeorreferenciada2017.csv</td>\n      <td>NaN</td>\n    </tr>\n    <tr>\n      <th>40150</th>\n      <td>-75.578129</td>\n      <td>6.247262</td>\n      <td>546941</td>\n      <td>NaN</td>\n      <td>2017/09/06 00:00:00+00</td>\n      <td>05:45:00</td>\n      <td>6</td>\n      <td>2017</td>\n      <td>Atropello</td>\n      <td>CL 44 entre CR 59 y 60</td>\n      <td>CL  044   59,  060 00000</td>\n      <td>1008</td>\n      <td>Malla vial</td>\n      <td>MUERTO</td>\n      <td>La Candelaria</td>\n      <td>Corazón de Jesús</td>\n      <td>NaN</td>\n      <td>MIÉRCOLES</td>\n      <td>9</td>\n      <td>NaN</td>\n      <td>833912.85</td>\n      <td>1182813.77</td>\n      <td>-75.578129</td>\n      <td>6.247262</td>\n      <td>Accidentalidadgeorreferenciada2017.csv</td>\n      <td>NaN</td>\n    </tr>\n    <tr>\n      <th>37075</th>\n      <td>-75.564198</td>\n      <td>6.261494</td>\n      <td>683301</td>\n      <td>NaN</td>\n      <td>2018/05/07 00:00:00+00</td>\n      <td>06:00:00</td>\n      <td>7</td>\n      <td>2018</td>\n      <td>Choque</td>\n      <td>CR 51 CL 64</td>\n      <td>CR  051   064  000 00000</td>\n      <td>1001</td>\n      <td>Malla vial</td>\n      <td>MUERTO</td>\n      <td>Prado</td>\n      <td>La Candelaria</td>\n      <td>NaN</td>\n      <td>LUNES</td>\n      <td>5</td>\n      <td>NaN</td>\n      <td>835454.94</td>\n      <td>1184388.09</td>\n      <td>-75.564198</td>\n      <td>6.261494</td>\n      <td>Accidentalidadgeorreferenciada2018.csv</td>\n      <td>NaN</td>\n    </tr>\n    <tr>\n      <th>37076</th>\n      <td>-75.546095</td>\n      <td>6.271341</td>\n      <td>683302</td>\n      <td>NaN</td>\n      <td>2018/11/01 00:00:00+00</td>\n      <td>07:40:00</td>\n      <td>1</td>\n      <td>2018</td>\n      <td>Choque</td>\n      <td>CL 80 CR 32 - 82</td>\n      <td>CL  080   032  082 00000</td>\n      <td>03040160010</td>\n      <td>Catastro con Interior</td>\n      <td>MUERTO</td>\n      <td>Santa Inés</td>\n      <td>Manrique</td>\n      <td>NaN</td>\n      <td>JUEVES</td>\n      <td>11</td>\n      <td>NaN</td>\n      <td>837458.56</td>\n      <td>1185477.35</td>\n      <td>-75.546095</td>\n      <td>6.271341</td>\n      <td>Accidentalidadgeorreferenciada2018.csv</td>\n      <td>NaN</td>\n    </tr>\n    <tr>\n      <th>37077</th>\n      <td>-75.593598</td>\n      <td>6.270184</td>\n      <td>683303</td>\n      <td>NaN</td>\n      <td>2018/12/26 00:00:00+00</td>\n      <td>12:30:00</td>\n      <td>26</td>\n      <td>2018</td>\n      <td>Choque</td>\n      <td>CL 59 CR 78 AA</td>\n      <td>CL  059   078 AA 000 00000</td>\n      <td>1114</td>\n      <td>Malla vial</td>\n      <td>MUERTO</td>\n      <td>Los Colores</td>\n      <td>Laureles Estadio</td>\n      <td>NaN</td>\n      <td>MIÉRCOLES</td>\n      <td>12</td>\n      <td>NaN</td>\n      <td>832200.75</td>\n      <td>1185349.38</td>\n      <td>-75.593598</td>\n      <td>6.270184</td>\n      <td>Accidentalidadgeorreferenciada2018.csv</td>\n      <td>NaN</td>\n    </tr>\n  </tbody>\n</table>\n</div>"
     },
     "metadata": {},
     "execution_count": 112
    }
   ],
   "source": [
    "ag_df[ag_df.radicado.isna()] # check the nulls"
   ]
  },
  {
   "cell_type": "code",
   "execution_count": 113,
   "metadata": {},
   "outputs": [
    {
     "output_type": "execute_result",
     "data": {
      "text/plain": "Choque                170276\nOtro                   26585\nAtropello              24647\nCaida Ocupante         16419\nVolcamiento             8249\nCaída de Ocupante       5665\nIncendio                  32\nCaída Ocupante            16\nNaN                        6\nChoque                     3\nChoque y Atropello         1\nName: clase, dtype: int64"
     },
     "metadata": {},
     "execution_count": 113
    }
   ],
   "source": [
    "ag_df.clase.value_counts(dropna=False)"
   ]
  },
  {
   "cell_type": "code",
   "execution_count": 114,
   "metadata": {},
   "outputs": [
    {
     "output_type": "execute_result",
     "data": {
      "text/plain": "1019           6182\n0517           5246\n1507           5153\n1012           4988\n1105           4461\n               ... \n80004340062       1\n14220240062       1\n15100350002       1\n02030120001       1\n11140030016       1\nName: cbml, Length: 712, dtype: int64"
     },
     "metadata": {},
     "execution_count": 114
    }
   ],
   "source": [
    "ag_df.cbml.value_counts(dropna=False)"
   ]
  },
  {
   "cell_type": "code",
   "execution_count": 115,
   "metadata": {},
   "outputs": [
    {
     "output_type": "execute_result",
     "data": {
      "text/plain": "62196                    3\n1618580.0                2\n39226                    2\n1662064                  2\n1640023.0                2\n31435                    2\n1656231                  2\n1639346.0                2\n1639954.0                2\n58560                    2\n1647440.0                2\n58864                    2\n1647286.0                2\n1655403                  2\n48996                    2\n050016000206201523690    2\n1640118.0                2\n1640922.0                2\n1640356.0                2\n1638618.0                2\n1689154                  1\nName: radicado, dtype: int64"
     },
     "metadata": {},
     "execution_count": 115
    }
   ],
   "source": [
    "ag_df.radicado.value_counts()[0:21]"
   ]
  },
  {
   "cell_type": "code",
   "execution_count": 116,
   "metadata": {},
   "outputs": [
    {
     "output_type": "execute_result",
     "data": {
      "text/plain": "               x         y  objectid     radicado                   fecha  \\\n21533 -75.585424  6.241112    666622  1.63862e+06  2018/08/14 00:00:00+00   \n36260 -75.585424  6.241112    682426  1.63862e+06  2018/10/14 00:00:00+00   \n\n           hora  dia  periodo   clase      direccion  \\\n21533  05:35:00   14     2018  Choque  CR 66 CL 34 A   \n36260  05:35:00   14     2018  Choque  CR 66 CL 34 A   \n\n                    direccion_enc  cbml                      tipo_geocod  \\\n21533  CR  066   034 A  000 00000  1105  Malla vial aproximada: CR 66-35   \n36260  CR  066   034 A  000 00000  1105  Malla vial aproximada: CR 66-35   \n\n         gravedad              barrio            comuna        diseno  \\\n21533  SOLO DAÑOS  Los Conquistadores  Laureles Estadio  Tramo de via   \n36260  SOLO DAÑOS  Los Conquistadores  Laureles Estadio  Tramo de via   \n\n      dia_nombre  mes mes_nombre  x_magnamed  y_magnamed   longitud   latitud  \\\n21533  MARTES       8        NaN   833105.42  1182133.61 -75.585424  6.241112   \n36260  DOMINGO     10        NaN   833105.42  1182133.61 -75.585424  6.241112   \n\n                                         file  shape  \n21533  Accidentalidadgeorreferenciada2018.csv    NaN  \n36260  Accidentalidadgeorreferenciada2018.csv    NaN  ",
      "text/html": "<div>\n<style scoped>\n    .dataframe tbody tr th:only-of-type {\n        vertical-align: middle;\n    }\n\n    .dataframe tbody tr th {\n        vertical-align: top;\n    }\n\n    .dataframe thead th {\n        text-align: right;\n    }\n</style>\n<table border=\"1\" class=\"dataframe\">\n  <thead>\n    <tr style=\"text-align: right;\">\n      <th></th>\n      <th>x</th>\n      <th>y</th>\n      <th>objectid</th>\n      <th>radicado</th>\n      <th>fecha</th>\n      <th>hora</th>\n      <th>dia</th>\n      <th>periodo</th>\n      <th>clase</th>\n      <th>direccion</th>\n      <th>direccion_enc</th>\n      <th>cbml</th>\n      <th>tipo_geocod</th>\n      <th>gravedad</th>\n      <th>barrio</th>\n      <th>comuna</th>\n      <th>diseno</th>\n      <th>dia_nombre</th>\n      <th>mes</th>\n      <th>mes_nombre</th>\n      <th>x_magnamed</th>\n      <th>y_magnamed</th>\n      <th>longitud</th>\n      <th>latitud</th>\n      <th>file</th>\n      <th>shape</th>\n    </tr>\n  </thead>\n  <tbody>\n    <tr>\n      <th>21533</th>\n      <td>-75.585424</td>\n      <td>6.241112</td>\n      <td>666622</td>\n      <td>1.63862e+06</td>\n      <td>2018/08/14 00:00:00+00</td>\n      <td>05:35:00</td>\n      <td>14</td>\n      <td>2018</td>\n      <td>Choque</td>\n      <td>CR 66 CL 34 A</td>\n      <td>CR  066   034 A  000 00000</td>\n      <td>1105</td>\n      <td>Malla vial aproximada: CR 66-35</td>\n      <td>SOLO DAÑOS</td>\n      <td>Los Conquistadores</td>\n      <td>Laureles Estadio</td>\n      <td>Tramo de via</td>\n      <td>MARTES</td>\n      <td>8</td>\n      <td>NaN</td>\n      <td>833105.42</td>\n      <td>1182133.61</td>\n      <td>-75.585424</td>\n      <td>6.241112</td>\n      <td>Accidentalidadgeorreferenciada2018.csv</td>\n      <td>NaN</td>\n    </tr>\n    <tr>\n      <th>36260</th>\n      <td>-75.585424</td>\n      <td>6.241112</td>\n      <td>682426</td>\n      <td>1.63862e+06</td>\n      <td>2018/10/14 00:00:00+00</td>\n      <td>05:35:00</td>\n      <td>14</td>\n      <td>2018</td>\n      <td>Choque</td>\n      <td>CR 66 CL 34 A</td>\n      <td>CR  066   034 A  000 00000</td>\n      <td>1105</td>\n      <td>Malla vial aproximada: CR 66-35</td>\n      <td>SOLO DAÑOS</td>\n      <td>Los Conquistadores</td>\n      <td>Laureles Estadio</td>\n      <td>Tramo de via</td>\n      <td>DOMINGO</td>\n      <td>10</td>\n      <td>NaN</td>\n      <td>833105.42</td>\n      <td>1182133.61</td>\n      <td>-75.585424</td>\n      <td>6.241112</td>\n      <td>Accidentalidadgeorreferenciada2018.csv</td>\n      <td>NaN</td>\n    </tr>\n  </tbody>\n</table>\n</div>"
     },
     "metadata": {},
     "execution_count": 116
    }
   ],
   "source": [
    "ag_df[ag_df.radicado==1638618.0]"
   ]
  },
  {
   "cell_type": "code",
   "execution_count": 117,
   "metadata": {},
   "outputs": [
    {
     "output_type": "execute_result",
     "data": {
      "text/plain": "NaN          7\n1687153.0    3\n1687280.0    3\n1689208.0    3\n1687560.0    3\n1687158.0    3\n1687159.0    3\n1687162.0    3\n1687163.0    3\n62196        3\n1687164.0    3\n1687165.0    3\n1689064.0    3\n1687166.0    3\n1685159.0    3\n1687167.0    3\n1687169.0    3\n1687154.0    3\n1685140.0    3\n1687171.0    3\n1687292.0    3\n1685517.0    3\n1687136.0    3\n1685493.0    3\n1687138.0    3\n1687557.0    3\n1684827.0    3\n1687140.0    3\n1687144.0    3\n1688636.0    3\nName: radicado, dtype: int64"
     },
     "metadata": {},
     "execution_count": 117
    }
   ],
   "source": [
    "a_df.radicado.value_counts(dropna=False)[0:30]"
   ]
  },
  {
   "cell_type": "code",
   "execution_count": 118,
   "metadata": {},
   "outputs": [
    {
     "output_type": "execute_result",
     "data": {
      "text/plain": "                       timestamp  cbml  expediente  \\\n205150  2019-06-04T20:55:57.306Z  1105  A000846486   \n213113  2019-06-04T20:56:23.935Z  1105  A000846486   \n\n                           tipo_geocode               direccion_enc   clase  \\\n205150  Malla vial aproximada: CR 66-35  CR  066   034 A  000 00000  Choque   \n213113  Malla vial aproximada: CR 66-35  CR  066   034 A  000 00000  Choque   \n\n                           x_long_y_lat   mes  periodo            comuna  \\\n205150  [-75.5854551105, 6.24105317866]   8.0   2018.0  Laureles Estadio   \n213113  [-75.5854551105, 6.24105317866]  10.0   2018.0  Laureles Estadio   \n\n              incidente      direccion   operador  \\\n205150  [u'incidentes']  CR 66 CL 34 A  Operador2   \n213113  [u'incidentes']  CR 66 CL 34 A  Operador2   \n\n                                                     path num_comuna  \\\n205150  C:/ELK/logstash-6.5.1/data/Medata/Incidentes/I...         11   \n213113  C:/ELK/logstash-6.5.1/data/Medata/Incidentes/I...         11   \n\n              diseno              barrio    gravedad  \\\n205150  Tramo de via  Los Conquistadores  Solo daños   \n213113  Tramo de via  Los Conquistadores  Solo daños   \n\n                           fecha  y_magnamed   x_magnet  version        id  \\\n205150  2018-08-14T22:35:00.000Z  1182133.61  833105.42      1.0  211762.0   \n213113  2018-10-14T22:35:00.000Z  1182133.61  833105.42      1.0  219306.0   \n\n       radicado  \n205150  1638618  \n213113  1638618  ",
      "text/html": "<div>\n<style scoped>\n    .dataframe tbody tr th:only-of-type {\n        vertical-align: middle;\n    }\n\n    .dataframe tbody tr th {\n        vertical-align: top;\n    }\n\n    .dataframe thead th {\n        text-align: right;\n    }\n</style>\n<table border=\"1\" class=\"dataframe\">\n  <thead>\n    <tr style=\"text-align: right;\">\n      <th></th>\n      <th>timestamp</th>\n      <th>cbml</th>\n      <th>expediente</th>\n      <th>tipo_geocode</th>\n      <th>direccion_enc</th>\n      <th>clase</th>\n      <th>x_long_y_lat</th>\n      <th>mes</th>\n      <th>periodo</th>\n      <th>comuna</th>\n      <th>incidente</th>\n      <th>direccion</th>\n      <th>operador</th>\n      <th>path</th>\n      <th>num_comuna</th>\n      <th>diseno</th>\n      <th>barrio</th>\n      <th>gravedad</th>\n      <th>fecha</th>\n      <th>y_magnamed</th>\n      <th>x_magnet</th>\n      <th>version</th>\n      <th>id</th>\n      <th>radicado</th>\n    </tr>\n  </thead>\n  <tbody>\n    <tr>\n      <th>205150</th>\n      <td>2019-06-04T20:55:57.306Z</td>\n      <td>1105</td>\n      <td>A000846486</td>\n      <td>Malla vial aproximada: CR 66-35</td>\n      <td>CR  066   034 A  000 00000</td>\n      <td>Choque</td>\n      <td>[-75.5854551105, 6.24105317866]</td>\n      <td>8.0</td>\n      <td>2018.0</td>\n      <td>Laureles Estadio</td>\n      <td>[u'incidentes']</td>\n      <td>CR 66 CL 34 A</td>\n      <td>Operador2</td>\n      <td>C:/ELK/logstash-6.5.1/data/Medata/Incidentes/I...</td>\n      <td>11</td>\n      <td>Tramo de via</td>\n      <td>Los Conquistadores</td>\n      <td>Solo daños</td>\n      <td>2018-08-14T22:35:00.000Z</td>\n      <td>1182133.61</td>\n      <td>833105.42</td>\n      <td>1.0</td>\n      <td>211762.0</td>\n      <td>1638618</td>\n    </tr>\n    <tr>\n      <th>213113</th>\n      <td>2019-06-04T20:56:23.935Z</td>\n      <td>1105</td>\n      <td>A000846486</td>\n      <td>Malla vial aproximada: CR 66-35</td>\n      <td>CR  066   034 A  000 00000</td>\n      <td>Choque</td>\n      <td>[-75.5854551105, 6.24105317866]</td>\n      <td>10.0</td>\n      <td>2018.0</td>\n      <td>Laureles Estadio</td>\n      <td>[u'incidentes']</td>\n      <td>CR 66 CL 34 A</td>\n      <td>Operador2</td>\n      <td>C:/ELK/logstash-6.5.1/data/Medata/Incidentes/I...</td>\n      <td>11</td>\n      <td>Tramo de via</td>\n      <td>Los Conquistadores</td>\n      <td>Solo daños</td>\n      <td>2018-10-14T22:35:00.000Z</td>\n      <td>1182133.61</td>\n      <td>833105.42</td>\n      <td>1.0</td>\n      <td>219306.0</td>\n      <td>1638618</td>\n    </tr>\n  </tbody>\n</table>\n</div>"
     },
     "metadata": {},
     "execution_count": 118
    }
   ],
   "source": [
    "df[df.radicado==\"1638618\"]"
   ]
  },
  {
   "cell_type": "code",
   "execution_count": 119,
   "metadata": {},
   "outputs": [
    {
     "output_type": "execute_result",
     "data": {
      "text/plain": "                       timestamp cbml  expediente tipo_geocode  \\\n203433  2019-06-04T20:55:58.641Z  402  A000846480   Malla vial   \n\n                   direccion_enc   clase                     x_long_y_lat  \\\n203433  CR  051   092  000 00000  Choque  [-75.5611117649, 6.28348983493]   \n\n        mes  periodo    comuna        incidente    direccion   operador  \\\n203433  8.0   2018.0  Aranjuez  [u'incidentes']  CR 51 CL 92  Operador2   \n\n                                                     path num_comuna  \\\n203433  C:/ELK/logstash-6.5.1/data/Medata/Incidentes/I...         04   \n\n              diseno      barrio    gravedad                     fecha  \\\n203433  Tramo de via  San Isidro  Solo daños  2018-08-15T20:00:00.000Z   \n\n        y_magnamed   x_magnet  version        id radicado  \n203433  1186820.47  835813.52      1.0  211882.0  1638617  ",
      "text/html": "<div>\n<style scoped>\n    .dataframe tbody tr th:only-of-type {\n        vertical-align: middle;\n    }\n\n    .dataframe tbody tr th {\n        vertical-align: top;\n    }\n\n    .dataframe thead th {\n        text-align: right;\n    }\n</style>\n<table border=\"1\" class=\"dataframe\">\n  <thead>\n    <tr style=\"text-align: right;\">\n      <th></th>\n      <th>timestamp</th>\n      <th>cbml</th>\n      <th>expediente</th>\n      <th>tipo_geocode</th>\n      <th>direccion_enc</th>\n      <th>clase</th>\n      <th>x_long_y_lat</th>\n      <th>mes</th>\n      <th>periodo</th>\n      <th>comuna</th>\n      <th>incidente</th>\n      <th>direccion</th>\n      <th>operador</th>\n      <th>path</th>\n      <th>num_comuna</th>\n      <th>diseno</th>\n      <th>barrio</th>\n      <th>gravedad</th>\n      <th>fecha</th>\n      <th>y_magnamed</th>\n      <th>x_magnet</th>\n      <th>version</th>\n      <th>id</th>\n      <th>radicado</th>\n    </tr>\n  </thead>\n  <tbody>\n    <tr>\n      <th>203433</th>\n      <td>2019-06-04T20:55:58.641Z</td>\n      <td>402</td>\n      <td>A000846480</td>\n      <td>Malla vial</td>\n      <td>CR  051   092  000 00000</td>\n      <td>Choque</td>\n      <td>[-75.5611117649, 6.28348983493]</td>\n      <td>8.0</td>\n      <td>2018.0</td>\n      <td>Aranjuez</td>\n      <td>[u'incidentes']</td>\n      <td>CR 51 CL 92</td>\n      <td>Operador2</td>\n      <td>C:/ELK/logstash-6.5.1/data/Medata/Incidentes/I...</td>\n      <td>04</td>\n      <td>Tramo de via</td>\n      <td>San Isidro</td>\n      <td>Solo daños</td>\n      <td>2018-08-15T20:00:00.000Z</td>\n      <td>1186820.47</td>\n      <td>835813.52</td>\n      <td>1.0</td>\n      <td>211882.0</td>\n      <td>1638617</td>\n    </tr>\n  </tbody>\n</table>\n</div>"
     },
     "metadata": {},
     "execution_count": 119
    }
   ],
   "source": [
    "df[df.radicado==\"1638617\"]"
   ]
  },
  {
   "cell_type": "markdown",
   "metadata": {},
   "source": [
    "We found some duplicates values in \"radicado\" field so we procedure to drop them."
   ]
  },
  {
   "cell_type": "code",
   "execution_count": 120,
   "metadata": {},
   "outputs": [],
   "source": [
    "df = df.sort_values(by=[\"radicado\", \"id\"])\n",
    "df.drop_duplicates(subset=[\"radicado\"], keep=\"first\", inplace=True)"
   ]
  },
  {
   "cell_type": "markdown",
   "metadata": {},
   "source": [
    "In order to have date and time in different columns we decided to derivate new columns from \"fecha\" and have separet columns for the date and the hour."
   ]
  },
  {
   "cell_type": "code",
   "execution_count": 121,
   "metadata": {},
   "outputs": [],
   "source": [
    "df[\"fecha_incidente\"] = df.fecha.str[0:10]\n",
    "df[\"hora_incidente\"] = df.fecha.str[11:13]"
   ]
  },
  {
   "cell_type": "markdown",
   "metadata": {},
   "source": []
  },
  {
   "cell_type": "code",
   "execution_count": 122,
   "metadata": {},
   "outputs": [],
   "source": [
    "# drop duplicates by \"radicado\", \"objectid\"\n",
    "agg_df = agg_df.sort_values(by=[\"radicado\", \"objectid\"])\n",
    "agg_df.drop_duplicates(subset=[\"radicado\"], keep=\"first\", inplace=True)\n",
    "agg_df = agg_df[(~agg_df.radicado.isna()) & (agg_df.radicado != \"0\")]"
   ]
  },
  {
   "cell_type": "code",
   "execution_count": 123,
   "metadata": {},
   "outputs": [
    {
     "output_type": "execute_result",
     "data": {
      "text/plain": "262153    1.67637e+06\n262150    1.67644e+06\n262168    1.67646e+06\n262162    1.67646e+06\n262160    1.67647e+06\n             ...     \n143894           9769\n9909             9778\n12090            9780\n183864           9982\n172418            NaN\nName: radicado, Length: 261876, dtype: object"
     },
     "metadata": {},
     "execution_count": 123
    }
   ],
   "source": [
    "df.radicado"
   ]
  },
  {
   "cell_type": "code",
   "execution_count": 124,
   "metadata": {},
   "outputs": [
    {
     "output_type": "execute_result",
     "data": {
      "text/plain": "                       timestamp  cbml  expediente tipo_geocode  \\\n172418  2019-06-04T20:54:26.357Z  1008  A000665813   Malla vial   \n\n                   direccion_enc      clase                     x_long_y_lat  \\\n172418  CL  044   59,  060 00000  Atropello  [-75.5781789259, 6.24722232125]   \n\n        mes  periodo         comuna        incidente               direccion  \\\n172418  9.0   2017.0  La Candelaria  [u'incidentes']  CL 44 entre CR 59 y 60   \n\n         operador                                               path  \\\n172418  Operador2  C:/ELK/logstash-6.5.1/data/Medata/Incidentes/I...   \n\n       num_comuna diseno            barrio     gravedad  \\\n172418         10    NaN  Corazón de Jesús  Con muertos   \n\n                           fecha  y_magnamed   x_magnet  version        id  \\\n172418  2017-09-06T10:45:00.000Z  1182813.77  833912.85      1.0  185160.0   \n\n       radicado fecha_incidente hora_incidente  \n172418      NaN      2017-09-06             10  ",
      "text/html": "<div>\n<style scoped>\n    .dataframe tbody tr th:only-of-type {\n        vertical-align: middle;\n    }\n\n    .dataframe tbody tr th {\n        vertical-align: top;\n    }\n\n    .dataframe thead th {\n        text-align: right;\n    }\n</style>\n<table border=\"1\" class=\"dataframe\">\n  <thead>\n    <tr style=\"text-align: right;\">\n      <th></th>\n      <th>timestamp</th>\n      <th>cbml</th>\n      <th>expediente</th>\n      <th>tipo_geocode</th>\n      <th>direccion_enc</th>\n      <th>clase</th>\n      <th>x_long_y_lat</th>\n      <th>mes</th>\n      <th>periodo</th>\n      <th>comuna</th>\n      <th>incidente</th>\n      <th>direccion</th>\n      <th>operador</th>\n      <th>path</th>\n      <th>num_comuna</th>\n      <th>diseno</th>\n      <th>barrio</th>\n      <th>gravedad</th>\n      <th>fecha</th>\n      <th>y_magnamed</th>\n      <th>x_magnet</th>\n      <th>version</th>\n      <th>id</th>\n      <th>radicado</th>\n      <th>fecha_incidente</th>\n      <th>hora_incidente</th>\n    </tr>\n  </thead>\n  <tbody>\n    <tr>\n      <th>172418</th>\n      <td>2019-06-04T20:54:26.357Z</td>\n      <td>1008</td>\n      <td>A000665813</td>\n      <td>Malla vial</td>\n      <td>CL  044   59,  060 00000</td>\n      <td>Atropello</td>\n      <td>[-75.5781789259, 6.24722232125]</td>\n      <td>9.0</td>\n      <td>2017.0</td>\n      <td>La Candelaria</td>\n      <td>[u'incidentes']</td>\n      <td>CL 44 entre CR 59 y 60</td>\n      <td>Operador2</td>\n      <td>C:/ELK/logstash-6.5.1/data/Medata/Incidentes/I...</td>\n      <td>10</td>\n      <td>NaN</td>\n      <td>Corazón de Jesús</td>\n      <td>Con muertos</td>\n      <td>2017-09-06T10:45:00.000Z</td>\n      <td>1182813.77</td>\n      <td>833912.85</td>\n      <td>1.0</td>\n      <td>185160.0</td>\n      <td>NaN</td>\n      <td>2017-09-06</td>\n      <td>10</td>\n    </tr>\n  </tbody>\n</table>\n</div>"
     },
     "metadata": {},
     "execution_count": 124
    }
   ],
   "source": [
    "df[df.radicado.isna()] # check the number of nulls"
   ]
  },
  {
   "cell_type": "code",
   "execution_count": 125,
   "metadata": {},
   "outputs": [],
   "source": [
    "agg_df = agg_df[~agg_df.radicado.isna()]\n",
    "df=df[~df.radicado.isna()]\n",
    "dtype = dict(radicado=str)\n",
    "agg_df.radicado = agg_df.radicado.astype(dtype)\n",
    "df.radicado = df.radicado.astype(dtype)\n",
    "agg_df.radicado = agg_df.radicado.str.strip()\n",
    "agg_df.radicado = agg_df.radicado.str.replace(\"(\\d+)(.0)*\",\"\\\\1\") #.dtype #.sort_values(by=\"radicado\", ascending=False)\n",
    "agg_df.radicado = agg_df.radicado.str.replace(\"^(0+)(\\d+)\", \"\\\\2\")\n",
    "df.radicado = df.radicado.str.strip()\n",
    "df.radicado = df.radicado.str.replace(\"(\\d+)(.0)*\",\"\\\\1\")"
   ]
  },
  {
   "cell_type": "code",
   "execution_count": 126,
   "metadata": {},
   "outputs": [
    {
     "output_type": "execute_result",
     "data": {
      "text/plain": "'2019-10-01T04:20:00.000Z'"
     },
     "metadata": {},
     "execution_count": 126
    }
   ],
   "source": [
    "df.fecha.max()"
   ]
  },
  {
   "cell_type": "code",
   "execution_count": 131,
   "metadata": {},
   "outputs": [
    {
     "output_type": "execute_result",
     "data": {
      "text/plain": "                       timestamp         cbml  expediente  \\\n262153  2019-11-07T16:07:39.311Z          103  A001002056   \n262150  2019-11-07T16:07:39.311Z         1102  A001002214   \n262168  2019-11-07T16:07:39.312Z          607  A001002310   \n262162  2019-11-07T16:07:39.312Z          312  A001002302   \n262160  2019-11-07T16:07:39.312Z          NaN  A001002169   \n...                          ...          ...         ...   \n12089   2019-06-04T20:44:08.013Z  3.02021e+09    A1485619   \n143894  2019-06-04T20:53:18.109Z  6.08101e+09  A000497560   \n9909    2019-06-04T20:44:08.014Z  1.50304e+10    A1485792   \n12090   2019-06-04T20:44:08.014Z  1.62002e+10    A1485790   \n183864  2019-06-04T20:54:47.826Z          NaN  A000773529   \n\n                     tipo_geocode                 direccion_enc      clase  \\\n262153                 Malla vial  CR  043 A   110 B  000 00000  Atropello   \n262150                 Malla vial    CR  066   048 D  000 00000     Choque   \n262168                 Malla vial    CR  083   091 A  000 00000     Choque   \n262162                 Malla vial  CR  023 B   084 B  000 00000     Choque   \n262160                 No Ubicada      CR  067   025  000 00000     Choque   \n...                           ...                           ...        ...   \n12089       Catastro con Interior    CR  039   085 A  035 00000     Choque   \n143894      Catastro con Interior    CR  083   101 A  021 00000  Atropello   \n9909        Catastro con Interior    CL  025   065 C  050 00000  Atropello   \n12090   Nomenclatura con Interior      CL  033   078  177 00000  Atropello   \n183864                 No Ubicada      CR  063   091  000 00000     Choque   \n\n                           x_long_y_lat  mes  periodo            comuna  \\\n262153  [-75.5478922382, 6.29966416516]  6.0   2019.0           Popular   \n262150  [-75.5829966564, 6.25459513351]  6.0   2019.0  Laureles Estadio   \n262168  [-75.5849391248, 6.28861482868]  7.0   2019.0   Doce de Octubre   \n262162  [-75.5378038865, 6.27686386215]  7.0   2019.0          Manrique   \n262160  [-75.7037762763, 6.22141524356]  7.0   2019.0           Sin Inf   \n...                                 ...  ...      ...               ...   \n12089   [-75.5477362391, 6.27745474338]  2.0   2014.0          Manrique   \n143894  [-75.5821690996, 6.30114194037]  2.0   2017.0   Doce de Octubre   \n9909    [-75.5855316677, 6.22630141567]  2.0   2014.0          Guayabal   \n12090   [-75.6000288989, 6.23861225192]  2.0   2014.0             Belén   \n183864  [-75.5692625703, 6.28324794971]  2.0   2018.0          Castilla   \n\n              incidente            direccion   operador  \\\n262153  [u'incidentes']     CR 43 A CL 110 B  Operador2   \n262150  [u'incidentes']        CR 66 CL 48 D  Operador2   \n262168  [u'incidentes']        CR 83 CL 91 A  Operador2   \n262162  [u'incidentes']      CR 23 B CL 84 B  Operador2   \n262160  [u'incidentes']          CR 67 CL 25  Operador2   \n...                 ...                  ...        ...   \n12089   [u'incidentes']   CR 39 CL 85 A - 35  Operador2   \n143894  [u'incidentes']  CR 83 CL 101 A - 21  Operador2   \n9909    [u'incidentes']   CL 25 CR 65 C - 50  Operador2   \n12090   [u'incidentes']    CL 33 CR 78 - 177  Operador2   \n183864  [u'incidentes']          CR 63 CL 91  Operador2   \n\n                                                     path  num_comuna  \\\n262153  C:/ELK/logstash-6.5.1/data/Medata/Incidentes/I...          01   \n262150  C:/ELK/logstash-6.5.1/data/Medata/Incidentes/I...          11   \n262168  C:/ELK/logstash-6.5.1/data/Medata/Incidentes/I...          06   \n262162  C:/ELK/logstash-6.5.1/data/Medata/Incidentes/I...          03   \n262160  C:/ELK/logstash-6.5.1/data/Medata/Incidentes/I...  No ubicada   \n...                                                   ...         ...   \n12089   C:/ELK/logstash-6.5.1/data/Medata/Incidentes/I...          03   \n143894  C:/ELK/logstash-6.5.1/data/Medata/Incidentes/I...          06   \n9909    C:/ELK/logstash-6.5.1/data/Medata/Incidentes/I...          15   \n12090   C:/ELK/logstash-6.5.1/data/Medata/Incidentes/I...          16   \n183864  C:/ELK/logstash-6.5.1/data/Medata/Incidentes/I...     Sin Inf   \n\n               diseno                  barrio     gravedad  \\\n262153   Tramo de via                 Popular  Con heridos   \n262150  Lote o Predio            Suramericana   Solo daños   \n262168   Tramo de via                 Kennedy   Solo daños   \n262162   Tramo de via                 Oriente   Solo daños   \n262160   Tramo de via                     NaN  Con heridos   \n...               ...                     ...          ...   \n12089             NaN             Las Granjas  Con muertos   \n143894            NaN                 Picacho  Con muertos   \n9909              NaN                Trinidad  Con muertos   \n12090             NaN  El Nogal-Los Almendros  Con muertos   \n183864            NaN               Oleoducto  Con muertos   \n\n                           fecha    y_magnamed       x_magnet  version  \\\n262153  2019-07-01T02:50:00.000Z  1.188606e+06  837281.840000      1.0   \n262150  2019-07-01T01:40:00.000Z  1.183631e+06  833381.860000      1.0   \n262168  2019-07-01T23:20:00.000Z  1.187395e+06  833177.650000      1.0   \n262162  2019-07-01T20:30:00.000Z  1.186080e+06  838391.450000      1.0   \n262160  2019-07-01T16:40:00.000Z  1.180000e+06  820000.000000      1.0   \n...                          ...           ...            ...      ...   \n12089   2014-02-24T08:03:00.000Z  1.186149e+06  837292.200000      1.0   \n143894  2017-02-12T01:30:00.000Z  1.188780e+06  833488.260000      1.0   \n9909    2014-02-24T12:30:00.000Z  1.180502e+06  833092.280000      1.0   \n12090   2014-02-24T12:15:00.000Z  1.181868e+06  831491.290000      1.0   \n183864  2018-02-28T15:10:00.000Z  1.186796e+06  834911.216066      1.0   \n\n              id radicado fecha_incidente hora_incidente  \n262153   10647.0  1676369      2019-07-01             02  \n262150   10641.0  1676437      2019-07-01             01  \n262168   10699.0  1676456      2019-07-01             23  \n262162   10686.0  1676461      2019-07-01             20  \n262160   10674.0  1676468      2019-07-01             16  \n...          ...      ...             ...            ...  \n12089     6512.0     9766      2014-02-24             08  \n143894  165498.0     9769      2017-02-12             01  \n9909      6513.0     9778      2014-02-24             12  \n12090     6515.0     9780      2014-02-24             12  \n183864  191784.0     9982      2018-02-28             15  \n\n[261875 rows x 26 columns]",
      "text/html": "<div>\n<style scoped>\n    .dataframe tbody tr th:only-of-type {\n        vertical-align: middle;\n    }\n\n    .dataframe tbody tr th {\n        vertical-align: top;\n    }\n\n    .dataframe thead th {\n        text-align: right;\n    }\n</style>\n<table border=\"1\" class=\"dataframe\">\n  <thead>\n    <tr style=\"text-align: right;\">\n      <th></th>\n      <th>timestamp</th>\n      <th>cbml</th>\n      <th>expediente</th>\n      <th>tipo_geocode</th>\n      <th>direccion_enc</th>\n      <th>clase</th>\n      <th>x_long_y_lat</th>\n      <th>mes</th>\n      <th>periodo</th>\n      <th>comuna</th>\n      <th>incidente</th>\n      <th>direccion</th>\n      <th>operador</th>\n      <th>path</th>\n      <th>num_comuna</th>\n      <th>diseno</th>\n      <th>barrio</th>\n      <th>gravedad</th>\n      <th>fecha</th>\n      <th>y_magnamed</th>\n      <th>x_magnet</th>\n      <th>version</th>\n      <th>id</th>\n      <th>radicado</th>\n      <th>fecha_incidente</th>\n      <th>hora_incidente</th>\n    </tr>\n  </thead>\n  <tbody>\n    <tr>\n      <th>262153</th>\n      <td>2019-11-07T16:07:39.311Z</td>\n      <td>103</td>\n      <td>A001002056</td>\n      <td>Malla vial</td>\n      <td>CR  043 A   110 B  000 00000</td>\n      <td>Atropello</td>\n      <td>[-75.5478922382, 6.29966416516]</td>\n      <td>6.0</td>\n      <td>2019.0</td>\n      <td>Popular</td>\n      <td>[u'incidentes']</td>\n      <td>CR 43 A CL 110 B</td>\n      <td>Operador2</td>\n      <td>C:/ELK/logstash-6.5.1/data/Medata/Incidentes/I...</td>\n      <td>01</td>\n      <td>Tramo de via</td>\n      <td>Popular</td>\n      <td>Con heridos</td>\n      <td>2019-07-01T02:50:00.000Z</td>\n      <td>1.188606e+06</td>\n      <td>837281.840000</td>\n      <td>1.0</td>\n      <td>10647.0</td>\n      <td>1676369</td>\n      <td>2019-07-01</td>\n      <td>02</td>\n    </tr>\n    <tr>\n      <th>262150</th>\n      <td>2019-11-07T16:07:39.311Z</td>\n      <td>1102</td>\n      <td>A001002214</td>\n      <td>Malla vial</td>\n      <td>CR  066   048 D  000 00000</td>\n      <td>Choque</td>\n      <td>[-75.5829966564, 6.25459513351]</td>\n      <td>6.0</td>\n      <td>2019.0</td>\n      <td>Laureles Estadio</td>\n      <td>[u'incidentes']</td>\n      <td>CR 66 CL 48 D</td>\n      <td>Operador2</td>\n      <td>C:/ELK/logstash-6.5.1/data/Medata/Incidentes/I...</td>\n      <td>11</td>\n      <td>Lote o Predio</td>\n      <td>Suramericana</td>\n      <td>Solo daños</td>\n      <td>2019-07-01T01:40:00.000Z</td>\n      <td>1.183631e+06</td>\n      <td>833381.860000</td>\n      <td>1.0</td>\n      <td>10641.0</td>\n      <td>1676437</td>\n      <td>2019-07-01</td>\n      <td>01</td>\n    </tr>\n    <tr>\n      <th>262168</th>\n      <td>2019-11-07T16:07:39.312Z</td>\n      <td>607</td>\n      <td>A001002310</td>\n      <td>Malla vial</td>\n      <td>CR  083   091 A  000 00000</td>\n      <td>Choque</td>\n      <td>[-75.5849391248, 6.28861482868]</td>\n      <td>7.0</td>\n      <td>2019.0</td>\n      <td>Doce de Octubre</td>\n      <td>[u'incidentes']</td>\n      <td>CR 83 CL 91 A</td>\n      <td>Operador2</td>\n      <td>C:/ELK/logstash-6.5.1/data/Medata/Incidentes/I...</td>\n      <td>06</td>\n      <td>Tramo de via</td>\n      <td>Kennedy</td>\n      <td>Solo daños</td>\n      <td>2019-07-01T23:20:00.000Z</td>\n      <td>1.187395e+06</td>\n      <td>833177.650000</td>\n      <td>1.0</td>\n      <td>10699.0</td>\n      <td>1676456</td>\n      <td>2019-07-01</td>\n      <td>23</td>\n    </tr>\n    <tr>\n      <th>262162</th>\n      <td>2019-11-07T16:07:39.312Z</td>\n      <td>312</td>\n      <td>A001002302</td>\n      <td>Malla vial</td>\n      <td>CR  023 B   084 B  000 00000</td>\n      <td>Choque</td>\n      <td>[-75.5378038865, 6.27686386215]</td>\n      <td>7.0</td>\n      <td>2019.0</td>\n      <td>Manrique</td>\n      <td>[u'incidentes']</td>\n      <td>CR 23 B CL 84 B</td>\n      <td>Operador2</td>\n      <td>C:/ELK/logstash-6.5.1/data/Medata/Incidentes/I...</td>\n      <td>03</td>\n      <td>Tramo de via</td>\n      <td>Oriente</td>\n      <td>Solo daños</td>\n      <td>2019-07-01T20:30:00.000Z</td>\n      <td>1.186080e+06</td>\n      <td>838391.450000</td>\n      <td>1.0</td>\n      <td>10686.0</td>\n      <td>1676461</td>\n      <td>2019-07-01</td>\n      <td>20</td>\n    </tr>\n    <tr>\n      <th>262160</th>\n      <td>2019-11-07T16:07:39.312Z</td>\n      <td>NaN</td>\n      <td>A001002169</td>\n      <td>No Ubicada</td>\n      <td>CR  067   025  000 00000</td>\n      <td>Choque</td>\n      <td>[-75.7037762763, 6.22141524356]</td>\n      <td>7.0</td>\n      <td>2019.0</td>\n      <td>Sin Inf</td>\n      <td>[u'incidentes']</td>\n      <td>CR 67 CL 25</td>\n      <td>Operador2</td>\n      <td>C:/ELK/logstash-6.5.1/data/Medata/Incidentes/I...</td>\n      <td>No ubicada</td>\n      <td>Tramo de via</td>\n      <td>NaN</td>\n      <td>Con heridos</td>\n      <td>2019-07-01T16:40:00.000Z</td>\n      <td>1.180000e+06</td>\n      <td>820000.000000</td>\n      <td>1.0</td>\n      <td>10674.0</td>\n      <td>1676468</td>\n      <td>2019-07-01</td>\n      <td>16</td>\n    </tr>\n    <tr>\n      <th>...</th>\n      <td>...</td>\n      <td>...</td>\n      <td>...</td>\n      <td>...</td>\n      <td>...</td>\n      <td>...</td>\n      <td>...</td>\n      <td>...</td>\n      <td>...</td>\n      <td>...</td>\n      <td>...</td>\n      <td>...</td>\n      <td>...</td>\n      <td>...</td>\n      <td>...</td>\n      <td>...</td>\n      <td>...</td>\n      <td>...</td>\n      <td>...</td>\n      <td>...</td>\n      <td>...</td>\n      <td>...</td>\n      <td>...</td>\n      <td>...</td>\n      <td>...</td>\n      <td>...</td>\n    </tr>\n    <tr>\n      <th>12089</th>\n      <td>2019-06-04T20:44:08.013Z</td>\n      <td>3.02021e+09</td>\n      <td>A1485619</td>\n      <td>Catastro con Interior</td>\n      <td>CR  039   085 A  035 00000</td>\n      <td>Choque</td>\n      <td>[-75.5477362391, 6.27745474338]</td>\n      <td>2.0</td>\n      <td>2014.0</td>\n      <td>Manrique</td>\n      <td>[u'incidentes']</td>\n      <td>CR 39 CL 85 A - 35</td>\n      <td>Operador2</td>\n      <td>C:/ELK/logstash-6.5.1/data/Medata/Incidentes/I...</td>\n      <td>03</td>\n      <td>NaN</td>\n      <td>Las Granjas</td>\n      <td>Con muertos</td>\n      <td>2014-02-24T08:03:00.000Z</td>\n      <td>1.186149e+06</td>\n      <td>837292.200000</td>\n      <td>1.0</td>\n      <td>6512.0</td>\n      <td>9766</td>\n      <td>2014-02-24</td>\n      <td>08</td>\n    </tr>\n    <tr>\n      <th>143894</th>\n      <td>2019-06-04T20:53:18.109Z</td>\n      <td>6.08101e+09</td>\n      <td>A000497560</td>\n      <td>Catastro con Interior</td>\n      <td>CR  083   101 A  021 00000</td>\n      <td>Atropello</td>\n      <td>[-75.5821690996, 6.30114194037]</td>\n      <td>2.0</td>\n      <td>2017.0</td>\n      <td>Doce de Octubre</td>\n      <td>[u'incidentes']</td>\n      <td>CR 83 CL 101 A - 21</td>\n      <td>Operador2</td>\n      <td>C:/ELK/logstash-6.5.1/data/Medata/Incidentes/I...</td>\n      <td>06</td>\n      <td>NaN</td>\n      <td>Picacho</td>\n      <td>Con muertos</td>\n      <td>2017-02-12T01:30:00.000Z</td>\n      <td>1.188780e+06</td>\n      <td>833488.260000</td>\n      <td>1.0</td>\n      <td>165498.0</td>\n      <td>9769</td>\n      <td>2017-02-12</td>\n      <td>01</td>\n    </tr>\n    <tr>\n      <th>9909</th>\n      <td>2019-06-04T20:44:08.014Z</td>\n      <td>1.50304e+10</td>\n      <td>A1485792</td>\n      <td>Catastro con Interior</td>\n      <td>CL  025   065 C  050 00000</td>\n      <td>Atropello</td>\n      <td>[-75.5855316677, 6.22630141567]</td>\n      <td>2.0</td>\n      <td>2014.0</td>\n      <td>Guayabal</td>\n      <td>[u'incidentes']</td>\n      <td>CL 25 CR 65 C - 50</td>\n      <td>Operador2</td>\n      <td>C:/ELK/logstash-6.5.1/data/Medata/Incidentes/I...</td>\n      <td>15</td>\n      <td>NaN</td>\n      <td>Trinidad</td>\n      <td>Con muertos</td>\n      <td>2014-02-24T12:30:00.000Z</td>\n      <td>1.180502e+06</td>\n      <td>833092.280000</td>\n      <td>1.0</td>\n      <td>6513.0</td>\n      <td>9778</td>\n      <td>2014-02-24</td>\n      <td>12</td>\n    </tr>\n    <tr>\n      <th>12090</th>\n      <td>2019-06-04T20:44:08.014Z</td>\n      <td>1.62002e+10</td>\n      <td>A1485790</td>\n      <td>Nomenclatura con Interior</td>\n      <td>CL  033   078  177 00000</td>\n      <td>Atropello</td>\n      <td>[-75.6000288989, 6.23861225192]</td>\n      <td>2.0</td>\n      <td>2014.0</td>\n      <td>Belén</td>\n      <td>[u'incidentes']</td>\n      <td>CL 33 CR 78 - 177</td>\n      <td>Operador2</td>\n      <td>C:/ELK/logstash-6.5.1/data/Medata/Incidentes/I...</td>\n      <td>16</td>\n      <td>NaN</td>\n      <td>El Nogal-Los Almendros</td>\n      <td>Con muertos</td>\n      <td>2014-02-24T12:15:00.000Z</td>\n      <td>1.181868e+06</td>\n      <td>831491.290000</td>\n      <td>1.0</td>\n      <td>6515.0</td>\n      <td>9780</td>\n      <td>2014-02-24</td>\n      <td>12</td>\n    </tr>\n    <tr>\n      <th>183864</th>\n      <td>2019-06-04T20:54:47.826Z</td>\n      <td>NaN</td>\n      <td>A000773529</td>\n      <td>No Ubicada</td>\n      <td>CR  063   091  000 00000</td>\n      <td>Choque</td>\n      <td>[-75.5692625703, 6.28324794971]</td>\n      <td>2.0</td>\n      <td>2018.0</td>\n      <td>Castilla</td>\n      <td>[u'incidentes']</td>\n      <td>CR 63 CL 91</td>\n      <td>Operador2</td>\n      <td>C:/ELK/logstash-6.5.1/data/Medata/Incidentes/I...</td>\n      <td>Sin Inf</td>\n      <td>NaN</td>\n      <td>Oleoducto</td>\n      <td>Con muertos</td>\n      <td>2018-02-28T15:10:00.000Z</td>\n      <td>1.186796e+06</td>\n      <td>834911.216066</td>\n      <td>1.0</td>\n      <td>191784.0</td>\n      <td>9982</td>\n      <td>2018-02-28</td>\n      <td>15</td>\n    </tr>\n  </tbody>\n</table>\n<p>261875 rows × 26 columns</p>\n</div>"
     },
     "metadata": {},
     "execution_count": 131
    }
   ],
   "source": [
    "df.shape\n",
    "df\n",
    "# r = df[(df.cbml.isna()) & (df.x_long_y_lat == '[-75.7037762763, 6.22141524356]') ][['x_long_y_lat','barrio','comuna','direccion','direccion_enc','cbml']]\n",
    "# r"
   ]
  },
  {
   "cell_type": "code",
   "execution_count": 128,
   "metadata": {},
   "outputs": [
    {
     "output_type": "error",
     "ename": "AttributeError",
     "evalue": "'float' object has no attribute 'encode'",
     "traceback": [
      "\u001b[0;31m---------------------------------------------------------------------------\u001b[0m",
      "\u001b[0;31mAttributeError\u001b[0m                            Traceback (most recent call last)",
      "\u001b[0;32m<ipython-input-128-e20d6af22c11>\u001b[0m in \u001b[0;36m<module>\u001b[0;34m\u001b[0m\n\u001b[0;32m----> 1\u001b[0;31m \u001b[0mdf\u001b[0m\u001b[0;34m.\u001b[0m\u001b[0mclase\u001b[0m \u001b[0;34m=\u001b[0m \u001b[0mdf\u001b[0m\u001b[0;34m.\u001b[0m\u001b[0mclase\u001b[0m\u001b[0;34m.\u001b[0m\u001b[0mapply\u001b[0m\u001b[0;34m(\u001b[0m\u001b[0;32mlambda\u001b[0m \u001b[0mx\u001b[0m\u001b[0;34m:\u001b[0m \u001b[0munidecode\u001b[0m\u001b[0;34m(\u001b[0m\u001b[0mx\u001b[0m\u001b[0;34m)\u001b[0m\u001b[0;34m.\u001b[0m\u001b[0mlower\u001b[0m\u001b[0;34m(\u001b[0m\u001b[0;34m)\u001b[0m\u001b[0;34m.\u001b[0m\u001b[0mstrip\u001b[0m\u001b[0;34m(\u001b[0m\u001b[0;34m)\u001b[0m\u001b[0;34m.\u001b[0m\u001b[0mreplace\u001b[0m\u001b[0;34m(\u001b[0m\u001b[0;34m' de '\u001b[0m\u001b[0;34m,\u001b[0m\u001b[0;34m' '\u001b[0m\u001b[0;34m)\u001b[0m\u001b[0;34m)\u001b[0m\u001b[0;34m\u001b[0m\u001b[0;34m\u001b[0m\u001b[0m\n\u001b[0m",
      "\u001b[0;32m~/Projects/ds4a-practicum/.venv/lib/python3.7/site-packages/pandas/core/series.py\u001b[0m in \u001b[0;36mapply\u001b[0;34m(self, func, convert_dtype, args, **kwds)\u001b[0m\n\u001b[1;32m   3846\u001b[0m             \u001b[0;32melse\u001b[0m\u001b[0;34m:\u001b[0m\u001b[0;34m\u001b[0m\u001b[0;34m\u001b[0m\u001b[0m\n\u001b[1;32m   3847\u001b[0m                 \u001b[0mvalues\u001b[0m \u001b[0;34m=\u001b[0m \u001b[0mself\u001b[0m\u001b[0;34m.\u001b[0m\u001b[0mastype\u001b[0m\u001b[0;34m(\u001b[0m\u001b[0mobject\u001b[0m\u001b[0;34m)\u001b[0m\u001b[0;34m.\u001b[0m\u001b[0mvalues\u001b[0m\u001b[0;34m\u001b[0m\u001b[0;34m\u001b[0m\u001b[0m\n\u001b[0;32m-> 3848\u001b[0;31m                 \u001b[0mmapped\u001b[0m \u001b[0;34m=\u001b[0m \u001b[0mlib\u001b[0m\u001b[0;34m.\u001b[0m\u001b[0mmap_infer\u001b[0m\u001b[0;34m(\u001b[0m\u001b[0mvalues\u001b[0m\u001b[0;34m,\u001b[0m \u001b[0mf\u001b[0m\u001b[0;34m,\u001b[0m \u001b[0mconvert\u001b[0m\u001b[0;34m=\u001b[0m\u001b[0mconvert_dtype\u001b[0m\u001b[0;34m)\u001b[0m\u001b[0;34m\u001b[0m\u001b[0;34m\u001b[0m\u001b[0m\n\u001b[0m\u001b[1;32m   3849\u001b[0m \u001b[0;34m\u001b[0m\u001b[0m\n\u001b[1;32m   3850\u001b[0m         \u001b[0;32mif\u001b[0m \u001b[0mlen\u001b[0m\u001b[0;34m(\u001b[0m\u001b[0mmapped\u001b[0m\u001b[0;34m)\u001b[0m \u001b[0;32mand\u001b[0m \u001b[0misinstance\u001b[0m\u001b[0;34m(\u001b[0m\u001b[0mmapped\u001b[0m\u001b[0;34m[\u001b[0m\u001b[0;36m0\u001b[0m\u001b[0;34m]\u001b[0m\u001b[0;34m,\u001b[0m \u001b[0mSeries\u001b[0m\u001b[0;34m)\u001b[0m\u001b[0;34m:\u001b[0m\u001b[0;34m\u001b[0m\u001b[0;34m\u001b[0m\u001b[0m\n",
      "\u001b[0;32mpandas/_libs/lib.pyx\u001b[0m in \u001b[0;36mpandas._libs.lib.map_infer\u001b[0;34m()\u001b[0m\n",
      "\u001b[0;32m<ipython-input-128-e20d6af22c11>\u001b[0m in \u001b[0;36m<lambda>\u001b[0;34m(x)\u001b[0m\n\u001b[0;32m----> 1\u001b[0;31m \u001b[0mdf\u001b[0m\u001b[0;34m.\u001b[0m\u001b[0mclase\u001b[0m \u001b[0;34m=\u001b[0m \u001b[0mdf\u001b[0m\u001b[0;34m.\u001b[0m\u001b[0mclase\u001b[0m\u001b[0;34m.\u001b[0m\u001b[0mapply\u001b[0m\u001b[0;34m(\u001b[0m\u001b[0;32mlambda\u001b[0m \u001b[0mx\u001b[0m\u001b[0;34m:\u001b[0m \u001b[0munidecode\u001b[0m\u001b[0;34m(\u001b[0m\u001b[0mx\u001b[0m\u001b[0;34m)\u001b[0m\u001b[0;34m.\u001b[0m\u001b[0mlower\u001b[0m\u001b[0;34m(\u001b[0m\u001b[0;34m)\u001b[0m\u001b[0;34m.\u001b[0m\u001b[0mstrip\u001b[0m\u001b[0;34m(\u001b[0m\u001b[0;34m)\u001b[0m\u001b[0;34m.\u001b[0m\u001b[0mreplace\u001b[0m\u001b[0;34m(\u001b[0m\u001b[0;34m' de '\u001b[0m\u001b[0;34m,\u001b[0m\u001b[0;34m' '\u001b[0m\u001b[0;34m)\u001b[0m\u001b[0;34m)\u001b[0m\u001b[0;34m\u001b[0m\u001b[0;34m\u001b[0m\u001b[0m\n\u001b[0m",
      "\u001b[0;32m~/Projects/ds4a-practicum/.venv/lib/python3.7/site-packages/unidecode/__init__.py\u001b[0m in \u001b[0;36munidecode_expect_ascii\u001b[0;34m(string)\u001b[0m\n\u001b[1;32m     46\u001b[0m     \u001b[0m_warn_if_not_unicode\u001b[0m\u001b[0;34m(\u001b[0m\u001b[0mstring\u001b[0m\u001b[0;34m)\u001b[0m\u001b[0;34m\u001b[0m\u001b[0;34m\u001b[0m\u001b[0m\n\u001b[1;32m     47\u001b[0m     \u001b[0;32mtry\u001b[0m\u001b[0;34m:\u001b[0m\u001b[0;34m\u001b[0m\u001b[0;34m\u001b[0m\u001b[0m\n\u001b[0;32m---> 48\u001b[0;31m         \u001b[0mbytestring\u001b[0m \u001b[0;34m=\u001b[0m \u001b[0mstring\u001b[0m\u001b[0;34m.\u001b[0m\u001b[0mencode\u001b[0m\u001b[0;34m(\u001b[0m\u001b[0;34m'ASCII'\u001b[0m\u001b[0;34m)\u001b[0m\u001b[0;34m\u001b[0m\u001b[0;34m\u001b[0m\u001b[0m\n\u001b[0m\u001b[1;32m     49\u001b[0m     \u001b[0;32mexcept\u001b[0m \u001b[0mUnicodeEncodeError\u001b[0m\u001b[0;34m:\u001b[0m\u001b[0;34m\u001b[0m\u001b[0;34m\u001b[0m\u001b[0m\n\u001b[1;32m     50\u001b[0m         \u001b[0;32mreturn\u001b[0m \u001b[0m_unidecode\u001b[0m\u001b[0;34m(\u001b[0m\u001b[0mstring\u001b[0m\u001b[0;34m)\u001b[0m\u001b[0;34m\u001b[0m\u001b[0;34m\u001b[0m\u001b[0m\n",
      "\u001b[0;31mAttributeError\u001b[0m: 'float' object has no attribute 'encode'"
     ]
    }
   ],
   "source": [
    "df.clase = df.clase.apply(lambda x: unidecode(x).lower().strip().replace(' de ',' '))"
   ]
  },
  {
   "cell_type": "code",
   "execution_count": 129,
   "metadata": {},
   "outputs": [],
   "source": [
    "df.to_csv(\"../processed/preprocessed_accidents.csv\",index=False)"
   ]
  },
  {
   "cell_type": "code",
   "execution_count": null,
   "metadata": {},
   "outputs": [],
   "source": []
  }
 ],
 "metadata": {
  "language_info": {
   "codemirror_mode": {
    "name": "ipython",
    "version": 3
   },
   "file_extension": ".py",
   "mimetype": "text/x-python",
   "name": "python",
   "nbconvert_exporter": "python",
   "pygments_lexer": "ipython3",
   "version": "3.7.7-final"
  },
  "orig_nbformat": 2,
  "kernelspec": {
   "name": "python_defaultSpec_1594574675805",
   "display_name": "Python 3.7.7 64-bit ('.venv': venv)"
  }
 },
 "nbformat": 4,
 "nbformat_minor": 2
}