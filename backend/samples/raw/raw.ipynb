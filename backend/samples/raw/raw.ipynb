{
 "cells": [
  {
   "cell_type": "markdown",
   "metadata": {},
   "source": [
    "# TITLE"
   ]
  },
  {
   "cell_type": "markdown",
   "metadata": {},
   "source": [
    "We downloaded the files from: <br>\n",
    "accidentalidad.csv: http://medata.gov.co/dataset/accidentalidad \n",
    "<br>\n",
    "AccidentalidadgeoreferenciadaYYYY:\n",
    "<br>\n",
    "http://medata.gov.co/dataset/accidentalidad-geo-referenciada-2019\n",
    "http://medata.gov.co/dataset/accidentalidad-geo-referenciada-2018\n",
    "http://medata.gov.co/dataset/accidentalidad-geo-referenciada-2017\n",
    "http://medata.gov.co/dataset/accidentalidad-geo-referenciada-2016\n",
    "http://medata.gov.co/dataset/accidentalidad-geo-referenciada-2015\n",
    "http://medata.gov.co/dataset/accidentalidad-geo-referenciada-2014\n",
    "<br>\n",
    "\n",
    "To ingest about dataset we decided to use two different dataframes, ```df``` to aggregate the differents files by year and include the incident time wich is not included in the ```agg_df```, so we use these two dataframes to verify the integrity of the datasets and build one dataset with all the information we need.\n",
    "\n",
    "In the following code we clean and merge the datasets:"
   ]
  },
  {
   "cell_type": "code",
   "execution_count": 102,
   "metadata": {},
   "outputs": [],
   "source": [
    "import pandas as pd\n",
    "from ast import literal_eval\n",
    "from unidecode import unidecode\n",
    "pd.options.display.max_columns = None\n",
    "\n",
    "# agg_df: yearly file\n",
    "agg_df = pd.DataFrame()\n",
    "path = \"./\"\n",
    "for  file in os.listdir(path):\n",
    "    if (file.split(\".\")[-1] == \"csv\") and (file != 'accidentalidad.csv'):\n",
    "        df_tmp = pd.read_csv(os.path.join(path, file))\n",
    "        df_tmp.columns = [c.lower() for c in df_tmp.columns]\n",
    "        df_tmp['file'] = file\n",
    "        agg_df = pd.concat([agg_df, df_tmp])"
   ]
  },
  {
   "cell_type": "code",
   "execution_count": 103,
   "metadata": {},
   "outputs": [
    {
     "output_type": "execute_result",
     "data": {
      "text/plain": "Index(['x', 'y', 'objectid', 'radicado', 'fecha', 'hora', 'dia', 'periodo',\n       'clase', 'direccion', 'direccion_enc', 'cbml', 'tipo_geocod',\n       'gravedad', 'barrio', 'comuna', 'diseno', 'dia_nombre', 'mes',\n       'mes_nombre', 'x_magnamed', 'y_magnamed', 'longitud', 'latitud', 'file',\n       'shape'],\n      dtype='object')"
     },
     "metadata": {},
     "execution_count": 103
    }
   ],
   "source": [
    "agg_df.columns"
   ]
  },
  {
   "cell_type": "markdown",
   "metadata": {},
   "source": [
    "## How did you merge the two DataFrames (aggregated data from 2014-2019 and accidentalidad.csv)"
   ]
  },
  {
   "cell_type": "code",
   "execution_count": 104,
   "metadata": {},
   "outputs": [
    {
     "output_type": "execute_result",
     "data": {
      "text/plain": "                          0     1           2   \\\n0   2019-06-04T20:44:15.587Z   NaN  A000010886   \n1   2019-06-04T20:44:15.588Z   809  A000010843   \n2   2019-06-04T20:44:15.588Z   NaN  A000010821   \n3   2019-06-04T20:44:15.588Z   514  A000010849   \n4   2019-06-04T20:44:15.589Z  1621  A000010855   \n5   2019-06-04T20:44:15.589Z  6098  A000010826   \n6   2019-06-04T20:44:15.589Z  1101  A000010917   \n7   2019-06-04T20:44:15.589Z  1318  A000010841   \n8   2019-06-04T20:44:15.590Z   307  A000010916   \n9   2019-06-04T20:44:15.590Z  1013  A000010992   \n10  2019-06-04T20:44:15.590Z   309  A000010991   \n11  2019-06-04T20:44:15.590Z   301  A000010896   \n12  2019-06-04T20:44:15.590Z   710  A000010899   \n13  2019-06-04T20:44:15.590Z   308  A000010884   \n14  2019-06-04T20:44:15.590Z   410  A000011099   \n\n                                 3                           4   \\\n0                        No Ubicada                           0   \n1                        Malla vial  CL  052 A   032  000 00000   \n2                        No Ubicada                           0   \n3                        Malla vial  CR  073 B   091  000 00000   \n4                        Malla vial  CR  053   030 A  000 00000   \n5                        Malla vial    CR  104   064  000 00000   \n6                        Malla vial    CR  065   051  000 00000   \n7                        Malla vial    CL  044   105  000 00000   \n8   Malla vial aproximada: CR 45-67    CR  046   067  000 00000   \n9                        Malla vial    CR  045   048  000 00000   \n10                       Malla vial    CL  069   027  000 00000   \n11                       Malla vial  CL  092   044 A  000 00000   \n12                       Malla vial    CL  080   076  000 00000   \n13                       Malla vial    CR  041   068  000 00000   \n14                       Malla vial    CR  046   084  000 00000   \n\n                   5                                6    7       8   \\\n0           Atropello  [-75.7037762763, 6.22141524356]  3.0  2014.0   \n1   Caída de Ocupante  [-75.5534544709, 6.24349597268]  3.0  2014.0   \n2   Caída de Ocupante  [-75.7037762763, 6.22141524356]  3.0  2014.0   \n3           Atropello  [-75.5792346017, 6.28690605219]  3.0  2014.0   \n4                Otro  [-75.5778859663, 6.23258248117]  3.0  2014.0   \n5   Caída de Ocupante    [-75.6151738325, 6.281156378]  3.0  2014.0   \n6              Choque    [-75.58085586, 6.25657541199]  3.0  2014.0   \n7              Choque  [-75.6200332483, 6.25681851817]  3.0  2014.0   \n8   Caída de Ocupante   [-75.5555813857, 6.2631762147]  3.0  2014.0   \n9   Caída de Ocupante   [-75.568553277, 6.24524859423]  3.0  2014.0   \n10          Atropello  [-75.5419347915, 6.26338939586]  3.0  2014.0   \n11          Atropello  [-75.5521141628, 6.28311328446]  3.0  2014.0   \n12               Otro   [-75.5832037595, 6.2834307746]  3.0  2014.0   \n13               Otro  [-75.5520280221, 6.26336411263]  3.0  2014.0   \n14             Choque  [-75.5546384131, 6.27639159676]  3.0  2014.0   \n\n                                9                10                     11  \\\n0                              NaN  [u'incidentes']  Tramo 9 Kilometro 999   \n1                    Villa Hermosa  [u'incidentes']          CL 52 A CR 32   \n2                              NaN  [u'incidentes']            CR 62 CL 84   \n3                         Castilla  [u'incidentes']          CR 73 B CL 91   \n4                            Belén  [u'incidentes']          CR 53 CL 30 A   \n5   Corregimiento de San Cristóbal  [u'incidentes']           CR 104 CL 64   \n6                 Laureles Estadio  [u'incidentes']            CR 65 CL 51   \n7                       San Javier  [u'incidentes']           CL 44 CR 105   \n8                         Manrique  [u'incidentes']            CR 46 CL 67   \n9                    La Candelaria  [u'incidentes']            CR 45 CL 48   \n10                        Manrique  [u'incidentes']            CL 69 CR 27   \n11                        Manrique  [u'incidentes']          CL 92 CR 44 A   \n12                         Robledo  [u'incidentes']            CL 80 CR 76   \n13                        Manrique  [u'incidentes']            CR 41 CL 68   \n14                        Aranjuez  [u'incidentes']            CR 46 CL 84   \n\n           12                                                 13       14  \\\n0   Operador2  C:/ELK/logstash-6.5.1/data/Medata/Incidentes/I...  Sin Inf   \n1   Operador2  C:/ELK/logstash-6.5.1/data/Medata/Incidentes/I...       08   \n2   Operador2  C:/ELK/logstash-6.5.1/data/Medata/Incidentes/I...  Sin Inf   \n3   Operador2  C:/ELK/logstash-6.5.1/data/Medata/Incidentes/I...       05   \n4   Operador2  C:/ELK/logstash-6.5.1/data/Medata/Incidentes/I...       16   \n5   Operador2  C:/ELK/logstash-6.5.1/data/Medata/Incidentes/I...       60   \n6   Operador2  C:/ELK/logstash-6.5.1/data/Medata/Incidentes/I...       11   \n7   Operador2  C:/ELK/logstash-6.5.1/data/Medata/Incidentes/I...       13   \n8   Operador2  C:/ELK/logstash-6.5.1/data/Medata/Incidentes/I...       03   \n9   Operador2  C:/ELK/logstash-6.5.1/data/Medata/Incidentes/I...       10   \n10  Operador2  C:/ELK/logstash-6.5.1/data/Medata/Incidentes/I...       03   \n11  Operador2  C:/ELK/logstash-6.5.1/data/Medata/Incidentes/I...       03   \n12  Operador2  C:/ELK/logstash-6.5.1/data/Medata/Incidentes/I...       07   \n13  Operador2  C:/ELK/logstash-6.5.1/data/Medata/Incidentes/I...       03   \n14  Operador2  C:/ELK/logstash-6.5.1/data/Medata/Incidentes/I...       04   \n\n              15                          16           17  \\\n0   Tramo de via                         NaN  Con heridos   \n1   Tramo de via                       Sucre  Con heridos   \n2   Tramo de via                         NaN  Con heridos   \n3   Tramo de via               Alfonso López  Con heridos   \n4   Tramo de via              Cerro Nutibara  Con heridos   \n5   Tramo de via  Área de Expansión Pajarito  Con heridos   \n6   Tramo de via          Carlos E. Restrepo  Con heridos   \n7   Tramo de via              Antonio Nariño  Con heridos   \n8   Tramo de via      Manrique Central No. 2  Con heridos   \n9   Tramo de via                Barrio Colón  Con heridos   \n10  Tramo de via             Versalles No. 1  Con heridos   \n11  Tramo de via                    La Salle  Con heridos   \n12  Tramo de via               López de Mesa  Con heridos   \n13  Tramo de via           Manrique Oriental  Con heridos   \n14  Tramo de via          Campo Valdés No. 1  Con heridos   \n\n                          18          19         20   21      22       23  \n0   2014-03-12T10:30:00.000Z  1180000.00  820000.00  1.0  8626.0  1432623  \n1   2014-03-12T10:00:00.000Z  1182393.81  836648.68  1.0  8628.0  1432625  \n2   2014-03-13T00:20:00.000Z  1180000.00  820000.00  1.0  8630.0  1432627  \n3   2014-03-12T23:00:00.000Z  1187204.11  833808.55  1.0  8632.0  1432630  \n4   2014-03-13T04:50:00.000Z  1181194.15  833940.67  1.0  8639.0  1432637  \n5   2014-03-13T01:00:00.000Z  1186579.60  829828.47  1.0  8642.0  1432640  \n6   2014-03-12T15:00:00.000Z  1183849.30  833619.47  1.0  8649.0  1432721  \n7   2014-03-12T23:00:00.000Z  1183888.76  829282.64  1.0  8650.0  1432722  \n8   2014-03-12T17:00:00.000Z  1184571.57  836419.35  1.0  8659.0  1432732  \n9   2014-03-12T16:30:00.000Z  1182592.40  834977.79  1.0  8663.0  1432736  \n10  2014-03-12T23:00:00.000Z  1184590.92  837930.03  1.0  8666.0  1432739  \n11  2014-03-12T11:20:00.000Z  1186776.00  836809.36  1.0  8667.0  1432748  \n12  2014-03-12T12:30:00.000Z  1186820.92  833368.09  1.0  8668.0  1432749  \n13  2014-03-12T09:30:00.000Z  1184591.25  836812.75  1.0  8669.0  1432751  \n14  2014-03-12T17:00:00.000Z  1186033.21  836527.85  1.0  8670.0  1432752  ",
      "text/html": "<div>\n<style scoped>\n    .dataframe tbody tr th:only-of-type {\n        vertical-align: middle;\n    }\n\n    .dataframe tbody tr th {\n        vertical-align: top;\n    }\n\n    .dataframe thead th {\n        text-align: right;\n    }\n</style>\n<table border=\"1\" class=\"dataframe\">\n  <thead>\n    <tr style=\"text-align: right;\">\n      <th></th>\n      <th>0</th>\n      <th>1</th>\n      <th>2</th>\n      <th>3</th>\n      <th>4</th>\n      <th>5</th>\n      <th>6</th>\n      <th>7</th>\n      <th>8</th>\n      <th>9</th>\n      <th>10</th>\n      <th>11</th>\n      <th>12</th>\n      <th>13</th>\n      <th>14</th>\n      <th>15</th>\n      <th>16</th>\n      <th>17</th>\n      <th>18</th>\n      <th>19</th>\n      <th>20</th>\n      <th>21</th>\n      <th>22</th>\n      <th>23</th>\n    </tr>\n  </thead>\n  <tbody>\n    <tr>\n      <th>0</th>\n      <td>2019-06-04T20:44:15.587Z</td>\n      <td>NaN</td>\n      <td>A000010886</td>\n      <td>No Ubicada</td>\n      <td>0</td>\n      <td>Atropello</td>\n      <td>[-75.7037762763, 6.22141524356]</td>\n      <td>3.0</td>\n      <td>2014.0</td>\n      <td>NaN</td>\n      <td>[u'incidentes']</td>\n      <td>Tramo 9 Kilometro 999</td>\n      <td>Operador2</td>\n      <td>C:/ELK/logstash-6.5.1/data/Medata/Incidentes/I...</td>\n      <td>Sin Inf</td>\n      <td>Tramo de via</td>\n      <td>NaN</td>\n      <td>Con heridos</td>\n      <td>2014-03-12T10:30:00.000Z</td>\n      <td>1180000.00</td>\n      <td>820000.00</td>\n      <td>1.0</td>\n      <td>8626.0</td>\n      <td>1432623</td>\n    </tr>\n    <tr>\n      <th>1</th>\n      <td>2019-06-04T20:44:15.588Z</td>\n      <td>809</td>\n      <td>A000010843</td>\n      <td>Malla vial</td>\n      <td>CL  052 A   032  000 00000</td>\n      <td>Caída de Ocupante</td>\n      <td>[-75.5534544709, 6.24349597268]</td>\n      <td>3.0</td>\n      <td>2014.0</td>\n      <td>Villa Hermosa</td>\n      <td>[u'incidentes']</td>\n      <td>CL 52 A CR 32</td>\n      <td>Operador2</td>\n      <td>C:/ELK/logstash-6.5.1/data/Medata/Incidentes/I...</td>\n      <td>08</td>\n      <td>Tramo de via</td>\n      <td>Sucre</td>\n      <td>Con heridos</td>\n      <td>2014-03-12T10:00:00.000Z</td>\n      <td>1182393.81</td>\n      <td>836648.68</td>\n      <td>1.0</td>\n      <td>8628.0</td>\n      <td>1432625</td>\n    </tr>\n    <tr>\n      <th>2</th>\n      <td>2019-06-04T20:44:15.588Z</td>\n      <td>NaN</td>\n      <td>A000010821</td>\n      <td>No Ubicada</td>\n      <td>0</td>\n      <td>Caída de Ocupante</td>\n      <td>[-75.7037762763, 6.22141524356]</td>\n      <td>3.0</td>\n      <td>2014.0</td>\n      <td>NaN</td>\n      <td>[u'incidentes']</td>\n      <td>CR 62 CL 84</td>\n      <td>Operador2</td>\n      <td>C:/ELK/logstash-6.5.1/data/Medata/Incidentes/I...</td>\n      <td>Sin Inf</td>\n      <td>Tramo de via</td>\n      <td>NaN</td>\n      <td>Con heridos</td>\n      <td>2014-03-13T00:20:00.000Z</td>\n      <td>1180000.00</td>\n      <td>820000.00</td>\n      <td>1.0</td>\n      <td>8630.0</td>\n      <td>1432627</td>\n    </tr>\n    <tr>\n      <th>3</th>\n      <td>2019-06-04T20:44:15.588Z</td>\n      <td>514</td>\n      <td>A000010849</td>\n      <td>Malla vial</td>\n      <td>CR  073 B   091  000 00000</td>\n      <td>Atropello</td>\n      <td>[-75.5792346017, 6.28690605219]</td>\n      <td>3.0</td>\n      <td>2014.0</td>\n      <td>Castilla</td>\n      <td>[u'incidentes']</td>\n      <td>CR 73 B CL 91</td>\n      <td>Operador2</td>\n      <td>C:/ELK/logstash-6.5.1/data/Medata/Incidentes/I...</td>\n      <td>05</td>\n      <td>Tramo de via</td>\n      <td>Alfonso López</td>\n      <td>Con heridos</td>\n      <td>2014-03-12T23:00:00.000Z</td>\n      <td>1187204.11</td>\n      <td>833808.55</td>\n      <td>1.0</td>\n      <td>8632.0</td>\n      <td>1432630</td>\n    </tr>\n    <tr>\n      <th>4</th>\n      <td>2019-06-04T20:44:15.589Z</td>\n      <td>1621</td>\n      <td>A000010855</td>\n      <td>Malla vial</td>\n      <td>CR  053   030 A  000 00000</td>\n      <td>Otro</td>\n      <td>[-75.5778859663, 6.23258248117]</td>\n      <td>3.0</td>\n      <td>2014.0</td>\n      <td>Belén</td>\n      <td>[u'incidentes']</td>\n      <td>CR 53 CL 30 A</td>\n      <td>Operador2</td>\n      <td>C:/ELK/logstash-6.5.1/data/Medata/Incidentes/I...</td>\n      <td>16</td>\n      <td>Tramo de via</td>\n      <td>Cerro Nutibara</td>\n      <td>Con heridos</td>\n      <td>2014-03-13T04:50:00.000Z</td>\n      <td>1181194.15</td>\n      <td>833940.67</td>\n      <td>1.0</td>\n      <td>8639.0</td>\n      <td>1432637</td>\n    </tr>\n    <tr>\n      <th>5</th>\n      <td>2019-06-04T20:44:15.589Z</td>\n      <td>6098</td>\n      <td>A000010826</td>\n      <td>Malla vial</td>\n      <td>CR  104   064  000 00000</td>\n      <td>Caída de Ocupante</td>\n      <td>[-75.6151738325, 6.281156378]</td>\n      <td>3.0</td>\n      <td>2014.0</td>\n      <td>Corregimiento de San Cristóbal</td>\n      <td>[u'incidentes']</td>\n      <td>CR 104 CL 64</td>\n      <td>Operador2</td>\n      <td>C:/ELK/logstash-6.5.1/data/Medata/Incidentes/I...</td>\n      <td>60</td>\n      <td>Tramo de via</td>\n      <td>Área de Expansión Pajarito</td>\n      <td>Con heridos</td>\n      <td>2014-03-13T01:00:00.000Z</td>\n      <td>1186579.60</td>\n      <td>829828.47</td>\n      <td>1.0</td>\n      <td>8642.0</td>\n      <td>1432640</td>\n    </tr>\n    <tr>\n      <th>6</th>\n      <td>2019-06-04T20:44:15.589Z</td>\n      <td>1101</td>\n      <td>A000010917</td>\n      <td>Malla vial</td>\n      <td>CR  065   051  000 00000</td>\n      <td>Choque</td>\n      <td>[-75.58085586, 6.25657541199]</td>\n      <td>3.0</td>\n      <td>2014.0</td>\n      <td>Laureles Estadio</td>\n      <td>[u'incidentes']</td>\n      <td>CR 65 CL 51</td>\n      <td>Operador2</td>\n      <td>C:/ELK/logstash-6.5.1/data/Medata/Incidentes/I...</td>\n      <td>11</td>\n      <td>Tramo de via</td>\n      <td>Carlos E. Restrepo</td>\n      <td>Con heridos</td>\n      <td>2014-03-12T15:00:00.000Z</td>\n      <td>1183849.30</td>\n      <td>833619.47</td>\n      <td>1.0</td>\n      <td>8649.0</td>\n      <td>1432721</td>\n    </tr>\n    <tr>\n      <th>7</th>\n      <td>2019-06-04T20:44:15.589Z</td>\n      <td>1318</td>\n      <td>A000010841</td>\n      <td>Malla vial</td>\n      <td>CL  044   105  000 00000</td>\n      <td>Choque</td>\n      <td>[-75.6200332483, 6.25681851817]</td>\n      <td>3.0</td>\n      <td>2014.0</td>\n      <td>San Javier</td>\n      <td>[u'incidentes']</td>\n      <td>CL 44 CR 105</td>\n      <td>Operador2</td>\n      <td>C:/ELK/logstash-6.5.1/data/Medata/Incidentes/I...</td>\n      <td>13</td>\n      <td>Tramo de via</td>\n      <td>Antonio Nariño</td>\n      <td>Con heridos</td>\n      <td>2014-03-12T23:00:00.000Z</td>\n      <td>1183888.76</td>\n      <td>829282.64</td>\n      <td>1.0</td>\n      <td>8650.0</td>\n      <td>1432722</td>\n    </tr>\n    <tr>\n      <th>8</th>\n      <td>2019-06-04T20:44:15.590Z</td>\n      <td>307</td>\n      <td>A000010916</td>\n      <td>Malla vial aproximada: CR 45-67</td>\n      <td>CR  046   067  000 00000</td>\n      <td>Caída de Ocupante</td>\n      <td>[-75.5555813857, 6.2631762147]</td>\n      <td>3.0</td>\n      <td>2014.0</td>\n      <td>Manrique</td>\n      <td>[u'incidentes']</td>\n      <td>CR 46 CL 67</td>\n      <td>Operador2</td>\n      <td>C:/ELK/logstash-6.5.1/data/Medata/Incidentes/I...</td>\n      <td>03</td>\n      <td>Tramo de via</td>\n      <td>Manrique Central No. 2</td>\n      <td>Con heridos</td>\n      <td>2014-03-12T17:00:00.000Z</td>\n      <td>1184571.57</td>\n      <td>836419.35</td>\n      <td>1.0</td>\n      <td>8659.0</td>\n      <td>1432732</td>\n    </tr>\n    <tr>\n      <th>9</th>\n      <td>2019-06-04T20:44:15.590Z</td>\n      <td>1013</td>\n      <td>A000010992</td>\n      <td>Malla vial</td>\n      <td>CR  045   048  000 00000</td>\n      <td>Caída de Ocupante</td>\n      <td>[-75.568553277, 6.24524859423]</td>\n      <td>3.0</td>\n      <td>2014.0</td>\n      <td>La Candelaria</td>\n      <td>[u'incidentes']</td>\n      <td>CR 45 CL 48</td>\n      <td>Operador2</td>\n      <td>C:/ELK/logstash-6.5.1/data/Medata/Incidentes/I...</td>\n      <td>10</td>\n      <td>Tramo de via</td>\n      <td>Barrio Colón</td>\n      <td>Con heridos</td>\n      <td>2014-03-12T16:30:00.000Z</td>\n      <td>1182592.40</td>\n      <td>834977.79</td>\n      <td>1.0</td>\n      <td>8663.0</td>\n      <td>1432736</td>\n    </tr>\n    <tr>\n      <th>10</th>\n      <td>2019-06-04T20:44:15.590Z</td>\n      <td>309</td>\n      <td>A000010991</td>\n      <td>Malla vial</td>\n      <td>CL  069   027  000 00000</td>\n      <td>Atropello</td>\n      <td>[-75.5419347915, 6.26338939586]</td>\n      <td>3.0</td>\n      <td>2014.0</td>\n      <td>Manrique</td>\n      <td>[u'incidentes']</td>\n      <td>CL 69 CR 27</td>\n      <td>Operador2</td>\n      <td>C:/ELK/logstash-6.5.1/data/Medata/Incidentes/I...</td>\n      <td>03</td>\n      <td>Tramo de via</td>\n      <td>Versalles No. 1</td>\n      <td>Con heridos</td>\n      <td>2014-03-12T23:00:00.000Z</td>\n      <td>1184590.92</td>\n      <td>837930.03</td>\n      <td>1.0</td>\n      <td>8666.0</td>\n      <td>1432739</td>\n    </tr>\n    <tr>\n      <th>11</th>\n      <td>2019-06-04T20:44:15.590Z</td>\n      <td>301</td>\n      <td>A000010896</td>\n      <td>Malla vial</td>\n      <td>CL  092   044 A  000 00000</td>\n      <td>Atropello</td>\n      <td>[-75.5521141628, 6.28311328446]</td>\n      <td>3.0</td>\n      <td>2014.0</td>\n      <td>Manrique</td>\n      <td>[u'incidentes']</td>\n      <td>CL 92 CR 44 A</td>\n      <td>Operador2</td>\n      <td>C:/ELK/logstash-6.5.1/data/Medata/Incidentes/I...</td>\n      <td>03</td>\n      <td>Tramo de via</td>\n      <td>La Salle</td>\n      <td>Con heridos</td>\n      <td>2014-03-12T11:20:00.000Z</td>\n      <td>1186776.00</td>\n      <td>836809.36</td>\n      <td>1.0</td>\n      <td>8667.0</td>\n      <td>1432748</td>\n    </tr>\n    <tr>\n      <th>12</th>\n      <td>2019-06-04T20:44:15.590Z</td>\n      <td>710</td>\n      <td>A000010899</td>\n      <td>Malla vial</td>\n      <td>CL  080   076  000 00000</td>\n      <td>Otro</td>\n      <td>[-75.5832037595, 6.2834307746]</td>\n      <td>3.0</td>\n      <td>2014.0</td>\n      <td>Robledo</td>\n      <td>[u'incidentes']</td>\n      <td>CL 80 CR 76</td>\n      <td>Operador2</td>\n      <td>C:/ELK/logstash-6.5.1/data/Medata/Incidentes/I...</td>\n      <td>07</td>\n      <td>Tramo de via</td>\n      <td>López de Mesa</td>\n      <td>Con heridos</td>\n      <td>2014-03-12T12:30:00.000Z</td>\n      <td>1186820.92</td>\n      <td>833368.09</td>\n      <td>1.0</td>\n      <td>8668.0</td>\n      <td>1432749</td>\n    </tr>\n    <tr>\n      <th>13</th>\n      <td>2019-06-04T20:44:15.590Z</td>\n      <td>308</td>\n      <td>A000010884</td>\n      <td>Malla vial</td>\n      <td>CR  041   068  000 00000</td>\n      <td>Otro</td>\n      <td>[-75.5520280221, 6.26336411263]</td>\n      <td>3.0</td>\n      <td>2014.0</td>\n      <td>Manrique</td>\n      <td>[u'incidentes']</td>\n      <td>CR 41 CL 68</td>\n      <td>Operador2</td>\n      <td>C:/ELK/logstash-6.5.1/data/Medata/Incidentes/I...</td>\n      <td>03</td>\n      <td>Tramo de via</td>\n      <td>Manrique Oriental</td>\n      <td>Con heridos</td>\n      <td>2014-03-12T09:30:00.000Z</td>\n      <td>1184591.25</td>\n      <td>836812.75</td>\n      <td>1.0</td>\n      <td>8669.0</td>\n      <td>1432751</td>\n    </tr>\n    <tr>\n      <th>14</th>\n      <td>2019-06-04T20:44:15.590Z</td>\n      <td>410</td>\n      <td>A000011099</td>\n      <td>Malla vial</td>\n      <td>CR  046   084  000 00000</td>\n      <td>Choque</td>\n      <td>[-75.5546384131, 6.27639159676]</td>\n      <td>3.0</td>\n      <td>2014.0</td>\n      <td>Aranjuez</td>\n      <td>[u'incidentes']</td>\n      <td>CR 46 CL 84</td>\n      <td>Operador2</td>\n      <td>C:/ELK/logstash-6.5.1/data/Medata/Incidentes/I...</td>\n      <td>04</td>\n      <td>Tramo de via</td>\n      <td>Campo Valdés No. 1</td>\n      <td>Con heridos</td>\n      <td>2014-03-12T17:00:00.000Z</td>\n      <td>1186033.21</td>\n      <td>836527.85</td>\n      <td>1.0</td>\n      <td>8670.0</td>\n      <td>1432752</td>\n    </tr>\n  </tbody>\n</table>\n</div>"
     },
     "metadata": {},
     "execution_count": 104
    }
   ],
   "source": [
    "# scr accidentalidad.csv: http://medata.gov.co/dataset/accidentalidad \n",
    "df =  pd.read_csv('./accidentalidad.csv', skiprows=1,header=None,sep=';')\n",
    "df.loc[0:14]"
   ]
  },
  {
   "cell_type": "markdown",
   "metadata": {},
   "source": []
  },
  {
   "cell_type": "code",
   "execution_count": 105,
   "metadata": {},
   "outputs": [
    {
     "output_type": "execute_result",
     "data": {
      "text/plain": "((251899, 26), (287759, 24))"
     },
     "metadata": {},
     "execution_count": 105
    }
   ],
   "source": [
    "agg_df.shape, df.shape"
   ]
  },
  {
   "cell_type": "code",
   "execution_count": 106,
   "metadata": {},
   "outputs": [
    {
     "output_type": "execute_result",
     "data": {
      "text/plain": "Int64Index([ 0,  1,  2,  3,  4,  5,  6,  7,  8,  9, 10, 11, 12, 13, 14, 15, 16,\n            17, 18, 19, 20, 21, 22, 23],\n           dtype='int64')"
     },
     "metadata": {},
     "execution_count": 106
    }
   ],
   "source": [
    "df.columns"
   ]
  },
  {
   "cell_type": "markdown",
   "metadata": {},
   "source": [
    "We get the column names from column 4 where the column 0 was equal to \"1.0\", then we coppied the column names and we assigned to the columns in the DataFrame (df) as follow:"
   ]
  },
  {
   "cell_type": "code",
   "execution_count": 107,
   "metadata": {},
   "outputs": [
    {
     "output_type": "execute_result",
     "data": {
      "text/plain": "['@timestamp',\n 'cbml',\n 'expediente',\n 'tipo',\n 'direccion encasillada',\n 'clase_accidente',\n 'location',\n 'mes',\n 'fecha_accidentes',\n 'año',\n 'comuna',\n 'tags',\n 'direccion',\n 'host',\n 'fingerprint',\n 'path',\n 'numcomuna',\n 'diseño',\n 'barrio',\n 'gravedad_accidente',\n 'fecha_accidente',\n 'y',\n 'x',\n '@version',\n 'id',\n 'nro_radicado']"
     },
     "metadata": {},
     "execution_count": 107
    }
   ],
   "source": [
    "from ast import literal_eval\n",
    "[l.lower() for l in list(literal_eval(list(df.loc[df[0]==\"1.0\", 4][0:1])[0]).keys())]\n"
   ]
  },
  {
   "cell_type": "markdown",
   "metadata": {},
   "source": [
    "We found values in column 0 unformatted so we procedure to drop them."
   ]
  },
  {
   "cell_type": "code",
   "execution_count": 108,
   "metadata": {},
   "outputs": [
    {
     "output_type": "execute_result",
     "data": {
      "text/plain": "Empty DataFrame\nColumns: [timestamp, cbml, expediente, tipo_geocode, direccion_enc, clase, x_long_y_lat, mes, periodo, comuna, incidente, direccion, operador, path, num_comuna, diseno, barrio, gravedad, fecha, y_magnamed, x_magnet, version, id, radicado]\nIndex: []",
      "text/html": "<div>\n<style scoped>\n    .dataframe tbody tr th:only-of-type {\n        vertical-align: middle;\n    }\n\n    .dataframe tbody tr th {\n        vertical-align: top;\n    }\n\n    .dataframe thead th {\n        text-align: right;\n    }\n</style>\n<table border=\"1\" class=\"dataframe\">\n  <thead>\n    <tr style=\"text-align: right;\">\n      <th></th>\n      <th>timestamp</th>\n      <th>cbml</th>\n      <th>expediente</th>\n      <th>tipo_geocode</th>\n      <th>direccion_enc</th>\n      <th>clase</th>\n      <th>x_long_y_lat</th>\n      <th>mes</th>\n      <th>periodo</th>\n      <th>comuna</th>\n      <th>incidente</th>\n      <th>direccion</th>\n      <th>operador</th>\n      <th>path</th>\n      <th>num_comuna</th>\n      <th>diseno</th>\n      <th>barrio</th>\n      <th>gravedad</th>\n      <th>fecha</th>\n      <th>y_magnamed</th>\n      <th>x_magnet</th>\n      <th>version</th>\n      <th>id</th>\n      <th>radicado</th>\n    </tr>\n  </thead>\n  <tbody>\n  </tbody>\n</table>\n</div>"
     },
     "metadata": {},
     "execution_count": 108
    }
   ],
   "source": [
    "# dic = literal_eval(df[df[0]==\"1.0\"][4].values[0])\n",
    "# print(dic)\n",
    "# df.columns = [col.lower() for col in dic.keys()]\n",
    "# print(df.columns)\n",
    "\n",
    "cols = [\"timestamp\", \"cbml\", \"expediente\", \"tipo_geocode\", \"direccion_enc\", \"clase\", \"x_long_y_lat\", \"mes\", \"periodo\", \"comuna\", \"incidente\", \"direccion\", \"operador\", \"path\", \"num_comuna\", \"diseno\", \"barrio\", \"gravedad\", \"fecha\", \"y_magnamed\", \"x_magnet\", \"version\", \"id\", \"radicado\"]\n",
    "df.columns = cols\n",
    "df = df[df.timestamp != '1.0']\n",
    "df[df.timestamp == '1.0']\n"
   ]
  },
  {
   "cell_type": "code",
   "execution_count": 109,
   "metadata": {},
   "outputs": [
    {
     "output_type": "execute_result",
     "data": {
      "text/plain": "0    1517771\n1    1517787\n2    1517740\n3    1517747\n4    1517993\nName: radicado, dtype: object"
     },
     "metadata": {},
     "execution_count": 109
    }
   ],
   "source": [
    "agg_df.radicado.head()"
   ]
  },
  {
   "cell_type": "code",
   "execution_count": 110,
   "metadata": {},
   "outputs": [
    {
     "output_type": "execute_result",
     "data": {
      "text/plain": "<bound method DataFrame.info of                x         y  objectid     radicado                   fecha  \\\n0     -75.553148  6.291689    257034      1517771  2016/01/01 00:00:00+00   \n1     -75.637704  6.275732    257035      1517787  2016/01/01 00:00:00+00   \n2     -75.555730  6.305737    257037      1517740  2016/01/01 00:00:00+00   \n3     -75.583366  6.293494    257038      1517747  2016/01/01 00:00:00+00   \n4     -75.581203  6.195227    257039      1517993  2016/01/01 00:00:00+00   \n...          ...       ...       ...          ...                     ...   \n40343 -75.563465  6.253182    686841  1.65195e+06  2018/12/01 00:00:00+00   \n40344 -75.574709  6.236105    686842    1.652e+06  2018/12/01 00:00:00+00   \n40345 -75.599798  6.265247    686843  1.65192e+06  2018/12/01 00:00:00+00   \n40346 -75.582006  6.215066    686844  1.65188e+06  2018/12/01 00:00:00+00   \n40347 -75.559144  6.239717    686845  1.65192e+06  2018/12/01 00:00:00+00   \n\n           hora  dia  periodo              clase        direccion  \\\n0      06:30:00    1     2016             Choque   CR 46 A CL 101   \n1      02:00:00    1     2016             Choque     CL 59 CR 133   \n2      02:00:00    1     2016          Atropello   CR 52 CL 120 A   \n3      03:30:00    1     2016  Caída de Ocupante      CR 80 CL 94   \n4      06:00:00    1     2016             Choque  CL 12 sur CR 49   \n...         ...  ...      ...                ...              ...   \n40343  11:45:00    1     2018             Choque      CR 47 CL 56   \n40344  12:00:00    1     2018             Choque      CL 33 CR 52   \n40345  12:00:00    1     2018             Choque      CR 82 CL 51   \n40346  12:00:00    1     2018             Choque      CR 52 CL 10   \n40347  12:15:00    1     2018             Choque      CR 36 CL 43   \n\n                    direccion_enc  cbml                       tipo_geocod  \\\n0      CR  046 A   101  000 00000  0209                        Malla vial   \n1        CL  059   133  000 00000  6000  Malla vial aproximada: CL 59-132   \n2      CR  052   120 A  000 00000  0204        Malla vial cruce invertido   \n3        CR  080   094  000 00000  0608   Malla vial aproximada: CR 80-95   \n4       CL S 012   049  000 00000   NaN                        Malla vial   \n...                           ...   ...                               ...   \n40343    CR  047   056  000 00000  1018                        Malla vial   \n40344    CL  033   052  000 00000  1012   Malla vial aproximada: CL 34-52   \n40345    CR  082   051  000 00000  1202                        Malla vial   \n40346    CR  052   010  000 00000  1507                        Malla vial   \n40347    CR  036   043  000 00000  0911                        Malla vial   \n\n         gravedad                         barrio  \\\n0          HERIDO                    Moscú No. 1   \n1          HERIDO  Cabecera Urbana San Cristobal   \n2          HERIDO                    La Frontera   \n3          HERIDO                        Picacho   \n4          HERIDO                            NaN   \n...           ...                            ...   \n40343  SOLO DAÑOS                    Villa Nueva   \n40344  SOLO DAÑOS               Perpetuo Socorro   \n40345  SOLO DAÑOS                       Calasanz   \n40346  SOLO DAÑOS                     Campo Amor   \n40347  SOLO DAÑOS                         Gerona   \n\n                               comuna        diseno dia_nombre  mes  \\\n0                          Santa Cruz  Tramo de via  VIERNES      1   \n1      Corregimiento de San Cristóbal  Tramo de via  VIERNES      1   \n2                          Santa Cruz  Tramo de via  VIERNES      1   \n3                     Doce de Octubre  Tramo de via  VIERNES      1   \n4                                 NaN  Tramo de via  VIERNES      1   \n...                               ...           ...        ...  ...   \n40343                   La Candelaria  Interseccion  SÁBADO      12   \n40344                   La Candelaria  Tramo de via  SÁBADO      12   \n40345                      La América  Tramo de via  SÁBADO      12   \n40346                        Guayabal      Glorieta  SÁBADO      12   \n40347                    Buenos Aires  Tramo de via  SÁBADO      12   \n\n      mes_nombre  x_magnamed  y_magnamed   longitud   latitud  \\\n0            NaN   836677.96  1187728.01 -75.553148  6.291689   \n1            NaN   827319.09  1185963.47 -75.637704  6.275732   \n2            NaN   836392.11  1189281.90 -75.555730  6.305737   \n3            NaN   833333.37  1187927.76 -75.583366  6.293494   \n4            NaN   833572.49  1177058.05 -75.581203  6.195227   \n...          ...         ...         ...        ...       ...   \n40343        NaN   835536.09  1183468.66 -75.563465  6.253182   \n40344        NaN   834291.46  1181579.67 -75.574709  6.236105   \n40345        NaN   831514.50  1184803.36 -75.599798  6.265247   \n40346        NaN   833483.60  1179252.49 -75.582006  6.215066   \n40347        NaN   836014.36  1181979.17 -75.559144  6.239717   \n\n                                         file  shape  \n0      Accidentalidadgeorreferenciada2016.csv    NaN  \n1      Accidentalidadgeorreferenciada2016.csv    NaN  \n2      Accidentalidadgeorreferenciada2016.csv    NaN  \n3      Accidentalidadgeorreferenciada2016.csv    NaN  \n4      Accidentalidadgeorreferenciada2016.csv    NaN  \n...                                       ...    ...  \n40343  Accidentalidadgeorreferenciada2018.csv    NaN  \n40344  Accidentalidadgeorreferenciada2018.csv    NaN  \n40345  Accidentalidadgeorreferenciada2018.csv    NaN  \n40346  Accidentalidadgeorreferenciada2018.csv    NaN  \n40347  Accidentalidadgeorreferenciada2018.csv    NaN  \n\n[251899 rows x 26 columns]>"
     },
     "metadata": {},
     "execution_count": 110
    }
   ],
   "source": [
    "agg_df.info"
   ]
  },
  {
   "cell_type": "code",
   "execution_count": 111,
   "metadata": {},
   "outputs": [
    {
     "output_type": "execute_result",
     "data": {
      "text/plain": "x                 True\ny                 True\nobjectid         False\nradicado          True\nfecha            False\nhora             False\ndia              False\nperiodo          False\nclase             True\ndireccion        False\ndireccion_enc    False\ncbml              True\ntipo_geocod      False\ngravedad         False\nbarrio            True\ncomuna            True\ndiseno            True\ndia_nombre       False\nmes              False\nmes_nombre        True\nx_magnamed       False\ny_magnamed       False\nlongitud         False\nlatitud          False\nfile             False\nshape             True\ndtype: bool"
     },
     "metadata": {},
     "execution_count": 111
    }
   ],
   "source": [
    "agg_df.isna().any()"
   ]
  },
  {
   "cell_type": "code",
   "execution_count": 112,
   "metadata": {},
   "outputs": [
    {
     "output_type": "execute_result",
     "data": {
      "text/plain": "               x         y  objectid radicado                   fecha  \\\n39496 -75.561594  6.293715    546224      NaN  2017/12/21 00:00:00+00   \n40150 -75.578129  6.247262    546941      NaN  2017/09/06 00:00:00+00   \n37075 -75.564198  6.261494    683301      NaN  2018/05/07 00:00:00+00   \n37076 -75.546095  6.271341    683302      NaN  2018/11/01 00:00:00+00   \n37077 -75.593598  6.270184    683303      NaN  2018/12/26 00:00:00+00   \n\n           hora  dia  periodo      clase               direccion  \\\n39496  09:58:00   21     2017  Atropello      CR 52 CL 100  - 75   \n40150  05:45:00    6     2017  Atropello  CL 44 entre CR 59 y 60   \n37075  06:00:00    7     2018     Choque             CR 51 CL 64   \n37076  07:40:00    1     2018     Choque        CL 80 CR 32 - 82   \n37077  12:30:00   26     2018     Choque          CL 59 CR 78 AA   \n\n                    direccion_enc         cbml                tipo_geocod  \\\n39496    CR  052   100  075 00000  02100090113  Nomenclatura con Interior   \n40150    CL  044   59,  060 00000         1008                 Malla vial   \n37075    CR  051   064  000 00000         1001                 Malla vial   \n37076    CL  080   032  082 00000  03040160010      Catastro con Interior   \n37077  CL  059   078 AA 000 00000         1114                 Malla vial   \n\n      gravedad         barrio            comuna diseno dia_nombre  mes  \\\n39496   MUERTO     Santa Cruz        Santa Cruz    NaN  JUEVES      12   \n40150   MUERTO  La Candelaria  Corazón de Jesús    NaN  MIÉRCOLES    9   \n37075   MUERTO          Prado     La Candelaria    NaN  LUNES        5   \n37076   MUERTO     Santa Inés          Manrique    NaN  JUEVES      11   \n37077   MUERTO    Los Colores  Laureles Estadio    NaN  MIÉRCOLES   12   \n\n      mes_nombre  x_magnamed  y_magnamed   longitud   latitud  \\\n39496        NaN   835743.14  1187952.15 -75.561594  6.293715   \n40150        NaN   833912.85  1182813.77 -75.578129  6.247262   \n37075        NaN   835454.94  1184388.09 -75.564198  6.261494   \n37076        NaN   837458.56  1185477.35 -75.546095  6.271341   \n37077        NaN   832200.75  1185349.38 -75.593598  6.270184   \n\n                                         file  shape  \n39496  Accidentalidadgeorreferenciada2017.csv    NaN  \n40150  Accidentalidadgeorreferenciada2017.csv    NaN  \n37075  Accidentalidadgeorreferenciada2018.csv    NaN  \n37076  Accidentalidadgeorreferenciada2018.csv    NaN  \n37077  Accidentalidadgeorreferenciada2018.csv    NaN  ",
      "text/html": "<div>\n<style scoped>\n    .dataframe tbody tr th:only-of-type {\n        vertical-align: middle;\n    }\n\n    .dataframe tbody tr th {\n        vertical-align: top;\n    }\n\n    .dataframe thead th {\n        text-align: right;\n    }\n</style>\n<table border=\"1\" class=\"dataframe\">\n  <thead>\n    <tr style=\"text-align: right;\">\n      <th></th>\n      <th>x</th>\n      <th>y</th>\n      <th>objectid</th>\n      <th>radicado</th>\n      <th>fecha</th>\n      <th>hora</th>\n      <th>dia</th>\n      <th>periodo</th>\n      <th>clase</th>\n      <th>direccion</th>\n      <th>direccion_enc</th>\n      <th>cbml</th>\n      <th>tipo_geocod</th>\n      <th>gravedad</th>\n      <th>barrio</th>\n      <th>comuna</th>\n      <th>diseno</th>\n      <th>dia_nombre</th>\n      <th>mes</th>\n      <th>mes_nombre</th>\n      <th>x_magnamed</th>\n      <th>y_magnamed</th>\n      <th>longitud</th>\n      <th>latitud</th>\n      <th>file</th>\n      <th>shape</th>\n    </tr>\n  </thead>\n  <tbody>\n    <tr>\n      <th>39496</th>\n      <td>-75.561594</td>\n      <td>6.293715</td>\n      <td>546224</td>\n      <td>NaN</td>\n      <td>2017/12/21 00:00:00+00</td>\n      <td>09:58:00</td>\n      <td>21</td>\n      <td>2017</td>\n      <td>Atropello</td>\n      <td>CR 52 CL 100  - 75</td>\n      <td>CR  052   100  075 00000</td>\n      <td>02100090113</td>\n      <td>Nomenclatura con Interior</td>\n      <td>MUERTO</td>\n      <td>Santa Cruz</td>\n      <td>Santa Cruz</td>\n      <td>NaN</td>\n      <td>JUEVES</td>\n      <td>12</td>\n      <td>NaN</td>\n      <td>835743.14</td>\n      <td>1187952.15</td>\n      <td>-75.561594</td>\n      <td>6.293715</td>\n      <td>Accidentalidadgeorreferenciada2017.csv</td>\n      <td>NaN</td>\n    </tr>\n    <tr>\n      <th>40150</th>\n      <td>-75.578129</td>\n      <td>6.247262</td>\n      <td>546941</td>\n      <td>NaN</td>\n      <td>2017/09/06 00:00:00+00</td>\n      <td>05:45:00</td>\n      <td>6</td>\n      <td>2017</td>\n      <td>Atropello</td>\n      <td>CL 44 entre CR 59 y 60</td>\n      <td>CL  044   59,  060 00000</td>\n      <td>1008</td>\n      <td>Malla vial</td>\n      <td>MUERTO</td>\n      <td>La Candelaria</td>\n      <td>Corazón de Jesús</td>\n      <td>NaN</td>\n      <td>MIÉRCOLES</td>\n      <td>9</td>\n      <td>NaN</td>\n      <td>833912.85</td>\n      <td>1182813.77</td>\n      <td>-75.578129</td>\n      <td>6.247262</td>\n      <td>Accidentalidadgeorreferenciada2017.csv</td>\n      <td>NaN</td>\n    </tr>\n    <tr>\n      <th>37075</th>\n      <td>-75.564198</td>\n      <td>6.261494</td>\n      <td>683301</td>\n      <td>NaN</td>\n      <td>2018/05/07 00:00:00+00</td>\n      <td>06:00:00</td>\n      <td>7</td>\n      <td>2018</td>\n      <td>Choque</td>\n      <td>CR 51 CL 64</td>\n      <td>CR  051   064  000 00000</td>\n      <td>1001</td>\n      <td>Malla vial</td>\n      <td>MUERTO</td>\n      <td>Prado</td>\n      <td>La Candelaria</td>\n      <td>NaN</td>\n      <td>LUNES</td>\n      <td>5</td>\n      <td>NaN</td>\n      <td>835454.94</td>\n      <td>1184388.09</td>\n      <td>-75.564198</td>\n      <td>6.261494</td>\n      <td>Accidentalidadgeorreferenciada2018.csv</td>\n      <td>NaN</td>\n    </tr>\n    <tr>\n      <th>37076</th>\n      <td>-75.546095</td>\n      <td>6.271341</td>\n      <td>683302</td>\n      <td>NaN</td>\n      <td>2018/11/01 00:00:00+00</td>\n      <td>07:40:00</td>\n      <td>1</td>\n      <td>2018</td>\n      <td>Choque</td>\n      <td>CL 80 CR 32 - 82</td>\n      <td>CL  080   032  082 00000</td>\n      <td>03040160010</td>\n      <td>Catastro con Interior</td>\n      <td>MUERTO</td>\n      <td>Santa Inés</td>\n      <td>Manrique</td>\n      <td>NaN</td>\n      <td>JUEVES</td>\n      <td>11</td>\n      <td>NaN</td>\n      <td>837458.56</td>\n      <td>1185477.35</td>\n      <td>-75.546095</td>\n      <td>6.271341</td>\n      <td>Accidentalidadgeorreferenciada2018.csv</td>\n      <td>NaN</td>\n    </tr>\n    <tr>\n      <th>37077</th>\n      <td>-75.593598</td>\n      <td>6.270184</td>\n      <td>683303</td>\n      <td>NaN</td>\n      <td>2018/12/26 00:00:00+00</td>\n      <td>12:30:00</td>\n      <td>26</td>\n      <td>2018</td>\n      <td>Choque</td>\n      <td>CL 59 CR 78 AA</td>\n      <td>CL  059   078 AA 000 00000</td>\n      <td>1114</td>\n      <td>Malla vial</td>\n      <td>MUERTO</td>\n      <td>Los Colores</td>\n      <td>Laureles Estadio</td>\n      <td>NaN</td>\n      <td>MIÉRCOLES</td>\n      <td>12</td>\n      <td>NaN</td>\n      <td>832200.75</td>\n      <td>1185349.38</td>\n      <td>-75.593598</td>\n      <td>6.270184</td>\n      <td>Accidentalidadgeorreferenciada2018.csv</td>\n      <td>NaN</td>\n    </tr>\n  </tbody>\n</table>\n</div>"
     },
     "metadata": {},
     "execution_count": 112
    }
   ],
   "source": [
    "agg_df[agg_df.radicado.isna()] # check the nulls"
   ]
  },
  {
   "cell_type": "code",
   "execution_count": 113,
   "metadata": {},
   "outputs": [
    {
     "output_type": "execute_result",
     "data": {
      "text/plain": "Choque                170276\nOtro                   26585\nAtropello              24647\nCaida Ocupante         16419\nVolcamiento             8249\nCaída de Ocupante       5665\nIncendio                  32\nCaída Ocupante            16\nNaN                        6\nChoque                     3\nChoque y Atropello         1\nName: clase, dtype: int64"
     },
     "metadata": {},
     "execution_count": 113
    }
   ],
   "source": [
    "agg_df.clase.value_counts(dropna=False)"
   ]
  },
  {
   "cell_type": "code",
   "execution_count": 114,
   "metadata": {},
   "outputs": [
    {
     "output_type": "execute_result",
     "data": {
      "text/plain": "1019           6182\n0517           5246\n1507           5153\n1012           4988\n1105           4461\n               ... \n80004340062       1\n14220240062       1\n15100350002       1\n02030120001       1\n11140030016       1\nName: cbml, Length: 712, dtype: int64"
     },
     "metadata": {},
     "execution_count": 114
    }
   ],
   "source": [
    "agg_df.cbml.value_counts(dropna=False)"
   ]
  },
  {
   "cell_type": "code",
   "execution_count": 115,
   "metadata": {},
   "outputs": [
    {
     "output_type": "execute_result",
     "data": {
      "text/plain": "62196                    3\n1618580.0                2\n39226                    2\n1662064                  2\n1640023.0                2\n31435                    2\n1656231                  2\n1639346.0                2\n1639954.0                2\n58560                    2\n1647440.0                2\n58864                    2\n1647286.0                2\n1655403                  2\n48996                    2\n050016000206201523690    2\n1640118.0                2\n1640922.0                2\n1640356.0                2\n1638618.0                2\n1689154                  1\nName: radicado, dtype: int64"
     },
     "metadata": {},
     "execution_count": 115
    }
   ],
   "source": [
    "agg_df.radicado.value_counts()[0:21]"
   ]
  },
  {
   "cell_type": "code",
   "execution_count": 116,
   "metadata": {},
   "outputs": [
    {
     "output_type": "execute_result",
     "data": {
      "text/plain": "               x         y  objectid     radicado                   fecha  \\\n21533 -75.585424  6.241112    666622  1.63862e+06  2018/08/14 00:00:00+00   \n36260 -75.585424  6.241112    682426  1.63862e+06  2018/10/14 00:00:00+00   \n\n           hora  dia  periodo   clase      direccion  \\\n21533  05:35:00   14     2018  Choque  CR 66 CL 34 A   \n36260  05:35:00   14     2018  Choque  CR 66 CL 34 A   \n\n                    direccion_enc  cbml                      tipo_geocod  \\\n21533  CR  066   034 A  000 00000  1105  Malla vial aproximada: CR 66-35   \n36260  CR  066   034 A  000 00000  1105  Malla vial aproximada: CR 66-35   \n\n         gravedad              barrio            comuna        diseno  \\\n21533  SOLO DAÑOS  Los Conquistadores  Laureles Estadio  Tramo de via   \n36260  SOLO DAÑOS  Los Conquistadores  Laureles Estadio  Tramo de via   \n\n      dia_nombre  mes mes_nombre  x_magnamed  y_magnamed   longitud   latitud  \\\n21533  MARTES       8        NaN   833105.42  1182133.61 -75.585424  6.241112   \n36260  DOMINGO     10        NaN   833105.42  1182133.61 -75.585424  6.241112   \n\n                                         file  shape  \n21533  Accidentalidadgeorreferenciada2018.csv    NaN  \n36260  Accidentalidadgeorreferenciada2018.csv    NaN  ",
      "text/html": "<div>\n<style scoped>\n    .dataframe tbody tr th:only-of-type {\n        vertical-align: middle;\n    }\n\n    .dataframe tbody tr th {\n        vertical-align: top;\n    }\n\n    .dataframe thead th {\n        text-align: right;\n    }\n</style>\n<table border=\"1\" class=\"dataframe\">\n  <thead>\n    <tr style=\"text-align: right;\">\n      <th></th>\n      <th>x</th>\n      <th>y</th>\n      <th>objectid</th>\n      <th>radicado</th>\n      <th>fecha</th>\n      <th>hora</th>\n      <th>dia</th>\n      <th>periodo</th>\n      <th>clase</th>\n      <th>direccion</th>\n      <th>direccion_enc</th>\n      <th>cbml</th>\n      <th>tipo_geocod</th>\n      <th>gravedad</th>\n      <th>barrio</th>\n      <th>comuna</th>\n      <th>diseno</th>\n      <th>dia_nombre</th>\n      <th>mes</th>\n      <th>mes_nombre</th>\n      <th>x_magnamed</th>\n      <th>y_magnamed</th>\n      <th>longitud</th>\n      <th>latitud</th>\n      <th>file</th>\n      <th>shape</th>\n    </tr>\n  </thead>\n  <tbody>\n    <tr>\n      <th>21533</th>\n      <td>-75.585424</td>\n      <td>6.241112</td>\n      <td>666622</td>\n      <td>1.63862e+06</td>\n      <td>2018/08/14 00:00:00+00</td>\n      <td>05:35:00</td>\n      <td>14</td>\n      <td>2018</td>\n      <td>Choque</td>\n      <td>CR 66 CL 34 A</td>\n      <td>CR  066   034 A  000 00000</td>\n      <td>1105</td>\n      <td>Malla vial aproximada: CR 66-35</td>\n      <td>SOLO DAÑOS</td>\n      <td>Los Conquistadores</td>\n      <td>Laureles Estadio</td>\n      <td>Tramo de via</td>\n      <td>MARTES</td>\n      <td>8</td>\n      <td>NaN</td>\n      <td>833105.42</td>\n      <td>1182133.61</td>\n      <td>-75.585424</td>\n      <td>6.241112</td>\n      <td>Accidentalidadgeorreferenciada2018.csv</td>\n      <td>NaN</td>\n    </tr>\n    <tr>\n      <th>36260</th>\n      <td>-75.585424</td>\n      <td>6.241112</td>\n      <td>682426</td>\n      <td>1.63862e+06</td>\n      <td>2018/10/14 00:00:00+00</td>\n      <td>05:35:00</td>\n      <td>14</td>\n      <td>2018</td>\n      <td>Choque</td>\n      <td>CR 66 CL 34 A</td>\n      <td>CR  066   034 A  000 00000</td>\n      <td>1105</td>\n      <td>Malla vial aproximada: CR 66-35</td>\n      <td>SOLO DAÑOS</td>\n      <td>Los Conquistadores</td>\n      <td>Laureles Estadio</td>\n      <td>Tramo de via</td>\n      <td>DOMINGO</td>\n      <td>10</td>\n      <td>NaN</td>\n      <td>833105.42</td>\n      <td>1182133.61</td>\n      <td>-75.585424</td>\n      <td>6.241112</td>\n      <td>Accidentalidadgeorreferenciada2018.csv</td>\n      <td>NaN</td>\n    </tr>\n  </tbody>\n</table>\n</div>"
     },
     "metadata": {},
     "execution_count": 116
    }
   ],
   "source": [
    "agg_df[agg_df.radicado==1638618.0]"
   ]
  },
  {
   "cell_type": "code",
   "execution_count": 117,
   "metadata": {},
   "outputs": [
    {
     "output_type": "execute_result",
     "data": {
      "text/plain": "NaN          7\n1687153.0    3\n1687280.0    3\n1689208.0    3\n1687560.0    3\n1687158.0    3\n1687159.0    3\n1687162.0    3\n1687163.0    3\n62196        3\n1687164.0    3\n1687165.0    3\n1689064.0    3\n1687166.0    3\n1685159.0    3\n1687167.0    3\n1687169.0    3\n1687154.0    3\n1685140.0    3\n1687171.0    3\n1687292.0    3\n1685517.0    3\n1687136.0    3\n1685493.0    3\n1687138.0    3\n1687557.0    3\n1684827.0    3\n1687140.0    3\n1687144.0    3\n1688636.0    3\nName: radicado, dtype: int64"
     },
     "metadata": {},
     "execution_count": 117
    }
   ],
   "source": [
    "df.radicado.value_counts(dropna=False)[0:30]"
   ]
  },
  {
   "cell_type": "code",
   "execution_count": 118,
   "metadata": {},
   "outputs": [
    {
     "output_type": "execute_result",
     "data": {
      "text/plain": "                       timestamp  cbml  expediente  \\\n205150  2019-06-04T20:55:57.306Z  1105  A000846486   \n213113  2019-06-04T20:56:23.935Z  1105  A000846486   \n\n                           tipo_geocode               direccion_enc   clase  \\\n205150  Malla vial aproximada: CR 66-35  CR  066   034 A  000 00000  Choque   \n213113  Malla vial aproximada: CR 66-35  CR  066   034 A  000 00000  Choque   \n\n                           x_long_y_lat   mes  periodo            comuna  \\\n205150  [-75.5854551105, 6.24105317866]   8.0   2018.0  Laureles Estadio   \n213113  [-75.5854551105, 6.24105317866]  10.0   2018.0  Laureles Estadio   \n\n              incidente      direccion   operador  \\\n205150  [u'incidentes']  CR 66 CL 34 A  Operador2   \n213113  [u'incidentes']  CR 66 CL 34 A  Operador2   \n\n                                                     path num_comuna  \\\n205150  C:/ELK/logstash-6.5.1/data/Medata/Incidentes/I...         11   \n213113  C:/ELK/logstash-6.5.1/data/Medata/Incidentes/I...         11   \n\n              diseno              barrio    gravedad  \\\n205150  Tramo de via  Los Conquistadores  Solo daños   \n213113  Tramo de via  Los Conquistadores  Solo daños   \n\n                           fecha  y_magnamed   x_magnet  version        id  \\\n205150  2018-08-14T22:35:00.000Z  1182133.61  833105.42      1.0  211762.0   \n213113  2018-10-14T22:35:00.000Z  1182133.61  833105.42      1.0  219306.0   \n\n       radicado  \n205150  1638618  \n213113  1638618  ",
      "text/html": "<div>\n<style scoped>\n    .dataframe tbody tr th:only-of-type {\n        vertical-align: middle;\n    }\n\n    .dataframe tbody tr th {\n        vertical-align: top;\n    }\n\n    .dataframe thead th {\n        text-align: right;\n    }\n</style>\n<table border=\"1\" class=\"dataframe\">\n  <thead>\n    <tr style=\"text-align: right;\">\n      <th></th>\n      <th>timestamp</th>\n      <th>cbml</th>\n      <th>expediente</th>\n      <th>tipo_geocode</th>\n      <th>direccion_enc</th>\n      <th>clase</th>\n      <th>x_long_y_lat</th>\n      <th>mes</th>\n      <th>periodo</th>\n      <th>comuna</th>\n      <th>incidente</th>\n      <th>direccion</th>\n      <th>operador</th>\n      <th>path</th>\n      <th>num_comuna</th>\n      <th>diseno</th>\n      <th>barrio</th>\n      <th>gravedad</th>\n      <th>fecha</th>\n      <th>y_magnamed</th>\n      <th>x_magnet</th>\n      <th>version</th>\n      <th>id</th>\n      <th>radicado</th>\n    </tr>\n  </thead>\n  <tbody>\n    <tr>\n      <th>205150</th>\n      <td>2019-06-04T20:55:57.306Z</td>\n      <td>1105</td>\n      <td>A000846486</td>\n      <td>Malla vial aproximada: CR 66-35</td>\n      <td>CR  066   034 A  000 00000</td>\n      <td>Choque</td>\n      <td>[-75.5854551105, 6.24105317866]</td>\n      <td>8.0</td>\n      <td>2018.0</td>\n      <td>Laureles Estadio</td>\n      <td>[u'incidentes']</td>\n      <td>CR 66 CL 34 A</td>\n      <td>Operador2</td>\n      <td>C:/ELK/logstash-6.5.1/data/Medata/Incidentes/I...</td>\n      <td>11</td>\n      <td>Tramo de via</td>\n      <td>Los Conquistadores</td>\n      <td>Solo daños</td>\n      <td>2018-08-14T22:35:00.000Z</td>\n      <td>1182133.61</td>\n      <td>833105.42</td>\n      <td>1.0</td>\n      <td>211762.0</td>\n      <td>1638618</td>\n    </tr>\n    <tr>\n      <th>213113</th>\n      <td>2019-06-04T20:56:23.935Z</td>\n      <td>1105</td>\n      <td>A000846486</td>\n      <td>Malla vial aproximada: CR 66-35</td>\n      <td>CR  066   034 A  000 00000</td>\n      <td>Choque</td>\n      <td>[-75.5854551105, 6.24105317866]</td>\n      <td>10.0</td>\n      <td>2018.0</td>\n      <td>Laureles Estadio</td>\n      <td>[u'incidentes']</td>\n      <td>CR 66 CL 34 A</td>\n      <td>Operador2</td>\n      <td>C:/ELK/logstash-6.5.1/data/Medata/Incidentes/I...</td>\n      <td>11</td>\n      <td>Tramo de via</td>\n      <td>Los Conquistadores</td>\n      <td>Solo daños</td>\n      <td>2018-10-14T22:35:00.000Z</td>\n      <td>1182133.61</td>\n      <td>833105.42</td>\n      <td>1.0</td>\n      <td>219306.0</td>\n      <td>1638618</td>\n    </tr>\n  </tbody>\n</table>\n</div>"
     },
     "metadata": {},
     "execution_count": 118
    }
   ],
   "source": [
    "df[df.radicado==\"1638618\"]"
   ]
  },
  {
   "cell_type": "code",
   "execution_count": 119,
   "metadata": {},
   "outputs": [
    {
     "output_type": "execute_result",
     "data": {
      "text/plain": "                       timestamp cbml  expediente tipo_geocode  \\\n203433  2019-06-04T20:55:58.641Z  402  A000846480   Malla vial   \n\n                   direccion_enc   clase                     x_long_y_lat  \\\n203433  CR  051   092  000 00000  Choque  [-75.5611117649, 6.28348983493]   \n\n        mes  periodo    comuna        incidente    direccion   operador  \\\n203433  8.0   2018.0  Aranjuez  [u'incidentes']  CR 51 CL 92  Operador2   \n\n                                                     path num_comuna  \\\n203433  C:/ELK/logstash-6.5.1/data/Medata/Incidentes/I...         04   \n\n              diseno      barrio    gravedad                     fecha  \\\n203433  Tramo de via  San Isidro  Solo daños  2018-08-15T20:00:00.000Z   \n\n        y_magnamed   x_magnet  version        id radicado  \n203433  1186820.47  835813.52      1.0  211882.0  1638617  ",
      "text/html": "<div>\n<style scoped>\n    .dataframe tbody tr th:only-of-type {\n        vertical-align: middle;\n    }\n\n    .dataframe tbody tr th {\n        vertical-align: top;\n    }\n\n    .dataframe thead th {\n        text-align: right;\n    }\n</style>\n<table border=\"1\" class=\"dataframe\">\n  <thead>\n    <tr style=\"text-align: right;\">\n      <th></th>\n      <th>timestamp</th>\n      <th>cbml</th>\n      <th>expediente</th>\n      <th>tipo_geocode</th>\n      <th>direccion_enc</th>\n      <th>clase</th>\n      <th>x_long_y_lat</th>\n      <th>mes</th>\n      <th>periodo</th>\n      <th>comuna</th>\n      <th>incidente</th>\n      <th>direccion</th>\n      <th>operador</th>\n      <th>path</th>\n      <th>num_comuna</th>\n      <th>diseno</th>\n      <th>barrio</th>\n      <th>gravedad</th>\n      <th>fecha</th>\n      <th>y_magnamed</th>\n      <th>x_magnet</th>\n      <th>version</th>\n      <th>id</th>\n      <th>radicado</th>\n    </tr>\n  </thead>\n  <tbody>\n    <tr>\n      <th>203433</th>\n      <td>2019-06-04T20:55:58.641Z</td>\n      <td>402</td>\n      <td>A000846480</td>\n      <td>Malla vial</td>\n      <td>CR  051   092  000 00000</td>\n      <td>Choque</td>\n      <td>[-75.5611117649, 6.28348983493]</td>\n      <td>8.0</td>\n      <td>2018.0</td>\n      <td>Aranjuez</td>\n      <td>[u'incidentes']</td>\n      <td>CR 51 CL 92</td>\n      <td>Operador2</td>\n      <td>C:/ELK/logstash-6.5.1/data/Medata/Incidentes/I...</td>\n      <td>04</td>\n      <td>Tramo de via</td>\n      <td>San Isidro</td>\n      <td>Solo daños</td>\n      <td>2018-08-15T20:00:00.000Z</td>\n      <td>1186820.47</td>\n      <td>835813.52</td>\n      <td>1.0</td>\n      <td>211882.0</td>\n      <td>1638617</td>\n    </tr>\n  </tbody>\n</table>\n</div>"
     },
     "metadata": {},
     "execution_count": 119
    }
   ],
   "source": [
    "df[df.radicado==\"1638617\"]"
   ]
  },
  {
   "cell_type": "markdown",
   "metadata": {},
   "source": [
    "We found some duplicates values in \"radicado\" field so we procedure to drop them."
   ]
  },
  {
   "cell_type": "code",
   "execution_count": 120,
   "metadata": {},
   "outputs": [],
   "source": [
    "df = df.sort_values(by=[\"radicado\", \"id\"])\n",
    "df.drop_duplicates(subset=[\"radicado\"], keep=\"first\", inplace=True)"
   ]
  },
  {
   "cell_type": "markdown",
   "metadata": {},
   "source": [
    "In order to have date and time in different columns we decided to derivate new columns from \"fecha\" and have separet columns for the date and the hour."
   ]
  },
  {
   "cell_type": "code",
   "execution_count": 121,
   "metadata": {},
   "outputs": [],
   "source": [
    "df[\"fecha_incidente\"] = df.fecha.str[0:10]\n",
    "df[\"hora_incidente\"] = df.fecha.str[11:13]"
   ]
  },
  {
   "cell_type": "markdown",
   "metadata": {},
   "source": []
  },
  {
   "cell_type": "code",
   "execution_count": 122,
   "metadata": {},
   "outputs": [],
   "source": [
    "# drop duplicates by \"radicado\", \"objectid\"\n",
    "agg_df = agg_df.sort_values(by=[\"radicado\", \"objectid\"])\n",
    "agg_df.drop_duplicates(subset=[\"radicado\"], keep=\"first\", inplace=True)\n",
    "agg_df = agg_df[(~agg_df.radicado.isna()) & (agg_df.radicado != \"0\")]"
   ]
  },
  {
   "cell_type": "code",
   "execution_count": 123,
   "metadata": {},
   "outputs": [
    {
     "output_type": "execute_result",
     "data": {
      "text/plain": "262153    1.67637e+06\n262150    1.67644e+06\n262168    1.67646e+06\n262162    1.67646e+06\n262160    1.67647e+06\n             ...     \n143894           9769\n9909             9778\n12090            9780\n183864           9982\n172418            NaN\nName: radicado, Length: 261876, dtype: object"
     },
     "metadata": {},
     "execution_count": 123
    }
   ],
   "source": [
    "df.radicado"
   ]
  },
  {
   "cell_type": "code",
   "execution_count": 124,
   "metadata": {},
   "outputs": [
    {
     "output_type": "execute_result",
     "data": {
      "text/plain": "                       timestamp  cbml  expediente tipo_geocode  \\\n172418  2019-06-04T20:54:26.357Z  1008  A000665813   Malla vial   \n\n                   direccion_enc      clase                     x_long_y_lat  \\\n172418  CL  044   59,  060 00000  Atropello  [-75.5781789259, 6.24722232125]   \n\n        mes  periodo         comuna        incidente               direccion  \\\n172418  9.0   2017.0  La Candelaria  [u'incidentes']  CL 44 entre CR 59 y 60   \n\n         operador                                               path  \\\n172418  Operador2  C:/ELK/logstash-6.5.1/data/Medata/Incidentes/I...   \n\n       num_comuna diseno            barrio     gravedad  \\\n172418         10    NaN  Corazón de Jesús  Con muertos   \n\n                           fecha  y_magnamed   x_magnet  version        id  \\\n172418  2017-09-06T10:45:00.000Z  1182813.77  833912.85      1.0  185160.0   \n\n       radicado fecha_incidente hora_incidente  \n172418      NaN      2017-09-06             10  ",
      "text/html": "<div>\n<style scoped>\n    .dataframe tbody tr th:only-of-type {\n        vertical-align: middle;\n    }\n\n    .dataframe tbody tr th {\n        vertical-align: top;\n    }\n\n    .dataframe thead th {\n        text-align: right;\n    }\n</style>\n<table border=\"1\" class=\"dataframe\">\n  <thead>\n    <tr style=\"text-align: right;\">\n      <th></th>\n      <th>timestamp</th>\n      <th>cbml</th>\n      <th>expediente</th>\n      <th>tipo_geocode</th>\n      <th>direccion_enc</th>\n      <th>clase</th>\n      <th>x_long_y_lat</th>\n      <th>mes</th>\n      <th>periodo</th>\n      <th>comuna</th>\n      <th>incidente</th>\n      <th>direccion</th>\n      <th>operador</th>\n      <th>path</th>\n      <th>num_comuna</th>\n      <th>diseno</th>\n      <th>barrio</th>\n      <th>gravedad</th>\n      <th>fecha</th>\n      <th>y_magnamed</th>\n      <th>x_magnet</th>\n      <th>version</th>\n      <th>id</th>\n      <th>radicado</th>\n      <th>fecha_incidente</th>\n      <th>hora_incidente</th>\n    </tr>\n  </thead>\n  <tbody>\n    <tr>\n      <th>172418</th>\n      <td>2019-06-04T20:54:26.357Z</td>\n      <td>1008</td>\n      <td>A000665813</td>\n      <td>Malla vial</td>\n      <td>CL  044   59,  060 00000</td>\n      <td>Atropello</td>\n      <td>[-75.5781789259, 6.24722232125]</td>\n      <td>9.0</td>\n      <td>2017.0</td>\n      <td>La Candelaria</td>\n      <td>[u'incidentes']</td>\n      <td>CL 44 entre CR 59 y 60</td>\n      <td>Operador2</td>\n      <td>C:/ELK/logstash-6.5.1/data/Medata/Incidentes/I...</td>\n      <td>10</td>\n      <td>NaN</td>\n      <td>Corazón de Jesús</td>\n      <td>Con muertos</td>\n      <td>2017-09-06T10:45:00.000Z</td>\n      <td>1182813.77</td>\n      <td>833912.85</td>\n      <td>1.0</td>\n      <td>185160.0</td>\n      <td>NaN</td>\n      <td>2017-09-06</td>\n      <td>10</td>\n    </tr>\n  </tbody>\n</table>\n</div>"
     },
     "metadata": {},
     "execution_count": 124
    }
   ],
   "source": [
    "df[df.radicado.isna()] # check the number of nulls"
   ]
  },
  {
   "cell_type": "code",
   "execution_count": 125,
   "metadata": {},
   "outputs": [],
   "source": [
    "agg_df = agg_df[~agg_df.radicado.isna()]\n",
    "df=df[~df.radicado.isna()]\n",
    "dtype = dict(radicado=str)\n",
    "agg_df.radicado = agg_df.radicado.astype(dtype)\n",
    "df.radicado = df.radicado.astype(dtype)\n",
    "agg_df.radicado = agg_df.radicado.str.strip()\n",
    "agg_df.radicado = agg_df.radicado.str.replace(\"(\\d+)(.0)*\",\"\\\\1\") #.dtype #.sort_values(by=\"radicado\", ascending=False)\n",
    "agg_df.radicado = agg_df.radicado.str.replace(\"^(0+)(\\d+)\", \"\\\\2\")\n",
    "df.radicado = df.radicado.str.strip()\n",
    "df.radicado = df.radicado.str.replace(\"(\\d+)(.0)*\",\"\\\\1\")"
   ]
  },
  {
   "cell_type": "code",
   "execution_count": 126,
   "metadata": {},
   "outputs": [
    {
     "output_type": "execute_result",
     "data": {
      "text/plain": "'2019-10-01T04:20:00.000Z'"
     },
     "metadata": {},
     "execution_count": 126
    }
   ],
   "source": [
    "df.fecha.max()"
   ]
  },
  {
   "cell_type": "code",
   "execution_count": 131,
   "metadata": {},
   "outputs": [
    {
     "output_type": "execute_result",
     "data": {
      "text/plain": "                       timestamp         cbml  expediente  \\\n262153  2019-11-07T16:07:39.311Z          103  A001002056   \n262150  2019-11-07T16:07:39.311Z         1102  A001002214   \n262168  2019-11-07T16:07:39.312Z          607  A001002310   \n262162  2019-11-07T16:07:39.312Z          312  A001002302   \n262160  2019-11-07T16:07:39.312Z          NaN  A001002169   \n...                          ...          ...         ...   \n12089   2019-06-04T20:44:08.013Z  3.02021e+09    A1485619   \n143894  2019-06-04T20:53:18.109Z  6.08101e+09  A000497560   \n9909    2019-06-04T20:44:08.014Z  1.50304e+10    A1485792   \n12090   2019-06-04T20:44:08.014Z  1.62002e+10    A1485790   \n183864  2019-06-04T20:54:47.826Z          NaN  A000773529   \n\n                     tipo_geocode                 direccion_enc      clase  \\\n262153                 Malla vial  CR  043 A   110 B  000 00000  Atropello   \n262150                 Malla vial    CR  066   048 D  000 00000     Choque   \n262168                 Malla vial    CR  083   091 A  000 00000     Choque   \n262162                 Malla vial  CR  023 B   084 B  000 00000     Choque   \n262160                 No Ubicada      CR  067   025  000 00000     Choque   \n...                           ...                           ...        ...   \n12089       Catastro con Interior    CR  039   085 A  035 00000     Choque   \n143894      Catastro con Interior    CR  083   101 A  021 00000  Atropello   \n9909        Catastro con Interior    CL  025   065 C  050 00000  Atropello   \n12090   Nomenclatura con Interior      CL  033   078  177 00000  Atropello   \n183864                 No Ubicada      CR  063   091  000 00000     Choque   \n\n                           x_long_y_lat  mes  periodo            comuna  \\\n262153  [-75.5478922382, 6.29966416516]  6.0   2019.0           Popular   \n262150  [-75.5829966564, 6.25459513351]  6.0   2019.0  Laureles Estadio   \n262168  [-75.5849391248, 6.28861482868]  7.0   2019.0   Doce de Octubre   \n262162  [-75.5378038865, 6.27686386215]  7.0   2019.0          Manrique   \n262160  [-75.7037762763, 6.22141524356]  7.0   2019.0           Sin Inf   \n...                                 ...  ...      ...               ...   \n12089   [-75.5477362391, 6.27745474338]  2.0   2014.0          Manrique   \n143894  [-75.5821690996, 6.30114194037]  2.0   2017.0   Doce de Octubre   \n9909    [-75.5855316677, 6.22630141567]  2.0   2014.0          Guayabal   \n12090   [-75.6000288989, 6.23861225192]  2.0   2014.0             Belén   \n183864  [-75.5692625703, 6.28324794971]  2.0   2018.0          Castilla   \n\n              incidente            direccion   operador  \\\n262153  [u'incidentes']     CR 43 A CL 110 B  Operador2   \n262150  [u'incidentes']        CR 66 CL 48 D  Operador2   \n262168  [u'incidentes']        CR 83 CL 91 A  Operador2   \n262162  [u'incidentes']      CR 23 B CL 84 B  Operador2   \n262160  [u'incidentes']          CR 67 CL 25  Operador2   \n...                 ...                  ...        ...   \n12089   [u'incidentes']   CR 39 CL 85 A - 35  Operador2   \n143894  [u'incidentes']  CR 83 CL 101 A - 21  Operador2   \n9909    [u'incidentes']   CL 25 CR 65 C - 50  Operador2   \n12090   [u'incidentes']    CL 33 CR 78 - 177  Operador2   \n183864  [u'incidentes']          CR 63 CL 91  Operador2   \n\n                                                     path  num_comuna  \\\n262153  C:/ELK/logstash-6.5.1/data/Medata/Incidentes/I...          01   \n262150  C:/ELK/logstash-6.5.1/data/Medata/Incidentes/I...          11   \n262168  C:/ELK/logstash-6.5.1/data/Medata/Incidentes/I...          06   \n262162  C:/ELK/logstash-6.5.1/data/Medata/Incidentes/I...          03   \n262160  C:/ELK/logstash-6.5.1/data/Medata/Incidentes/I...  No ubicada   \n...                                                   ...         ...   \n12089   C:/ELK/logstash-6.5.1/data/Medata/Incidentes/I...          03   \n143894  C:/ELK/logstash-6.5.1/data/Medata/Incidentes/I...          06   \n9909    C:/ELK/logstash-6.5.1/data/Medata/Incidentes/I...          15   \n12090   C:/ELK/logstash-6.5.1/data/Medata/Incidentes/I...          16   \n183864  C:/ELK/logstash-6.5.1/data/Medata/Incidentes/I...     Sin Inf   \n\n               diseno                  barrio     gravedad  \\\n262153   Tramo de via                 Popular  Con heridos   \n262150  Lote o Predio            Suramericana   Solo daños   \n262168   Tramo de via                 Kennedy   Solo daños   \n262162   Tramo de via                 Oriente   Solo daños   \n262160   Tramo de via                     NaN  Con heridos   \n...               ...                     ...          ...   \n12089             NaN             Las Granjas  Con muertos   \n143894            NaN                 Picacho  Con muertos   \n9909              NaN                Trinidad  Con muertos   \n12090             NaN  El Nogal-Los Almendros  Con muertos   \n183864            NaN               Oleoducto  Con muertos   \n\n                           fecha    y_magnamed       x_magnet  version  \\\n262153  2019-07-01T02:50:00.000Z  1.188606e+06  837281.840000      1.0   \n262150  2019-07-01T01:40:00.000Z  1.183631e+06  833381.860000      1.0   \n262168  2019-07-01T23:20:00.000Z  1.187395e+06  833177.650000      1.0   \n262162  2019-07-01T20:30:00.000Z  1.186080e+06  838391.450000      1.0   \n262160  2019-07-01T16:40:00.000Z  1.180000e+06  820000.000000      1.0   \n...                          ...           ...            ...      ...   \n12089   2014-02-24T08:03:00.000Z  1.186149e+06  837292.200000      1.0   \n143894  2017-02-12T01:30:00.000Z  1.188780e+06  833488.260000      1.0   \n9909    2014-02-24T12:30:00.000Z  1.180502e+06  833092.280000      1.0   \n12090   2014-02-24T12:15:00.000Z  1.181868e+06  831491.290000      1.0   \n183864  2018-02-28T15:10:00.000Z  1.186796e+06  834911.216066      1.0   \n\n              id radicado fecha_incidente hora_incidente  \n262153   10647.0  1676369      2019-07-01             02  \n262150   10641.0  1676437      2019-07-01             01  \n262168   10699.0  1676456      2019-07-01             23  \n262162   10686.0  1676461      2019-07-01             20  \n262160   10674.0  1676468      2019-07-01             16  \n...          ...      ...             ...            ...  \n12089     6512.0     9766      2014-02-24             08  \n143894  165498.0     9769      2017-02-12             01  \n9909      6513.0     9778      2014-02-24             12  \n12090     6515.0     9780      2014-02-24             12  \n183864  191784.0     9982      2018-02-28             15  \n\n[261875 rows x 26 columns]",
      "text/html": "<div>\n<style scoped>\n    .dataframe tbody tr th:only-of-type {\n        vertical-align: middle;\n    }\n\n    .dataframe tbody tr th {\n        vertical-align: top;\n    }\n\n    .dataframe thead th {\n        text-align: right;\n    }\n</style>\n<table border=\"1\" class=\"dataframe\">\n  <thead>\n    <tr style=\"text-align: right;\">\n      <th></th>\n      <th>timestamp</th>\n      <th>cbml</th>\n      <th>expediente</th>\n      <th>tipo_geocode</th>\n      <th>direccion_enc</th>\n      <th>clase</th>\n      <th>x_long_y_lat</th>\n      <th>mes</th>\n      <th>periodo</th>\n      <th>comuna</th>\n      <th>incidente</th>\n      <th>direccion</th>\n      <th>operador</th>\n      <th>path</th>\n      <th>num_comuna</th>\n      <th>diseno</th>\n      <th>barrio</th>\n      <th>gravedad</th>\n      <th>fecha</th>\n      <th>y_magnamed</th>\n      <th>x_magnet</th>\n      <th>version</th>\n      <th>id</th>\n      <th>radicado</th>\n      <th>fecha_incidente</th>\n      <th>hora_incidente</th>\n    </tr>\n  </thead>\n  <tbody>\n    <tr>\n      <th>262153</th>\n      <td>2019-11-07T16:07:39.311Z</td>\n      <td>103</td>\n      <td>A001002056</td>\n      <td>Malla vial</td>\n      <td>CR  043 A   110 B  000 00000</td>\n      <td>Atropello</td>\n      <td>[-75.5478922382, 6.29966416516]</td>\n      <td>6.0</td>\n      <td>2019.0</td>\n      <td>Popular</td>\n      <td>[u'incidentes']</td>\n      <td>CR 43 A CL 110 B</td>\n      <td>Operador2</td>\n      <td>C:/ELK/logstash-6.5.1/data/Medata/Incidentes/I...</td>\n      <td>01</td>\n      <td>Tramo de via</td>\n      <td>Popular</td>\n      <td>Con heridos</td>\n      <td>2019-07-01T02:50:00.000Z</td>\n      <td>1.188606e+06</td>\n      <td>837281.840000</td>\n      <td>1.0</td>\n      <td>10647.0</td>\n      <td>1676369</td>\n      <td>2019-07-01</td>\n      <td>02</td>\n    </tr>\n    <tr>\n      <th>262150</th>\n      <td>2019-11-07T16:07:39.311Z</td>\n      <td>1102</td>\n      <td>A001002214</td>\n      <td>Malla vial</td>\n      <td>CR  066   048 D  000 00000</td>\n      <td>Choque</td>\n      <td>[-75.5829966564, 6.25459513351]</td>\n      <td>6.0</td>\n      <td>2019.0</td>\n      <td>Laureles Estadio</td>\n      <td>[u'incidentes']</td>\n      <td>CR 66 CL 48 D</td>\n      <td>Operador2</td>\n      <td>C:/ELK/logstash-6.5.1/data/Medata/Incidentes/I...</td>\n      <td>11</td>\n      <td>Lote o Predio</td>\n      <td>Suramericana</td>\n      <td>Solo daños</td>\n      <td>2019-07-01T01:40:00.000Z</td>\n      <td>1.183631e+06</td>\n      <td>833381.860000</td>\n      <td>1.0</td>\n      <td>10641.0</td>\n      <td>1676437</td>\n      <td>2019-07-01</td>\n      <td>01</td>\n    </tr>\n    <tr>\n      <th>262168</th>\n      <td>2019-11-07T16:07:39.312Z</td>\n      <td>607</td>\n      <td>A001002310</td>\n      <td>Malla vial</td>\n      <td>CR  083   091 A  000 00000</td>\n      <td>Choque</td>\n      <td>[-75.5849391248, 6.28861482868]</td>\n      <td>7.0</td>\n      <td>2019.0</td>\n      <td>Doce de Octubre</td>\n      <td>[u'incidentes']</td>\n      <td>CR 83 CL 91 A</td>\n      <td>Operador2</td>\n      <td>C:/ELK/logstash-6.5.1/data/Medata/Incidentes/I...</td>\n      <td>06</td>\n      <td>Tramo de via</td>\n      <td>Kennedy</td>\n      <td>Solo daños</td>\n      <td>2019-07-01T23:20:00.000Z</td>\n      <td>1.187395e+06</td>\n      <td>833177.650000</td>\n      <td>1.0</td>\n      <td>10699.0</td>\n      <td>1676456</td>\n      <td>2019-07-01</td>\n      <td>23</td>\n    </tr>\n    <tr>\n      <th>262162</th>\n      <td>2019-11-07T16:07:39.312Z</td>\n      <td>312</td>\n      <td>A001002302</td>\n      <td>Malla vial</td>\n      <td>CR  023 B   084 B  000 00000</td>\n      <td>Choque</td>\n      <td>[-75.5378038865, 6.27686386215]</td>\n      <td>7.0</td>\n      <td>2019.0</td>\n      <td>Manrique</td>\n      <td>[u'incidentes']</td>\n      <td>CR 23 B CL 84 B</td>\n      <td>Operador2</td>\n      <td>C:/ELK/logstash-6.5.1/data/Medata/Incidentes/I...</td>\n      <td>03</td>\n      <td>Tramo de via</td>\n      <td>Oriente</td>\n      <td>Solo daños</td>\n      <td>2019-07-01T20:30:00.000Z</td>\n      <td>1.186080e+06</td>\n      <td>838391.450000</td>\n      <td>1.0</td>\n      <td>10686.0</td>\n      <td>1676461</td>\n      <td>2019-07-01</td>\n      <td>20</td>\n    </tr>\n    <tr>\n      <th>262160</th>\n      <td>2019-11-07T16:07:39.312Z</td>\n      <td>NaN</td>\n      <td>A001002169</td>\n      <td>No Ubicada</td>\n      <td>CR  067   025  000 00000</td>\n      <td>Choque</td>\n      <td>[-75.7037762763, 6.22141524356]</td>\n      <td>7.0</td>\n      <td>2019.0</td>\n      <td>Sin Inf</td>\n      <td>[u'incidentes']</td>\n      <td>CR 67 CL 25</td>\n      <td>Operador2</td>\n      <td>C:/ELK/logstash-6.5.1/data/Medata/Incidentes/I...</td>\n      <td>No ubicada</td>\n      <td>Tramo de via</td>\n      <td>NaN</td>\n      <td>Con heridos</td>\n      <td>2019-07-01T16:40:00.000Z</td>\n      <td>1.180000e+06</td>\n      <td>820000.000000</td>\n      <td>1.0</td>\n      <td>10674.0</td>\n      <td>1676468</td>\n      <td>2019-07-01</td>\n      <td>16</td>\n    </tr>\n    <tr>\n      <th>...</th>\n      <td>...</td>\n      <td>...</td>\n      <td>...</td>\n      <td>...</td>\n      <td>...</td>\n      <td>...</td>\n      <td>...</td>\n      <td>...</td>\n      <td>...</td>\n      <td>...</td>\n      <td>...</td>\n      <td>...</td>\n      <td>...</td>\n      <td>...</td>\n      <td>...</td>\n      <td>...</td>\n      <td>...</td>\n      <td>...</td>\n      <td>...</td>\n      <td>...</td>\n      <td>...</td>\n      <td>...</td>\n      <td>...</td>\n      <td>...</td>\n      <td>...</td>\n      <td>...</td>\n    </tr>\n    <tr>\n      <th>12089</th>\n      <td>2019-06-04T20:44:08.013Z</td>\n      <td>3.02021e+09</td>\n      <td>A1485619</td>\n      <td>Catastro con Interior</td>\n      <td>CR  039   085 A  035 00000</td>\n      <td>Choque</td>\n      <td>[-75.5477362391, 6.27745474338]</td>\n      <td>2.0</td>\n      <td>2014.0</td>\n      <td>Manrique</td>\n      <td>[u'incidentes']</td>\n      <td>CR 39 CL 85 A - 35</td>\n      <td>Operador2</td>\n      <td>C:/ELK/logstash-6.5.1/data/Medata/Incidentes/I...</td>\n      <td>03</td>\n      <td>NaN</td>\n      <td>Las Granjas</td>\n      <td>Con muertos</td>\n      <td>2014-02-24T08:03:00.000Z</td>\n      <td>1.186149e+06</td>\n      <td>837292.200000</td>\n      <td>1.0</td>\n      <td>6512.0</td>\n      <td>9766</td>\n      <td>2014-02-24</td>\n      <td>08</td>\n    </tr>\n    <tr>\n      <th>143894</th>\n      <td>2019-06-04T20:53:18.109Z</td>\n      <td>6.08101e+09</td>\n      <td>A000497560</td>\n      <td>Catastro con Interior</td>\n      <td>CR  083   101 A  021 00000</td>\n      <td>Atropello</td>\n      <td>[-75.5821690996, 6.30114194037]</td>\n      <td>2.0</td>\n      <td>2017.0</td>\n      <td>Doce de Octubre</td>\n      <td>[u'incidentes']</td>\n      <td>CR 83 CL 101 A - 21</td>\n      <td>Operador2</td>\n      <td>C:/ELK/logstash-6.5.1/data/Medata/Incidentes/I...</td>\n      <td>06</td>\n      <td>NaN</td>\n      <td>Picacho</td>\n      <td>Con muertos</td>\n      <td>2017-02-12T01:30:00.000Z</td>\n      <td>1.188780e+06</td>\n      <td>833488.260000</td>\n      <td>1.0</td>\n      <td>165498.0</td>\n      <td>9769</td>\n      <td>2017-02-12</td>\n      <td>01</td>\n    </tr>\n    <tr>\n      <th>9909</th>\n      <td>2019-06-04T20:44:08.014Z</td>\n      <td>1.50304e+10</td>\n      <td>A1485792</td>\n      <td>Catastro con Interior</td>\n      <td>CL  025   065 C  050 00000</td>\n      <td>Atropello</td>\n      <td>[-75.5855316677, 6.22630141567]</td>\n      <td>2.0</td>\n      <td>2014.0</td>\n      <td>Guayabal</td>\n      <td>[u'incidentes']</td>\n      <td>CL 25 CR 65 C - 50</td>\n      <td>Operador2</td>\n      <td>C:/ELK/logstash-6.5.1/data/Medata/Incidentes/I...</td>\n      <td>15</td>\n      <td>NaN</td>\n      <td>Trinidad</td>\n      <td>Con muertos</td>\n      <td>2014-02-24T12:30:00.000Z</td>\n      <td>1.180502e+06</td>\n      <td>833092.280000</td>\n      <td>1.0</td>\n      <td>6513.0</td>\n      <td>9778</td>\n      <td>2014-02-24</td>\n      <td>12</td>\n    </tr>\n    <tr>\n      <th>12090</th>\n      <td>2019-06-04T20:44:08.014Z</td>\n      <td>1.62002e+10</td>\n      <td>A1485790</td>\n      <td>Nomenclatura con Interior</td>\n      <td>CL  033   078  177 00000</td>\n      <td>Atropello</td>\n      <td>[-75.6000288989, 6.23861225192]</td>\n      <td>2.0</td>\n      <td>2014.0</td>\n      <td>Belén</td>\n      <td>[u'incidentes']</td>\n      <td>CL 33 CR 78 - 177</td>\n      <td>Operador2</td>\n      <td>C:/ELK/logstash-6.5.1/data/Medata/Incidentes/I...</td>\n      <td>16</td>\n      <td>NaN</td>\n      <td>El Nogal-Los Almendros</td>\n      <td>Con muertos</td>\n      <td>2014-02-24T12:15:00.000Z</td>\n      <td>1.181868e+06</td>\n      <td>831491.290000</td>\n      <td>1.0</td>\n      <td>6515.0</td>\n      <td>9780</td>\n      <td>2014-02-24</td>\n      <td>12</td>\n    </tr>\n    <tr>\n      <th>183864</th>\n      <td>2019-06-04T20:54:47.826Z</td>\n      <td>NaN</td>\n      <td>A000773529</td>\n      <td>No Ubicada</td>\n      <td>CR  063   091  000 00000</td>\n      <td>Choque</td>\n      <td>[-75.5692625703, 6.28324794971]</td>\n      <td>2.0</td>\n      <td>2018.0</td>\n      <td>Castilla</td>\n      <td>[u'incidentes']</td>\n      <td>CR 63 CL 91</td>\n      <td>Operador2</td>\n      <td>C:/ELK/logstash-6.5.1/data/Medata/Incidentes/I...</td>\n      <td>Sin Inf</td>\n      <td>NaN</td>\n      <td>Oleoducto</td>\n      <td>Con muertos</td>\n      <td>2018-02-28T15:10:00.000Z</td>\n      <td>1.186796e+06</td>\n      <td>834911.216066</td>\n      <td>1.0</td>\n      <td>191784.0</td>\n      <td>9982</td>\n      <td>2018-02-28</td>\n      <td>15</td>\n    </tr>\n  </tbody>\n</table>\n<p>261875 rows × 26 columns</p>\n</div>"
     },
     "metadata": {},
     "execution_count": 131
    }
   ],
   "source": [
    "df.shape\n",
    "df\n",
    "# r = df[(df.cbml.isna()) & (df.x_long_y_lat == '[-75.7037762763, 6.22141524356]') ][['x_long_y_lat','barrio','comuna','direccion','direccion_enc','cbml']]\n",
    "# r"
   ]
  },
  {
   "cell_type": "code",
   "execution_count": 128,
   "metadata": {},
   "outputs": [
    {
     "output_type": "error",
     "ename": "AttributeError",
     "evalue": "'float' object has no attribute 'encode'",
     "traceback": [
      "\u001b[0;31m---------------------------------------------------------------------------\u001b[0m",
      "\u001b[0;31mAttributeError\u001b[0m                            Traceback (most recent call last)",
      "\u001b[0;32m<ipython-input-128-e20d6af22c11>\u001b[0m in \u001b[0;36m<module>\u001b[0;34m\u001b[0m\n\u001b[0;32m----> 1\u001b[0;31m \u001b[0mdf\u001b[0m\u001b[0;34m.\u001b[0m\u001b[0mclase\u001b[0m \u001b[0;34m=\u001b[0m \u001b[0mdf\u001b[0m\u001b[0;34m.\u001b[0m\u001b[0mclase\u001b[0m\u001b[0;34m.\u001b[0m\u001b[0mapply\u001b[0m\u001b[0;34m(\u001b[0m\u001b[0;32mlambda\u001b[0m \u001b[0mx\u001b[0m\u001b[0;34m:\u001b[0m \u001b[0munidecode\u001b[0m\u001b[0;34m(\u001b[0m\u001b[0mx\u001b[0m\u001b[0;34m)\u001b[0m\u001b[0;34m.\u001b[0m\u001b[0mlower\u001b[0m\u001b[0;34m(\u001b[0m\u001b[0;34m)\u001b[0m\u001b[0;34m.\u001b[0m\u001b[0mstrip\u001b[0m\u001b[0;34m(\u001b[0m\u001b[0;34m)\u001b[0m\u001b[0;34m.\u001b[0m\u001b[0mreplace\u001b[0m\u001b[0;34m(\u001b[0m\u001b[0;34m' de '\u001b[0m\u001b[0;34m,\u001b[0m\u001b[0;34m' '\u001b[0m\u001b[0;34m)\u001b[0m\u001b[0;34m)\u001b[0m\u001b[0;34m\u001b[0m\u001b[0;34m\u001b[0m\u001b[0m\n\u001b[0m",
      "\u001b[0;32m~/Projects/ds4a-practicum/.venv/lib/python3.7/site-packages/pandas/core/series.py\u001b[0m in \u001b[0;36mapply\u001b[0;34m(self, func, convert_dtype, args, **kwds)\u001b[0m\n\u001b[1;32m   3846\u001b[0m             \u001b[0;32melse\u001b[0m\u001b[0;34m:\u001b[0m\u001b[0;34m\u001b[0m\u001b[0;34m\u001b[0m\u001b[0m\n\u001b[1;32m   3847\u001b[0m                 \u001b[0mvalues\u001b[0m \u001b[0;34m=\u001b[0m \u001b[0mself\u001b[0m\u001b[0;34m.\u001b[0m\u001b[0mastype\u001b[0m\u001b[0;34m(\u001b[0m\u001b[0mobject\u001b[0m\u001b[0;34m)\u001b[0m\u001b[0;34m.\u001b[0m\u001b[0mvalues\u001b[0m\u001b[0;34m\u001b[0m\u001b[0;34m\u001b[0m\u001b[0m\n\u001b[0;32m-> 3848\u001b[0;31m                 \u001b[0mmapped\u001b[0m \u001b[0;34m=\u001b[0m \u001b[0mlib\u001b[0m\u001b[0;34m.\u001b[0m\u001b[0mmap_infer\u001b[0m\u001b[0;34m(\u001b[0m\u001b[0mvalues\u001b[0m\u001b[0;34m,\u001b[0m \u001b[0mf\u001b[0m\u001b[0;34m,\u001b[0m \u001b[0mconvert\u001b[0m\u001b[0;34m=\u001b[0m\u001b[0mconvert_dtype\u001b[0m\u001b[0;34m)\u001b[0m\u001b[0;34m\u001b[0m\u001b[0;34m\u001b[0m\u001b[0m\n\u001b[0m\u001b[1;32m   3849\u001b[0m \u001b[0;34m\u001b[0m\u001b[0m\n\u001b[1;32m   3850\u001b[0m         \u001b[0;32mif\u001b[0m \u001b[0mlen\u001b[0m\u001b[0;34m(\u001b[0m\u001b[0mmapped\u001b[0m\u001b[0;34m)\u001b[0m \u001b[0;32mand\u001b[0m \u001b[0misinstance\u001b[0m\u001b[0;34m(\u001b[0m\u001b[0mmapped\u001b[0m\u001b[0;34m[\u001b[0m\u001b[0;36m0\u001b[0m\u001b[0;34m]\u001b[0m\u001b[0;34m,\u001b[0m \u001b[0mSeries\u001b[0m\u001b[0;34m)\u001b[0m\u001b[0;34m:\u001b[0m\u001b[0;34m\u001b[0m\u001b[0;34m\u001b[0m\u001b[0m\n",
      "\u001b[0;32mpandas/_libs/lib.pyx\u001b[0m in \u001b[0;36mpandas._libs.lib.map_infer\u001b[0;34m()\u001b[0m\n",
      "\u001b[0;32m<ipython-input-128-e20d6af22c11>\u001b[0m in \u001b[0;36m<lambda>\u001b[0;34m(x)\u001b[0m\n\u001b[0;32m----> 1\u001b[0;31m \u001b[0mdf\u001b[0m\u001b[0;34m.\u001b[0m\u001b[0mclase\u001b[0m \u001b[0;34m=\u001b[0m \u001b[0mdf\u001b[0m\u001b[0;34m.\u001b[0m\u001b[0mclase\u001b[0m\u001b[0;34m.\u001b[0m\u001b[0mapply\u001b[0m\u001b[0;34m(\u001b[0m\u001b[0;32mlambda\u001b[0m \u001b[0mx\u001b[0m\u001b[0;34m:\u001b[0m \u001b[0munidecode\u001b[0m\u001b[0;34m(\u001b[0m\u001b[0mx\u001b[0m\u001b[0;34m)\u001b[0m\u001b[0;34m.\u001b[0m\u001b[0mlower\u001b[0m\u001b[0;34m(\u001b[0m\u001b[0;34m)\u001b[0m\u001b[0;34m.\u001b[0m\u001b[0mstrip\u001b[0m\u001b[0;34m(\u001b[0m\u001b[0;34m)\u001b[0m\u001b[0;34m.\u001b[0m\u001b[0mreplace\u001b[0m\u001b[0;34m(\u001b[0m\u001b[0;34m' de '\u001b[0m\u001b[0;34m,\u001b[0m\u001b[0;34m' '\u001b[0m\u001b[0;34m)\u001b[0m\u001b[0;34m)\u001b[0m\u001b[0;34m\u001b[0m\u001b[0;34m\u001b[0m\u001b[0m\n\u001b[0m",
      "\u001b[0;32m~/Projects/ds4a-practicum/.venv/lib/python3.7/site-packages/unidecode/__init__.py\u001b[0m in \u001b[0;36munidecode_expect_ascii\u001b[0;34m(string)\u001b[0m\n\u001b[1;32m     46\u001b[0m     \u001b[0m_warn_if_not_unicode\u001b[0m\u001b[0;34m(\u001b[0m\u001b[0mstring\u001b[0m\u001b[0;34m)\u001b[0m\u001b[0;34m\u001b[0m\u001b[0;34m\u001b[0m\u001b[0m\n\u001b[1;32m     47\u001b[0m     \u001b[0;32mtry\u001b[0m\u001b[0;34m:\u001b[0m\u001b[0;34m\u001b[0m\u001b[0;34m\u001b[0m\u001b[0m\n\u001b[0;32m---> 48\u001b[0;31m         \u001b[0mbytestring\u001b[0m \u001b[0;34m=\u001b[0m \u001b[0mstring\u001b[0m\u001b[0;34m.\u001b[0m\u001b[0mencode\u001b[0m\u001b[0;34m(\u001b[0m\u001b[0;34m'ASCII'\u001b[0m\u001b[0;34m)\u001b[0m\u001b[0;34m\u001b[0m\u001b[0;34m\u001b[0m\u001b[0m\n\u001b[0m\u001b[1;32m     49\u001b[0m     \u001b[0;32mexcept\u001b[0m \u001b[0mUnicodeEncodeError\u001b[0m\u001b[0;34m:\u001b[0m\u001b[0;34m\u001b[0m\u001b[0;34m\u001b[0m\u001b[0m\n\u001b[1;32m     50\u001b[0m         \u001b[0;32mreturn\u001b[0m \u001b[0m_unidecode\u001b[0m\u001b[0;34m(\u001b[0m\u001b[0mstring\u001b[0m\u001b[0;34m)\u001b[0m\u001b[0;34m\u001b[0m\u001b[0;34m\u001b[0m\u001b[0m\n",
      "\u001b[0;31mAttributeError\u001b[0m: 'float' object has no attribute 'encode'"
     ]
    }
   ],
   "source": [
    "df.clase = df.clase.apply(lambda x: unidecode(x).lower().strip().replace(' de ',' '))"
   ]
  },
  {
   "cell_type": "code",
   "execution_count": 129,
   "metadata": {},
   "outputs": [],
   "source": [
    "df.to_csv(\"../processed/preprocessed_accidents.csv\",index=False)"
   ]
  },
  {
   "cell_type": "code",
   "execution_count": null,
   "metadata": {},
   "outputs": [],
   "source": []
  }
 ],
 "metadata": {
  "language_info": {
   "codemirror_mode": {
    "name": "ipython",
    "version": 3
   },
   "file_extension": ".py",
   "mimetype": "text/x-python",
   "name": "python",
   "nbconvert_exporter": "python",
   "pygments_lexer": "ipython3",
   "version": "3.7.7-final"
  },
  "orig_nbformat": 2,
  "kernelspec": {
   "name": "python37664bitvenvvenv2aaee01adc7c4d53be02a84c3b0594f7",
   "display_name": "Python 3.7.6 64-bit ('.venv': venv)"
  }
 },
 "nbformat": 4,
 "nbformat_minor": 2
}